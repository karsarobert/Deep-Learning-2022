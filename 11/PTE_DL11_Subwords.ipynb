{
  "cells": [
    {
      "cell_type": "markdown",
      "metadata": {
        "id": "view-in-github",
        "colab_type": "text"
      },
      "source": [
        "<a href=\"https://colab.research.google.com/github/karsarobert/Deep-Learning-2022/blob/main/11/PTE_DL11_Subwords.ipynb\" target=\"_parent\"><img src=\"https://colab.research.google.com/assets/colab-badge.svg\" alt=\"Open In Colab\"/></a>"
      ]
    },
    {
      "cell_type": "markdown",
      "metadata": {
        "id": "punL79CN7Ox6"
      },
      "source": [
        "##### Copyright 2020 The TensorFlow Authors."
      ]
    },
    {
      "cell_type": "code",
      "execution_count": null,
      "metadata": {
        "cellView": "form",
        "id": "_ckMIh7O7s6D"
      },
      "outputs": [],
      "source": [
        "#@title Licensed under the Apache License, Version 2.0 (the \"License\");\n",
        "# you may not use this file except in compliance with the License.\n",
        "# You may obtain a copy of the License at\n",
        "#\n",
        "# https://www.apache.org/licenses/LICENSE-2.0\n",
        "#\n",
        "# Unless required by applicable law or agreed to in writing, software\n",
        "# distributed under the License is distributed on an \"AS IS\" BASIS,\n",
        "# WITHOUT WARRANTIES OR CONDITIONS OF ANY KIND, either express or implied.\n",
        "# See the License for the specific language governing permissions and\n",
        "# limitations under the License."
      ]
    },
    {
      "cell_type": "markdown",
      "metadata": {
        "id": "CH5gnvxl-N3U"
      },
      "source": [
        "# Mit tartalmaz egy (al)szó?"
      ]
    },
    {
      "cell_type": "markdown",
      "metadata": {
        "id": "S5Uhzt6vVIB2"
      },
      "source": [
        "<table class=\"tfo-notebook-buttons\" align=\"left\">\n",
        "  <td>\n",
        "    <a target=\"_blank\" href=\"https://colab.research.google.com/github/tensorflow/examples/blob/master/courses/udacity_intro_to_tensorflow_for_deep_learning/l09c06_nlp_subwords.ipynb\"><img src=\"https://www.tensorflow.org/images/colab_logo_32px.png\" />Run in Google Colab</a>\n",
        "  </td>\n",
        "  <td>\n",
        "    <a target=\"_blank\" href=\"https://github.com/tensorflow/examples/blob/master/courses/udacity_intro_to_tensorflow_for_deep_learning/l09c06_nlp_subwords.ipynb\"><img src=\"https://www.tensorflow.org/images/GitHub-Mark-32px.png\" />View source on GitHub</a>\n",
        "  </td>\n",
        "</table>"
      ]
    },
    {
      "cell_type": "markdown",
      "metadata": {
        "id": "ykxAKKa1Dl0s"
      },
      "source": [
        "Ebben a munkafüzetben alszavakkal, vagyis nagyobb szavak darabjaiból álló szavakkal fogunk dolgozni, és megnézzük, hogy ez hogyan befolyásolja a hálózatunkat és a kapcsolódó beágyazásokat."
      ]
    },
    {
      "cell_type": "markdown",
      "metadata": {
        "id": "QQCr_NAT-g5w"
      },
      "source": [
        "## Import TensorFlow and related functions"
      ]
    },
    {
      "cell_type": "code",
      "execution_count": 1,
      "metadata": {
        "id": "Q8Wa_ZlX-mPH"
      },
      "outputs": [],
      "source": [
        "import tensorflow as tf\n",
        "\n",
        "from tensorflow.keras.preprocessing.sequence import pad_sequences"
      ]
    },
    {
      "cell_type": "markdown",
      "metadata": {
        "id": "MRHk-4Te-yLJ"
      },
      "source": [
        "## Az eredeti adathalmaz letöltése\n",
        "\n",
        "Ismét az Amazon és a Yelp értékeléseit tartalmazó adathalmazt fogjuk használni. Ez az adatkészlet eredetileg a [itt](https://www.kaggle.com/marklvl/sentiment-labelled-sentences-data-set) oldalról származik."
      ]
    },
    {
      "cell_type": "code",
      "execution_count": 2,
      "metadata": {
        "id": "XJAxrOLi-02C",
        "colab": {
          "base_uri": "https://localhost:8080/"
        },
        "outputId": "59fb8e66-9e3d-4f05-e0c8-2b45e4818281"
      },
      "outputs": [
        {
          "output_type": "stream",
          "name": "stdout",
          "text": [
            "--2022-11-23 13:16:39--  https://drive.google.com/uc?id=13ySLC_ue6Umt9RJYSeM2t-V0kCv-4C-P\n",
            "Resolving drive.google.com (drive.google.com)... 142.251.10.138, 142.251.10.139, 142.251.10.113, ...\n",
            "Connecting to drive.google.com (drive.google.com)|142.251.10.138|:443... connected.\n",
            "HTTP request sent, awaiting response... 303 See Other\n",
            "Location: https://doc-08-ak-docs.googleusercontent.com/docs/securesc/ha0ro937gcuc7l7deffksulhg5h7mbp1/p9qe9nl5r8og5kf0dfv9qrrborfesubu/1669209375000/11118900490791463723/*/13ySLC_ue6Umt9RJYSeM2t-V0kCv-4C-P?uuid=2f6f4f5e-3844-4bb8-99b5-27e44d4036c6 [following]\n",
            "Warning: wildcards not supported in HTTP.\n",
            "--2022-11-23 13:16:39--  https://doc-08-ak-docs.googleusercontent.com/docs/securesc/ha0ro937gcuc7l7deffksulhg5h7mbp1/p9qe9nl5r8og5kf0dfv9qrrborfesubu/1669209375000/11118900490791463723/*/13ySLC_ue6Umt9RJYSeM2t-V0kCv-4C-P?uuid=2f6f4f5e-3844-4bb8-99b5-27e44d4036c6\n",
            "Resolving doc-08-ak-docs.googleusercontent.com (doc-08-ak-docs.googleusercontent.com)... 142.250.4.132, 2404:6800:4003:c06::84\n",
            "Connecting to doc-08-ak-docs.googleusercontent.com (doc-08-ak-docs.googleusercontent.com)|142.250.4.132|:443... connected.\n",
            "HTTP request sent, awaiting response... 200 OK\n",
            "Length: 127831 (125K) [text/csv]\n",
            "Saving to: ‘sentiment.csv’\n",
            "\n",
            "sentiment.csv       100%[===================>] 124.83K  --.-KB/s    in 0.001s  \n",
            "\n",
            "2022-11-23 13:16:40 (134 MB/s) - ‘sentiment.csv’ saved [127831/127831]\n",
            "\n"
          ]
        }
      ],
      "source": [
        "!wget --no-check-certificate \\\n",
        "    https://drive.google.com/uc?id=13ySLC_ue6Umt9RJYSeM2t-V0kCv-4C-P \\\n",
        "    -O sentiment.csv"
      ]
    },
    {
      "cell_type": "code",
      "execution_count": 3,
      "metadata": {
        "id": "Dr-EDUKP_HBl"
      },
      "outputs": [],
      "source": [
        "import pandas as pd\n",
        "\n",
        "dataset = pd.read_csv('sentiment.csv')\n",
        "\n",
        "# Just extract out sentences and labels first - we will create subwords here\n",
        "sentences = dataset['text'].tolist()\n",
        "labels = dataset['sentiment'].tolist()"
      ]
    },
    {
      "cell_type": "markdown",
      "metadata": {
        "id": "8zut9Wng_R3B"
      },
      "source": [
        "## Hozzunk létre egy subwords adathalmazt\n",
        "\n",
        "A meglévő Amazon és Yelp értékelések adathalmazt használhatjuk a `tensorflow_datasets` `SubwordTextEncoder` funkciójával. A `SubwordTextEncoder.build_from_corpus()` létrehoz nekünk egy tokenizálót. Ezt a funkcionalitást használhatnánk arra is, hogy egy sokkal nagyobb szövegkorpuszból is kapjunk alszavakat, de mi itt csak a meglévő adathalmazunkat fogjuk használni.\n",
        "\n",
        "Az Amazon és a Yelp általunk használt adathalmaza nem túl nagy, ezért csak az 1000 leggyakoribb szóból fogunk létrehozni egy `vocab_size` alszót, valamint minden alszót úgy vágunk le, hogy az legfeljebb 5 karakter legyen.\n"
      ]
    },
    {
      "cell_type": "code",
      "execution_count": 4,
      "metadata": {
        "id": "aElsgxia_43g"
      },
      "outputs": [],
      "source": [
        "import tensorflow_datasets as tfds\n",
        "\n",
        "vocab_size = 1000\n",
        "tokenizer = tfds.deprecated.text.SubwordTextEncoder.build_from_corpus(sentences, vocab_size, max_subword_length=5)"
      ]
    },
    {
      "cell_type": "code",
      "execution_count": 7,
      "metadata": {
        "id": "0XNZWGKqBDc3",
        "colab": {
          "base_uri": "https://localhost:8080/"
        },
        "outputId": "62e205e0-fb83-45b4-a12b-8aadfc26ac4d"
      },
      "outputs": [
        {
          "output_type": "stream",
          "name": "stdout",
          "text": [
            "If you have several dozen or several hundred contacts then imagine the fun of sending each of them one by one.\n",
            "[364, 39, 31, 69, 500, 775, 197, 293, 38, 117, 69, 500, 775, 399, 123, 475, 775, 79, 62, 86, 3, 506, 241, 683, 557, 775, 1, 429, 38, 15, 69, 123, 26, 210, 232, 15, 507, 80, 361, 478, 789]\n",
            "If \n",
            "you \n",
            "have \n",
            "se\n",
            "veral\n",
            " \n",
            "do\n",
            "ze\n",
            "n \n",
            "or \n",
            "se\n",
            "veral\n",
            " \n",
            "hu\n",
            "nd\n",
            "red\n",
            " \n",
            "con\n",
            "ta\n",
            "ct\n",
            "s \n",
            "then \n",
            "im\n",
            "ag\n",
            "ine\n",
            " \n",
            "the \n",
            "fu\n",
            "n \n",
            "of \n",
            "se\n",
            "nd\n",
            "ing \n",
            "ea\n",
            "ch \n",
            "of \n",
            "them \n",
            "one \n",
            "by \n",
            "one\n",
            ".\n"
          ]
        }
      ],
      "source": [
        "# Check that the tokenizer works appropriately\n",
        "num = 6\n",
        "print(sentences[num])\n",
        "encoded = tokenizer.encode(sentences[num])\n",
        "print(encoded)\n",
        "# Separately print out each subword, decoded\n",
        "for i in encoded:\n",
        "  print(tokenizer.decode([i]))"
      ]
    },
    {
      "cell_type": "markdown",
      "metadata": {
        "id": "gYnbqctXGKcC"
      },
      "source": [
        "## A mondatadatok cseréje kódolt részszavakra\n",
        "\n",
        "Most újra létrehozzuk a gyakorláshoz használt adathalmazt, az egyes mondatok tényleges kódolásával. Ez egyenértékű a `text_to_sequences` művelettel a korábbi gyakorlatokban használt `Tokenizerrel`."
      ]
    },
    {
      "cell_type": "code",
      "execution_count": 9,
      "metadata": {
        "id": "rAmql34aGfeV"
      },
      "outputs": [],
      "source": [
        "for i, sentence in enumerate(sentences):\n",
        "  sentences[i] = tokenizer.encode(sentence)"
      ]
    },
    {
      "cell_type": "code",
      "execution_count": 10,
      "metadata": {
        "id": "jNnee_csG5Iz",
        "colab": {
          "base_uri": "https://localhost:8080/"
        },
        "outputId": "37fe0b6c-4ef9-48de-b693-1f59bdc3ac9b"
      },
      "outputs": [
        {
          "output_type": "stream",
          "name": "stdout",
          "text": [
            "[625, 677, 626, 274, 380, 633, 148, 844, 789]\n"
          ]
        }
      ],
      "source": [
        "# Check the sentences are appropriately replaced\n",
        "print(sentences[1])"
      ]
    },
    {
      "cell_type": "markdown",
      "metadata": {
        "id": "zpIigjecHVkF"
      },
      "source": [
        "## Végső előfeldolgozás\n",
        "\n",
        "A képzés előtt még fel kell töltenünk a szekvenciákat, valamint fel kell osztanunk a képzési és tesztkészleteket."
      ]
    },
    {
      "cell_type": "code",
      "execution_count": 12,
      "metadata": {
        "id": "INIFSAcEHool"
      },
      "outputs": [],
      "source": [
        "import numpy as np\n",
        "\n",
        "max_length = 50\n",
        "trunc_type='post'\n",
        "padding_type='post'\n",
        "\n",
        "# Pad all sentences\n",
        "sentences_padded = pad_sequences(sentences, maxlen=max_length, \n",
        "                                 padding=padding_type, truncating=trunc_type)\n",
        "\n",
        "# Separate out the sentences and labels into training and test sets\n",
        "training_size = int(len(sentences) * 0.8)\n",
        "\n",
        "training_sentences = sentences_padded[0:training_size]\n",
        "testing_sentences = sentences_padded[training_size:]\n",
        "training_labels = labels[0:training_size]\n",
        "testing_labels = labels[training_size:]\n",
        "\n",
        "# Make labels into numpy arrays for use with the network later\n",
        "training_labels_final = np.array(training_labels)\n",
        "testing_labels_final = np.array(testing_labels)"
      ]
    },
    {
      "cell_type": "markdown",
      "metadata": {
        "id": "QC9A-sTpPPiL"
      },
      "source": [
        "## Modell képzése\n",
        "Itt egy kicsit más modellt fogunk használni, a Flatten() helyett a GlobalAveragePooling1D-t használjuk."
      ]
    },
    {
      "cell_type": "code",
      "execution_count": 13,
      "metadata": {
        "id": "eDKcL64IPcfy",
        "colab": {
          "base_uri": "https://localhost:8080/"
        },
        "outputId": "55eddb92-0631-40ff-b5bc-3d051719152c"
      },
      "outputs": [
        {
          "output_type": "stream",
          "name": "stdout",
          "text": [
            "Model: \"sequential\"\n",
            "_________________________________________________________________\n",
            " Layer (type)                Output Shape              Param #   \n",
            "=================================================================\n",
            " embedding (Embedding)       (None, 50, 16)            16000     \n",
            "                                                                 \n",
            " global_average_pooling1d (G  (None, 16)               0         \n",
            " lobalAveragePooling1D)                                          \n",
            "                                                                 \n",
            " dense (Dense)               (None, 6)                 102       \n",
            "                                                                 \n",
            " dense_1 (Dense)             (None, 1)                 7         \n",
            "                                                                 \n",
            "=================================================================\n",
            "Total params: 16,109\n",
            "Trainable params: 16,109\n",
            "Non-trainable params: 0\n",
            "_________________________________________________________________\n"
          ]
        }
      ],
      "source": [
        "embedding_dim = 16\n",
        "model = tf.keras.Sequential([\n",
        "    tf.keras.layers.Embedding(vocab_size, embedding_dim, input_length=max_length),\n",
        "    tf.keras.layers.GlobalAveragePooling1D(),\n",
        "    tf.keras.layers.Dense(6, activation='relu'),\n",
        "    tf.keras.layers.Dense(1, activation='sigmoid')\n",
        "])\n",
        "\n",
        "model.summary()"
      ]
    },
    {
      "cell_type": "code",
      "execution_count": 14,
      "metadata": {
        "id": "VqkMNtIeP3oz",
        "colab": {
          "base_uri": "https://localhost:8080/"
        },
        "outputId": "521c805e-fbd6-45bd-fae4-c4fa54068e0b"
      },
      "outputs": [
        {
          "output_type": "stream",
          "name": "stdout",
          "text": [
            "Epoch 1/30\n",
            "50/50 [==============================] - 4s 16ms/step - loss: 0.6918 - accuracy: 0.5317 - val_loss: 0.6961 - val_accuracy: 0.4236\n",
            "Epoch 2/30\n",
            "50/50 [==============================] - 0s 5ms/step - loss: 0.6887 - accuracy: 0.5424 - val_loss: 0.6960 - val_accuracy: 0.4536\n",
            "Epoch 3/30\n",
            "50/50 [==============================] - 0s 5ms/step - loss: 0.6835 - accuracy: 0.5738 - val_loss: 0.6955 - val_accuracy: 0.4612\n",
            "Epoch 4/30\n",
            "50/50 [==============================] - 0s 4ms/step - loss: 0.6760 - accuracy: 0.5951 - val_loss: 0.6918 - val_accuracy: 0.4887\n",
            "Epoch 5/30\n",
            "50/50 [==============================] - 0s 4ms/step - loss: 0.6653 - accuracy: 0.6409 - val_loss: 0.6893 - val_accuracy: 0.4937\n",
            "Epoch 6/30\n",
            "50/50 [==============================] - 0s 6ms/step - loss: 0.6490 - accuracy: 0.6460 - val_loss: 0.6711 - val_accuracy: 0.5514\n",
            "Epoch 7/30\n",
            "50/50 [==============================] - 0s 6ms/step - loss: 0.6268 - accuracy: 0.7426 - val_loss: 0.6646 - val_accuracy: 0.5313\n",
            "Epoch 8/30\n",
            "50/50 [==============================] - 0s 5ms/step - loss: 0.6004 - accuracy: 0.7250 - val_loss: 0.6302 - val_accuracy: 0.6917\n",
            "Epoch 9/30\n",
            "50/50 [==============================] - 0s 5ms/step - loss: 0.5686 - accuracy: 0.7941 - val_loss: 0.6098 - val_accuracy: 0.7043\n",
            "Epoch 10/30\n",
            "50/50 [==============================] - 0s 5ms/step - loss: 0.5333 - accuracy: 0.8211 - val_loss: 0.6018 - val_accuracy: 0.6692\n",
            "Epoch 11/30\n",
            "50/50 [==============================] - 0s 5ms/step - loss: 0.4985 - accuracy: 0.8324 - val_loss: 0.5776 - val_accuracy: 0.7168\n",
            "Epoch 12/30\n",
            "50/50 [==============================] - 0s 5ms/step - loss: 0.4651 - accuracy: 0.8487 - val_loss: 0.5437 - val_accuracy: 0.7444\n",
            "Epoch 13/30\n",
            "50/50 [==============================] - 0s 5ms/step - loss: 0.4348 - accuracy: 0.8625 - val_loss: 0.5429 - val_accuracy: 0.7393\n",
            "Epoch 14/30\n",
            "50/50 [==============================] - 0s 5ms/step - loss: 0.4068 - accuracy: 0.8619 - val_loss: 0.5405 - val_accuracy: 0.7368\n",
            "Epoch 15/30\n",
            "50/50 [==============================] - 0s 6ms/step - loss: 0.3815 - accuracy: 0.8726 - val_loss: 0.5239 - val_accuracy: 0.7293\n",
            "Epoch 16/30\n",
            "50/50 [==============================] - 0s 5ms/step - loss: 0.3597 - accuracy: 0.8814 - val_loss: 0.5309 - val_accuracy: 0.7368\n",
            "Epoch 17/30\n",
            "50/50 [==============================] - 0s 6ms/step - loss: 0.3397 - accuracy: 0.8801 - val_loss: 0.5113 - val_accuracy: 0.7444\n",
            "Epoch 18/30\n",
            "50/50 [==============================] - 0s 5ms/step - loss: 0.3225 - accuracy: 0.8876 - val_loss: 0.5024 - val_accuracy: 0.7494\n",
            "Epoch 19/30\n",
            "50/50 [==============================] - 0s 5ms/step - loss: 0.3061 - accuracy: 0.8983 - val_loss: 0.5018 - val_accuracy: 0.7519\n",
            "Epoch 20/30\n",
            "50/50 [==============================] - 0s 5ms/step - loss: 0.2928 - accuracy: 0.8970 - val_loss: 0.5023 - val_accuracy: 0.7494\n",
            "Epoch 21/30\n",
            "50/50 [==============================] - 0s 5ms/step - loss: 0.2789 - accuracy: 0.9021 - val_loss: 0.5144 - val_accuracy: 0.7494\n",
            "Epoch 22/30\n",
            "50/50 [==============================] - 0s 6ms/step - loss: 0.2675 - accuracy: 0.9083 - val_loss: 0.5108 - val_accuracy: 0.7494\n",
            "Epoch 23/30\n",
            "50/50 [==============================] - 0s 5ms/step - loss: 0.2594 - accuracy: 0.9121 - val_loss: 0.5058 - val_accuracy: 0.7594\n",
            "Epoch 24/30\n",
            "50/50 [==============================] - 0s 5ms/step - loss: 0.2478 - accuracy: 0.9165 - val_loss: 0.5219 - val_accuracy: 0.7494\n",
            "Epoch 25/30\n",
            "50/50 [==============================] - 0s 6ms/step - loss: 0.2377 - accuracy: 0.9203 - val_loss: 0.5186 - val_accuracy: 0.7619\n",
            "Epoch 26/30\n",
            "50/50 [==============================] - 0s 6ms/step - loss: 0.2287 - accuracy: 0.9284 - val_loss: 0.5258 - val_accuracy: 0.7619\n",
            "Epoch 27/30\n",
            "50/50 [==============================] - 0s 5ms/step - loss: 0.2222 - accuracy: 0.9291 - val_loss: 0.5237 - val_accuracy: 0.7569\n",
            "Epoch 28/30\n",
            "50/50 [==============================] - 0s 6ms/step - loss: 0.2136 - accuracy: 0.9309 - val_loss: 0.5277 - val_accuracy: 0.7544\n",
            "Epoch 29/30\n",
            "50/50 [==============================] - 0s 6ms/step - loss: 0.2063 - accuracy: 0.9360 - val_loss: 0.5275 - val_accuracy: 0.7569\n",
            "Epoch 30/30\n",
            "50/50 [==============================] - 0s 6ms/step - loss: 0.1999 - accuracy: 0.9353 - val_loss: 0.5348 - val_accuracy: 0.7644\n"
          ]
        }
      ],
      "source": [
        "num_epochs = 30\n",
        "model.compile(loss='binary_crossentropy',optimizer='adam',metrics=['accuracy'])\n",
        "history = model.fit(training_sentences, training_labels_final, epochs=num_epochs, \n",
        "                    validation_data=(testing_sentences, testing_labels_final))"
      ]
    },
    {
      "cell_type": "markdown",
      "metadata": {
        "id": "sj18M42kQkCi"
      },
      "source": [
        "## A képzési adatok vizualizálása\n",
        "\n",
        "Az alábbiakban ismét megjeleníthetjük a képzési grafikont. Látszik-e különbség a validálási pontosság és veszteség tendenciájában a teljes szavakkal való összehasonlításhoz képest?"
      ]
    },
    {
      "cell_type": "code",
      "execution_count": 15,
      "metadata": {
        "id": "uy8KIMPIQlvH",
        "colab": {
          "base_uri": "https://localhost:8080/",
          "height": 541
        },
        "outputId": "953c04bd-7f96-4097-c5ba-f2050de29ade"
      },
      "outputs": [
        {
          "output_type": "display_data",
          "data": {
            "text/plain": [
              "<Figure size 432x288 with 1 Axes>"
            ],
            "image/png": "[encoded data removed]"
          },
          "metadata": {
            "needs_background": "light"
          }
        },
        {
          "output_type": "display_data",
          "data": {
            "text/plain": [
              "<Figure size 432x288 with 1 Axes>"
            ],
            "image/png": "[encoded data removed]"
          },
          "metadata": {
            "needs_background": "light"
          }
        }
      ],
      "source": [
        "import matplotlib.pyplot as plt\n",
        "\n",
        "\n",
        "def plot_graphs(history, string):\n",
        "  plt.plot(history.history[string])\n",
        "  plt.plot(history.history['val_'+string])\n",
        "  plt.xlabel(\"Epochs\")\n",
        "  plt.ylabel(string)\n",
        "  plt.legend([string, 'val_'+string])\n",
        "  plt.show()\n",
        "  \n",
        "plot_graphs(history, \"accuracy\")\n",
        "plot_graphs(history, \"loss\")"
      ]
    },
    {
      "cell_type": "markdown",
      "metadata": {
        "id": "_m7QzouQQ1Rs"
      },
      "source": [
        "## A hálózat vizualizálásához szükséges fájlok letöltése\n",
        "\n",
        "Az alábbi kód segítségével ismét vizualizálhatja az összes alszóhoz kapcsolódó érzelmeket, és az adatok feltöltéséhez és megtekintéséhez a http://projector.tensorflow.org/ oldalra kell menni.\n",
        "\n",
        "Vegye figyelembe, hogy az alábbi kódban van néhány apró változtatás, hogy kezelni tudja a szöveg kódolásának eltérő módját az adatkészletünkben, mint korábban a beépített `Tokenizerrel`.\n",
        "\n",
        "Előfordulhat, hogy a következő hibaüzenet jelenik meg: \"A tenzorok száma (999) nem egyezik a metaadatok sorainak számával (992)\". Mindaddig, amíg először hiba nélkül betöltjük a vektorokat, és várunk néhány másodpercet, miután ez felugrik, a fájl betöltése menüponton kívülre kattintva továbbra is megtekinthetjük a vizualizációt."
      ]
    },
    {
      "cell_type": "code",
      "execution_count": 16,
      "metadata": {
        "id": "dezs4wE5RMQu",
        "colab": {
          "base_uri": "https://localhost:8080/"
        },
        "outputId": "ffadce3e-17f8-4078-94ad-464c66d22ad9"
      },
      "outputs": [
        {
          "output_type": "stream",
          "name": "stdout",
          "text": [
            "(1000, 16)\n"
          ]
        }
      ],
      "source": [
        "# First get the weights of the embedding layer\n",
        "e = model.layers[0]\n",
        "weights = e.get_weights()[0]\n",
        "print(weights.shape) # shape: (vocab_size, embedding_dim)"
      ]
    },
    {
      "cell_type": "code",
      "execution_count": 17,
      "metadata": {
        "id": "LXKqy9Z1RSmt"
      },
      "outputs": [],
      "source": [
        "import io\n",
        "\n",
        "# Write out the embedding vectors and metadata\n",
        "out_v = io.open('vecs.tsv', 'w', encoding='utf-8')\n",
        "out_m = io.open('meta.tsv', 'w', encoding='utf-8')\n",
        "for word_num in range(0, vocab_size - 1):\n",
        "  word = tokenizer.decode([word_num])\n",
        "  embeddings = weights[word_num]\n",
        "  out_m.write(word + \"\\n\")\n",
        "  out_v.write('\\t'.join([str(x) for x in embeddings]) + \"\\n\")\n",
        "out_v.close()\n",
        "out_m.close()"
      ]
    },
    {
      "cell_type": "code",
      "execution_count": 19,
      "metadata": {
        "id": "v04wBMybRoGx",
        "colab": {
          "base_uri": "https://localhost:8080/",
          "height": 17
        },
        "outputId": "f90e541d-5de5-45d7-c9f2-ead69dfa8238"
      },
      "outputs": [
        {
          "output_type": "display_data",
          "data": {
            "text/plain": [
              "<IPython.core.display.Javascript object>"
            ],
            "application/javascript": [
              "\n",
              "    async function download(id, filename, size) {\n",
              "      if (!google.colab.kernel.accessAllowed) {\n",
              "        return;\n",
              "      }\n",
              "      const div = document.createElement('div');\n",
              "      const label = document.createElement('label');\n",
              "      label.textContent = `Downloading \"${filename}\": `;\n",
              "      div.appendChild(label);\n",
              "      const progress = document.createElement('progress');\n",
              "      progress.max = size;\n",
              "      div.appendChild(progress);\n",
              "      document.body.appendChild(div);\n",
              "\n",
              "      const buffers = [];\n",
              "      let downloaded = 0;\n",
              "\n",
              "      const channel = await google.colab.kernel.comms.open(id);\n",
              "      // Send a message to notify the kernel that we're ready.\n",
              "      channel.send({})\n",
              "\n",
              "      for await (const message of channel.messages) {\n",
              "        // Send a message to notify the kernel that we're ready.\n",
              "        channel.send({})\n",
              "        if (message.buffers) {\n",
              "          for (const buffer of message.buffers) {\n",
              "            buffers.push(buffer);\n",
              "            downloaded += buffer.byteLength;\n",
              "            progress.value = downloaded;\n",
              "          }\n",
              "        }\n",
              "      }\n",
              "      const blob = new Blob(buffers, {type: 'application/binary'});\n",
              "      const a = document.createElement('a');\n",
              "      a.href = window.URL.createObjectURL(blob);\n",
              "      a.download = filename;\n",
              "      div.appendChild(a);\n",
              "      a.click();\n",
              "      div.remove();\n",
              "    }\n",
              "  "
            ]
          },
          "metadata": {}
        },
        {
          "output_type": "display_data",
          "data": {
            "text/plain": [
              "<IPython.core.display.Javascript object>"
            ],
            "application/javascript": [
              "download(\"download_bfd1e532-6ed0-4a0b-8ea3-bcb773de7748\", \"vecs.tsv\", 186385)"
            ]
          },
          "metadata": {}
        },
        {
          "output_type": "display_data",
          "data": {
            "text/plain": [
              "<IPython.core.display.Javascript object>"
            ],
            "application/javascript": [
              "\n",
              "    async function download(id, filename, size) {\n",
              "      if (!google.colab.kernel.accessAllowed) {\n",
              "        return;\n",
              "      }\n",
              "      const div = document.createElement('div');\n",
              "      const label = document.createElement('label');\n",
              "      label.textContent = `Downloading \"${filename}\": `;\n",
              "      div.appendChild(label);\n",
              "      const progress = document.createElement('progress');\n",
              "      progress.max = size;\n",
              "      div.appendChild(progress);\n",
              "      document.body.appendChild(div);\n",
              "\n",
              "      const buffers = [];\n",
              "      let downloaded = 0;\n",
              "\n",
              "      const channel = await google.colab.kernel.comms.open(id);\n",
              "      // Send a message to notify the kernel that we're ready.\n",
              "      channel.send({})\n",
              "\n",
              "      for await (const message of channel.messages) {\n",
              "        // Send a message to notify the kernel that we're ready.\n",
              "        channel.send({})\n",
              "        if (message.buffers) {\n",
              "          for (const buffer of message.buffers) {\n",
              "            buffers.push(buffer);\n",
              "            downloaded += buffer.byteLength;\n",
              "            progress.value = downloaded;\n",
              "          }\n",
              "        }\n",
              "      }\n",
              "      const blob = new Blob(buffers, {type: 'application/binary'});\n",
              "      const a = document.createElement('a');\n",
              "      a.href = window.URL.createObjectURL(blob);\n",
              "      a.download = filename;\n",
              "      div.appendChild(a);\n",
              "      a.click();\n",
              "      div.remove();\n",
              "    }\n",
              "  "
            ]
          },
          "metadata": {}
        },
        {
          "output_type": "display_data",
          "data": {
            "text/plain": [
              "<IPython.core.display.Javascript object>"
            ],
            "application/javascript": [
              "download(\"download_fac274b4-aefa-4004-bcfb-93158395572e\", \"meta.tsv\", 3901)"
            ]
          },
          "metadata": {}
        }
      ],
      "source": [
        "# Download the files\n",
        "try:\n",
        "  from google.colab import files\n",
        "except ImportError:\n",
        "  pass\n",
        "else:\n",
        "  files.download('vecs.tsv')\n",
        "  files.download('meta.tsv')"
      ]
    },
    {
      "cell_type": "markdown",
      "source": [
        "#Lássuk ugyanezt magyar szövegeken"
      ],
      "metadata": {
        "id": "DlXsjBqQ1zBw"
      }
    },
    {
      "cell_type": "code",
      "source": [
        "hun_sentences = ['A zsebórákból kinőtt karórákat kezdetben jellemzően a nők hordták, majd a 19. századra a férfiak is átvették a szokást. Az első világháborúban már szinte követelmény volt a repülőpilóták karóraviselése, ezután az órapiac fellendült, és a stílusos úriemberek elengedhetetlen kiegészítője lett a karóra. A kilencvenes években a mobiltelefonok elterjedésével a karórák trendje visszaesett, az új generációk már nem ezt ítélik státuszszimbólumnak, hanem a telefon márkáját.']"
      ],
      "metadata": {
        "id": "6yLaPBATeYZ-"
      },
      "execution_count": 1,
      "outputs": []
    },
    {
      "cell_type": "code",
      "execution_count": 6,
      "metadata": {
        "id": "pvAV6Dw71U2z"
      },
      "outputs": [],
      "source": [
        "import tensorflow_datasets as tfds\n",
        "\n",
        "vocab_size = 1000\n",
        "tokenizer = tfds.deprecated.text.SubwordTextEncoder.build_from_corpus(hun_sentences, vocab_size, max_subword_length=4)"
      ]
    },
    {
      "cell_type": "code",
      "execution_count": null,
      "metadata": {
        "id": "d_TbpDiu1U2z"
      },
      "outputs": [],
      "source": [
        "# Check that the tokenizer works appropriately\n",
        "num = 0\n",
        "print(hun_sentences[num])\n",
        "encoded = tokenizer.encode(hun_sentences[num])\n",
        "print(encoded)\n",
        "# Separately print out each subword, decoded\n",
        "for i in encoded:\n",
        "  print(tokenizer.decode([i]))"
      ]
    },
    {
      "cell_type": "markdown",
      "source": [
        "#Spacy használata szövegfeldolgozáshoz"
      ],
      "metadata": {
        "id": "7SGxVPcf5JGd"
      }
    },
    {
      "cell_type": "code",
      "source": [
        "import spacy\n",
        "\n",
        "nlp = spacy.load(\"en_core_web_sm\")\n",
        "doc = nlp(\"Apple is looking at buying U.K. startup for $1 billion\")\n",
        "for token in doc:\n",
        "    print(token.text, token.lemma_)"
      ],
      "metadata": {
        "colab": {
          "base_uri": "https://localhost:8080/"
        },
        "id": "Z-5vv9D84sT4",
        "outputId": "cd5ee015-524d-4fd1-c981-81632ee59e73"
      },
      "execution_count": 9,
      "outputs": [
        {
          "output_type": "stream",
          "name": "stdout",
          "text": [
            "Apple Apple\n",
            "is be\n",
            "looking look\n",
            "at at\n",
            "buying buy\n",
            "U.K. U.K.\n",
            "startup startup\n",
            "for for\n",
            "$ $\n",
            "1 1\n",
            "billion billion\n"
          ]
        }
      ]
    },
    {
      "cell_type": "code",
      "source": [],
      "metadata": {
        "id": "lYbFjZrV48T9"
      },
      "execution_count": null,
      "outputs": []
    }
  ],
  "metadata": {
    "accelerator": "GPU",
    "colab": {
      "provenance": [],
      "include_colab_link": true
    },
    "kernelspec": {
      "display_name": "Python 3",
      "name": "python3"
    }
  },
  "nbformat": 4,
  "nbformat_minor": 0
}
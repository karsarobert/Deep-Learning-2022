{
  "cells": [
    {
      "cell_type": "markdown",
      "metadata": {
        "id": "view-in-github",
        "colab_type": "text"
      },
      "source": [
        "<a href=\"https://colab.research.google.com/github/karsarobert/Deep-Learning-2022/blob/main/11/PTE_DL11_Tokenizing_feladatokkal.ipynb\" target=\"_parent\"><img src=\"https://colab.research.google.com/assets/colab-badge.svg\" alt=\"Open In Colab\"/></a>"
      ]
    },
    {
      "cell_type": "markdown",
      "metadata": {
        "id": "opposed-female"
      },
      "source": [
        "# Deep Learning gyakorlat\n",
        "\n",
        "\n",
        "## 11. gyakorlat: word2vec\n",
        "### 2022. november 23."
      ]
    },
    {
      "cell_type": "markdown",
      "metadata": {
        "id": "punL79CN7Ox6"
      },
      "source": [
        "##### Copyright 2020 The TensorFlow Authors."
      ]
    },
    {
      "cell_type": "code",
      "execution_count": null,
      "metadata": {
        "cellView": "form",
        "id": "_ckMIh7O7s6D"
      },
      "outputs": [],
      "source": [
        "#@title Licensed under the Apache License, Version 2.0 (the \"License\");\n",
        "# you may not use this file except in compliance with the License.\n",
        "# You may obtain a copy of the License at\n",
        "#\n",
        "# https://www.apache.org/licenses/LICENSE-2.0\n",
        "#\n",
        "# Unless required by applicable law or agreed to in writing, software\n",
        "# distributed under the License is distributed on an \"AS IS\" BASIS,\n",
        "# WITHOUT WARRANTIES OR CONDITIONS OF ANY KIND, either express or implied.\n",
        "# See the License for the specific language governing permissions and\n",
        "# limitations under the License."
      ]
    },
    {
      "cell_type": "markdown",
      "metadata": {
        "id": "fFv-USWkhQKA"
      },
      "source": [
        "# Szöveg tokenizálása és mondatszekvenciák létrehozása"
      ]
    },
    {
      "cell_type": "markdown",
      "metadata": {
        "id": "S5Uhzt6vVIB2"
      },
      "source": [
        "<table class=\"tfo-notebook-buttons\" align=\"left\">\n",
        "  <td>\n",
        "    <a target=\"_blank\" href=\"https://colab.research.google.com/github/tensorflow/examples/blob/master/courses/udacity_intro_to_tensorflow_for_deep_learning/l09c01_nlp_turn_words_into_tokens.ipynb\"><img src=\"https://www.tensorflow.org/images/colab_logo_32px.png\" />Run in Google Colab</a>\n",
        "  </td>\n",
        "  <td>\n",
        "    <a target=\"_blank\" href=\"https://github.com/tensorflow/examples/blob/master/courses/udacity_intro_to_tensorflow_for_deep_learning/l09c01_nlp_turn_words_into_tokens.ipynb\"><img src=\"https://www.tensorflow.org/images/GitHub-Mark-32px.png\" />View source on GitHub</a>\n",
        "  </td>\n",
        "</table>"
      ]
    },
    {
      "cell_type": "markdown",
      "metadata": {
        "id": "7hMGfCIDPnm8"
      },
      "source": [
        "Ez a munkafüzet bemutatja, hogyan kell tokenizálni a szöveget és szekvenciákat létrehozni a mondatokhoz, ami a szöveg előkészítésének első lépése a TensorFlow modellekkel való használatához."
      ]
    },
    {
      "cell_type": "markdown",
      "metadata": {
        "id": "4mGaRDFcSamt"
      },
      "source": [
        "## A Tokenizer importálása"
      ]
    },
    {
      "cell_type": "code",
      "execution_count": null,
      "metadata": {
        "id": "EN1-FZodOuPl"
      },
      "outputs": [],
      "source": [
        "# Import the Tokenizer\n",
        "from tensorflow.keras.preprocessing.text import Tokenizer\n"
      ]
    },
    {
      "cell_type": "markdown",
      "metadata": {
        "id": "C5Qwn_7FSXW-"
      },
      "source": [
        "## Írjunk néhány mondatot\n",
        "\n",
        "Nyugodtan változtass és adj hozzá mondatokat, ahogyan csak szeretnéd."
      ]
    },
    {
      "cell_type": "code",
      "execution_count": null,
      "metadata": {
        "id": "RMiq8BpWVVRa"
      },
      "outputs": [],
      "source": [
        "sentences = [\n",
        "    'My favorite food is ice cream',\n",
        "    'do you like ice cream too?',\n",
        "    'My dog likes ice cream!',\n",
        "    \"your favorite flavor of icecream is chocolate\",\n",
        "    \"chocolate isn't good for dogs\",\n",
        "    \"your dog, your cat, and your parrot prefer broccoli\"\n",
        "]"
      ]
    },
    {
      "cell_type": "markdown",
      "metadata": {
        "id": "wz845OtfRBCM"
      },
      "source": [
        "## Tokenizáljuk a szavakat\n",
        "\n",
        "A gépi tanulási modellben felhasználható szöveg előkészítésének első lépése a szöveg tokenizálása, más szóval számok generálása a szavakhoz."
      ]
    },
    {
      "cell_type": "code",
      "execution_count": null,
      "metadata": {
        "id": "ZHTK1DAlQ1zO"
      },
      "outputs": [],
      "source": [
        "# Optionally set the max number of words to tokenize.\n",
        "# The out of vocabulary (OOV) token represents words that are not in the index.\n",
        "# Call fit_on_text() on the tokenizer to generate unique numbers for each word\n",
        "tokenizer = Tokenizer(num_words = 100, oov_token=\"<OOV>\")\n",
        "tokenizer.fit_on_texts(sentences)\n"
      ]
    },
    {
      "cell_type": "markdown",
      "metadata": {
        "id": "Mylv-WuiRzd0"
      },
      "source": [
        "## A szóindex megtekintése\n",
        "A szöveg tokenizálása után a tokenizáló rendelkezik egy szóindexszel, amely az összes szó kulcs-érték párját és számukat tartalmazza.\n",
        "\n",
        "A szó a kulcs, a szám pedig az érték.\n",
        "\n",
        "Vegyük észre, hogy az OOV token az első bejegyzés.\n"
      ]
    },
    {
      "cell_type": "code",
      "execution_count": null,
      "metadata": {
        "id": "kX4VvsLySC7Z",
        "colab": {
          "base_uri": "https://localhost:8080/"
        },
        "outputId": "306aaf02-a456-4cab-abd0-9e11be0023b1"
      },
      "outputs": [
        {
          "output_type": "stream",
          "name": "stdout",
          "text": [
            "{'<OOV>': 1, 'your': 2, 'ice': 3, 'cream': 4, 'my': 5, 'favorite': 6, 'is': 7, 'dog': 8, 'chocolate': 9, 'food': 10, 'do': 11, 'you': 12, 'like': 13, 'too': 14, 'likes': 15, 'flavor': 16, 'of': 17, 'icecream': 18, \"isn't\": 19, 'good': 20, 'for': 21, 'dogs': 22, 'cat': 23, 'and': 24, 'parrot': 25, 'prefer': 26, 'broccoli': 27}\n"
          ]
        }
      ],
      "source": [
        "# Examine the word index\n",
        "word_index = tokenizer.word_index\n",
        "print(word_index)"
      ]
    },
    {
      "cell_type": "code",
      "execution_count": null,
      "metadata": {
        "id": "JXKrGxsIVtLo",
        "colab": {
          "base_uri": "https://localhost:8080/"
        },
        "outputId": "07619e55-2931-4498-b3c1-22896ee05c87"
      },
      "outputs": [
        {
          "output_type": "stream",
          "name": "stdout",
          "text": [
            "6\n"
          ]
        }
      ],
      "source": [
        "# Get the number for a given word\n",
        "print(word_index['favorite'])"
      ]
    },
    {
      "cell_type": "markdown",
      "metadata": {
        "id": "kcN_yM8O1oSX"
      },
      "source": [
        "# Hozzon létre szekvenciákat a mondatokhoz\n",
        "\n",
        "A szavak tokenizálása után a szóindex minden szóhoz egy egyedi számot tartalmaz. A szóindexben szereplő számok azonban nincsenek rendezve. A mondatban lévő szavaknak sorrendjük van. Így a szavak tokenizálása után a következő lépés a mondatok szekvenciáinak létrehozása."
      ]
    },
    {
      "cell_type": "code",
      "execution_count": null,
      "metadata": {
        "id": "QlUL6Ybf1sso",
        "colab": {
          "base_uri": "https://localhost:8080/"
        },
        "outputId": "63896b5e-6672-4337-d320-a32cbc9ac29a"
      },
      "outputs": [
        {
          "output_type": "stream",
          "name": "stdout",
          "text": [
            "[[5, 6, 10, 7, 3, 4], [11, 12, 13, 3, 4, 14], [5, 8, 15, 3, 4], [2, 6, 16, 17, 18, 7, 9], [9, 19, 20, 21, 22], [2, 8, 2, 23, 24, 2, 25, 26, 27]]\n"
          ]
        }
      ],
      "source": [
        "sequences = tokenizer.texts_to_sequences(sentences)\n",
        "print (sequences)"
      ]
    },
    {
      "cell_type": "markdown",
      "metadata": {
        "id": "AswZPbuW8f-f"
      },
      "source": [
        "# Szótáron kívüli szavak kezelése\n",
        "\n",
        "Nézzük meg, mi történik, ha a szekvenálandó mondat olyan szavakat tartalmaz, amelyek nem szerepelnek a szóindexben.\n",
        "\n",
        "Az Out of Vocabluary (OOV) token az első bejegyzés a szóindexben. Látni fogja, hogy a szekvenciákban megjelenik minden olyan szó helyett, amely nem szerepel a szóindexben."
      ]
    },
    {
      "cell_type": "code",
      "execution_count": null,
      "metadata": {
        "id": "Fir7qd6X8eZc",
        "colab": {
          "base_uri": "https://localhost:8080/"
        },
        "outputId": "81c297a0-519b-4358-b9a8-ce9df7bc79e7"
      },
      "outputs": [
        {
          "output_type": "stream",
          "name": "stdout",
          "text": [
            "[[1, 13, 1, 9], [5, 22, 24, 5, 1, 13, 1, 1, 5, 1, 1, 1, 24, 5, 1, 13, 3, 4, 1, 1]]\n"
          ]
        }
      ],
      "source": [
        "sentences2 = [\"I like hot chocolate\", \"My dogs and my hedgehog like kibble but my squirrel prefers grapes and my chickens like ice cream, preferably vanilla\"]\n",
        "\n",
        "sequences2 = tokenizer.texts_to_sequences(sentences2)\n",
        "print(sequences2)"
      ]
    },
    {
      "cell_type": "markdown",
      "source": [
        "#Feladat\n",
        "Tokenizálja az alábbi szöveget!"
      ],
      "metadata": {
        "id": "5kJFqxxrgNMd"
      }
    },
    {
      "cell_type": "code",
      "source": [
        "hun_sentences = ['A zsebórákból kinőtt karórákat kezdetben jellemzően a nők hordták, majd a 19. századra a férfiak is átvették a szokást. Az első világháborúban már szinte követelmény volt a repülőpilóták karóraviselése, ezután az órapiac fellendült, és a stílusos úriemberek elengedhetetlen kiegészítője lett a karóra. A kilencvenes években a mobiltelefonok elterjedésével a karórák trendje visszaesett, az új generációk már nem ezt ítélik státuszszimbólumnak, hanem a telefon márkáját.']"
      ],
      "metadata": {
        "id": "6yLaPBATeYZ-"
      },
      "execution_count": null,
      "outputs": []
    },
    {
      "cell_type": "markdown",
      "source": [
        "## Tokenizátor 200 szavas legyen"
      ],
      "metadata": {
        "id": "Bhom-RF0ehwI"
      }
    },
    {
      "cell_type": "code",
      "source": [
        "hun_tokenizer = \n",
        "hun_tokenizer.fi..."
      ],
      "metadata": {
        "id": "6NsPuM9qegjF"
      },
      "execution_count": null,
      "outputs": []
    },
    {
      "cell_type": "markdown",
      "source": [
        "## Irassuk ki a tokeneket és a hozzá tartozó szavakat"
      ],
      "metadata": {
        "id": "5HydM_adgpu_"
      }
    },
    {
      "cell_type": "code",
      "source": [],
      "metadata": {
        "colab": {
          "base_uri": "https://localhost:8080/"
        },
        "id": "MzRWEa1pesYV",
        "outputId": "5845699f-6da9-4477-c780-91278555347b"
      },
      "execution_count": null,
      "outputs": [
        {
          "output_type": "stream",
          "name": "stdout",
          "text": [
            "{'<OOV>': 1, 'a': 2, 'az': 3, 'már': 4, 'zsebórákból': 5, 'kinőtt': 6, 'karórákat': 7, 'kezdetben': 8, 'jellemzően': 9, 'nők': 10, 'hordták': 11, 'majd': 12, '19': 13, 'századra': 14, 'férfiak': 15, 'is': 16, 'átvették': 17, 'szokást': 18, 'első': 19, 'világháborúban': 20, 'szinte': 21, 'követelmény': 22, 'volt': 23, 'repülőpilóták': 24, 'karóraviselése': 25, 'ezután': 26, 'órapiac': 27, 'fellendült': 28, 'és': 29, 'stílusos': 30, 'úriemberek': 31, 'elengedhetetlen': 32, 'kiegészítője': 33, 'lett': 34, 'karóra': 35, 'kilencvenes': 36, 'években': 37, 'mobiltelefonok': 38, 'elterjedésével': 39, 'karórák': 40, 'trendje': 41, 'visszaesett': 42, 'új': 43, 'generációk': 44, 'nem': 45, 'ezt': 46, 'ítélik': 47, 'státuszszimbólumnak': 48, 'hanem': 49, 'telefon': 50, 'márkáját': 51}\n"
          ]
        }
      ]
    },
    {
      "cell_type": "markdown",
      "source": [
        "## Tokenizáljuk a 'zsebóra' szót az elöbbi tokenizátor segítségével\n",
        "Mit veszünk észre?"
      ],
      "metadata": {
        "id": "mIxIFcyMg88V"
      }
    },
    {
      "cell_type": "code",
      "source": [],
      "metadata": {
        "colab": {
          "base_uri": "https://localhost:8080/"
        },
        "id": "XSD58Gh4eze-",
        "outputId": "ae6dd739-a40a-4d90-fc8f-b759c3335076"
      },
      "execution_count": null,
      "outputs": [
        {
          "output_type": "stream",
          "name": "stdout",
          "text": [
            "[[1]]\n"
          ]
        }
      ]
    },
    {
      "cell_type": "markdown",
      "source": [
        "##Tokenizáljuk a teljes szöveget"
      ],
      "metadata": {
        "id": "OnCx0loqhLKV"
      }
    },
    {
      "cell_type": "code",
      "source": [],
      "metadata": {
        "colab": {
          "base_uri": "https://localhost:8080/"
        },
        "id": "XglN07kIfDok",
        "outputId": "7bcf324b-76eb-41e3-8f49-089ac727ee04"
      },
      "execution_count": null,
      "outputs": [
        {
          "output_type": "stream",
          "name": "stdout",
          "text": [
            "[[2, 5, 6, 7, 8, 9, 2, 10, 11, 12, 2, 13, 14, 2, 15, 16, 17, 2, 18, 3, 19, 20, 4, 21, 22, 23, 2, 24, 25, 26, 3, 27, 28, 29, 2, 30, 31, 32, 33, 34, 2, 35, 2, 36, 37, 2, 38, 39, 2, 40, 41, 42, 3, 43, 44, 4, 45, 46, 47, 48, 49, 2, 50, 51]]\n"
          ]
        }
      ]
    }
  ],
  "metadata": {
    "colab": {
      "provenance": [],
      "include_colab_link": true
    },
    "kernelspec": {
      "display_name": "Python 3",
      "name": "python3"
    }
  },
  "nbformat": 4,
  "nbformat_minor": 0
}
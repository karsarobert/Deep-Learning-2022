{
  "nbformat": 4,
  "nbformat_minor": 0,
  "metadata": {
    "colab": {
      "provenance": [],
      "authorship_tag": "ABX9TyPNPvOjESua3DvaqQQvT9oK",
      "include_colab_link": true
    },
    "kernelspec": {
      "name": "python3",
      "display_name": "Python 3"
    },
    "language_info": {
      "name": "python"
    }
  },
  "cells": [
    {
      "cell_type": "markdown",
      "metadata": {
        "id": "view-in-github",
        "colab_type": "text"
      },
      "source": [
        "<a href=\"https://colab.research.google.com/github/karsarobert/Deep-Learning-2022/blob/main/11/Spell_Checker.ipynb\" target=\"_parent\"><img src=\"https://colab.research.google.com/assets/colab-badge.svg\" alt=\"Open In Colab\"/></a>"
      ]
    },
    {
      "cell_type": "code",
      "execution_count": null,
      "metadata": {
        "colab": {
          "base_uri": "https://localhost:8080/"
        },
        "id": "Fb_tdPYxuMjA",
        "outputId": "6ce29203-bbd0-4f53-83d4-fa3322463bd3"
      },
      "outputs": [
        {
          "output_type": "stream",
          "name": "stdout",
          "text": [
            "[==================================================] 100.0% 128.1/128.1MB downloaded\n"
          ]
        }
      ],
      "source": [
        "import gensim\n",
        "\n",
        "from gensim.models import KeyedVectors\n",
        "import gensim.downloader as api\n",
        "\n",
        "model = api.load(\"glove-wiki-gigaword-100\")\n",
        "\n",
        "words = model.index2word\n",
        "\n",
        "w_rank = {}\n",
        "for i,word in enumerate(words):\n",
        "    w_rank[word] = i\n",
        "\n",
        "WORDS = w_rank"
      ]
    },
    {
      "cell_type": "code",
      "source": [
        "import re\n",
        "from collections import Counter\n",
        "\n",
        "def words(text): return re.findall(r'\\w+', text.lower())\n",
        "\n",
        "def P(word): \n",
        "    \"Probability of `word`.\"\n",
        "    # use inverse of rank as proxy\n",
        "    # returns 0 if the word isn't in the dictionary\n",
        "    return - WORDS.get(word, 0)\n",
        "\n",
        "def correction(word): \n",
        "    \"Most probable spelling correction for word.\"\n",
        "    return max(candidates(word), key=P)\n",
        "\n",
        "def candidates(word): \n",
        "    \"Generate possible spelling corrections for word.\"\n",
        "    return (known([word]) or known(edits1(word)) or known(edits2(word)) or [word])\n",
        "\n",
        "def known(words): \n",
        "    \"The subset of `words` that appear in the dictionary of WORDS.\"\n",
        "    return set(w for w in words if w in WORDS)\n",
        "\n",
        "def edits1(word):\n",
        "    \"All edits that are one edit away from `word`.\"\n",
        "    letters    = 'abcdefghijklmnopqrstuvwxyz'\n",
        "    splits     = [(word[:i], word[i:])    for i in range(len(word) + 1)]\n",
        "    deletes    = [L + R[1:]               for L, R in splits if R]\n",
        "    transposes = [L + R[1] + R[0] + R[2:] for L, R in splits if len(R)>1]\n",
        "    replaces   = [L + c + R[1:]           for L, R in splits if R for c in letters]\n",
        "    inserts    = [L + c + R               for L, R in splits for c in letters]\n",
        "    return set(deletes + transposes + replaces + inserts)\n",
        "\n",
        "def edits2(word): \n",
        "    \"All edits that are two edits away from `word`.\"\n",
        "    return (e2 for e1 in edits1(word) for e2 in edits1(e1))"
      ],
      "metadata": {
        "id": "wRBWGciuuUUH"
      },
      "execution_count": null,
      "outputs": []
    },
    {
      "cell_type": "code",
      "source": [
        "correction('quikly')"
      ],
      "metadata": {
        "colab": {
          "base_uri": "https://localhost:8080/",
          "height": 36
        },
        "id": "8O7m8F_Mu_x-",
        "outputId": "a6e8aa98-cbdd-44a1-ef1f-8c73311350b4"
      },
      "execution_count": null,
      "outputs": [
        {
          "output_type": "execute_result",
          "data": {
            "text/plain": [
              "'quickly'"
            ],
            "application/vnd.google.colaboratory.intrinsic+json": {
              "type": "string"
            }
          },
          "metadata": {},
          "execution_count": 14
        }
      ]
    },
    {
      "cell_type": "code",
      "source": [
        "correction('almma')"
      ],
      "metadata": {
        "colab": {
          "base_uri": "https://localhost:8080/",
          "height": 36
        },
        "id": "l3kH6YpuvHwG",
        "outputId": "f04ded2f-5e3b-4482-db1e-a8679febd77b"
      },
      "execution_count": null,
      "outputs": [
        {
          "output_type": "execute_result",
          "data": {
            "text/plain": [
              "'alma'"
            ],
            "application/vnd.google.colaboratory.intrinsic+json": {
              "type": "string"
            }
          },
          "metadata": {},
          "execution_count": 7
        }
      ]
    },
    {
      "cell_type": "code",
      "source": [
        "correction('thuesday')"
      ],
      "metadata": {
        "colab": {
          "base_uri": "https://localhost:8080/",
          "height": 36
        },
        "id": "JiyHLBfuvK0X",
        "outputId": "5cf50ce4-0059-4fc4-d4fb-02e94896a31a"
      },
      "execution_count": null,
      "outputs": [
        {
          "output_type": "execute_result",
          "data": {
            "text/plain": [
              "'tuesday'"
            ],
            "application/vnd.google.colaboratory.intrinsic+json": {
              "type": "string"
            }
          },
          "metadata": {},
          "execution_count": 10
        }
      ]
    },
    {
      "cell_type": "code",
      "source": [
        "correction('nicce')"
      ],
      "metadata": {
        "colab": {
          "base_uri": "https://localhost:8080/",
          "height": 36
        },
        "id": "wO2WmYAlwWRG",
        "outputId": "2f0af323-fec4-4b93-93ee-f279166abe47"
      },
      "execution_count": null,
      "outputs": [
        {
          "output_type": "execute_result",
          "data": {
            "text/plain": [
              "'nice'"
            ],
            "application/vnd.google.colaboratory.intrinsic+json": {
              "type": "string"
            }
          },
          "metadata": {},
          "execution_count": 17
        }
      ]
    },
    {
      "cell_type": "code",
      "source": [
        "edits1('aple')"
      ],
      "metadata": {
        "colab": {
          "base_uri": "https://localhost:8080/"
        },
        "id": "7bkbFhsDvcLv",
        "outputId": "324fb71b-7210-4024-91cd-b4f2cac224e2"
      },
      "execution_count": null,
      "outputs": [
        {
          "output_type": "execute_result",
          "data": {
            "text/plain": [
              "{'aale',\n",
              " 'aaple',\n",
              " 'able',\n",
              " 'abple',\n",
              " 'acle',\n",
              " 'acple',\n",
              " 'adle',\n",
              " 'adple',\n",
              " 'aele',\n",
              " 'aeple',\n",
              " 'afle',\n",
              " 'afple',\n",
              " 'agle',\n",
              " 'agple',\n",
              " 'ahle',\n",
              " 'ahple',\n",
              " 'aile',\n",
              " 'aiple',\n",
              " 'ajle',\n",
              " 'ajple',\n",
              " 'akle',\n",
              " 'akple',\n",
              " 'ale',\n",
              " 'alle',\n",
              " 'alpe',\n",
              " 'alple',\n",
              " 'amle',\n",
              " 'ample',\n",
              " 'anle',\n",
              " 'anple',\n",
              " 'aole',\n",
              " 'aople',\n",
              " 'apae',\n",
              " 'apale',\n",
              " 'apbe',\n",
              " 'apble',\n",
              " 'apce',\n",
              " 'apcle',\n",
              " 'apde',\n",
              " 'apdle',\n",
              " 'ape',\n",
              " 'apee',\n",
              " 'apel',\n",
              " 'apele',\n",
              " 'apfe',\n",
              " 'apfle',\n",
              " 'apge',\n",
              " 'apgle',\n",
              " 'aphe',\n",
              " 'aphle',\n",
              " 'apie',\n",
              " 'apile',\n",
              " 'apje',\n",
              " 'apjle',\n",
              " 'apke',\n",
              " 'apkle',\n",
              " 'apl',\n",
              " 'apla',\n",
              " 'aplae',\n",
              " 'aplb',\n",
              " 'aplbe',\n",
              " 'aplc',\n",
              " 'aplce',\n",
              " 'apld',\n",
              " 'aplde',\n",
              " 'aple',\n",
              " 'aplea',\n",
              " 'apleb',\n",
              " 'aplec',\n",
              " 'apled',\n",
              " 'aplee',\n",
              " 'aplef',\n",
              " 'apleg',\n",
              " 'apleh',\n",
              " 'aplei',\n",
              " 'aplej',\n",
              " 'aplek',\n",
              " 'aplel',\n",
              " 'aplem',\n",
              " 'aplen',\n",
              " 'apleo',\n",
              " 'aplep',\n",
              " 'apleq',\n",
              " 'apler',\n",
              " 'aples',\n",
              " 'aplet',\n",
              " 'apleu',\n",
              " 'aplev',\n",
              " 'aplew',\n",
              " 'aplex',\n",
              " 'apley',\n",
              " 'aplez',\n",
              " 'aplf',\n",
              " 'aplfe',\n",
              " 'aplg',\n",
              " 'aplge',\n",
              " 'aplh',\n",
              " 'aplhe',\n",
              " 'apli',\n",
              " 'aplie',\n",
              " 'aplj',\n",
              " 'aplje',\n",
              " 'aplk',\n",
              " 'aplke',\n",
              " 'apll',\n",
              " 'aplle',\n",
              " 'aplm',\n",
              " 'aplme',\n",
              " 'apln',\n",
              " 'aplne',\n",
              " 'aplo',\n",
              " 'aploe',\n",
              " 'aplp',\n",
              " 'aplpe',\n",
              " 'aplq',\n",
              " 'aplqe',\n",
              " 'aplr',\n",
              " 'aplre',\n",
              " 'apls',\n",
              " 'aplse',\n",
              " 'aplt',\n",
              " 'aplte',\n",
              " 'aplu',\n",
              " 'aplue',\n",
              " 'aplv',\n",
              " 'aplve',\n",
              " 'aplw',\n",
              " 'aplwe',\n",
              " 'aplx',\n",
              " 'aplxe',\n",
              " 'aply',\n",
              " 'aplye',\n",
              " 'aplz',\n",
              " 'aplze',\n",
              " 'apme',\n",
              " 'apmle',\n",
              " 'apne',\n",
              " 'apnle',\n",
              " 'apoe',\n",
              " 'apole',\n",
              " 'appe',\n",
              " 'apple',\n",
              " 'apqe',\n",
              " 'apqle',\n",
              " 'apre',\n",
              " 'aprle',\n",
              " 'apse',\n",
              " 'apsle',\n",
              " 'apte',\n",
              " 'aptle',\n",
              " 'apue',\n",
              " 'apule',\n",
              " 'apve',\n",
              " 'apvle',\n",
              " 'apwe',\n",
              " 'apwle',\n",
              " 'apxe',\n",
              " 'apxle',\n",
              " 'apye',\n",
              " 'apyle',\n",
              " 'apze',\n",
              " 'apzle',\n",
              " 'aqle',\n",
              " 'aqple',\n",
              " 'arle',\n",
              " 'arple',\n",
              " 'asle',\n",
              " 'asple',\n",
              " 'atle',\n",
              " 'atple',\n",
              " 'aule',\n",
              " 'auple',\n",
              " 'avle',\n",
              " 'avple',\n",
              " 'awle',\n",
              " 'awple',\n",
              " 'axle',\n",
              " 'axple',\n",
              " 'ayle',\n",
              " 'ayple',\n",
              " 'azle',\n",
              " 'azple',\n",
              " 'baple',\n",
              " 'bple',\n",
              " 'caple',\n",
              " 'cple',\n",
              " 'daple',\n",
              " 'dple',\n",
              " 'eaple',\n",
              " 'eple',\n",
              " 'faple',\n",
              " 'fple',\n",
              " 'gaple',\n",
              " 'gple',\n",
              " 'haple',\n",
              " 'hple',\n",
              " 'iaple',\n",
              " 'iple',\n",
              " 'japle',\n",
              " 'jple',\n",
              " 'kaple',\n",
              " 'kple',\n",
              " 'laple',\n",
              " 'lple',\n",
              " 'maple',\n",
              " 'mple',\n",
              " 'naple',\n",
              " 'nple',\n",
              " 'oaple',\n",
              " 'ople',\n",
              " 'pale',\n",
              " 'paple',\n",
              " 'ple',\n",
              " 'pple',\n",
              " 'qaple',\n",
              " 'qple',\n",
              " 'raple',\n",
              " 'rple',\n",
              " 'saple',\n",
              " 'sple',\n",
              " 'taple',\n",
              " 'tple',\n",
              " 'uaple',\n",
              " 'uple',\n",
              " 'vaple',\n",
              " 'vple',\n",
              " 'waple',\n",
              " 'wple',\n",
              " 'xaple',\n",
              " 'xple',\n",
              " 'yaple',\n",
              " 'yple',\n",
              " 'zaple',\n",
              " 'zple'}"
            ]
          },
          "metadata": {},
          "execution_count": 12
        }
      ]
    },
    {
      "cell_type": "code",
      "source": [
        "known('aple')"
      ],
      "metadata": {
        "colab": {
          "base_uri": "https://localhost:8080/"
        },
        "id": "MeTwNoWewsNM",
        "outputId": "3104c229-0aa9-4371-a73a-0ccbedc7b23c"
      },
      "execution_count": null,
      "outputs": [
        {
          "output_type": "execute_result",
          "data": {
            "text/plain": [
              "{'a', 'e', 'l', 'p'}"
            ]
          },
          "metadata": {},
          "execution_count": 19
        }
      ]
    },
    {
      "cell_type": "code",
      "source": [
        "words('Aple#')"
      ],
      "metadata": {
        "colab": {
          "base_uri": "https://localhost:8080/"
        },
        "id": "Y9i3ZBLwwC4v",
        "outputId": "1fb003e5-8851-4e42-b201-fe8d0f491ca8"
      },
      "execution_count": null,
      "outputs": [
        {
          "output_type": "execute_result",
          "data": {
            "text/plain": [
              "['aple']"
            ]
          },
          "metadata": {},
          "execution_count": 26
        }
      ]
    },
    {
      "cell_type": "code",
      "source": [
        "candidates('aple')"
      ],
      "metadata": {
        "colab": {
          "base_uri": "https://localhost:8080/"
        },
        "id": "-SFhR3c3xR3A",
        "outputId": "fe66e250-a89c-4a0a-ff1d-44ee9f73f3e2"
      },
      "execution_count": null,
      "outputs": [
        {
          "output_type": "execute_result",
          "data": {
            "text/plain": [
              "{'aale',\n",
              " 'able',\n",
              " 'acle',\n",
              " 'agle',\n",
              " 'ahle',\n",
              " 'aile',\n",
              " 'ale',\n",
              " 'alle',\n",
              " 'alpe',\n",
              " 'ample',\n",
              " 'anle',\n",
              " 'ape',\n",
              " 'apel',\n",
              " 'apl',\n",
              " 'apla',\n",
              " 'apley',\n",
              " 'apls',\n",
              " 'apme',\n",
              " 'apne',\n",
              " 'apoe',\n",
              " 'appe',\n",
              " 'apple',\n",
              " 'apse',\n",
              " 'apte',\n",
              " 'arle',\n",
              " 'asle',\n",
              " 'atle',\n",
              " 'axle',\n",
              " 'azle',\n",
              " 'caple',\n",
              " 'maple',\n",
              " 'ople',\n",
              " 'pale',\n",
              " 'ple',\n",
              " 'waple'}"
            ]
          },
          "metadata": {},
          "execution_count": 27
        }
      ]
    },
    {
      "cell_type": "code",
      "source": [],
      "metadata": {
        "id": "lLmUfWFvxvUA"
      },
      "execution_count": null,
      "outputs": []
    }
  ]
}
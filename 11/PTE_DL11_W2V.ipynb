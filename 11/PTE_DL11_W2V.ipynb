{
  "nbformat": 4,
  "nbformat_minor": 0,
  "metadata": {
    "colab": {
      "provenance": [],
      "mount_file_id": "1z-WwfMRDKUp2uiPgWmtirCd91ontjpAQ",
      "authorship_tag": "ABX9TyPjx+zIjno1kXJyzwDH/Tp/",
      "include_colab_link": true
    },
    "kernelspec": {
      "name": "python3",
      "display_name": "Python 3"
    },
    "language_info": {
      "name": "python"
    }
  },
  "cells": [
    {
      "cell_type": "markdown",
      "metadata": {
        "id": "view-in-github",
        "colab_type": "text"
      },
      "source": [
        "<a href=\"https://colab.research.google.com/github/karsarobert/Deep-Learning-2022/blob/main/11/PTE_DL11_W2V.ipynb\" target=\"_parent\"><img src=\"https://colab.research.google.com/assets/colab-badge.svg\" alt=\"Open In Colab\"/></a>"
      ]
    },
    {
      "cell_type": "markdown",
      "metadata": {
        "id": "opposed-female"
      },
      "source": [
        "# Deep Learning gyakorlat\n",
        "\n",
        "\n",
        "## 11. gyakorlat: word2vec\n",
        "### 2022. november 23."
      ]
    },
    {
      "cell_type": "code",
      "metadata": {
        "id": "Ip3zNq1EMUd8"
      },
      "source": [
        "import numpy as np\n",
        "from gensim.models import KeyedVectors\n",
        "import gensim.downloader as api\n",
        "import gensim\n",
        "\n",
        "%matplotlib inline"
      ],
      "execution_count": null,
      "outputs": []
    },
    {
      "cell_type": "code",
      "source": [
        "apple = en_w2v.get_vector('apple')"
      ],
      "metadata": {
        "id": "CTkLByOUWI_9"
      },
      "execution_count": null,
      "outputs": []
    },
    {
      "cell_type": "code",
      "source": [
        "len(apple)"
      ],
      "metadata": {
        "colab": {
          "base_uri": "https://localhost:8080/"
        },
        "id": "8B8PyRJcXNr6",
        "outputId": "7a7848df-2663-4e42-d733-3d18849c4ac0"
      },
      "execution_count": null,
      "outputs": [
        {
          "output_type": "execute_result",
          "data": {
            "text/plain": [
              "300"
            ]
          },
          "metadata": {},
          "execution_count": 45
        }
      ]
    },
    {
      "cell_type": "code",
      "metadata": {
        "id": "nuUhxboOA_D5"
      },
      "source": [
        "word_vectors = api.load(\"glove-wiki-gigaword-100\")"
      ],
      "execution_count": null,
      "outputs": []
    },
    {
      "cell_type": "code",
      "source": [
        "print(list(gensim.downloader.info()['models'].keys()))"
      ],
      "metadata": {
        "colab": {
          "base_uri": "https://localhost:8080/"
        },
        "id": "CfFhQUj9jwzB",
        "outputId": "a7f2228e-f441-4ec4-98f6-81ff76a3c979"
      },
      "execution_count": null,
      "outputs": [
        {
          "output_type": "stream",
          "name": "stdout",
          "text": [
            "['fasttext-wiki-news-subwords-300', 'conceptnet-numberbatch-17-06-300', 'word2vec-ruscorpora-300', 'word2vec-google-news-300', 'glove-wiki-gigaword-50', 'glove-wiki-gigaword-100', 'glove-wiki-gigaword-200', 'glove-wiki-gigaword-300', 'glove-twitter-25', 'glove-twitter-50', 'glove-twitter-100', 'glove-twitter-200', '__testing_word2vec-matrix-synopsis']\n"
          ]
        }
      ]
    },
    {
      "cell_type": "code",
      "metadata": {
        "colab": {
          "base_uri": "https://localhost:8080/"
        },
        "id": "BwDdEbR95lzK",
        "outputId": "e4301fc0-ed0b-433e-f159-29dcb78cfdf7"
      },
      "source": [
        "apple = word_vectors.get_vector('apple')\n",
        "pear  = word_vectors.get_vector('pear')\n",
        "dog   = word_vectors.get_vector('dog')\n",
        "hotel = word_vectors.get_vector('hotel')\n",
        "motel = word_vectors.get_vector('motel')\n",
        "bird = word_vectors.get_vector('bird')\n",
        "len(apple), len(pear), len(dog)"
      ],
      "execution_count": null,
      "outputs": [
        {
          "output_type": "execute_result",
          "data": {
            "text/plain": [
              "(100, 100, 100)"
            ]
          },
          "metadata": {},
          "execution_count": 5
        }
      ]
    },
    {
      "cell_type": "code",
      "metadata": {
        "id": "Oi8DLJ4iMabn",
        "colab": {
          "base_uri": "https://localhost:8080/"
        },
        "outputId": "72ea64bc-704e-47ca-9230-1ae42693417f"
      },
      "source": [
        "apple"
      ],
      "execution_count": null,
      "outputs": [
        {
          "output_type": "execute_result",
          "data": {
            "text/plain": [
              "array([-0.5985   , -0.46321  ,  0.13001  , -0.019576 ,  0.4603   ,\n",
              "       -0.3018   ,  0.8977   , -0.65634  ,  0.66858  , -0.49164  ,\n",
              "        0.037557 , -0.050889 ,  0.6451   , -0.53882  , -0.3765   ,\n",
              "       -0.04312  ,  0.51384  ,  0.17783  ,  0.28596  ,  0.92063  ,\n",
              "       -0.49349  , -0.48583  ,  0.61321  ,  0.78211  ,  0.19254  ,\n",
              "        0.91228  , -0.055596 , -0.12512  , -0.65688  ,  0.068557 ,\n",
              "        0.55629  ,  1.611    , -0.0073642, -0.48879  ,  0.45493  ,\n",
              "        0.96105  , -0.063369 ,  0.17432  ,  0.9814   , -1.3125   ,\n",
              "       -0.15801  , -0.54301  , -0.13888  , -0.26146  , -0.3691   ,\n",
              "        0.26844  , -0.24375  , -0.19484  ,  0.62583  , -0.7377   ,\n",
              "        0.38351  , -0.75004  , -0.39053  ,  0.091498 , -0.36591  ,\n",
              "       -1.4715   , -0.45228  ,  0.2256   ,  1.1412   , -0.38526  ,\n",
              "       -0.06716  ,  0.57288  , -0.39191  ,  0.31302  , -0.29235  ,\n",
              "       -0.96157  ,  0.15154  , -0.21659  ,  0.25103  ,  0.096967 ,\n",
              "        0.2843   ,  1.4296   , -0.50565  , -0.51374  , -0.47218  ,\n",
              "        0.32036  ,  0.023149 ,  0.22623  , -0.09725  ,  0.82126  ,\n",
              "        0.92599  , -1.0086   , -0.38639  ,  0.86408  , -1.206    ,\n",
              "       -0.28528  ,  0.2265   , -0.38773  ,  0.40879  ,  0.59303  ,\n",
              "        0.30769  ,  0.83804  , -0.63655  , -0.44639  , -0.43406  ,\n",
              "       -0.79364  , -0.28675  , -0.034398 ,  1.3431   ,  0.34904  ],\n",
              "      dtype=float32)"
            ]
          },
          "metadata": {},
          "execution_count": 6
        }
      ]
    },
    {
      "cell_type": "code",
      "metadata": {
        "id": "nMzemc_36Cj-"
      },
      "source": [
        "def cosine_similarity(v1, v2):\n",
        "    sim = np.dot(v1, v2)/(np.linalg.norm(v1)*np.linalg.norm(v2))\n",
        "    return np.round(sim, 4)"
      ],
      "execution_count": null,
      "outputs": []
    },
    {
      "cell_type": "code",
      "metadata": {
        "colab": {
          "base_uri": "https://localhost:8080/"
        },
        "id": "GjRlyuiK5-h0",
        "outputId": "088ea869-9a06-4b91-ee35-faa2b96b34c6"
      },
      "source": [
        "cosine_similarity(apple, pear), cosine_similarity(apple, dog), cosine_similarity(pear, dog), "
      ],
      "execution_count": null,
      "outputs": [
        {
          "output_type": "execute_result",
          "data": {
            "text/plain": [
              "(0.589, 0.2723, 0.1634)"
            ]
          },
          "metadata": {},
          "execution_count": 8
        }
      ]
    },
    {
      "cell_type": "code",
      "metadata": {
        "colab": {
          "base_uri": "https://localhost:8080/"
        },
        "id": "CqynMyGS6Gik",
        "outputId": "9f2f7b9d-7484-4642-f24f-8e61282b0845"
      },
      "source": [
        "cosine_similarity(motel, hotel), cosine_similarity(motel, dog), cosine_similarity(hotel, dog), cosine_similarity(motel, apple)"
      ],
      "execution_count": null,
      "outputs": [
        {
          "output_type": "execute_result",
          "data": {
            "text/plain": [
              "(0.7057, 0.3039, 0.2527, 0.1058)"
            ]
          },
          "metadata": {},
          "execution_count": 9
        }
      ]
    },
    {
      "cell_type": "code",
      "metadata": {
        "colab": {
          "base_uri": "https://localhost:8080/"
        },
        "id": "j3hs4RUx6LFT",
        "outputId": "8a022200-9215-4159-809e-8d3d07b2151f"
      },
      "source": [
        "print('apple-pear:', cosine_similarity(apple, pear))\n",
        "print('apple-dog:', cosine_similarity(apple, dog))\n",
        "print('pear-dog:', cosine_similarity(pear, dog))"
      ],
      "execution_count": null,
      "outputs": [
        {
          "output_type": "stream",
          "name": "stdout",
          "text": [
            "apple-pear: 0.589\n",
            "apple-dog: 0.2723\n",
            "pear-dog: 0.1634\n"
          ]
        }
      ]
    },
    {
      "cell_type": "code",
      "metadata": {
        "colab": {
          "base_uri": "https://localhost:8080/"
        },
        "id": "9DWxy4726Qm7",
        "outputId": "b65b2e30-a17d-4248-b99c-c201bb3bd7c7"
      },
      "source": [
        "cosine_similarity(word_vectors.get_vector('king')-word_vectors.get_vector('queen'), \n",
        "                  word_vectors.get_vector('man')-word_vectors.get_vector('woman'))"
      ],
      "execution_count": null,
      "outputs": [
        {
          "output_type": "execute_result",
          "data": {
            "text/plain": [
              "0.451"
            ]
          },
          "metadata": {},
          "execution_count": 11
        }
      ]
    },
    {
      "cell_type": "markdown",
      "metadata": {
        "id": "v5qAKNTfL3S6"
      },
      "source": [
        "# queen = (king - man) + woman"
      ]
    },
    {
      "cell_type": "code",
      "metadata": {
        "colab": {
          "base_uri": "https://localhost:8080/"
        },
        "id": "se8R_ov76hNb",
        "outputId": "120c31f7-555e-4b6e-f138-ca59d466d447"
      },
      "source": [
        "word_vectors.most_similar(positive=['king', 'woman'], negative=['man'], topn=5)"
      ],
      "execution_count": null,
      "outputs": [
        {
          "output_type": "execute_result",
          "data": {
            "text/plain": [
              "[('queen', 0.7698541283607483),\n",
              " ('monarch', 0.6843380928039551),\n",
              " ('throne', 0.6755735874176025),\n",
              " ('daughter', 0.6594556570053101),\n",
              " ('princess', 0.6520534753799438)]"
            ]
          },
          "metadata": {},
          "execution_count": 12
        }
      ]
    },
    {
      "cell_type": "markdown",
      "metadata": {
        "id": "UMy9CVH86kVH"
      },
      "source": [
        "# Vector műveletek:\n",
        "\n",
        "carrots−carrot=cats−cat\n",
        " \n",
        "carrots=carrot+cats−cat"
      ]
    },
    {
      "cell_type": "code",
      "metadata": {
        "colab": {
          "base_uri": "https://localhost:8080/"
        },
        "id": "3gWaS2Co6VQD",
        "outputId": "bde64054-4762-4d38-8bff-c7b159929940"
      },
      "source": [
        "word_vectors.most_similar(positive=['cats', 'carrot'], negative=['cat'], topn=5)"
      ],
      "execution_count": null,
      "outputs": [
        {
          "output_type": "execute_result",
          "data": {
            "text/plain": [
              "[('carrots', 0.7291209697723389),\n",
              " ('celery', 0.6493768692016602),\n",
              " ('radishes', 0.5637862086296082),\n",
              " ('parsnips', 0.5589133501052856),\n",
              " ('turnips', 0.5551186800003052)]"
            ]
          },
          "metadata": {},
          "execution_count": 13
        }
      ]
    },
    {
      "cell_type": "code",
      "metadata": {
        "colab": {
          "base_uri": "https://localhost:8080/"
        },
        "id": "hdZbvuWx7GrF",
        "outputId": "9d527c03-cd3a-4ade-e450-a7c8b6eb9729"
      },
      "source": [
        "word_vectors.most_similar('mozart', topn=5)"
      ],
      "execution_count": null,
      "outputs": [
        {
          "output_type": "execute_result",
          "data": {
            "text/plain": [
              "[('beethoven', 0.8112685680389404),\n",
              " ('haydn', 0.7675303220748901),\n",
              " ('brahms', 0.7464078664779663),\n",
              " ('bach', 0.7307978868484497),\n",
              " ('concerto', 0.718665599822998)]"
            ]
          },
          "metadata": {},
          "execution_count": 14
        }
      ]
    },
    {
      "cell_type": "code",
      "metadata": {
        "colab": {
          "base_uri": "https://localhost:8080/"
        },
        "id": "TfclPvWJ7Z88",
        "outputId": "6441b08a-3251-4f88-ff51-9faa84072c37"
      },
      "source": [
        "word_vectors.most_similar(positive=['footballer', 'mozart'], negative=['messi'], topn=5)"
      ],
      "execution_count": null,
      "outputs": [
        {
          "output_type": "execute_result",
          "data": {
            "text/plain": [
              "[('composer', 0.591992974281311),\n",
              " ('violin', 0.5915796756744385),\n",
              " ('clarinet', 0.5499356389045715),\n",
              " ('concerto', 0.5435993671417236),\n",
              " ('piano', 0.5414473414421082)]"
            ]
          },
          "metadata": {},
          "execution_count": 15
        }
      ]
    },
    {
      "cell_type": "code",
      "metadata": {
        "colab": {
          "base_uri": "https://localhost:8080/"
        },
        "id": "yxFSFvWB78Y0",
        "outputId": "ac47f23f-b59e-494f-83df-cd4c76d5afb8"
      },
      "source": [
        "word_vectors.most_similar(positive=['sushi', 'italy'], negative=['japan'], topn=5)"
      ],
      "execution_count": null,
      "outputs": [
        {
          "output_type": "execute_result",
          "data": {
            "text/plain": [
              "[('tapas', 0.6232484579086304),\n",
              " ('chefs', 0.6036166548728943),\n",
              " ('pasta', 0.5818784236907959),\n",
              " ('chef', 0.5807684659957886),\n",
              " ('dessert', 0.5793001055717468)]"
            ]
          },
          "metadata": {},
          "execution_count": 16
        }
      ]
    },
    {
      "cell_type": "code",
      "metadata": {
        "colab": {
          "base_uri": "https://localhost:8080/"
        },
        "id": "aCrIoOoV9dy5",
        "outputId": "bea1358b-ce1a-4366-d678-1bab1c07b157"
      },
      "source": [
        "word_vectors.most_similar(positive=['sushi', 'hungary'], negative=['japan'], topn=5)"
      ],
      "execution_count": null,
      "outputs": [
        {
          "output_type": "execute_result",
          "data": {
            "text/plain": [
              "[('pancakes', 0.545518159866333),\n",
              " ('lasagna', 0.5213277339935303),\n",
              " ('gravy', 0.513271689414978),\n",
              " ('bistro', 0.5092968940734863),\n",
              " ('dessert', 0.5028696060180664)]"
            ]
          },
          "metadata": {},
          "execution_count": 17
        }
      ]
    },
    {
      "cell_type": "code",
      "metadata": {
        "colab": {
          "base_uri": "https://localhost:8080/"
        },
        "id": "smBFepj49waC",
        "outputId": "86510834-ca03-4fc4-e468-81d7d750048e"
      },
      "source": [
        "word_vectors.most_similar(\"goulash\")"
      ],
      "execution_count": null,
      "outputs": [
        {
          "output_type": "execute_result",
          "data": {
            "text/plain": [
              "[('cassoulet', 0.602324903011322),\n",
              " ('oxtail', 0.5868507623672485),\n",
              " ('minestrone', 0.5722009539604187),\n",
              " ('lentil', 0.5520806312561035),\n",
              " ('consomme', 0.5516890287399292),\n",
              " ('tripe', 0.5477982759475708),\n",
              " ('stews', 0.5284079909324646),\n",
              " ('stew', 0.5281815528869629),\n",
              " ('casseroles', 0.5251286029815674),\n",
              " ('gazpacho', 0.5239716172218323)]"
            ]
          },
          "metadata": {},
          "execution_count": 18
        }
      ]
    },
    {
      "cell_type": "code",
      "metadata": {
        "colab": {
          "base_uri": "https://localhost:8080/",
          "height": 36
        },
        "id": "twauh2879-Kc",
        "outputId": "6b2bda0a-16b3-48c5-ff9e-913adf955cef"
      },
      "source": [
        "word_vectors.doesnt_match('germany hungary slovakia usa france italy'.split())"
      ],
      "execution_count": null,
      "outputs": [
        {
          "output_type": "execute_result",
          "data": {
            "text/plain": [
              "'usa'"
            ],
            "application/vnd.google.colaboratory.intrinsic+json": {
              "type": "string"
            }
          },
          "metadata": {},
          "execution_count": 28
        }
      ]
    },
    {
      "cell_type": "code",
      "metadata": {
        "colab": {
          "base_uri": "https://localhost:8080/",
          "height": 36
        },
        "id": "hs4KuP0e-Igc",
        "outputId": "acba1c50-16c8-4498-d6b8-3a7956a09875"
      },
      "source": [
        "word_vectors.doesnt_match('einstein hawking darwin bohr curie tesla'.split())"
      ],
      "execution_count": null,
      "outputs": [
        {
          "output_type": "execute_result",
          "data": {
            "text/plain": [
              "'darwin'"
            ],
            "application/vnd.google.colaboratory.intrinsic+json": {
              "type": "string"
            }
          },
          "metadata": {},
          "execution_count": 20
        }
      ]
    },
    {
      "cell_type": "code",
      "metadata": {
        "colab": {
          "base_uri": "https://localhost:8080/",
          "height": 36
        },
        "id": "anUdfBfWT4lZ",
        "outputId": "372ba1ad-a0b1-47ee-9992-08350dbb72dd"
      },
      "source": [
        "word_vectors.doesnt_match('einstein hawking darwin bohr curie tesla'.split())"
      ],
      "execution_count": null,
      "outputs": [
        {
          "output_type": "execute_result",
          "data": {
            "text/plain": [
              "'darwin'"
            ],
            "application/vnd.google.colaboratory.intrinsic+json": {
              "type": "string"
            }
          },
          "metadata": {},
          "execution_count": 27
        }
      ]
    },
    {
      "cell_type": "code",
      "metadata": {
        "id": "nKxDi-v8Bhf1",
        "colab": {
          "base_uri": "https://localhost:8080/",
          "height": 36
        },
        "outputId": "5e26ceec-8569-46ef-d97e-5fc44bdc0246"
      },
      "source": [
        "word_vectors.doesnt_match('physics mathematics chemistry biology history'.split())"
      ],
      "execution_count": null,
      "outputs": [
        {
          "output_type": "execute_result",
          "data": {
            "text/plain": [
              "'history'"
            ],
            "application/vnd.google.colaboratory.intrinsic+json": {
              "type": "string"
            }
          },
          "metadata": {},
          "execution_count": 22
        }
      ]
    },
    {
      "cell_type": "code",
      "metadata": {
        "id": "pgKN8oDfPrQt"
      },
      "source": [
        "from gensim.summarization import keywords"
      ],
      "execution_count": null,
      "outputs": []
    },
    {
      "cell_type": "code",
      "metadata": {
        "id": "1tNsEPYtQQUM"
      },
      "source": [
        "text = '''The new coronavirus variant Omicron has been detected in 13 people who arrived in the Dutch capital Amsterdam on two flights from South Africa. They are among 61 passengers who tested positive for coronavirus.\n",
        "It comes as tighter restrictions come into force in the Netherlands, amid record Covid cases and concerns over the new variant. This includes early closing times for hospitality and cultural venues, and limits on home gatherings.\n",
        "Omicron was first reported to the World Health Organization (WHO) by South Africa on Wednesday, and early evidence suggests it has a higher re-infection risk. It has been categorised by the WHO as a \"variant of concern\".\n",
        "But after many countries around the world restrict travel from southern African countries over the variant, South African President Cyril Ramaphosa called for the bans to be urgently lifted.\n",
        "In an address to the nation on Sunday he said the moves were unjustified and not based on science.'''"
      ],
      "execution_count": null,
      "outputs": []
    },
    {
      "cell_type": "code",
      "metadata": {
        "colab": {
          "base_uri": "https://localhost:8080/"
        },
        "id": "XKBoEkw1RP70",
        "outputId": "3baf6264-6247-459f-e91c-54d3f0c5d145"
      },
      "source": [
        "print(keywords(text))\n"
      ],
      "execution_count": null,
      "outputs": [
        {
          "output_type": "stream",
          "name": "stdout",
          "text": [
            "restrictions\n",
            "restrict\n",
            "african\n",
            "variant\n",
            "early\n",
            "capital\n",
            "south\n",
            "amid\n",
            "covid\n"
          ]
        }
      ]
    },
    {
      "cell_type": "code",
      "source": [
        "results = word_vectors.most_similar(positive=['rupee', 'japan'], negative=['india'])"
      ],
      "metadata": {
        "id": "7Ty8JKvFZ4SB"
      },
      "execution_count": null,
      "outputs": []
    },
    {
      "cell_type": "code",
      "metadata": {
        "id": "y-jg4KPVRaFl",
        "colab": {
          "base_uri": "https://localhost:8080/"
        },
        "outputId": "d5ad0546-48be-4d54-a2e2-1439962d26ac"
      },
      "source": [
        "results"
      ],
      "execution_count": null,
      "outputs": [
        {
          "output_type": "execute_result",
          "data": {
            "text/plain": [
              "[('peso', 0.7143093943595886),\n",
              " ('yen', 0.6601356267929077),\n",
              " ('dollar', 0.6416549682617188),\n",
              " ('drachma', 0.6304432153701782),\n",
              " ('greenback', 0.6244412660598755),\n",
              " ('ruble', 0.6096675992012024),\n",
              " ('renminbi', 0.6056637763977051),\n",
              " ('currency', 0.5956889390945435),\n",
              " ('devaluation', 0.5909512042999268),\n",
              " ('currencies', 0.5899966955184937)]"
            ]
          },
          "metadata": {},
          "execution_count": 47
        }
      ]
    },
    {
      "cell_type": "markdown",
      "source": [
        "#Más word2vec modellek"
      ],
      "metadata": {
        "id": "NoBX5pB1bcyB"
      }
    },
    {
      "cell_type": "code",
      "metadata": {
        "id": "-KHia_iD0CfI",
        "colab": {
          "base_uri": "https://localhost:8080/"
        },
        "outputId": "ae1ca38f-74a3-4b26-eed2-d42f90805e22"
      },
      "source": [
        "!gdown --id 11QC_ORd8ixR1kmA0WtA7RcFju4Xmh2A9\n"
      ],
      "execution_count": null,
      "outputs": [
        {
          "output_type": "stream",
          "name": "stdout",
          "text": [
            "/usr/local/lib/python3.7/dist-packages/gdown/cli.py:131: FutureWarning: Option `--id` was deprecated in version 4.3.1 and will be removed in 5.0. You don't need to pass it anymore to use a file ID.\n",
            "  category=FutureWarning,\n",
            "Downloading...\n",
            "From: https://drive.google.com/uc?id=11QC_ORd8ixR1kmA0WtA7RcFju4Xmh2A9\n",
            "To: /content/GoogleNews-vectors-negative300.bin\n",
            "100% 3.64G/3.64G [00:40<00:00, 90.1MB/s]\n"
          ]
        }
      ]
    },
    {
      "cell_type": "code",
      "metadata": {
        "id": "EOphHJS2MWAG",
        "colab": {
          "base_uri": "https://localhost:8080/"
        },
        "outputId": "90648ca8-0bd5-4033-e499-1ca2e78a3b47"
      },
      "source": [
        "%%time\n",
        "en_w2v = KeyedVectors.load_word2vec_format('GoogleNews-vectors-negative300.bin', binary=True)"
      ],
      "execution_count": null,
      "outputs": [
        {
          "output_type": "stream",
          "name": "stdout",
          "text": [
            "CPU times: user 41.9 s, sys: 5.25 s, total: 47.2 s\n",
            "Wall time: 48.6 s\n"
          ]
        }
      ]
    },
    {
      "cell_type": "code",
      "source": [
        "!wget http://corpus.nytud.hu/efnilex-vect/data/hunembed0.0.tgz"
      ],
      "metadata": {
        "colab": {
          "base_uri": "https://localhost:8080/"
        },
        "id": "DyhkmMHpVJZG",
        "outputId": "6f6be456-89f1-4aa2-f9a0-dd6b57f5b78a"
      },
      "execution_count": null,
      "outputs": [
        {
          "output_type": "stream",
          "name": "stdout",
          "text": [
            "--2022-11-22 17:40:08--  http://corpus.nytud.hu/efnilex-vect/data/hunembed0.0.tgz\n",
            "Resolving corpus.nytud.hu (corpus.nytud.hu)... 193.6.194.65\n",
            "Connecting to corpus.nytud.hu (corpus.nytud.hu)|193.6.194.65|:80... connected.\n",
            "HTTP request sent, awaiting response... 200 OK\n",
            "Length: 3745412991 (3.5G) [application/x-gzip]\n",
            "Saving to: ‘hunembed0.0.tgz’\n",
            "\n",
            "hunembed0.0.tgz     100%[===================>]   3.49G  24.3MB/s    in 2m 27s  \n",
            "\n",
            "2022-11-22 17:42:35 (24.4 MB/s) - ‘hunembed0.0.tgz’ saved [3745412991/3745412991]\n",
            "\n"
          ]
        }
      ]
    },
    {
      "cell_type": "code",
      "source": [
        "!tar -xvf hunembed0.0.tgz # 10 Gb colab nem tudja kezelni"
      ],
      "metadata": {
        "colab": {
          "base_uri": "https://localhost:8080/"
        },
        "id": "mHlb_AqWbPzE",
        "outputId": "9e73cd0d-4cf0-489b-f28d-07976f4efc91"
      },
      "execution_count": null,
      "outputs": [
        {
          "output_type": "stream",
          "name": "stdout",
          "text": [
            "word2vec-mnsz2-webcorp_600_w10_n5_i1_m10.w2v\n"
          ]
        }
      ]
    },
    {
      "cell_type": "code",
      "source": [
        "hun_w2v = KeyedVectors.load_word2vec_format('word2vec-mnsz2-webcorp_600_w10_n5_i1_m10.w2v')"
      ],
      "metadata": {
        "id": "PlrxD1Lnb9_p"
      },
      "execution_count": null,
      "outputs": []
    },
    {
      "cell_type": "code",
      "source": [
        "alma = hun_w2v.get_vector('alma')"
      ],
      "metadata": {
        "id": "-7BwUtLrcPzZ"
      },
      "execution_count": null,
      "outputs": []
    },
    {
      "cell_type": "code",
      "source": [
        "!wget http://www.inf.u-szeged.hu/~szantozs/fasttext/hu.szte.w2v.bin"
      ],
      "metadata": {
        "colab": {
          "base_uri": "https://localhost:8080/"
        },
        "id": "7_d-zz6SdG4q",
        "outputId": "4c2d94d8-b97f-4c34-8382-db4e15a22477"
      },
      "execution_count": null,
      "outputs": [
        {
          "output_type": "stream",
          "name": "stdout",
          "text": [
            "--2022-11-22 18:02:25--  http://www.inf.u-szeged.hu/~szantozs/fasttext/hu.szte.w2v.bin\n",
            "Resolving www.inf.u-szeged.hu (www.inf.u-szeged.hu)... 160.114.37.229\n",
            "Connecting to www.inf.u-szeged.hu (www.inf.u-szeged.hu)|160.114.37.229|:80... failed: Connection timed out.\n",
            "Retrying.\n",
            "\n",
            "--2022-11-22 18:04:36--  (try: 2)  http://www.inf.u-szeged.hu/~szantozs/fasttext/hu.szte.w2v.bin\n",
            "Connecting to www.inf.u-szeged.hu (www.inf.u-szeged.hu)|160.114.37.229|:80... failed: Connection timed out.\n",
            "Retrying.\n",
            "\n",
            "--2022-11-22 18:06:48--  (try: 3)  http://www.inf.u-szeged.hu/~szantozs/fasttext/hu.szte.w2v.bin\n",
            "Connecting to www.inf.u-szeged.hu (www.inf.u-szeged.hu)|160.114.37.229|:80... failed: Connection timed out.\n",
            "Retrying.\n",
            "\n",
            "--2022-11-22 18:09:00--  (try: 4)  http://www.inf.u-szeged.hu/~szantozs/fasttext/hu.szte.w2v.bin\n",
            "Connecting to www.inf.u-szeged.hu (www.inf.u-szeged.hu)|160.114.37.229|:80... failed: Connection timed out.\n",
            "Retrying.\n",
            "\n",
            "--2022-11-22 18:11:16--  (try: 5)  http://www.inf.u-szeged.hu/~szantozs/fasttext/hu.szte.w2v.bin\n",
            "Connecting to www.inf.u-szeged.hu (www.inf.u-szeged.hu)|160.114.37.229|:80... failed: Connection timed out.\n",
            "Retrying.\n",
            "\n",
            "--2022-11-22 18:13:32--  (try: 6)  http://www.inf.u-szeged.hu/~szantozs/fasttext/hu.szte.w2v.bin\n",
            "Connecting to www.inf.u-szeged.hu (www.inf.u-szeged.hu)|160.114.37.229|:80... failed: Connection timed out.\n",
            "Retrying.\n",
            "\n",
            "--2022-11-22 18:15:48--  (try: 7)  http://www.inf.u-szeged.hu/~szantozs/fasttext/hu.szte.w2v.bin\n",
            "Connecting to www.inf.u-szeged.hu (www.inf.u-szeged.hu)|160.114.37.229|:80... ^C\n"
          ]
        }
      ]
    },
    {
      "cell_type": "code",
      "source": [],
      "metadata": {
        "id": "-sFBgnF7gWcR"
      },
      "execution_count": null,
      "outputs": []
    },
    {
      "cell_type": "code",
      "source": [
        "from sklearn.manifold import TSNE\n",
        "from sklearn.decomposition import PCA\n",
        "import pandas as pd\n",
        "import matplotlib.pyplot as plt\n",
        "%matplotlib inline\n",
        " \n",
        "import seaborn as sns\n",
        "sns.set_style(\"darkgrid\")"
      ],
      "metadata": {
        "id": "PuuerXU_rT23"
      },
      "execution_count": null,
      "outputs": []
    },
    {
      "cell_type": "code",
      "source": [
        "def tsnescatterplot(model, word, list_names):\n",
        "    \"\"\" Plot in seaborn the results from the t-SNE dimensionality reduction algorithm of the vectors of a query word,\n",
        "    its list of most similar words, and a list of words.\n",
        "    \"\"\"\n",
        "    arrays = np.empty((0, 100), dtype='f')\n",
        "    word_labels = [word]\n",
        "    color_list  = ['red']\n",
        "\n",
        "    # adds the vector of the query word\n",
        "    arrays = np.append(arrays, model.wv.__getitem__([word]), axis=0)\n",
        "    \n",
        "    # gets list of most similar words\n",
        "    close_words = model.wv.most_similar([word])\n",
        "    \n",
        "    # adds the vector for each of the closest words to the array\n",
        "    for wrd_score in close_words:\n",
        "        wrd_vector = model.wv.__getitem__([wrd_score[0]])\n",
        "        word_labels.append(wrd_score[0])\n",
        "        color_list.append('blue')\n",
        "        arrays = np.append(arrays, wrd_vector, axis=0)\n",
        "    \n",
        "    # adds the vector for each of the words from list_names to the array\n",
        "    for wrd in list_names:\n",
        "        wrd_vector = model.wv.__getitem__([wrd])\n",
        "        word_labels.append(wrd)\n",
        "        color_list.append('green')\n",
        "        arrays = np.append(arrays, wrd_vector, axis=0)\n",
        "        \n",
        "    # Reduces the dimensionality from 300 to 50 dimensions with PCA\n",
        "    reduc = PCA(n_components=20).fit_transform(arrays)\n",
        "    \n",
        "    # Finds t-SNE coordinates for 2 dimensions\n",
        "    np.set_printoptions(suppress=True)\n",
        "    \n",
        "    Y = TSNE(n_components=2, random_state=0, perplexity=15).fit_transform(reduc)\n",
        "    \n",
        "    # Sets everything up to plot\n",
        "    df = pd.DataFrame({'x': [x for x in Y[:, 0]],\n",
        "                       'y': [y for y in Y[:, 1]],\n",
        "                       'words': word_labels,\n",
        "                       'color': color_list})\n",
        "    \n",
        "    fig, _ = plt.subplots()\n",
        "    fig.set_size_inches(9, 9)\n",
        "    \n",
        "    # Basic plot\n",
        "    p1 = sns.regplot(data=df,\n",
        "                     x=\"x\",\n",
        "                     y=\"y\",\n",
        "                     fit_reg=False,\n",
        "                     marker=\"o\",\n",
        "                     scatter_kws={'s': 40,\n",
        "                                  'facecolors': df['color']\n",
        "                                 }\n",
        "                    )\n",
        "    \n",
        "    # Adds annotations one by one with a loop\n",
        "    for line in range(0, df.shape[0]):\n",
        "         p1.text(df[\"x\"][line],\n",
        "                 df['y'][line],\n",
        "                 '  ' + df[\"words\"][line].title(),\n",
        "                 horizontalalignment='left',\n",
        "                 verticalalignment='bottom', size='medium',\n",
        "                 color=df['color'][line],\n",
        "                 weight='normal'\n",
        "                ).set_size(15)\n",
        "\n",
        "    \n",
        "    plt.xlim(Y[:, 0].min()-50, Y[:, 0].max()+50)\n",
        "    plt.ylim(Y[:, 1].min()-50, Y[:, 1].max()+50)\n",
        "            \n",
        "    plt.title('t-SNE visualization for {}'.format(word.title()))"
      ],
      "metadata": {
        "id": "lu2GbiIorUxQ"
      },
      "execution_count": null,
      "outputs": []
    },
    {
      "cell_type": "markdown",
      "source": [
        "A vizualizáció relevánsabbá tétele érdekében megnézzük a keresett szó (**piros**), a modellben található leghasonlóbb szavak (**kék**) és a szókincs más szavai (**zöld**) közötti kapcsolatokat."
      ],
      "metadata": {
        "id": "3HcpYorLsuIg"
      }
    },
    {
      "cell_type": "code",
      "source": [
        "tsnescatterplot(word_vectors, \"gay\", [t[0] for t in word_vectors.wv.most_similar(positive=[\"gay\"], topn=20)][10:])"
      ],
      "metadata": {
        "colab": {
          "base_uri": "https://localhost:8080/",
          "height": 795
        },
        "id": "5Qubx_vEq8kb",
        "outputId": "e13fe1e6-84cd-4165-df69-ec6f45f013cd"
      },
      "execution_count": null,
      "outputs": [
        {
          "output_type": "stream",
          "name": "stderr",
          "text": [
            "/usr/local/lib/python3.7/dist-packages/ipykernel_launcher.py:1: DeprecationWarning: Call to deprecated `wv` (Attribute will be removed in 4.0.0, use self instead).\n",
            "  \"\"\"Entry point for launching an IPython kernel.\n",
            "/usr/local/lib/python3.7/dist-packages/ipykernel_launcher.py:10: DeprecationWarning: Call to deprecated `wv` (Attribute will be removed in 4.0.0, use self instead).\n",
            "  # Remove the CWD from sys.path while we load stuff.\n",
            "/usr/local/lib/python3.7/dist-packages/ipykernel_launcher.py:13: DeprecationWarning: Call to deprecated `wv` (Attribute will be removed in 4.0.0, use self instead).\n",
            "  del sys.path[0]\n",
            "/usr/local/lib/python3.7/dist-packages/ipykernel_launcher.py:17: DeprecationWarning: Call to deprecated `wv` (Attribute will be removed in 4.0.0, use self instead).\n",
            "/usr/local/lib/python3.7/dist-packages/ipykernel_launcher.py:24: DeprecationWarning: Call to deprecated `wv` (Attribute will be removed in 4.0.0, use self instead).\n",
            "/usr/local/lib/python3.7/dist-packages/sklearn/manifold/_t_sne.py:783: FutureWarning: The default initialization in TSNE will change from 'random' to 'pca' in 1.2.\n",
            "  FutureWarning,\n",
            "/usr/local/lib/python3.7/dist-packages/sklearn/manifold/_t_sne.py:793: FutureWarning: The default learning rate in TSNE will change from 200.0 to 'auto' in 1.2.\n",
            "  FutureWarning,\n"
          ]
        },
        {
          "output_type": "display_data",
          "data": {
            "text/plain": [
              "<Figure size 648x648 with 1 Axes>"
            ],
            "image/png": "[encoded data removed]"
          },
          "metadata": {}
        }
      ]
    },
    {
      "cell_type": "code",
      "source": [],
      "metadata": {
        "id": "gLZ-bL2ruE3Y"
      },
      "execution_count": null,
      "outputs": []
    }
  ]
}
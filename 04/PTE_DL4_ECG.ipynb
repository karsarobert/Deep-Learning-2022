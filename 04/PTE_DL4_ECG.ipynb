{
  "nbformat": 4,
  "nbformat_minor": 0,
  "metadata": {
    "colab": {
      "provenance": [],
      "authorship_tag": "ABX9TyOO1ruAvNpm5gkowgTfU910",
      "include_colab_link": true
    },
    "kernelspec": {
      "name": "python3",
      "display_name": "Python 3"
    },
    "language_info": {
      "name": "python"
    }
  },
  "cells": [
    {
      "cell_type": "markdown",
      "metadata": {
        "id": "view-in-github",
        "colab_type": "text"
      },
      "source": [
        "<a href=\"https://colab.research.google.com/github/karsarobert/Deep-Learning-2022/blob/main/04/PTE_DL4_ECG.ipynb\" target=\"_parent\"><img src=\"https://colab.research.google.com/assets/colab-badge.svg\" alt=\"Open In Colab\"/></a>"
      ]
    },
    {
      "cell_type": "markdown",
      "metadata": {
        "id": "opposed-female"
      },
      "source": [
        "# Deep Learning gyakorlat\n",
        "\n",
        "\n",
        "## 4. gyakorlat: autoencoder hálók\n",
        "### 2022. szeptrember 28."
      ]
    },
    {
      "cell_type": "markdown",
      "metadata": {
        "id": "ErGrTnWHoUYl"
      },
      "source": [
        "## Anomália észlelés\n",
        "\n",
        "## Áttekintés\n",
        "\n",
        "\n",
        "Ebben a példában egy autoencodert képezünk ki az [ECG5000 adatkészlet](http://www.timeseriesclassification.com/description.php?Dataset=ECG5000) anomáliáinak észlelésére. Ez az adatkészlet 5000 [Elektrokardiogramot](https://en.wikipedia.org/wiki/Electrocardiography) tartalmaz, mindegyik 140 adatponttal. Az adatkészlet egyszerűsített változatát fogja használni, ahol minden egyes példa vagy `0` (rendellenes ritmusnak megfelelő), vagy `1` (normális ritmusnak megfelelő) címkével van ellátva. Önt a rendellenes ritmusok azonosítása érdekli.\n",
        "\n",
        "Megjegyzés: Ez egy címkézett adathalmaz, így ezt felügyelt tanulási problémaként is megfogalmazhatjuk. A példa célja, hogy bemutassa az anomália-felismerési koncepciókat, amelyeket nagyobb adathalmazokra is alkalmazhat, ahol nem állnak rendelkezésre címkék (például, ha sok ezer normális ritmus, és csak kis számú abnormális ritmus áll rendelkezésre).\n",
        "\n",
        "Hogyan fogsz anomáliákat észlelni egy autoencoder segítségével? Emlékezzünk vissza, hogy az autoencoder úgy van betanítva, hogy minimalizálja a rekonstrukciós hibát. Az autoencodert csak a normális ritmusokon fogja betanítani, majd az összes adat rekonstruálására fogja használni. A hipotézisünk az, hogy a rendellenes ritmusok nagyobb rekonstrukciós hibával fognak rendelkezni. Ezután egy ritmust anomáliának fog minősíteni, ha a rekonstrukciós hiba meghalad egy rögzített küszöbértéket.\n",
        "\n",
        "forrás: https://colab.research.google.com/github/tensorflow/docs/blob/master/site/en/tutorials/generative/autoencoder.ipynb#scrollTo=Ndo4ERqnwQOU"
      ]
    },
    {
      "cell_type": "markdown",
      "metadata": {
        "id": "i5estNaur_Mh"
      },
      "source": [
        "### EKG-adatok betöltése"
      ]
    },
    {
      "cell_type": "markdown",
      "metadata": {
        "id": "y35nsXLPsDNX"
      },
      "source": [
        "Az adatkészlet a [timeseriesclassification.com] (http://www.timeseriesclassification.com/description.php?Dataset=ECG5000) adatbázisán alapul.\n"
      ]
    },
    {
      "cell_type": "code",
      "execution_count": 59,
      "metadata": {
        "id": "YfIk2es3hJEd"
      },
      "outputs": [],
      "source": [
        "import matplotlib.pyplot as plt\n",
        "import numpy as np\n",
        "import pandas as pd\n",
        "import tensorflow as tf\n",
        "\n",
        "from sklearn.metrics import accuracy_score, precision_score, recall_score\n",
        "from sklearn.model_selection import train_test_split\n",
        "from tensorflow.keras import layers, losses\n"
      ]
    },
    {
      "cell_type": "code",
      "execution_count": 60,
      "metadata": {
        "id": "KmKRDJWgsFYa",
        "colab": {
          "base_uri": "https://localhost:8080/",
          "height": 299
        },
        "outputId": "33780032-71a0-4505-9ee3-ee485ed4ad38"
      },
      "outputs": [
        {
          "output_type": "execute_result",
          "data": {
            "text/plain": [
              "        0         1         2         3         4         5         6    \\\n",
              "0 -0.112522 -2.827204 -3.773897 -4.349751 -4.376041 -3.474986 -2.181408   \n",
              "1 -1.100878 -3.996840 -4.285843 -4.506579 -4.022377 -3.234368 -1.566126   \n",
              "2 -0.567088 -2.593450 -3.874230 -4.584095 -4.187449 -3.151462 -1.742940   \n",
              "3  0.490473 -1.914407 -3.616364 -4.318823 -4.268016 -3.881110 -2.993280   \n",
              "4  0.800232 -0.874252 -2.384761 -3.973292 -4.338224 -3.802422 -2.534510   \n",
              "\n",
              "        7         8         9    ...       131       132       133       134  \\\n",
              "0 -1.818286 -1.250522 -0.477492  ...  0.792168  0.933541  0.796958  0.578621   \n",
              "1 -0.992258 -0.754680  0.042321  ...  0.538356  0.656881  0.787490  0.724046   \n",
              "2 -1.490659 -1.183580 -0.394229  ...  0.886073  0.531452  0.311377 -0.021919   \n",
              "3 -1.671131 -1.333884 -0.965629  ...  0.350816  0.499111  0.600345  0.842069   \n",
              "4 -1.783423 -1.594450 -0.753199  ...  1.148884  0.958434  1.059025  1.371682   \n",
              "\n",
              "        135       136       137       138       139  140  \n",
              "0  0.257740  0.228077  0.123431  0.925286  0.193137  1.0  \n",
              "1  0.555784  0.476333  0.773820  1.119621 -1.436250  1.0  \n",
              "2 -0.713683 -0.532197  0.321097  0.904227 -0.421797  1.0  \n",
              "3  0.952074  0.990133  1.086798  1.403011 -0.383564  1.0  \n",
              "4  1.277392  0.960304  0.971020  1.614392  1.421456  1.0  \n",
              "\n",
              "[5 rows x 141 columns]"
            ],
            "text/html": [
              "\n",
              "  <div id=\"df-58567583-6e28-44e7-8459-22970d99c9c4\">\n",
              "    <div class=\"colab-df-container\">\n",
              "      <div>\n",
              "<style scoped>\n",
              "    .dataframe tbody tr th:only-of-type {\n",
              "        vertical-align: middle;\n",
              "    }\n",
              "\n",
              "    .dataframe tbody tr th {\n",
              "        vertical-align: top;\n",
              "    }\n",
              "\n",
              "    .dataframe thead th {\n",
              "        text-align: right;\n",
              "    }\n",
              "</style>\n",
              "<table border=\"1\" class=\"dataframe\">\n",
              "  <thead>\n",
              "    <tr style=\"text-align: right;\">\n",
              "      <th></th>\n",
              "      <th>0</th>\n",
              "      <th>1</th>\n",
              "      <th>2</th>\n",
              "      <th>3</th>\n",
              "      <th>4</th>\n",
              "      <th>5</th>\n",
              "      <th>6</th>\n",
              "      <th>7</th>\n",
              "      <th>8</th>\n",
              "      <th>9</th>\n",
              "      <th>...</th>\n",
              "      <th>131</th>\n",
              "      <th>132</th>\n",
              "      <th>133</th>\n",
              "      <th>134</th>\n",
              "      <th>135</th>\n",
              "      <th>136</th>\n",
              "      <th>137</th>\n",
              "      <th>138</th>\n",
              "      <th>139</th>\n",
              "      <th>140</th>\n",
              "    </tr>\n",
              "  </thead>\n",
              "  <tbody>\n",
              "    <tr>\n",
              "      <th>0</th>\n",
              "      <td>-0.112522</td>\n",
              "      <td>-2.827204</td>\n",
              "      <td>-3.773897</td>\n",
              "      <td>-4.349751</td>\n",
              "      <td>-4.376041</td>\n",
              "      <td>-3.474986</td>\n",
              "      <td>-2.181408</td>\n",
              "      <td>-1.818286</td>\n",
              "      <td>-1.250522</td>\n",
              "      <td>-0.477492</td>\n",
              "      <td>...</td>\n",
              "      <td>0.792168</td>\n",
              "      <td>0.933541</td>\n",
              "      <td>0.796958</td>\n",
              "      <td>0.578621</td>\n",
              "      <td>0.257740</td>\n",
              "      <td>0.228077</td>\n",
              "      <td>0.123431</td>\n",
              "      <td>0.925286</td>\n",
              "      <td>0.193137</td>\n",
              "      <td>1.0</td>\n",
              "    </tr>\n",
              "    <tr>\n",
              "      <th>1</th>\n",
              "      <td>-1.100878</td>\n",
              "      <td>-3.996840</td>\n",
              "      <td>-4.285843</td>\n",
              "      <td>-4.506579</td>\n",
              "      <td>-4.022377</td>\n",
              "      <td>-3.234368</td>\n",
              "      <td>-1.566126</td>\n",
              "      <td>-0.992258</td>\n",
              "      <td>-0.754680</td>\n",
              "      <td>0.042321</td>\n",
              "      <td>...</td>\n",
              "      <td>0.538356</td>\n",
              "      <td>0.656881</td>\n",
              "      <td>0.787490</td>\n",
              "      <td>0.724046</td>\n",
              "      <td>0.555784</td>\n",
              "      <td>0.476333</td>\n",
              "      <td>0.773820</td>\n",
              "      <td>1.119621</td>\n",
              "      <td>-1.436250</td>\n",
              "      <td>1.0</td>\n",
              "    </tr>\n",
              "    <tr>\n",
              "      <th>2</th>\n",
              "      <td>-0.567088</td>\n",
              "      <td>-2.593450</td>\n",
              "      <td>-3.874230</td>\n",
              "      <td>-4.584095</td>\n",
              "      <td>-4.187449</td>\n",
              "      <td>-3.151462</td>\n",
              "      <td>-1.742940</td>\n",
              "      <td>-1.490659</td>\n",
              "      <td>-1.183580</td>\n",
              "      <td>-0.394229</td>\n",
              "      <td>...</td>\n",
              "      <td>0.886073</td>\n",
              "      <td>0.531452</td>\n",
              "      <td>0.311377</td>\n",
              "      <td>-0.021919</td>\n",
              "      <td>-0.713683</td>\n",
              "      <td>-0.532197</td>\n",
              "      <td>0.321097</td>\n",
              "      <td>0.904227</td>\n",
              "      <td>-0.421797</td>\n",
              "      <td>1.0</td>\n",
              "    </tr>\n",
              "    <tr>\n",
              "      <th>3</th>\n",
              "      <td>0.490473</td>\n",
              "      <td>-1.914407</td>\n",
              "      <td>-3.616364</td>\n",
              "      <td>-4.318823</td>\n",
              "      <td>-4.268016</td>\n",
              "      <td>-3.881110</td>\n",
              "      <td>-2.993280</td>\n",
              "      <td>-1.671131</td>\n",
              "      <td>-1.333884</td>\n",
              "      <td>-0.965629</td>\n",
              "      <td>...</td>\n",
              "      <td>0.350816</td>\n",
              "      <td>0.499111</td>\n",
              "      <td>0.600345</td>\n",
              "      <td>0.842069</td>\n",
              "      <td>0.952074</td>\n",
              "      <td>0.990133</td>\n",
              "      <td>1.086798</td>\n",
              "      <td>1.403011</td>\n",
              "      <td>-0.383564</td>\n",
              "      <td>1.0</td>\n",
              "    </tr>\n",
              "    <tr>\n",
              "      <th>4</th>\n",
              "      <td>0.800232</td>\n",
              "      <td>-0.874252</td>\n",
              "      <td>-2.384761</td>\n",
              "      <td>-3.973292</td>\n",
              "      <td>-4.338224</td>\n",
              "      <td>-3.802422</td>\n",
              "      <td>-2.534510</td>\n",
              "      <td>-1.783423</td>\n",
              "      <td>-1.594450</td>\n",
              "      <td>-0.753199</td>\n",
              "      <td>...</td>\n",
              "      <td>1.148884</td>\n",
              "      <td>0.958434</td>\n",
              "      <td>1.059025</td>\n",
              "      <td>1.371682</td>\n",
              "      <td>1.277392</td>\n",
              "      <td>0.960304</td>\n",
              "      <td>0.971020</td>\n",
              "      <td>1.614392</td>\n",
              "      <td>1.421456</td>\n",
              "      <td>1.0</td>\n",
              "    </tr>\n",
              "  </tbody>\n",
              "</table>\n",
              "<p>5 rows × 141 columns</p>\n",
              "</div>\n",
              "      <button class=\"colab-df-convert\" onclick=\"convertToInteractive('df-58567583-6e28-44e7-8459-22970d99c9c4')\"\n",
              "              title=\"Convert this dataframe to an interactive table.\"\n",
              "              style=\"display:none;\">\n",
              "        \n",
              "  <svg xmlns=\"http://www.w3.org/2000/svg\" height=\"24px\"viewBox=\"0 0 24 24\"\n",
              "       width=\"24px\">\n",
              "    <path d=\"M0 0h24v24H0V0z\" fill=\"none\"/>\n",
              "    <path d=\"M18.56 5.44l.94 2.06.94-2.06 2.06-.94-2.06-.94-.94-2.06-.94 2.06-2.06.94zm-11 1L8.5 8.5l.94-2.06 2.06-.94-2.06-.94L8.5 2.5l-.94 2.06-2.06.94zm10 10l.94 2.06.94-2.06 2.06-.94-2.06-.94-.94-2.06-.94 2.06-2.06.94z\"/><path d=\"M17.41 7.96l-1.37-1.37c-.4-.4-.92-.59-1.43-.59-.52 0-1.04.2-1.43.59L10.3 9.45l-7.72 7.72c-.78.78-.78 2.05 0 2.83L4 21.41c.39.39.9.59 1.41.59.51 0 1.02-.2 1.41-.59l7.78-7.78 2.81-2.81c.8-.78.8-2.07 0-2.86zM5.41 20L4 18.59l7.72-7.72 1.47 1.35L5.41 20z\"/>\n",
              "  </svg>\n",
              "      </button>\n",
              "      \n",
              "  <style>\n",
              "    .colab-df-container {\n",
              "      display:flex;\n",
              "      flex-wrap:wrap;\n",
              "      gap: 12px;\n",
              "    }\n",
              "\n",
              "    .colab-df-convert {\n",
              "      background-color: #E8F0FE;\n",
              "      border: none;\n",
              "      border-radius: 50%;\n",
              "      cursor: pointer;\n",
              "      display: none;\n",
              "      fill: #1967D2;\n",
              "      height: 32px;\n",
              "      padding: 0 0 0 0;\n",
              "      width: 32px;\n",
              "    }\n",
              "\n",
              "    .colab-df-convert:hover {\n",
              "      background-color: #E2EBFA;\n",
              "      box-shadow: 0px 1px 2px rgba(60, 64, 67, 0.3), 0px 1px 3px 1px rgba(60, 64, 67, 0.15);\n",
              "      fill: #174EA6;\n",
              "    }\n",
              "\n",
              "    [theme=dark] .colab-df-convert {\n",
              "      background-color: #3B4455;\n",
              "      fill: #D2E3FC;\n",
              "    }\n",
              "\n",
              "    [theme=dark] .colab-df-convert:hover {\n",
              "      background-color: #434B5C;\n",
              "      box-shadow: 0px 1px 3px 1px rgba(0, 0, 0, 0.15);\n",
              "      filter: drop-shadow(0px 1px 2px rgba(0, 0, 0, 0.3));\n",
              "      fill: #FFFFFF;\n",
              "    }\n",
              "  </style>\n",
              "\n",
              "      <script>\n",
              "        const buttonEl =\n",
              "          document.querySelector('#df-58567583-6e28-44e7-8459-22970d99c9c4 button.colab-df-convert');\n",
              "        buttonEl.style.display =\n",
              "          google.colab.kernel.accessAllowed ? 'block' : 'none';\n",
              "\n",
              "        async function convertToInteractive(key) {\n",
              "          const element = document.querySelector('#df-58567583-6e28-44e7-8459-22970d99c9c4');\n",
              "          const dataTable =\n",
              "            await google.colab.kernel.invokeFunction('convertToInteractive',\n",
              "                                                     [key], {});\n",
              "          if (!dataTable) return;\n",
              "\n",
              "          const docLinkHtml = 'Like what you see? Visit the ' +\n",
              "            '<a target=\"_blank\" href=https://colab.research.google.com/notebooks/data_table.ipynb>data table notebook</a>'\n",
              "            + ' to learn more about interactive tables.';\n",
              "          element.innerHTML = '';\n",
              "          dataTable['output_type'] = 'display_data';\n",
              "          await google.colab.output.renderOutput(dataTable, element);\n",
              "          const docLink = document.createElement('div');\n",
              "          docLink.innerHTML = docLinkHtml;\n",
              "          element.appendChild(docLink);\n",
              "        }\n",
              "      </script>\n",
              "    </div>\n",
              "  </div>\n",
              "  "
            ]
          },
          "metadata": {},
          "execution_count": 60
        }
      ],
      "source": [
        "# Download the dataset\n",
        "dataframe = pd.read_csv('http://storage.googleapis.com/download.tensorflow.org/data/ecg.csv', header=None)\n",
        "raw_data = dataframe.values\n",
        "dataframe.head()"
      ]
    },
    {
      "cell_type": "code",
      "execution_count": 61,
      "metadata": {
        "id": "UmuCPVYKsKKx"
      },
      "outputs": [],
      "source": [
        "# Az utolsó oszlop tartalmazza cimkéket,\n",
        "labels = raw_data[:, -1]\n",
        "\n",
        "# a többi oszlopban adatok vannak\n",
        "data = raw_data[:, 0:-1]\n",
        "\n",
        "train_data, test_data, train_labels, test_labels = train_test_split(\n",
        "    data, labels, test_size=0.2, random_state=21\n",
        ")"
      ]
    },
    {
      "cell_type": "markdown",
      "metadata": {
        "id": "byK2vP7hsMbz"
      },
      "source": [
        "Adatok normalizálása `[0,1]`.\n"
      ]
    },
    {
      "cell_type": "code",
      "execution_count": 62,
      "metadata": {
        "id": "tgMZVWRKsPx6"
      },
      "outputs": [],
      "source": [
        "min_val = tf.reduce_min(train_data)\n",
        "max_val = tf.reduce_max(train_data)\n",
        "\n",
        "train_data = (train_data - min_val) / (max_val - min_val)\n",
        "test_data = (test_data - min_val) / (max_val - min_val)\n",
        "\n",
        "train_data = tf.cast(train_data, tf.float32)\n",
        "test_data = tf.cast(test_data, tf.float32)"
      ]
    },
    {
      "cell_type": "markdown",
      "metadata": {
        "id": "BdSYr2IPsTiz"
      },
      "source": [
        "Az autoencodert csak a normál EKG adatokkal felhasználásával fogja betanítani, amelyek 1 cimkével rendelkeznek az adathalmazban. Válassza szét a normál adatokat az abnormális adatokat tartalmazó EKG adatoktól."
      ]
    },
    {
      "cell_type": "code",
      "execution_count": 63,
      "metadata": {
        "id": "VvK4NRe8sVhE"
      },
      "outputs": [],
      "source": [
        "train_labels = train_labels.astype(bool)\n",
        "test_labels = test_labels.astype(bool)\n",
        "\n",
        "normal_train_data = train_data[train_labels] #itt csak a True indexű adatokat választjuk ki\n",
        "normal_test_data = test_data[test_labels]\n",
        "\n",
        "anomalous_train_data = train_data[~train_labels] # itt pedig a False cimkével rendelkezőket\n",
        "anomalous_test_data = test_data[~test_labels]"
      ]
    },
    {
      "cell_type": "markdown",
      "metadata": {
        "id": "wVcTBDo-CqFS"
      },
      "source": [
        "Normál EKG kirajzolása"
      ]
    },
    {
      "cell_type": "code",
      "execution_count": 64,
      "metadata": {
        "id": "ZTlMIrpmseYe",
        "colab": {
          "base_uri": "https://localhost:8080/",
          "height": 281
        },
        "outputId": "00e9ea67-8a34-4e25-94c5-6241fc81c995"
      },
      "outputs": [
        {
          "output_type": "display_data",
          "data": {
            "text/plain": [
              "<Figure size 432x288 with 1 Axes>"
            ],
            "image/png": "[encoded data removed]"
          },
          "metadata": {
            "needs_background": "light"
          }
        }
      ],
      "source": [
        "plt.grid()\n",
        "plt.plot(np.arange(140), normal_train_data[0])\n",
        "plt.title(\"A Normal ECG\")\n",
        "plt.show()"
      ]
    },
    {
      "cell_type": "markdown",
      "metadata": {
        "id": "QpI9by2ZA0NN"
      },
      "source": [
        "Plot an anomalous ECG."
      ]
    },
    {
      "cell_type": "code",
      "execution_count": 65,
      "metadata": {
        "id": "zrpXREF2siBr",
        "colab": {
          "base_uri": "https://localhost:8080/",
          "height": 281
        },
        "outputId": "6e7e5946-2c11-4db5-e8e5-25a48d45a03f"
      },
      "outputs": [
        {
          "output_type": "display_data",
          "data": {
            "text/plain": [
              "<Figure size 432x288 with 1 Axes>"
            ],
            "image/png": "[encoded data removed]"
          },
          "metadata": {
            "needs_background": "light"
          }
        }
      ],
      "source": [
        "plt.grid()\n",
        "plt.plot(np.arange(140), anomalous_train_data[0])\n",
        "plt.title(\"An Anomalous ECG\")\n",
        "plt.show()"
      ]
    },
    {
      "cell_type": "markdown",
      "metadata": {
        "id": "0DS6QKZJslZz"
      },
      "source": [
        "# A modell felépítése"
      ]
    },
    {
      "cell_type": "code",
      "execution_count": 66,
      "metadata": {
        "id": "bf6owZQDsp9y"
      },
      "outputs": [],
      "source": [
        "autoencoder = tf.keras.Sequential([\n",
        "      layers.Dense(32, activation=\"relu\", kernel_initializer= 'he_normal', input_shape=(140,)),\n",
        "      layers.Dense(16, activation=\"relu\", kernel_initializer= 'he_normal'),\n",
        "      layers.Dense(8, activation=\"relu\", kernel_initializer= 'he_normal'), #bottleneck \n",
        "      layers.Dense(16, activation=\"relu\", kernel_initializer= 'he_normal'),\n",
        "      layers.Dense(32, activation=\"relu\", kernel_initializer= 'he_normal'),\n",
        "      layers.Dense(140, activation=\"sigmoid\")]) #\n"
      ]
    },
    {
      "cell_type": "code",
      "execution_count": 67,
      "metadata": {
        "id": "gwRpBBbg463S"
      },
      "outputs": [],
      "source": [
        "autoencoder.compile(optimizer='adam', loss='mae')"
      ]
    },
    {
      "cell_type": "markdown",
      "metadata": {
        "id": "zuTy60STBEy4"
      },
      "source": [
        "Vegyük észre, hogy az autoencodert a normál EKG-k felhasználásával képezzük, de a teljes tesztkészletet használva értékeljük ki."
      ]
    },
    {
      "cell_type": "code",
      "execution_count": 68,
      "metadata": {
        "id": "V6NFSs-jsty2",
        "colab": {
          "base_uri": "https://localhost:8080/"
        },
        "outputId": "399d7aa6-77ea-4eaf-fc49-7ab5fa074ff3"
      },
      "outputs": [
        {
          "output_type": "stream",
          "name": "stdout",
          "text": [
            "Epoch 1/50\n",
            "5/5 [==============================] - 1s 38ms/step - loss: 0.0726 - val_loss: 0.0543\n",
            "Epoch 2/50\n",
            "5/5 [==============================] - 0s 11ms/step - loss: 0.0567 - val_loss: 0.0526\n",
            "Epoch 3/50\n",
            "5/5 [==============================] - 0s 9ms/step - loss: 0.0555 - val_loss: 0.0515\n",
            "Epoch 4/50\n",
            "5/5 [==============================] - 0s 10ms/step - loss: 0.0537 - val_loss: 0.0499\n",
            "Epoch 5/50\n",
            "5/5 [==============================] - 0s 10ms/step - loss: 0.0509 - val_loss: 0.0480\n",
            "Epoch 6/50\n",
            "5/5 [==============================] - 0s 13ms/step - loss: 0.0475 - val_loss: 0.0466\n",
            "Epoch 7/50\n",
            "5/5 [==============================] - 0s 14ms/step - loss: 0.0441 - val_loss: 0.0451\n",
            "Epoch 8/50\n",
            "5/5 [==============================] - 0s 13ms/step - loss: 0.0405 - val_loss: 0.0431\n",
            "Epoch 9/50\n",
            "5/5 [==============================] - 0s 10ms/step - loss: 0.0371 - val_loss: 0.0414\n",
            "Epoch 10/50\n",
            "5/5 [==============================] - 0s 10ms/step - loss: 0.0342 - val_loss: 0.0404\n",
            "Epoch 11/50\n",
            "5/5 [==============================] - 0s 10ms/step - loss: 0.0318 - val_loss: 0.0395\n",
            "Epoch 12/50\n",
            "5/5 [==============================] - 0s 15ms/step - loss: 0.0298 - val_loss: 0.0384\n",
            "Epoch 13/50\n",
            "5/5 [==============================] - 0s 12ms/step - loss: 0.0281 - val_loss: 0.0376\n",
            "Epoch 14/50\n",
            "5/5 [==============================] - 0s 11ms/step - loss: 0.0268 - val_loss: 0.0369\n",
            "Epoch 15/50\n",
            "5/5 [==============================] - 0s 10ms/step - loss: 0.0259 - val_loss: 0.0363\n",
            "Epoch 16/50\n",
            "5/5 [==============================] - 0s 10ms/step - loss: 0.0251 - val_loss: 0.0358\n",
            "Epoch 17/50\n",
            "5/5 [==============================] - 0s 11ms/step - loss: 0.0245 - val_loss: 0.0352\n",
            "Epoch 18/50\n",
            "5/5 [==============================] - 0s 10ms/step - loss: 0.0239 - val_loss: 0.0348\n",
            "Epoch 19/50\n",
            "5/5 [==============================] - 0s 10ms/step - loss: 0.0233 - val_loss: 0.0342\n",
            "Epoch 20/50\n",
            "5/5 [==============================] - 0s 9ms/step - loss: 0.0228 - val_loss: 0.0339\n",
            "Epoch 21/50\n",
            "5/5 [==============================] - 0s 11ms/step - loss: 0.0223 - val_loss: 0.0335\n",
            "Epoch 22/50\n",
            "5/5 [==============================] - 0s 10ms/step - loss: 0.0219 - val_loss: 0.0333\n",
            "Epoch 23/50\n",
            "5/5 [==============================] - 0s 11ms/step - loss: 0.0215 - val_loss: 0.0332\n",
            "Epoch 24/50\n",
            "5/5 [==============================] - 0s 11ms/step - loss: 0.0212 - val_loss: 0.0331\n",
            "Epoch 25/50\n",
            "5/5 [==============================] - 0s 10ms/step - loss: 0.0209 - val_loss: 0.0331\n",
            "Epoch 26/50\n",
            "5/5 [==============================] - 0s 11ms/step - loss: 0.0207 - val_loss: 0.0330\n",
            "Epoch 27/50\n",
            "5/5 [==============================] - 0s 10ms/step - loss: 0.0205 - val_loss: 0.0330\n",
            "Epoch 28/50\n",
            "5/5 [==============================] - 0s 11ms/step - loss: 0.0204 - val_loss: 0.0330\n",
            "Epoch 29/50\n",
            "5/5 [==============================] - 0s 11ms/step - loss: 0.0203 - val_loss: 0.0329\n",
            "Epoch 30/50\n",
            "5/5 [==============================] - 0s 10ms/step - loss: 0.0202 - val_loss: 0.0329\n",
            "Epoch 31/50\n",
            "5/5 [==============================] - 0s 17ms/step - loss: 0.0201 - val_loss: 0.0327\n",
            "Epoch 32/50\n",
            "5/5 [==============================] - 0s 10ms/step - loss: 0.0201 - val_loss: 0.0327\n",
            "Epoch 33/50\n",
            "5/5 [==============================] - 0s 10ms/step - loss: 0.0201 - val_loss: 0.0326\n",
            "Epoch 34/50\n",
            "5/5 [==============================] - 0s 10ms/step - loss: 0.0200 - val_loss: 0.0326\n",
            "Epoch 35/50\n",
            "5/5 [==============================] - 0s 11ms/step - loss: 0.0200 - val_loss: 0.0325\n",
            "Epoch 36/50\n",
            "5/5 [==============================] - 0s 10ms/step - loss: 0.0200 - val_loss: 0.0324\n",
            "Epoch 37/50\n",
            "5/5 [==============================] - 0s 12ms/step - loss: 0.0199 - val_loss: 0.0323\n",
            "Epoch 38/50\n",
            "5/5 [==============================] - 0s 11ms/step - loss: 0.0199 - val_loss: 0.0322\n",
            "Epoch 39/50\n",
            "5/5 [==============================] - 0s 11ms/step - loss: 0.0198 - val_loss: 0.0320\n",
            "Epoch 40/50\n",
            "5/5 [==============================] - 0s 10ms/step - loss: 0.0198 - val_loss: 0.0319\n",
            "Epoch 41/50\n",
            "5/5 [==============================] - 0s 11ms/step - loss: 0.0198 - val_loss: 0.0319\n",
            "Epoch 42/50\n",
            "5/5 [==============================] - 0s 11ms/step - loss: 0.0197 - val_loss: 0.0318\n",
            "Epoch 43/50\n",
            "5/5 [==============================] - 0s 11ms/step - loss: 0.0197 - val_loss: 0.0317\n",
            "Epoch 44/50\n",
            "5/5 [==============================] - 0s 10ms/step - loss: 0.0196 - val_loss: 0.0315\n",
            "Epoch 45/50\n",
            "5/5 [==============================] - 0s 10ms/step - loss: 0.0195 - val_loss: 0.0314\n",
            "Epoch 46/50\n",
            "5/5 [==============================] - 0s 11ms/step - loss: 0.0195 - val_loss: 0.0312\n",
            "Epoch 47/50\n",
            "5/5 [==============================] - 0s 10ms/step - loss: 0.0194 - val_loss: 0.0310\n",
            "Epoch 48/50\n",
            "5/5 [==============================] - 0s 10ms/step - loss: 0.0193 - val_loss: 0.0308\n",
            "Epoch 49/50\n",
            "5/5 [==============================] - 0s 11ms/step - loss: 0.0192 - val_loss: 0.0307\n",
            "Epoch 50/50\n",
            "5/5 [==============================] - 0s 10ms/step - loss: 0.0191 - val_loss: 0.0304\n"
          ]
        }
      ],
      "source": [
        "history = autoencoder.fit(normal_train_data, normal_train_data, \n",
        "          epochs=50, \n",
        "          batch_size=512,\n",
        "          validation_data=(test_data, test_data),\n",
        "          shuffle=True)"
      ]
    },
    {
      "cell_type": "code",
      "execution_count": 69,
      "metadata": {
        "id": "OEexphFwwTQS",
        "colab": {
          "base_uri": "https://localhost:8080/",
          "height": 282
        },
        "outputId": "45f031fe-a25e-42c1-92ad-9a0457fbdc7a"
      },
      "outputs": [
        {
          "output_type": "execute_result",
          "data": {
            "text/plain": [
              "<matplotlib.legend.Legend at 0x7f26625f9450>"
            ]
          },
          "metadata": {},
          "execution_count": 69
        },
        {
          "output_type": "display_data",
          "data": {
            "text/plain": [
              "<Figure size 432x288 with 1 Axes>"
            ],
            "image/png": "[encoded data removed]"
          },
          "metadata": {
            "needs_background": "light"
          }
        }
      ],
      "source": [
        "plt.plot(history.history[\"loss\"], label=\"Training Loss\")\n",
        "plt.plot(history.history[\"val_loss\"], label=\"Validation Loss\")\n",
        "plt.legend()"
      ]
    },
    {
      "cell_type": "markdown",
      "metadata": {
        "id": "ceI5lKv1BT-A"
      },
      "source": [
        "A következőkben anomáliának fogunk minősíteni egy EKG-t, ha a rekonstrukciós hiba nagyobb, mint egy standard eltérés a normál képzési példákhoz képest. Először is ábrázoljunk egy normál EKG-t a gyakorlókészletből, a rekonstrukciót, miután azt az autokódoló kódolta és dekódolta, valamint a rekonstrukciós hibát.\n",
        "\n",
        "Itt létrehozunk egy encodert és decodert az eredeti modell segítségével!"
      ]
    },
    {
      "cell_type": "code",
      "source": [
        "encoder = tf.keras.Sequential([layers.Dense(32, activation=\"relu\",  input_shape=(140,), weights=autoencoder.layers[0].weights,),\n",
        "      layers.Dense(16, activation=\"relu\", weights=autoencoder.layers[1].weights ),\n",
        "      layers.Dense(8, activation=\"relu\", weights= autoencoder.layers[2].weights)])\n",
        "            \n",
        "decoder = tf.keras.Sequential([layers.Dense(16, activation=\"relu\", weights=autoencoder.layers[3].weights),\n",
        "      layers.Dense(32, activation=\"relu\", weights = autoencoder.layers[4].weights),\n",
        "      layers.Dense(140, activation=\"sigmoid\", weights = autoencoder.layers[5].weights )])"
      ],
      "metadata": {
        "id": "ApZMh1W_ETpU"
      },
      "execution_count": 70,
      "outputs": []
    },
    {
      "cell_type": "code",
      "execution_count": 71,
      "metadata": {
        "id": "hmsk4DuktxJ2",
        "colab": {
          "base_uri": "https://localhost:8080/",
          "height": 265
        },
        "outputId": "a8232fc4-af21-4176-d284-3b82db3a5124"
      },
      "outputs": [
        {
          "output_type": "display_data",
          "data": {
            "text/plain": [
              "<Figure size 432x288 with 1 Axes>"
            ],
            "image/png": "[encoded data removed]"
          },
          "metadata": {
            "needs_background": "light"
          }
        }
      ],
      "source": [
        "encoded_data = encoder(normal_test_data).numpy() # az összes test adatot kódoljuk \n",
        "decoded_data = decoder(encoded_data).numpy() # majd a kódolt adatból visszaállítjuk a dekóder segítségével az adatokat\n",
        "\n",
        "plt.plot(normal_test_data[0], 'b') # a 0. test adatot kirajzoljuk\n",
        "plt.plot(decoded_data[0], 'r') # a visszaállított adatot is kirajzoljuk\n",
        "plt.fill_between(np.arange(140), decoded_data[0], normal_test_data[0], color='lightcoral')\n",
        "plt.legend(labels=[\"Input\", \"Reconstruction\", \"Error\"])\n",
        "plt.show()"
      ]
    },
    {
      "cell_type": "markdown",
      "metadata": {
        "id": "ocA_q9ufB_aF"
      },
      "source": [
        "Az előzőekhez hasonlóan kirajzolunk egy adatot az anomáliás halmazból"
      ]
    },
    {
      "cell_type": "code",
      "execution_count": 72,
      "metadata": {
        "id": "vNFTuPhLwTBn",
        "colab": {
          "base_uri": "https://localhost:8080/",
          "height": 265
        },
        "outputId": "e4a40c1f-9ad9-4598-8f5d-7c87d94d226c"
      },
      "outputs": [
        {
          "output_type": "display_data",
          "data": {
            "text/plain": [
              "<Figure size 432x288 with 1 Axes>"
            ],
            "image/png": "[encoded data removed]"
          },
          "metadata": {
            "needs_background": "light"
          }
        }
      ],
      "source": [
        "encoded_data = encoder(anomalous_test_data).numpy()\n",
        "decoded_data = decoder(encoded_data).numpy()\n",
        "\n",
        "plt.plot(anomalous_test_data[0], 'b')\n",
        "plt.plot(decoded_data[0], 'r')\n",
        "plt.fill_between(np.arange(140), decoded_data[0], anomalous_test_data[0], color='lightcoral')\n",
        "plt.legend(labels=[\"Input\", \"Reconstruction\", \"Error\"])\n",
        "plt.show()"
      ]
    },
    {
      "cell_type": "markdown",
      "metadata": {
        "id": "ocimg3MBswdS"
      },
      "source": [
        "### Anomália észlelése"
      ]
    },
    {
      "cell_type": "markdown",
      "metadata": {
        "id": "Xnh8wmkDsypN"
      },
      "source": [
        "Az anomáliák észlelése úgy történik, hogy kiszámítjuk, hogy a rekonstrukciós veszteség nagyobb-e egy rögzített küszöbértéknél. Elöször kiszámítjuk a normál példák átlagos átlagos hibáját a képzési halmazból, majd a jövőbeli példákat rendellenesnek minősíti, ha a rekonstrukciós hiba nagyobb, mint egy standard eltérés a képzési halmazhoz képest.\n"
      ]
    },
    {
      "cell_type": "markdown",
      "metadata": {
        "id": "TeuT8uTA5Y_w"
      },
      "source": [
        "A rekonstrukciós hiba ábrázolása a normál EKG-ken a gyakorló készletből"
      ]
    },
    {
      "cell_type": "code",
      "execution_count": 73,
      "metadata": {
        "id": "N7FltOnHu4-l",
        "colab": {
          "base_uri": "https://localhost:8080/",
          "height": 279
        },
        "outputId": "3f2fc4f6-89e6-4593-971f-ce74c871605c"
      },
      "outputs": [
        {
          "output_type": "display_data",
          "data": {
            "text/plain": [
              "<Figure size 432x288 with 1 Axes>"
            ],
            "image/png": "[encoded data removed]"
          },
          "metadata": {
            "needs_background": "light"
          }
        }
      ],
      "source": [
        "reconstructions = autoencoder.predict(normal_train_data) # a tréning halmazra elkészítjük a 'predikciókat' visszaállított adatokat \n",
        "train_loss = tf.keras.losses.mae(reconstructions, normal_train_data) # majd kiszámítjuk ezek átlagos abszolút hibáit\n",
        "\n",
        "plt.hist(train_loss[None,:], bins=50) # a kiszámított átlagos hibák eloszlását ábrázoljuk\n",
        "plt.xlabel(\"Train loss\")\n",
        "plt.ylabel(\"No of examples\")\n",
        "plt.show()"
      ]
    },
    {
      "cell_type": "markdown",
      "metadata": {
        "id": "mh-3ChEF5hog"
      },
      "source": [
        "Választunk egy olyan küszöbértéket, amely egy szórással az átlag felett van. (átlag+szórás)"
      ]
    },
    {
      "cell_type": "code",
      "execution_count": 81,
      "metadata": {
        "id": "82hkl0Chs3P_",
        "colab": {
          "base_uri": "https://localhost:8080/"
        },
        "outputId": "c9295cf9-99ee-4361-a66c-a915b9887ea7"
      },
      "outputs": [
        {
          "output_type": "stream",
          "name": "stdout",
          "text": [
            "Threshold:  0.029938478\n"
          ]
        }
      ],
      "source": [
        "threshold = np.mean(train_loss) + np.std(train_loss) # itt már két szórásnyi mennyiséget vettünk!!!\n",
        "print(\"Threshold: \", threshold)"
      ]
    },
    {
      "cell_type": "markdown",
      "metadata": {
        "id": "uEGlA1Be50Nj"
      },
      "source": [
        "Megjegyzés: Más stratégiákat is használhatunk annak a küszöbértéknek a kiválasztására, amely felett a tesztpéldákat rendellenesnek kell minősíteni, a helyes megközelítés az adatállományától függ."
      ]
    },
    {
      "cell_type": "markdown",
      "metadata": {
        "id": "zpLSDAeb51D_"
      },
      "source": [
        "Ha megvizsgálja a tesztkészlet anomális példáinak rekonstrukciós hibáját, észreveheti, hogy a legtöbb esetben a rekonstrukciós hiba nagyobb, mint a küszöbérték. A küszöbérték változtatásával beállíthatja az osztályozó [pontosságát](https://developers.google.com/machine-learning/glossary#precision) és [visszahívását](https://developers.google.com/machine-learning/glossary#recall). "
      ]
    },
    {
      "cell_type": "code",
      "execution_count": 82,
      "metadata": {
        "id": "sKVwjQK955Wy",
        "colab": {
          "base_uri": "https://localhost:8080/",
          "height": 279
        },
        "outputId": "c1d5b078-fb16-4a21-a837-6a4198e70b47"
      },
      "outputs": [
        {
          "output_type": "display_data",
          "data": {
            "text/plain": [
              "<Figure size 432x288 with 1 Axes>"
            ],
            "image/png": "[encoded data removed]"
          },
          "metadata": {
            "needs_background": "light"
          }
        }
      ],
      "source": [
        "reconstructions = autoencoder.predict(anomalous_test_data)\n",
        "test_loss = tf.keras.losses.mae(reconstructions, anomalous_test_data)\n",
        "\n",
        "plt.hist(test_loss[None, :], bins=50)\n",
        "plt.xlabel(\"Test loss\")\n",
        "plt.ylabel(\"No of examples\")\n",
        "plt.show()"
      ]
    },
    {
      "cell_type": "code",
      "source": [
        "plt.hist(train_loss, bins=50, label='normal')\n",
        "plt.hist(test_loss, bins=50, label='anomaly')\n",
        "plt.axvline(threshold, color='r', linewidth=3, linestyle='dashed', label='{:0.3f}'.format(threshold))\n",
        "plt.legend(loc='upper right')\n",
        "plt.title(\"Normal and Anomaly Loss\")\n",
        "plt.show()"
      ],
      "metadata": {
        "colab": {
          "base_uri": "https://localhost:8080/",
          "height": 281
        },
        "id": "4KU9Xe1GbwTY",
        "outputId": "53dad1c4-3592-4747-a246-39b5fdd3c029"
      },
      "execution_count": 83,
      "outputs": [
        {
          "output_type": "display_data",
          "data": {
            "text/plain": [
              "<Figure size 432x288 with 1 Axes>"
            ],
            "image/png": "[encoded data removed]"
          },
          "metadata": {
            "needs_background": "light"
          }
        }
      ]
    },
    {
      "cell_type": "markdown",
      "metadata": {
        "id": "PFVk_XGE6AX2"
      },
      "source": [
        "Classify an ECG as an anomaly if the reconstruction error is greater than the threshold."
      ]
    },
    {
      "cell_type": "code",
      "execution_count": 84,
      "metadata": {
        "id": "mkgJZfhh6CHr"
      },
      "outputs": [],
      "source": [
        "def predict(model, data, threshold):\n",
        "  reconstructions = model(data)\n",
        "  loss = tf.keras.losses.mae(reconstructions, data)\n",
        "  return tf.math.less(loss, threshold)\n",
        "\n",
        "def print_stats(predictions, labels):\n",
        "  print(\"Accuracy = {}\".format(accuracy_score(labels, predictions)))\n",
        "  print(\"Precision = {}\".format(precision_score(labels, predictions)))\n",
        "  print(\"Recall = {}\".format(recall_score(labels, predictions)))"
      ]
    },
    {
      "cell_type": "code",
      "execution_count": 85,
      "metadata": {
        "id": "sOcfXfXq6FBd",
        "colab": {
          "base_uri": "https://localhost:8080/"
        },
        "outputId": "e0076360-4818-45e8-80ac-ecc001ac87b5"
      },
      "outputs": [
        {
          "output_type": "stream",
          "name": "stdout",
          "text": [
            "Accuracy = 0.939\n",
            "Precision = 0.994059405940594\n",
            "Recall = 0.8964285714285715\n"
          ]
        }
      ],
      "source": [
        "preds = predict(autoencoder, test_data, threshold)\n",
        "print_stats(preds, test_labels)"
      ]
    },
    {
      "cell_type": "markdown",
      "source": [
        "![](https://wikimedia.org/api/rest_v1/media/math/render/svg/7588abeafe63ab4b8ae63f954978186276e54d01)"
      ],
      "metadata": {
        "id": "t_ctKKX7z5MK"
      }
    },
    {
      "cell_type": "markdown",
      "source": [
        "![](https://upload.wikimedia.org/wikipedia/commons/thumb/2/26/Precisionrecall.svg/525px-Precisionrecall.svg.png)"
      ],
      "metadata": {
        "id": "TI2-RCPBxrup"
      }
    }
  ]
}
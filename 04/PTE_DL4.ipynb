{
  "nbformat": 4,
  "nbformat_minor": 0,
  "metadata": {
    "accelerator": "GPU",
    "colab": {
      "provenance": [],
      "collapsed_sections": [],
      "include_colab_link": true
    },
    "kernelspec": {
      "display_name": "Python 3",
      "name": "python3"
    }
  },
  "cells": [
    {
      "cell_type": "markdown",
      "metadata": {
        "id": "view-in-github",
        "colab_type": "text"
      },
      "source": [
        "<a href=\"https://colab.research.google.com/github/karsarobert/Deep-Learning-2022/blob/main/04/PTE_DL4.ipynb\" target=\"_parent\"><img src=\"https://colab.research.google.com/assets/colab-badge.svg\" alt=\"Open In Colab\"/></a>"
      ]
    },
    {
      "cell_type": "markdown",
      "metadata": {
        "id": "opposed-female"
      },
      "source": [
        "# Deep Learning gyakorlat\n",
        "\n",
        "\n",
        "## 4. gyakorlat: alulillesztés, túl illesztés\n",
        "### 2022. szeptrember 28."
      ]
    },
    {
      "cell_type": "markdown",
      "metadata": {
        "id": "fTFj8ft5dlbS"
      },
      "source": [
        "##### Copyright 2018 The TensorFlow Authors."
      ]
    },
    {
      "cell_type": "code",
      "metadata": {
        "cellView": "form",
        "id": "lzyBOpYMdp3F"
      },
      "source": [
        "#@title Licensed under the Apache License, Version 2.0 (the \"License\");\n",
        "# you may not use this file except in compliance with the License.\n",
        "# You may obtain a copy of the License at\n",
        "#\n",
        "# https://www.apache.org/licenses/LICENSE-2.0\n",
        "#\n",
        "# Unless required by applicable law or agreed to in writing, software\n",
        "# distributed under the License is distributed on an \"AS IS\" BASIS,\n",
        "# WITHOUT WARRANTIES OR CONDITIONS OF ANY KIND, either express or implied.\n",
        "# See the License for the specific language governing permissions and\n",
        "# limitations under the License."
      ],
      "execution_count": 7,
      "outputs": []
    },
    {
      "cell_type": "code",
      "metadata": {
        "cellView": "form",
        "id": "m_x4KfSJ7Vt7"
      },
      "source": [
        "#@title MIT License\n",
        "#\n",
        "# Copyright (c) 2017 François Chollet\n",
        "#\n",
        "# Permission is hereby granted, free of charge, to any person obtaining a\n",
        "# copy of this software and associated documentation files (the \"Software\"),\n",
        "# to deal in the Software without restriction, including without limitation\n",
        "# the rights to use, copy, modify, merge, publish, distribute, sublicense,\n",
        "# and/or sell copies of the Software, and to permit persons to whom the\n",
        "# Software is furnished to do so, subject to the following conditions:\n",
        "#\n",
        "# The above copyright notice and this permission notice shall be included in\n",
        "# all copies or substantial portions of the Software.\n",
        "#\n",
        "# THE SOFTWARE IS PROVIDED \"AS IS\", WITHOUT WARRANTY OF ANY KIND, EXPRESS OR\n",
        "# IMPLIED, INCLUDING BUT NOT LIMITED TO THE WARRANTIES OF MERCHANTABILITY,\n",
        "# FITNESS FOR A PARTICULAR PURPOSE AND NONINFRINGEMENT. IN NO EVENT SHALL\n",
        "# THE AUTHORS OR COPYRIGHT HOLDERS BE LIABLE FOR ANY CLAIM, DAMAGES OR OTHER\n",
        "# LIABILITY, WHETHER IN AN ACTION OF CONTRACT, TORT OR OTHERWISE, ARISING\n",
        "# FROM, OUT OF OR IN CONNECTION WITH THE SOFTWARE OR THE USE OR OTHER\n",
        "# DEALINGS IN THE SOFTWARE."
      ],
      "execution_count": 8,
      "outputs": []
    },
    {
      "cell_type": "markdown",
      "metadata": {
        "id": "C9HmC2T4ld5B"
      },
      "source": [
        "# Alulillesztés, túlillesztés"
      ]
    },
    {
      "cell_type": "markdown",
      "metadata": {
        "id": "kRTxFhXAlnl1"
      },
      "source": [
        "<table class=\"tfo-notebook-buttons\" align=\"left\">\n",
        "  <td>\n",
        "    <a target=\"_blank\" href=\"https://www.tensorflow.org/tutorials/keras/overfit_and_underfit\"><img src=\"https://www.tensorflow.org/images/tf_logo_32px.png\" />View on TensorFlow.org</a>\n",
        "  </td>\n",
        "  <td>\n",
        "    <a target=\"_blank\" href=\"https://colab.research.google.com/github/tensorflow/docs/blob/master/site/en/tutorials/keras/overfit_and_underfit.ipynb\"><img src=\"https://www.tensorflow.org/images/colab_logo_32px.png\" />Run in Google Colab</a>\n",
        "  </td>\n",
        "  <td>\n",
        "    <a target=\"_blank\" href=\"https://github.com/tensorflow/docs/blob/master/site/en/tutorials/keras/overfit_and_underfit.ipynb\"><img src=\"https://www.tensorflow.org/images/GitHub-Mark-32px.png\" />View source on GitHub</a>\n",
        "  </td>\n",
        "  <td>\n",
        "    <a href=\"https://storage.googleapis.com/tensorflow_docs/docs/site/en/tutorials/keras/overfit_and_underfit.ipynb\"><img src=\"https://www.tensorflow.org/images/download_logo_32px.png\" />Download notebook</a>\n",
        "  </td>\n",
        "</table>"
      ]
    },
    {
      "cell_type": "markdown",
      "metadata": {
        "id": "19rPukKZsPG6"
      },
      "source": [
        "Mint mindig, a példa kódja az `tf.keras` API-t használja, amelyről többet megtudhatsz a TensorFlow [Keras guide](https://www.tensorflow.org/guide/keras) című kiadványban.\n",
        "\n",
        "Mindkét korábbi példában - [szöveg osztályozása](https://www.tensorflow.org/tutorials/keras/text_classification_with_hub) és [üzemanyag-hatékonyság előrejelzése](https://www.tensorflow.org/tutorials/keras/regression) - azt láttuk, hogy a modellünk pontossága a validációs adatokon a képzés után néhány epochán keresztül tetőzik, majd stagnál vagy csökkenni kezd.\n",
        "\n",
        "Más szóval, a modellünk *túlilleszkedik* a képzési adatokhoz. Fontos megtanulni, hogyan kezeljük a túlillesztést. Bár gyakran lehetséges nagy pontosságot elérni a *tréningkészleten*, valójában olyan modelleket szeretnénk kifejleszteni, amelyek jól általánosítanak a *tesztkészletre* (vagy olyan adatokra, amelyeket még nem láttak).\n",
        "\n",
        "A túlillesztés ellentéte az *alkalmazkodás*. Az alulillesztés akkor fordul elő, ha a tréningadatokon még van mit javítani. Ez számos okból történhet: Ha a modell nem elég erős, túlregularizált, vagy egyszerűen csak nem elég hosszú ideig képezték. Ez azt jelenti, hogy a hálózat nem tanulta meg a releváns mintákat a képzési adatokban.\n",
        "\n",
        "Ha azonban túl sokáig képezzük, a modell elkezd túlilleszkedni, és olyan mintákat tanul a képzési adatokból, amelyek nem általánosíthatók a tesztadatokra. Meg kell találnunk az egyensúlyt. Hasznos készség annak megértése, hogyan kell megfelelő számú epochán keresztül képezni, ahogyan azt alább megvizsgáljuk.\n",
        "\n",
        "A túlillesztés megelőzésére a legjobb megoldás a teljesebb képzési adatok használata. Az adatkészletnek le kell fednie a bemenetek teljes skáláját, amelyet a modellnek várhatóan kezelnie kell. A további adatok csak akkor lehetnek hasznosak, ha új és érdekes eseteket fednek le.\n",
        "\n",
        "A teljesebb adatokon betanított modell természetesen jobban általánosít. Ha ez már nem lehetséges, a következő legjobb megoldás az olyan technikák alkalmazása, mint a regularizáció. Ezek korlátozzák a modell által tárolható információk mennyiségét és típusát.  Ha egy hálózat csak kis számú minta memorizálását engedheti meg magának, az optimalizálási folyamat arra kényszeríti, hogy a legkiemelkedőbb mintákra összpontosítson, amelyeknek nagyobb esélyük van a jó általánosításra.\n",
        "\n",
        "Ebben a füzetben több gyakori regularizációs technikát fogunk megvizsgálni, és ezeket egy osztályozási modell javítására fogjuk használni.\n",
        "\n",
        "\n"
      ]
    },
    {
      "cell_type": "markdown",
      "metadata": {
        "id": "WL8UoOTmGGsL"
      },
      "source": [
        "## Setup"
      ]
    },
    {
      "cell_type": "markdown",
      "metadata": {
        "id": "9FklhSI0Gg9R"
      },
      "source": [
        "Mielőtt elkezdenénk, importáljuk a szükséges csomagokat:"
      ]
    },
    {
      "cell_type": "code",
      "metadata": {
        "id": "5pZ8A2liqvgk"
      },
      "source": [
        "import tensorflow as tf\n",
        "\n",
        "from tensorflow.keras import layers\n",
        "from tensorflow.keras import regularizers\n"
      ],
      "execution_count": 9,
      "outputs": []
    },
    {
      "cell_type": "code",
      "metadata": {
        "id": "QnAtAjqRYVXe",
        "colab": {
          "base_uri": "https://localhost:8080/"
        },
        "outputId": "cc7e0aa1-0656-4cfd-f5de-b4f6d0a0b9b0"
      },
      "source": [
        "!pip install git+https://github.com/tensorflow/docs\n",
        "\n",
        "import tensorflow_docs as tfdocs\n",
        "import tensorflow_docs.modeling\n",
        "import tensorflow_docs.plots"
      ],
      "execution_count": 10,
      "outputs": [
        {
          "output_type": "stream",
          "name": "stdout",
          "text": [
            "Looking in indexes: https://pypi.org/simple, https://us-python.pkg.dev/colab-wheels/public/simple/\n",
            "Collecting git+https://github.com/tensorflow/docs\n",
            "  Cloning https://github.com/tensorflow/docs to /tmp/pip-req-build-ev5s1nhb\n",
            "  Running command git clone -q https://github.com/tensorflow/docs /tmp/pip-req-build-ev5s1nhb\n",
            "Requirement already satisfied: astor in /usr/local/lib/python3.7/dist-packages (from tensorflow-docs==0.0.0.dev0) (0.8.1)\n",
            "Requirement already satisfied: absl-py in /usr/local/lib/python3.7/dist-packages (from tensorflow-docs==0.0.0.dev0) (1.2.0)\n",
            "Requirement already satisfied: jinja2 in /usr/local/lib/python3.7/dist-packages (from tensorflow-docs==0.0.0.dev0) (2.11.3)\n",
            "Requirement already satisfied: nbformat in /usr/local/lib/python3.7/dist-packages (from tensorflow-docs==0.0.0.dev0) (5.4.0)\n",
            "Requirement already satisfied: protobuf<3.20,>=3.12.0 in /usr/local/lib/python3.7/dist-packages (from tensorflow-docs==0.0.0.dev0) (3.17.3)\n",
            "Requirement already satisfied: pyyaml in /usr/local/lib/python3.7/dist-packages (from tensorflow-docs==0.0.0.dev0) (6.0)\n",
            "Requirement already satisfied: six>=1.9 in /usr/local/lib/python3.7/dist-packages (from protobuf<3.20,>=3.12.0->tensorflow-docs==0.0.0.dev0) (1.15.0)\n",
            "Requirement already satisfied: MarkupSafe>=0.23 in /usr/local/lib/python3.7/dist-packages (from jinja2->tensorflow-docs==0.0.0.dev0) (2.0.1)\n",
            "Requirement already satisfied: traitlets>=5.1 in /usr/local/lib/python3.7/dist-packages (from nbformat->tensorflow-docs==0.0.0.dev0) (5.1.1)\n",
            "Requirement already satisfied: fastjsonschema in /usr/local/lib/python3.7/dist-packages (from nbformat->tensorflow-docs==0.0.0.dev0) (2.16.1)\n",
            "Requirement already satisfied: jsonschema>=2.6 in /usr/local/lib/python3.7/dist-packages (from nbformat->tensorflow-docs==0.0.0.dev0) (4.3.3)\n",
            "Requirement already satisfied: jupyter-core in /usr/local/lib/python3.7/dist-packages (from nbformat->tensorflow-docs==0.0.0.dev0) (4.11.1)\n",
            "Requirement already satisfied: attrs>=17.4.0 in /usr/local/lib/python3.7/dist-packages (from jsonschema>=2.6->nbformat->tensorflow-docs==0.0.0.dev0) (22.1.0)\n",
            "Requirement already satisfied: importlib-resources>=1.4.0 in /usr/local/lib/python3.7/dist-packages (from jsonschema>=2.6->nbformat->tensorflow-docs==0.0.0.dev0) (5.9.0)\n",
            "Requirement already satisfied: pyrsistent!=0.17.0,!=0.17.1,!=0.17.2,>=0.14.0 in /usr/local/lib/python3.7/dist-packages (from jsonschema>=2.6->nbformat->tensorflow-docs==0.0.0.dev0) (0.18.1)\n",
            "Requirement already satisfied: typing-extensions in /usr/local/lib/python3.7/dist-packages (from jsonschema>=2.6->nbformat->tensorflow-docs==0.0.0.dev0) (4.1.1)\n",
            "Requirement already satisfied: importlib-metadata in /usr/local/lib/python3.7/dist-packages (from jsonschema>=2.6->nbformat->tensorflow-docs==0.0.0.dev0) (4.12.0)\n",
            "Requirement already satisfied: zipp>=3.1.0 in /usr/local/lib/python3.7/dist-packages (from importlib-resources>=1.4.0->jsonschema>=2.6->nbformat->tensorflow-docs==0.0.0.dev0) (3.8.1)\n"
          ]
        }
      ]
    },
    {
      "cell_type": "code",
      "metadata": {
        "id": "-pnOU-ctX27Q"
      },
      "source": [
        "from  IPython import display\n",
        "from matplotlib import pyplot as plt\n",
        "\n",
        "import numpy as np\n",
        "\n",
        "import pathlib\n",
        "import shutil\n",
        "import tempfile\n"
      ],
      "execution_count": 11,
      "outputs": []
    },
    {
      "cell_type": "code",
      "metadata": {
        "id": "jj6I4dvTtbUe"
      },
      "source": [
        "logdir = pathlib.Path(tempfile.mkdtemp())/\"tensorboard_logs\"\n",
        "shutil.rmtree(logdir, ignore_errors=True)"
      ],
      "execution_count": 12,
      "outputs": []
    },
    {
      "cell_type": "markdown",
      "metadata": {
        "id": "1cweoTiruj8O"
      },
      "source": [
        "## The Higgs Dataset\n",
        "\n",
        "Ennek a bemutatónak nem a részecskefizika a célja, ezért ne foglalkozzunk az adathalmaz részleteivel. Ez 11&#x202F;000&#x202F;000 példát tartalmaz, mindegyik 28 jellemzővel és egy bináris osztálycímkével."
      ]
    },
    {
      "cell_type": "code",
      "metadata": {
        "id": "YPjAvwb-6dFd",
        "colab": {
          "base_uri": "https://localhost:8080/"
        },
        "outputId": "ed4f8490-0723-4124-9efd-06b911fe4025"
      },
      "source": [
        "gz = tf.keras.utils.get_file('HIGGS.csv.gz', 'http://mlphysics.ics.uci.edu/data/higgs/HIGGS.csv.gz')"
      ],
      "execution_count": 13,
      "outputs": [
        {
          "output_type": "stream",
          "name": "stdout",
          "text": [
            "Downloading data from http://mlphysics.ics.uci.edu/data/higgs/HIGGS.csv.gz\n",
            "2816409600/2816407858 [==============================] - 71s 0us/step\n",
            "2816417792/2816407858 [==============================] - 71s 0us/step\n"
          ]
        }
      ]
    },
    {
      "cell_type": "code",
      "metadata": {
        "id": "AkiyUdaWIrww"
      },
      "source": [
        "FEATURES = 28"
      ],
      "execution_count": 14,
      "outputs": []
    },
    {
      "cell_type": "markdown",
      "metadata": {
        "id": "SFggl9gYKKRJ"
      },
      "source": [
        "A tf.data.experimental.CsvDataset osztály használható csv rekordok közvetlen olvasására egy gzip fájlból, köztes dekompressziós lépés nélkül."
      ]
    },
    {
      "cell_type": "code",
      "metadata": {
        "id": "QHz4sLVQEVIU"
      },
      "source": [
        "ds = tf.data.experimental.CsvDataset(gz,[float(),]*(FEATURES+1), compression_type=\"GZIP\")"
      ],
      "execution_count": 15,
      "outputs": []
    },
    {
      "cell_type": "markdown",
      "metadata": {
        "id": "HzahEELTKlSV"
      },
      "source": [
        "Ez a csv olvasó osztály minden rekordhoz egy skalárokból álló listát ad vissza. A következő függvény a skalárok listáját egy (feature_vector, label) párba csomagolja."
      ]
    },
    {
      "cell_type": "code",
      "metadata": {
        "id": "zPD6ICDlF6Wf"
      },
      "source": [
        "def pack_row(*row):\n",
        "  label = row[0]\n",
        "  features = tf.stack(row[1:],1)\n",
        "  return features, label"
      ],
      "execution_count": 16,
      "outputs": []
    },
    {
      "cell_type": "markdown",
      "metadata": {
        "id": "4oa8tLuwLsbO"
      },
      "source": [
        "A TensorFlow akkor a leghatékonyabb, ha nagy adattömegeken dolgozik.\n",
        "\n",
        "Tehát ahelyett, hogy minden sort egyenként újracsomagolna, készítsen egy új adathalmazt, amely 10000 példából álló tételeket vesz fel, alkalmazza a pack_row függvényt minden egyes tételre, majd a tételeket újra felosztja egyedi rekordokra:"
      ]
    },
    {
      "cell_type": "code",
      "metadata": {
        "id": "-w-VHTwwGVoZ"
      },
      "source": [
        "packed_ds = ds.batch(10000).map(pack_row).unbatch()"
      ],
      "execution_count": 17,
      "outputs": []
    },
    {
      "cell_type": "code",
      "metadata": {
        "id": "TfcXuv33Fvka",
        "colab": {
          "base_uri": "https://localhost:8080/",
          "height": 369
        },
        "outputId": "34da051e-5325-43fa-d31e-1ae7d06961b2"
      },
      "source": [
        "for features,label in packed_ds.batch(1000).take(1):\n",
        "  print(features[0])\n",
        "  plt.hist(features.numpy().flatten(), bins = 101)"
      ],
      "execution_count": 18,
      "outputs": [
        {
          "output_type": "stream",
          "name": "stdout",
          "text": [
            "tf.Tensor(\n",
            "[ 0.8692932  -0.6350818   0.22569026  0.32747006 -0.6899932   0.75420225\n",
            " -0.24857314 -1.0920639   0.          1.3749921  -0.6536742   0.9303491\n",
            "  1.1074361   1.1389043  -1.5781983  -1.0469854   0.          0.65792954\n",
            " -0.01045457 -0.04576717  3.1019614   1.35376     0.9795631   0.97807616\n",
            "  0.92000484  0.72165745  0.98875093  0.87667835], shape=(28,), dtype=float32)\n"
          ]
        },
        {
          "output_type": "display_data",
          "data": {
            "text/plain": [
              "<Figure size 432x288 with 1 Axes>"
            ],
            "image/png": "[encoded data removed]"
          },
          "metadata": {
            "needs_background": "light"
          }
        }
      ]
    },
    {
      "cell_type": "markdown",
      "metadata": {
        "id": "ICKZRY7gN-QM"
      },
      "source": [
        "Annak érdekében, hogy ez a bemutató viszonylag rövid legyen, csak az első 1000 mintát használja a validáláshoz, és a következő 10 000 mintát a képzéshez:"
      ]
    },
    {
      "cell_type": "code",
      "metadata": {
        "id": "hmk49OqZIFZP"
      },
      "source": [
        "N_VALIDATION = int(1e3)\n",
        "N_TRAIN = int(1e4)\n",
        "BUFFER_SIZE = int(1e4)\n",
        "BATCH_SIZE = 500\n",
        "STEPS_PER_EPOCH = N_TRAIN//BATCH_SIZE"
      ],
      "execution_count": 19,
      "outputs": []
    },
    {
      "cell_type": "markdown",
      "metadata": {
        "id": "FP3M9DmvON32"
      },
      "source": [
        "A Dataset.skip és Dataset.take módszerek megkönnyítik ezt.\n",
        "\n",
        "Ugyanakkor használja a Dataset.cache metódust, hogy a betöltőnek ne kelljen minden egyes epochában újra beolvasnia az adatokat a fájlból:"
      ]
    },
    {
      "cell_type": "code",
      "metadata": {
        "id": "H8H_ZzpBOOk-"
      },
      "source": [
        "validate_ds = packed_ds.take(N_VALIDATION).cache()\n",
        "train_ds = packed_ds.skip(N_VALIDATION).take(N_TRAIN).cache()"
      ],
      "execution_count": 20,
      "outputs": []
    },
    {
      "cell_type": "code",
      "metadata": {
        "id": "9zAOqk2_Px7K",
        "colab": {
          "base_uri": "https://localhost:8080/"
        },
        "outputId": "e20fd37a-fb6f-401e-9ad3-c292695bcc66"
      },
      "source": [
        "train_ds"
      ],
      "execution_count": 21,
      "outputs": [
        {
          "output_type": "execute_result",
          "data": {
            "text/plain": [
              "<CacheDataset element_spec=(TensorSpec(shape=(28,), dtype=tf.float32, name=None), TensorSpec(shape=(), dtype=tf.float32, name=None))>"
            ]
          },
          "metadata": {},
          "execution_count": 21
        }
      ]
    },
    {
      "cell_type": "markdown",
      "metadata": {
        "id": "6PMliHoVO3OL"
      },
      "source": [
        "Ezek az adatkészletek egyedi példákat adnak vissza. Használja a `.batch` metódust a képzéshez megfelelő méretű tételek létrehozásához. A kötegelés előtt ne felejtsük el a `.shuffle` és `.repeat` műveleti halmazt is."
      ]
    },
    {
      "cell_type": "code",
      "metadata": {
        "id": "Y7I4J355O223"
      },
      "source": [
        "validate_ds = validate_ds.batch(BATCH_SIZE)\n",
        "train_ds = train_ds.shuffle(BUFFER_SIZE).repeat().batch(BATCH_SIZE)"
      ],
      "execution_count": 22,
      "outputs": []
    },
    {
      "cell_type": "markdown",
      "metadata": {
        "id": "lglk41MwvU5o"
      },
      "source": [
        "## Túlillesztés demonstrálása\n",
        "Túlillesztés demonstrálása\n",
        "A túlillesztés megelőzésének legegyszerűbb módja, ha egy kis modellel kezdünk: Egy olyan modellel, amelynek kis számú tanulható paramétere van (amit a rétegek száma és a rétegenkénti egységek száma határoz meg). A mélytanulásban a modell tanulható paramétereinek számát gyakran a modell \"kapacitásának\" nevezik.\n",
        "\n",
        "Intuitív módon egy több paraméterrel rendelkező modell nagyobb \"memorizálási kapacitással\" rendelkezik, és ezért könnyen képes lesz megtanulni egy tökéletes szótárszerű leképezést a gyakorló minták és a célpontjaik között, egy olyan leképezést, amelynek nincs általánosító ereje, de ez használhatatlan lenne, amikor korábban nem látott adatokra készítünk előrejelzéseket.\n",
        "\n",
        "Ezt mindig tartsuk szem előtt: a mélytanulási modellek általában jól illeszkednek a képzési adatokhoz, de az igazi kihívás az általánosítás, nem pedig az illesztés.\n",
        "\n",
        "Másrészt, ha a hálózat korlátozott kapacitással rendelkezik, nem fogja tudni olyan könnyen megtanulni a leképezést. A veszteség minimalizálása érdekében olyan tömörített reprezentációkat kell megtanulnia, amelyek nagyobb előrejelző képességgel rendelkeznek. Ugyanakkor, ha a modelljét túl kicsivé teszi, akkor nehezen fog illeszkedni a képzési adatokhoz. A \"túl sok kapacitás\" és a \"nem elég kapacitás\" között kell egyensúlyozni.\n",
        "\n",
        "Sajnos nincs varázslatos képlet a modell megfelelő méretének vagy architektúrájának meghatározására (a rétegek számát vagy az egyes rétegek megfelelő méretét tekintve). Különböző architektúrákkal kell kísérleteznie.\n",
        "\n",
        "A megfelelő modellméret megtalálásához a legjobb, ha viszonylag kevés réteggel és paraméterrel kezd, majd elkezdi növelni a rétegek méretét, vagy új rétegeket ad hozzá, amíg a validációs veszteség csökkenő megtérülését nem látja.\n",
        "\n",
        "Kezdje egy egyszerű modellel, amely alapként csak a layers.Dense-t használja, majd hozzon létre nagyobb változatokat, és hasonlítsa össze őket."
      ]
    },
    {
      "cell_type": "markdown",
      "metadata": {
        "id": "_ReKHdC2EgVu"
      },
      "source": [
        "### Tanítás"
      ]
    },
    {
      "cell_type": "markdown",
      "metadata": {
        "id": "pNzkSkkXSP5l"
      },
      "source": [
        "Sok modell jobban tanul, ha a tanulás során fokozatosan csökkenti a tanulási sebességet. Az `optimizers.schedules` használatával idővel csökkentheti a tanulási sebességet:"
      ]
    },
    {
      "cell_type": "code",
      "metadata": {
        "id": "LwQp-ERhAD6F"
      },
      "source": [
        "lr_schedule = tf.keras.optimizers.schedules.InverseTimeDecay(\n",
        "  0.001,\n",
        "  decay_steps=STEPS_PER_EPOCH*1000,\n",
        "  decay_rate=1,\n",
        "  staircase=False)\n",
        "\n",
        "def get_optimizer():\n",
        "  return tf.keras.optimizers.Adam(lr_schedule)"
      ],
      "execution_count": 23,
      "outputs": []
    },
    {
      "cell_type": "markdown",
      "metadata": {
        "id": "kANLx6OYTQ8B"
      },
      "source": [
        "A fenti kód beállít egy `schedules.InverseTimeDecay`-t, amely hiperbolikusan csökkenti a tanulási sebességet az alapsebesség 1/2-ére 1000 epochánál, 1/3-ára 2000 epochánál és így tovább."
      ]
    },
    {
      "cell_type": "code",
      "metadata": {
        "id": "HIo_yPjEAFgn",
        "colab": {
          "base_uri": "https://localhost:8080/",
          "height": 388
        },
        "outputId": "4b33f4a1-c38f-43cf-93ba-9246a7ca490f"
      },
      "source": [
        "step = np.linspace(0,100000)\n",
        "lr = lr_schedule(step)\n",
        "plt.figure(figsize = (8,6))\n",
        "plt.plot(step/STEPS_PER_EPOCH, lr)\n",
        "plt.ylim([0,max(plt.ylim())])\n",
        "plt.xlabel('Epoch')\n",
        "_ = plt.ylabel('Learning Rate')\n"
      ],
      "execution_count": 24,
      "outputs": [
        {
          "output_type": "display_data",
          "data": {
            "text/plain": [
              "<Figure size 576x432 with 1 Axes>"
            ],
            "image/png": "[encoded data removed]"
          },
          "metadata": {
            "needs_background": "light"
          }
        }
      ]
    },
    {
      "cell_type": "code",
      "metadata": {
        "colab": {
          "base_uri": "https://localhost:8080/"
        },
        "id": "Jpk9HmL3ucjC",
        "outputId": "02698221-db6a-4d5e-866e-9cf0363f21bf"
      },
      "source": [
        "step"
      ],
      "execution_count": 25,
      "outputs": [
        {
          "output_type": "execute_result",
          "data": {
            "text/plain": [
              "array([     0.        ,   2040.81632653,   4081.63265306,   6122.44897959,\n",
              "         8163.26530612,  10204.08163265,  12244.89795918,  14285.71428571,\n",
              "        16326.53061224,  18367.34693878,  20408.16326531,  22448.97959184,\n",
              "        24489.79591837,  26530.6122449 ,  28571.42857143,  30612.24489796,\n",
              "        32653.06122449,  34693.87755102,  36734.69387755,  38775.51020408,\n",
              "        40816.32653061,  42857.14285714,  44897.95918367,  46938.7755102 ,\n",
              "        48979.59183673,  51020.40816327,  53061.2244898 ,  55102.04081633,\n",
              "        57142.85714286,  59183.67346939,  61224.48979592,  63265.30612245,\n",
              "        65306.12244898,  67346.93877551,  69387.75510204,  71428.57142857,\n",
              "        73469.3877551 ,  75510.20408163,  77551.02040816,  79591.83673469,\n",
              "        81632.65306122,  83673.46938776,  85714.28571429,  87755.10204082,\n",
              "        89795.91836735,  91836.73469388,  93877.55102041,  95918.36734694,\n",
              "        97959.18367347, 100000.        ])"
            ]
          },
          "metadata": {},
          "execution_count": 25
        }
      ]
    },
    {
      "cell_type": "markdown",
      "metadata": {
        "id": "ya7x7gr9UjU0"
      },
      "source": [
        "Ebben a bemutatóban minden modell ugyanazt a képzési konfigurációt használja. Tehát állítsa be ezeket újrafelhasználható módon, kezdve a visszahívások listájával.\n",
        "\n",
        "A bemutató tréningje sok rövid korszakon keresztül fut. A naplózási zaj csökkentéséhez használd az `tfdocs.EpochDots`-t, amely egyszerűen kiír egy `.`-t minden korszakhoz, és a metrikák teljes készletét 100 korszakonként.\n",
        "\n",
        "Ezután tegyük be a `callbacks.EarlyStopping`-t, hogy elkerülje a hosszú és szükségtelen képzési időket. Vegyük észre, hogy ez a callback az `val_binary_crossentropy`, nem pedig az `val_loss` megfigyelésére van beállítva. Ez a különbség később fontos lesz.\n",
        "\n",
        "A `callbacks.TensorBoard` használatával TensorBoard naplókat generálhatunk a képzéshez.\n"
      ]
    },
    {
      "cell_type": "code",
      "metadata": {
        "id": "vSv8rfw_T85n"
      },
      "source": [
        "def get_callbacks(name):\n",
        "  return [\n",
        "    tfdocs.modeling.EpochDots(),\n",
        "    tf.keras.callbacks.EarlyStopping(monitor='val_binary_crossentropy', patience=200),\n",
        "    tf.keras.callbacks.TensorBoard(logdir/name),\n",
        "  ]"
      ],
      "execution_count": 26,
      "outputs": []
    },
    {
      "cell_type": "markdown",
      "metadata": {
        "id": "VhctzKhBWVDD"
      },
      "source": [
        "Hasonlóképpen minden modell ugyanazokat a \"Model.compile\" és \"Model.fit\" beállításokat fogja használni:"
      ]
    },
    {
      "cell_type": "code",
      "metadata": {
        "id": "xRCGwU3YH5sT"
      },
      "source": [
        "def compile_and_fit(model, name, optimizer=None, max_epochs=10000):\n",
        "  if optimizer is None:\n",
        "    optimizer = get_optimizer()\n",
        "  model.compile(optimizer=optimizer,\n",
        "                loss=tf.keras.losses.BinaryCrossentropy(from_logits=True),\n",
        "                metrics=[\n",
        "                  tf.keras.losses.BinaryCrossentropy(\n",
        "                      from_logits=True, name='binary_crossentropy'),\n",
        "                  'accuracy'])\n",
        "\n",
        "  model.summary()\n",
        "\n",
        "  history = model.fit(\n",
        "    train_ds,\n",
        "    steps_per_epoch = STEPS_PER_EPOCH,\n",
        "    epochs=max_epochs,\n",
        "    validation_data=validate_ds,\n",
        "    callbacks=get_callbacks(name),\n",
        "    verbose=0)\n",
        "  return history"
      ],
      "execution_count": 27,
      "outputs": []
    },
    {
      "cell_type": "markdown",
      "metadata": {
        "id": "mxBeiLUiWHJV"
      },
      "source": [
        "### Tiny model"
      ]
    },
    {
      "cell_type": "markdown",
      "metadata": {
        "id": "a6JDv12scLTI"
      },
      "source": [
        "Kezdje egy modell kiképzésével:"
      ]
    },
    {
      "cell_type": "code",
      "metadata": {
        "id": "EZh-QFjKHb70"
      },
      "source": [
        "tiny_model = tf.keras.Sequential([\n",
        "    layers.Dense(16, activation='elu', input_shape=(FEATURES,)),\n",
        "    layers.Dense(1)\n",
        "])"
      ],
      "execution_count": 28,
      "outputs": []
    },
    {
      "cell_type": "code",
      "metadata": {
        "id": "X72IUdWYipIS"
      },
      "source": [
        "size_histories = {}"
      ],
      "execution_count": 29,
      "outputs": []
    },
    {
      "cell_type": "code",
      "metadata": {
        "id": "bdOcJtPGHhJ5",
        "colab": {
          "base_uri": "https://localhost:8080/"
        },
        "outputId": "0a25a1a2-eb07-4202-ab83-ab0ef7d517a3"
      },
      "source": [
        "size_histories['Tiny'] = compile_and_fit(tiny_model, 'sizes/Tiny')"
      ],
      "execution_count": 30,
      "outputs": [
        {
          "output_type": "stream",
          "name": "stdout",
          "text": [
            "Model: \"sequential\"\n",
            "_________________________________________________________________\n",
            " Layer (type)                Output Shape              Param #   \n",
            "=================================================================\n",
            " dense (Dense)               (None, 16)                464       \n",
            "                                                                 \n",
            " dense_1 (Dense)             (None, 1)                 17        \n",
            "                                                                 \n",
            "=================================================================\n",
            "Total params: 481\n",
            "Trainable params: 481\n",
            "Non-trainable params: 0\n",
            "_________________________________________________________________\n",
            "\n",
            "Epoch: 0, accuracy:0.4863,  binary_crossentropy:0.7961,  loss:0.7961,  val_accuracy:0.4640,  val_binary_crossentropy:0.7863,  val_loss:0.7863,  \n",
            "....................................................................................................\n",
            "Epoch: 100, accuracy:0.5889,  binary_crossentropy:0.6312,  loss:0.6312,  val_accuracy:0.5650,  val_binary_crossentropy:0.6302,  val_loss:0.6302,  \n",
            "....................................................................................................\n",
            "Epoch: 200, accuracy:0.6060,  binary_crossentropy:0.6207,  loss:0.6207,  val_accuracy:0.5830,  val_binary_crossentropy:0.6175,  val_loss:0.6175,  \n",
            "....................................................................................................\n",
            "Epoch: 300, accuracy:0.6245,  binary_crossentropy:0.6128,  loss:0.6128,  val_accuracy:0.6010,  val_binary_crossentropy:0.6119,  val_loss:0.6119,  \n",
            "....................................................................................................\n",
            "Epoch: 400, accuracy:0.6334,  binary_crossentropy:0.6061,  loss:0.6061,  val_accuracy:0.6220,  val_binary_crossentropy:0.6036,  val_loss:0.6036,  \n",
            "....................................................................................................\n",
            "Epoch: 500, accuracy:0.6467,  binary_crossentropy:0.5994,  loss:0.5994,  val_accuracy:0.6250,  val_binary_crossentropy:0.5993,  val_loss:0.5993,  \n",
            "....................................................................................................\n",
            "Epoch: 600, accuracy:0.6552,  binary_crossentropy:0.5936,  loss:0.5936,  val_accuracy:0.6490,  val_binary_crossentropy:0.5927,  val_loss:0.5927,  \n",
            "....................................................................................................\n",
            "Epoch: 700, accuracy:0.6612,  binary_crossentropy:0.5887,  loss:0.5887,  val_accuracy:0.6500,  val_binary_crossentropy:0.5890,  val_loss:0.5890,  \n",
            "....................................................................................................\n",
            "Epoch: 800, accuracy:0.6655,  binary_crossentropy:0.5856,  loss:0.5856,  val_accuracy:0.6630,  val_binary_crossentropy:0.5864,  val_loss:0.5864,  \n",
            "....................................................................................................\n",
            "Epoch: 900, accuracy:0.6722,  binary_crossentropy:0.5825,  loss:0.5825,  val_accuracy:0.6730,  val_binary_crossentropy:0.5838,  val_loss:0.5838,  \n",
            "....................................................................................................\n",
            "Epoch: 1000, accuracy:0.6739,  binary_crossentropy:0.5823,  loss:0.5823,  val_accuracy:0.6600,  val_binary_crossentropy:0.5824,  val_loss:0.5824,  \n",
            "....................................................................................................\n",
            "Epoch: 1100, accuracy:0.6826,  binary_crossentropy:0.5786,  loss:0.5786,  val_accuracy:0.6780,  val_binary_crossentropy:0.5793,  val_loss:0.5793,  \n",
            "....................................................................................................\n",
            "Epoch: 1200, accuracy:0.6762,  binary_crossentropy:0.5769,  loss:0.5769,  val_accuracy:0.6850,  val_binary_crossentropy:0.5777,  val_loss:0.5777,  \n",
            "....................................................................................................\n",
            "Epoch: 1300, accuracy:0.6782,  binary_crossentropy:0.5757,  loss:0.5757,  val_accuracy:0.6920,  val_binary_crossentropy:0.5749,  val_loss:0.5749,  \n",
            "....................................................................................................\n",
            "Epoch: 1400, accuracy:0.6793,  binary_crossentropy:0.5740,  loss:0.5740,  val_accuracy:0.6930,  val_binary_crossentropy:0.5738,  val_loss:0.5738,  \n",
            "....................................................................................................\n",
            "Epoch: 1500, accuracy:0.6831,  binary_crossentropy:0.5730,  loss:0.5730,  val_accuracy:0.6960,  val_binary_crossentropy:0.5720,  val_loss:0.5720,  \n",
            "....................................................................................................\n",
            "Epoch: 1600, accuracy:0.6809,  binary_crossentropy:0.5719,  loss:0.5719,  val_accuracy:0.6900,  val_binary_crossentropy:0.5716,  val_loss:0.5716,  \n",
            "....................................................................................................\n",
            "Epoch: 1700, accuracy:0.6841,  binary_crossentropy:0.5705,  loss:0.5705,  val_accuracy:0.6800,  val_binary_crossentropy:0.5721,  val_loss:0.5721,  \n",
            "....................................................................................................\n",
            "Epoch: 1800, accuracy:0.6849,  binary_crossentropy:0.5697,  loss:0.5697,  val_accuracy:0.6950,  val_binary_crossentropy:0.5700,  val_loss:0.5700,  \n",
            "....................................................................................................\n",
            "Epoch: 1900, accuracy:0.6838,  binary_crossentropy:0.5685,  loss:0.5685,  val_accuracy:0.6840,  val_binary_crossentropy:0.5698,  val_loss:0.5698,  \n",
            "....................................................................................................\n",
            "Epoch: 2000, accuracy:0.6865,  binary_crossentropy:0.5674,  loss:0.5674,  val_accuracy:0.6900,  val_binary_crossentropy:0.5684,  val_loss:0.5684,  \n",
            "....................................................................................................\n",
            "Epoch: 2100, accuracy:0.6868,  binary_crossentropy:0.5666,  loss:0.5666,  val_accuracy:0.6870,  val_binary_crossentropy:0.5682,  val_loss:0.5682,  \n",
            "....................................................................................................\n",
            "Epoch: 2200, accuracy:0.6912,  binary_crossentropy:0.5658,  loss:0.5658,  val_accuracy:0.6880,  val_binary_crossentropy:0.5690,  val_loss:0.5690,  \n",
            "....................................................................................................\n",
            "Epoch: 2300, accuracy:0.6904,  binary_crossentropy:0.5652,  loss:0.5652,  val_accuracy:0.6870,  val_binary_crossentropy:0.5682,  val_loss:0.5682,  \n",
            "....................................................................................................\n",
            "Epoch: 2400, accuracy:0.6892,  binary_crossentropy:0.5644,  loss:0.5644,  val_accuracy:0.6780,  val_binary_crossentropy:0.5692,  val_loss:0.5692,  \n",
            "....................................................................................................\n",
            "Epoch: 2500, accuracy:0.6892,  binary_crossentropy:0.5641,  loss:0.5641,  val_accuracy:0.6880,  val_binary_crossentropy:0.5674,  val_loss:0.5674,  \n",
            "....................................................................................................\n",
            "Epoch: 2600, accuracy:0.6865,  binary_crossentropy:0.5635,  loss:0.5635,  val_accuracy:0.6900,  val_binary_crossentropy:0.5663,  val_loss:0.5663,  \n",
            "....................................................................................................\n",
            "Epoch: 2700, accuracy:0.6885,  binary_crossentropy:0.5627,  loss:0.5627,  val_accuracy:0.6890,  val_binary_crossentropy:0.5661,  val_loss:0.5661,  \n",
            "....................................................................................................\n",
            "Epoch: 2800, accuracy:0.6909,  binary_crossentropy:0.5621,  loss:0.5621,  val_accuracy:0.6880,  val_binary_crossentropy:0.5665,  val_loss:0.5665,  \n",
            "....................................................................................................\n",
            "Epoch: 2900, accuracy:0.6944,  binary_crossentropy:0.5617,  loss:0.5617,  val_accuracy:0.6840,  val_binary_crossentropy:0.5660,  val_loss:0.5660,  \n",
            "....................................................................................................\n",
            "Epoch: 3000, accuracy:0.6939,  binary_crossentropy:0.5619,  loss:0.5619,  val_accuracy:0.6900,  val_binary_crossentropy:0.5657,  val_loss:0.5657,  \n",
            "....................................................................................................\n",
            "Epoch: 3100, accuracy:0.6923,  binary_crossentropy:0.5609,  loss:0.5609,  val_accuracy:0.6900,  val_binary_crossentropy:0.5651,  val_loss:0.5651,  \n",
            "....................................................................................................\n",
            "Epoch: 3200, accuracy:0.6936,  binary_crossentropy:0.5604,  loss:0.5604,  val_accuracy:0.6880,  val_binary_crossentropy:0.5656,  val_loss:0.5656,  \n",
            "....................................................................................................\n",
            "Epoch: 3300, accuracy:0.6917,  binary_crossentropy:0.5599,  loss:0.5599,  val_accuracy:0.6930,  val_binary_crossentropy:0.5640,  val_loss:0.5640,  \n",
            "....................................................................................................\n",
            "Epoch: 3400, accuracy:0.6921,  binary_crossentropy:0.5595,  loss:0.5595,  val_accuracy:0.6950,  val_binary_crossentropy:0.5636,  val_loss:0.5636,  \n",
            "....................................................................................................\n",
            "Epoch: 3500, accuracy:0.6940,  binary_crossentropy:0.5593,  loss:0.5593,  val_accuracy:0.6940,  val_binary_crossentropy:0.5635,  val_loss:0.5635,  \n",
            "....................................................................................................\n",
            "Epoch: 3600, accuracy:0.6940,  binary_crossentropy:0.5588,  loss:0.5588,  val_accuracy:0.6890,  val_binary_crossentropy:0.5645,  val_loss:0.5645,  \n",
            "....................................................................................................\n",
            "Epoch: 3700, accuracy:0.6941,  binary_crossentropy:0.5588,  loss:0.5588,  val_accuracy:0.6910,  val_binary_crossentropy:0.5639,  val_loss:0.5639,  \n",
            "............................................"
          ]
        }
      ]
    },
    {
      "cell_type": "markdown",
      "metadata": {
        "id": "rS_QGT6icwdI"
      },
      "source": [
        "Most ellenőrizze, hogyan teljesített a modell:"
      ]
    },
    {
      "cell_type": "code",
      "metadata": {
        "id": "dkEvb2x5XsjE",
        "colab": {
          "base_uri": "https://localhost:8080/",
          "height": 300
        },
        "outputId": "7b4a8c4d-4a64-4ed8-c672-8d584d4cfaa9"
      },
      "source": [
        "plotter = tfdocs.plots.HistoryPlotter(metric = 'binary_crossentropy', smoothing_std=10)\n",
        "plotter.plot(size_histories)\n",
        "plt.ylim([0.5, 0.7])"
      ],
      "execution_count": 31,
      "outputs": [
        {
          "output_type": "execute_result",
          "data": {
            "text/plain": [
              "(0.5, 0.7)"
            ]
          },
          "metadata": {},
          "execution_count": 31
        },
        {
          "output_type": "display_data",
          "data": {
            "text/plain": [
              "<Figure size 432x288 with 1 Axes>"
            ],
            "image/png": "[encoded data removed]"
          },
          "metadata": {
            "needs_background": "light"
          }
        }
      ]
    },
    {
      "cell_type": "markdown",
      "metadata": {
        "id": "LGxGzh_FWOJ8"
      },
      "source": [
        "### Small model"
      ]
    },
    {
      "cell_type": "markdown",
      "metadata": {
        "id": "YjMb6E72f2pN"
      },
      "source": [
        "Hogy lássa, hogy meg tudja-e verni a kis modell teljesítményét, fokozatosan képezzen ki néhány nagyobb modellt.\n",
        "\n",
        "Próbáljon ki két rejtett réteget egyenként 16 egységgel:"
      ]
    },
    {
      "cell_type": "code",
      "metadata": {
        "id": "QKgdXPx9usBa"
      },
      "source": [
        "small_model = tf.keras.Sequential([\n",
        "    # `input_shape` is only required here so that `.summary` works.\n",
        "    layers.Dense(16, activation='elu', input_shape=(FEATURES,)),\n",
        "    layers.Dense(16, activation='elu'),\n",
        "    layers.Dense(1)\n",
        "])"
      ],
      "execution_count": 32,
      "outputs": []
    },
    {
      "cell_type": "code",
      "metadata": {
        "id": "LqG3MXF5xSjR",
        "colab": {
          "base_uri": "https://localhost:8080/"
        },
        "outputId": "118c788f-c74e-46f4-863a-7628fa7833ca"
      },
      "source": [
        "size_histories['Small'] = compile_and_fit(small_model, 'sizes/Small')"
      ],
      "execution_count": 33,
      "outputs": [
        {
          "output_type": "stream",
          "name": "stdout",
          "text": [
            "Model: \"sequential_1\"\n",
            "_________________________________________________________________\n",
            " Layer (type)                Output Shape              Param #   \n",
            "=================================================================\n",
            " dense_2 (Dense)             (None, 16)                464       \n",
            "                                                                 \n",
            " dense_3 (Dense)             (None, 16)                272       \n",
            "                                                                 \n",
            " dense_4 (Dense)             (None, 1)                 17        \n",
            "                                                                 \n",
            "=================================================================\n",
            "Total params: 753\n",
            "Trainable params: 753\n",
            "Non-trainable params: 0\n",
            "_________________________________________________________________\n",
            "\n",
            "Epoch: 0, accuracy:0.4683,  binary_crossentropy:0.8873,  loss:0.8873,  val_accuracy:0.4870,  val_binary_crossentropy:0.7486,  val_loss:0.7486,  \n",
            "....................................................................................................\n",
            "Epoch: 100, accuracy:0.6143,  binary_crossentropy:0.6196,  loss:0.6196,  val_accuracy:0.6040,  val_binary_crossentropy:0.6185,  val_loss:0.6185,  \n",
            "....................................................................................................\n",
            "Epoch: 200, accuracy:0.6526,  binary_crossentropy:0.5979,  loss:0.5979,  val_accuracy:0.6290,  val_binary_crossentropy:0.5990,  val_loss:0.5990,  \n",
            "....................................................................................................\n",
            "Epoch: 300, accuracy:0.6718,  binary_crossentropy:0.5796,  loss:0.5796,  val_accuracy:0.6690,  val_binary_crossentropy:0.5845,  val_loss:0.5845,  \n",
            "....................................................................................................\n",
            "Epoch: 400, accuracy:0.6812,  binary_crossentropy:0.5697,  loss:0.5697,  val_accuracy:0.6940,  val_binary_crossentropy:0.5819,  val_loss:0.5819,  \n",
            "....................................................................................................\n",
            "Epoch: 500, accuracy:0.6876,  binary_crossentropy:0.5637,  loss:0.5637,  val_accuracy:0.6750,  val_binary_crossentropy:0.5835,  val_loss:0.5835,  \n",
            "....................................................................................................\n",
            "Epoch: 600, accuracy:0.6881,  binary_crossentropy:0.5605,  loss:0.5605,  val_accuracy:0.6660,  val_binary_crossentropy:0.5868,  val_loss:0.5868,  \n",
            "......."
          ]
        }
      ]
    },
    {
      "cell_type": "markdown",
      "metadata": {
        "id": "L-DGRBbGxI6G"
      },
      "source": [
        "### Medium model"
      ]
    },
    {
      "cell_type": "markdown",
      "metadata": {
        "id": "SrfoVQheYSO5"
      },
      "source": [
        "Most próbáljon ki 3 rejtett réteget egyenként 64 egységgel:"
      ]
    },
    {
      "cell_type": "code",
      "metadata": {
        "id": "jksi-XtaxDAh"
      },
      "source": [
        "medium_model = tf.keras.Sequential([\n",
        "    layers.Dense(64, activation='elu', input_shape=(FEATURES,)),\n",
        "    layers.Dense(64, activation='elu'),\n",
        "    layers.Dense(64, activation='elu'),\n",
        "    layers.Dense(1)\n",
        "])"
      ],
      "execution_count": 34,
      "outputs": []
    },
    {
      "cell_type": "markdown",
      "metadata": {
        "id": "jbngCZliYdma"
      },
      "source": [
        "És képezze a modellt ugyanazokkal az adatokkal:"
      ]
    },
    {
      "cell_type": "code",
      "metadata": {
        "id": "Ofn1AwDhx-Fe",
        "colab": {
          "base_uri": "https://localhost:8080/"
        },
        "outputId": "e1af81a3-af9b-45d4-a09b-88b4764dbee4"
      },
      "source": [
        "size_histories['Medium']  = compile_and_fit(medium_model, \"sizes/Medium\")"
      ],
      "execution_count": 35,
      "outputs": [
        {
          "output_type": "stream",
          "name": "stdout",
          "text": [
            "Model: \"sequential_2\"\n",
            "_________________________________________________________________\n",
            " Layer (type)                Output Shape              Param #   \n",
            "=================================================================\n",
            " dense_5 (Dense)             (None, 64)                1856      \n",
            "                                                                 \n",
            " dense_6 (Dense)             (None, 64)                4160      \n",
            "                                                                 \n",
            " dense_7 (Dense)             (None, 64)                4160      \n",
            "                                                                 \n",
            " dense_8 (Dense)             (None, 1)                 65        \n",
            "                                                                 \n",
            "=================================================================\n",
            "Total params: 10,241\n",
            "Trainable params: 10,241\n",
            "Non-trainable params: 0\n",
            "_________________________________________________________________\n",
            "\n",
            "Epoch: 0, accuracy:0.4747,  binary_crossentropy:0.7097,  loss:0.7097,  val_accuracy:0.4960,  val_binary_crossentropy:0.6844,  val_loss:0.6844,  \n",
            "....................................................................................................\n",
            "Epoch: 100, accuracy:0.7119,  binary_crossentropy:0.5288,  loss:0.5288,  val_accuracy:0.6870,  val_binary_crossentropy:0.5995,  val_loss:0.5995,  \n",
            "....................................................................................................\n",
            "Epoch: 200, accuracy:0.7848,  binary_crossentropy:0.4341,  loss:0.4341,  val_accuracy:0.6510,  val_binary_crossentropy:0.6686,  val_loss:0.6686,  \n",
            "................................................................................................"
          ]
        }
      ]
    },
    {
      "cell_type": "markdown",
      "metadata": {
        "id": "vIPuf23FFaVn"
      },
      "source": [
        "### Large model\n",
        "\n",
        "Gyakorlásképpen létrehozhat egy még nagyobb modellt, és megnézheti, milyen gyorsan kezd túlilleszkedni.  Ezután adjunk ehhez a benchmarkhoz egy olyan hálózatot, amely sokkal nagyobb kapacitással rendelkezik, sokkal többel, mint amennyit a probléma indokolna:"
      ]
    },
    {
      "cell_type": "code",
      "metadata": {
        "id": "ghQwwqwqvQM9"
      },
      "source": [
        "large_model = tf.keras.Sequential([\n",
        "    layers.Dense(512, activation='elu', input_shape=(FEATURES,)),\n",
        "    layers.Dense(512, activation='elu'),\n",
        "    layers.Dense(512, activation='elu'),\n",
        "    layers.Dense(512, activation='elu'),\n",
        "    layers.Dense(1)\n",
        "])"
      ],
      "execution_count": 36,
      "outputs": []
    },
    {
      "cell_type": "markdown",
      "metadata": {
        "id": "D-d-i5DaYmr7"
      },
      "source": [
        "És ismét képezze a modellt ugyanazokkal az adatokkal:"
      ]
    },
    {
      "cell_type": "code",
      "metadata": {
        "id": "U1A99dhqvepf",
        "colab": {
          "base_uri": "https://localhost:8080/"
        },
        "outputId": "79e7a651-d3c6-4a0c-d0ed-b3d3380c691e"
      },
      "source": [
        "size_histories['large'] = compile_and_fit(large_model, \"sizes/large\")"
      ],
      "execution_count": 37,
      "outputs": [
        {
          "output_type": "stream",
          "name": "stdout",
          "text": [
            "Model: \"sequential_3\"\n",
            "_________________________________________________________________\n",
            " Layer (type)                Output Shape              Param #   \n",
            "=================================================================\n",
            " dense_9 (Dense)             (None, 512)               14848     \n",
            "                                                                 \n",
            " dense_10 (Dense)            (None, 512)               262656    \n",
            "                                                                 \n",
            " dense_11 (Dense)            (None, 512)               262656    \n",
            "                                                                 \n",
            " dense_12 (Dense)            (None, 512)               262656    \n",
            "                                                                 \n",
            " dense_13 (Dense)            (None, 1)                 513       \n",
            "                                                                 \n",
            "=================================================================\n",
            "Total params: 803,329\n",
            "Trainable params: 803,329\n",
            "Non-trainable params: 0\n",
            "_________________________________________________________________\n",
            "\n",
            "Epoch: 0, accuracy:0.5047,  binary_crossentropy:0.8146,  loss:0.8146,  val_accuracy:0.5220,  val_binary_crossentropy:0.6745,  val_loss:0.6745,  \n",
            "....................................................................................................\n",
            "Epoch: 100, accuracy:1.0000,  binary_crossentropy:0.0022,  loss:0.0022,  val_accuracy:0.6610,  val_binary_crossentropy:1.8046,  val_loss:1.8046,  \n",
            "....................................................................................................\n",
            "Epoch: 200, accuracy:1.0000,  binary_crossentropy:0.0002,  loss:0.0002,  val_accuracy:0.6610,  val_binary_crossentropy:2.4593,  val_loss:2.4593,  \n",
            "................."
          ]
        }
      ]
    },
    {
      "cell_type": "markdown",
      "metadata": {
        "id": "Fy3CMUZpzH3d"
      },
      "source": [
        "### A képzési és validálási veszteségek ábrázolása"
      ]
    },
    {
      "cell_type": "markdown",
      "metadata": {
        "id": "HSlo1F4xHuuM"
      },
      "source": [
        "A folytonos vonalak a képzési veszteséget, a szaggatott vonalak pedig az érvényesítési veszteséget mutatják (ne feledjük: az alacsonyabb érvényesítési veszteség jobb modellt jelez)."
      ]
    },
    {
      "cell_type": "markdown",
      "metadata": {
        "id": "OLhL1AszdLfM"
      },
      "source": [
        "Bár egy nagyobb modell felépítése nagyobb teljesítményt biztosít, ha ez a teljesítmény nincs valahogyan korlátozva, akkor könnyen túlilleszkedhet a képzési halmazhoz.\n",
        "\n",
        "Ebben a példában jellemzően csak az \"Apró\" modellnek sikerül teljesen elkerülnie a túlillesztést, és a nagyobb modellek mindegyike gyorsabban túlilleszti az adatokat. A `\"nagy\"` modell esetében ez olyan súlyos, hogy a grafikonon logaritmikus skálára kell váltani ahhoz, hogy valóban lássuk, mi történik.\n",
        "\n",
        "Ez akkor válik nyilvánvalóvá, ha a validálási metrikákat a képzési metrikákkal ábrázolja és hasonlítja össze.\n",
        "\n",
        "* Normális, hogy van egy kis különbség.\n",
        "* Ha mindkét metrika ugyanabba az irányba mozog, akkor minden rendben van.\n",
        "* Ha az érvényesítési metrika stagnálni kezd, míg a képzési metrika folyamatosan javul, akkor valószínűleg közel áll a túlillesztéshez.\n",
        "* Ha a validációs metrika rossz irányba halad, a modell egyértelműen túlilleszkedik."
      ]
    },
    {
      "cell_type": "code",
      "metadata": {
        "id": "0XmKDtOWzOpk",
        "colab": {
          "base_uri": "https://localhost:8080/",
          "height": 304
        },
        "outputId": "d8845c60-dfd4-4311-b619-d8f384384648"
      },
      "source": [
        "plotter.plot(size_histories)\n",
        "a = plt.xscale('log')\n",
        "plt.xlim([5, max(plt.xlim())])\n",
        "plt.ylim([0.5, 0.7])\n",
        "plt.xlabel(\"Epochs [Log Scale]\")"
      ],
      "execution_count": 38,
      "outputs": [
        {
          "output_type": "execute_result",
          "data": {
            "text/plain": [
              "Text(0.5, 0, 'Epochs [Log Scale]')"
            ]
          },
          "metadata": {},
          "execution_count": 38
        },
        {
          "output_type": "display_data",
          "data": {
            "text/plain": [
              "<Figure size 432x288 with 1 Axes>"
            ],
            "image/png": "[encoded data removed]"
          },
          "metadata": {
            "needs_background": "light"
          }
        }
      ]
    },
    {
      "cell_type": "markdown",
      "metadata": {
        "id": "UekcaQdmZxnW"
      },
      "source": [
        "Note: All the above training runs used the `callbacks.EarlyStopping` to end the training once it was clear the model was not making progress."
      ]
    },
    {
      "cell_type": "markdown",
      "metadata": {
        "id": "DEQNKadHA0M3"
      },
      "source": [
        "### Nézet a TensorBoardban\n",
        "\n",
        "Ezek a modellek mind TensorBoard naplókat írtak a képzés során.\n",
        "\n",
        "Nyissa meg a beágyazott TensorBoard nézegetőt egy jegyzetfüzetben:"
      ]
    },
    {
      "cell_type": "code",
      "metadata": {
        "id": "6oa1lkJddZ-m",
        "colab": {
          "base_uri": "https://localhost:8080/",
          "height": 822
        },
        "outputId": "9c3e245c-05bc-412b-89fd-8d27038a36f3"
      },
      "source": [
        "#docs_infra: no_execute\n",
        "\n",
        "# Load the TensorBoard notebook extension\n",
        "%load_ext tensorboard\n",
        "\n",
        "# Open an embedded TensorBoard viewer\n",
        "%tensorboard --logdir {logdir}/sizes"
      ],
      "execution_count": 39,
      "outputs": [
        {
          "output_type": "display_data",
          "data": {
            "text/plain": [
              "<IPython.core.display.Javascript object>"
            ],
            "application/javascript": [
              "\n",
              "        (async () => {\n",
              "            const url = new URL(await google.colab.kernel.proxyPort(6006, {'cache': true}));\n",
              "            url.searchParams.set('tensorboardColab', 'true');\n",
              "            const iframe = document.createElement('iframe');\n",
              "            iframe.src = url;\n",
              "            iframe.setAttribute('width', '100%');\n",
              "            iframe.setAttribute('height', '800');\n",
              "            iframe.setAttribute('frameborder', 0);\n",
              "            document.body.appendChild(iframe);\n",
              "        })();\n",
              "    "
            ]
          },
          "metadata": {}
        }
      ]
    },
    {
      "cell_type": "markdown",
      "metadata": {
        "id": "fjqx3bywDPjf"
      },
      "source": [
        "You can view the [results of a previous run](https://tensorboard.dev/experiment/vW7jmmF9TmKmy3rbheMQpw/#scalars&_smoothingWeight=0.97) of this notebook on [TensorBoard.dev](https://tensorboard.dev/).\n",
        "\n",
        "TensorBoard.dev is a managed experience for hosting, tracking, and sharing ML experiments with everyone.\n",
        "\n",
        "It's also included in an `<iframe>` for convenience:"
      ]
    },
    {
      "cell_type": "code",
      "metadata": {
        "id": "dX5fcgrADwym",
        "colab": {
          "base_uri": "https://localhost:8080/",
          "height": 822
        },
        "outputId": "adefaa67-4906-4a1b-f78d-553fbbf41547"
      },
      "source": [
        "display.IFrame(\n",
        "    src=\"https://tensorboard.dev/experiment/vW7jmmF9TmKmy3rbheMQpw/#scalars&_smoothingWeight=0.97\",\n",
        "    width=\"100%\", height=\"800px\")"
      ],
      "execution_count": 40,
      "outputs": [
        {
          "output_type": "execute_result",
          "data": {
            "text/plain": [
              "<IPython.lib.display.IFrame at 0x7f59a0460fd0>"
            ],
            "text/html": [
              "\n",
              "        <iframe\n",
              "            width=\"100%\"\n",
              "            height=\"800px\"\n",
              "            src=\"https://tensorboard.dev/experiment/vW7jmmF9TmKmy3rbheMQpw/#scalars&_smoothingWeight=0.97\"\n",
              "            frameborder=\"0\"\n",
              "            allowfullscreen\n",
              "        ></iframe>\n",
              "        "
            ]
          },
          "metadata": {},
          "execution_count": 40
        }
      ]
    },
    {
      "cell_type": "markdown",
      "metadata": {
        "id": "RDQDBKYZBXF_"
      },
      "source": [
        "Ha meg szeretné osztani a TensorBoard eredményeit, akkor a naplókat a [TensorBoard.dev](https://tensorboard.dev/) címre töltheti fel a következő kódcellába másolással.\n",
        "\n",
        "Megjegyzés: Ehhez a lépéshez Google-fiókra van szükség.\n",
        "\n",
        "```\n",
        "!tensorboard dev upload --logdir {logdir}/sizes\n",
        "```\n",
        "\n",
        "Vigyázat! Ez a parancs nem fejeződik be. Úgy tervezték, hogy folyamatosan feltöltse a hosszú ideig tartó kísérletek eredményeit. Ha az adatok feltöltése megtörtént, akkor a notebook eszközöd \"végrehajtás megszakítása\" opciójával kell leállítanod."
      ]
    },
    {
      "cell_type": "markdown",
      "metadata": {
        "id": "ASdv7nsgEFhx"
      },
      "source": [
        "## Stratégiák a túlillesztés megelőzésére"
      ]
    },
    {
      "cell_type": "markdown",
      "metadata": {
        "id": "YN512ksslaxJ"
      },
      "source": [
        "Mielőtt belemennénk ennek a szakasznak a tartalmába, másoljuk le a fenti `\"Tiny\"` modell képzési naplóit, hogy összehasonlítási alapként használhassuk."
      ]
    },
    {
      "cell_type": "code",
      "metadata": {
        "id": "40k1eBtnQzNo",
        "colab": {
          "base_uri": "https://localhost:8080/"
        },
        "outputId": "1b48275c-b9f9-4327-f7dd-2a71f46daf91"
      },
      "source": [
        "shutil.rmtree(logdir/'regularizers/Tiny', ignore_errors=True)\n",
        "shutil.copytree(logdir/'sizes/Tiny', logdir/'regularizers/Tiny')"
      ],
      "execution_count": 41,
      "outputs": [
        {
          "output_type": "execute_result",
          "data": {
            "text/plain": [
              "PosixPath('/tmp/tmpvlg5vxf0/tensorboard_logs/regularizers/Tiny')"
            ]
          },
          "metadata": {},
          "execution_count": 41
        }
      ]
    },
    {
      "cell_type": "code",
      "metadata": {
        "id": "vFWMeFo7jLpN"
      },
      "source": [
        "regularizer_histories = {}\n",
        "regularizer_histories['Tiny'] = size_histories['Tiny']"
      ],
      "execution_count": 42,
      "outputs": []
    },
    {
      "cell_type": "markdown",
      "metadata": {
        "id": "4rHoVWcswFLa"
      },
      "source": [
        "### Súlyparaméterek regularizációja\n"
      ]
    },
    {
      "cell_type": "markdown",
      "metadata": {
        "id": "kRxWepNawbBK"
      },
      "source": [
        "Talán ismeri Occam borotvájának elvét: ha valamire két magyarázatot adunk, akkor a legvalószínűbb, hogy a legegyszerűbb magyarázat a helyes, vagyis az, amelyik a legkevesebb feltételezést teszi. Ez a neurális hálózatok által tanult modellekre is érvényes: bizonyos képzési adatok és egy hálózati architektúra mellett többféle súlyértékkészlet (többféle modell) magyarázhatja az adatokat, és az egyszerűbb modellek kevésbé valószínű, hogy túlilleszkednek, mint az összetettek.\n",
        "\n",
        "Az \"egyszerű modell\" ebben az összefüggésben olyan modell, amelyben a paraméterértékek eloszlása kisebb entrópiával rendelkezik (vagy olyan modell, amely összességében kevesebb paramétert tartalmaz, amint azt a fenti szakaszban láttuk). A túlillesztés mérséklésének egyik gyakori módja tehát az, hogy a hálózat komplexitását korlátozzák azáltal, hogy a súlyokat csak kis értékekre kényszerítik, ami a súlyértékek eloszlását \"szabályosabbá\" teszi. Ezt \"súlyszabályozásnak\" nevezik, és úgy történik, hogy a hálózat veszteségfüggvényéhez hozzáadunk egy olyan költséget, amely a nagy súlyok meglétéhez kapcsolódik. Ez a költség kétféle lehet:\n",
        "\n",
        "* [L1 regularizáció](https://developers.google.com/machine-learning/glossary/#L1_regularization), ahol a hozzáadott költség arányos a súlyok együtthatóinak abszolút értékével (azaz a súlyok úgynevezett \"L1 normájával\").\n",
        "\n",
        "* [L2 regularizáció](https://developers.google.com/machine-learning/glossary/#L2_regularization), ahol a hozzáadott költség arányos a súlyok együtthatóinak négyzetével (azaz a súlyok négyzetre vetített \"L2 normájával\"). Az L2 regularizációt neurális hálózatokkal összefüggésben súlycsökkenésnek is nevezik. Ne hagyja, hogy az eltérő elnevezés összezavarja: a súlycsökkenés matematikailag pontosan ugyanaz, mint az L2 regularizáció.\n",
        "\n",
        "Az L1 regularizáció a súlyokat pontosan a nulla felé tolja, ami egy ritka modellt ösztönöz. Az L2 regularizáció büntetni fogja a súlyok paramétereit anélkül, hogy ritkává tenné azokat, mivel a büntetés kis súlyok esetén nullára megy - ez az egyik oka annak, hogy az L2 miért elterjedtebb.\n",
        "\n",
        "Az `tf.keras` programban a súlyszabályozás a súlyszabályozó példányok kulcsszó-argumentumként történő átadásával adható hozzá a rétegekhez. Adjunk most hozzá L2 súly regularizációt.\n"
      ]
    },
    {
      "cell_type": "code",
      "metadata": {
        "id": "HFGmcwduwVyQ",
        "colab": {
          "base_uri": "https://localhost:8080/"
        },
        "outputId": "e6627f3f-902a-4190-bea2-1efca1a9699c"
      },
      "source": [
        "l2_model = tf.keras.Sequential([\n",
        "    layers.Dense(512, activation='elu',\n",
        "                 kernel_regularizer=regularizers.l2(0.001),\n",
        "                 input_shape=(FEATURES,)),\n",
        "    layers.Dense(512, activation='elu',\n",
        "                 kernel_regularizer=regularizers.l2(0.001)),\n",
        "    layers.Dense(512, activation='elu',\n",
        "                 kernel_regularizer=regularizers.l2(0.001)),\n",
        "    layers.Dense(512, activation='elu',\n",
        "                 kernel_regularizer=regularizers.l2(0.001)),\n",
        "    layers.Dense(1)\n",
        "])\n",
        "\n",
        "regularizer_histories['l2'] = compile_and_fit(l2_model, \"regularizers/l2\")"
      ],
      "execution_count": 43,
      "outputs": [
        {
          "output_type": "stream",
          "name": "stdout",
          "text": [
            "Model: \"sequential_4\"\n",
            "_________________________________________________________________\n",
            " Layer (type)                Output Shape              Param #   \n",
            "=================================================================\n",
            " dense_14 (Dense)            (None, 512)               14848     \n",
            "                                                                 \n",
            " dense_15 (Dense)            (None, 512)               262656    \n",
            "                                                                 \n",
            " dense_16 (Dense)            (None, 512)               262656    \n",
            "                                                                 \n",
            " dense_17 (Dense)            (None, 512)               262656    \n",
            "                                                                 \n",
            " dense_18 (Dense)            (None, 1)                 513       \n",
            "                                                                 \n",
            "=================================================================\n",
            "Total params: 803,329\n",
            "Trainable params: 803,329\n",
            "Non-trainable params: 0\n",
            "_________________________________________________________________\n",
            "\n",
            "Epoch: 0, accuracy:0.5052,  binary_crossentropy:0.8607,  loss:2.3861,  val_accuracy:0.4890,  val_binary_crossentropy:0.6985,  val_loss:2.1554,  \n",
            "....................................................................................................\n",
            "Epoch: 100, accuracy:0.6540,  binary_crossentropy:0.5984,  loss:0.6208,  val_accuracy:0.6400,  val_binary_crossentropy:0.5951,  val_loss:0.6174,  \n",
            "....................................................................................................\n",
            "Epoch: 200, accuracy:0.6655,  binary_crossentropy:0.5866,  loss:0.6083,  val_accuracy:0.6870,  val_binary_crossentropy:0.5798,  val_loss:0.6013,  \n",
            "....................................................................................................\n",
            "Epoch: 300, accuracy:0.6800,  binary_crossentropy:0.5795,  loss:0.6017,  val_accuracy:0.6660,  val_binary_crossentropy:0.5791,  val_loss:0.6010,  \n",
            "....................................................................................................\n",
            "Epoch: 400, accuracy:0.6838,  binary_crossentropy:0.5712,  loss:0.5935,  val_accuracy:0.6710,  val_binary_crossentropy:0.5823,  val_loss:0.6046,  \n",
            "....................................................................................................\n",
            "Epoch: 500, accuracy:0.6750,  binary_crossentropy:0.5850,  loss:0.6157,  val_accuracy:0.6500,  val_binary_crossentropy:0.5898,  val_loss:0.6198,  \n",
            "....................................................................................................\n",
            "Epoch: 600, accuracy:0.6893,  binary_crossentropy:0.5608,  loss:0.5858,  val_accuracy:0.6650,  val_binary_crossentropy:0.5835,  val_loss:0.6087,  \n",
            "........................................"
          ]
        }
      ]
    },
    {
      "cell_type": "markdown",
      "metadata": {
        "id": "bUUHoXb7w-_C"
      },
      "source": [
        "Az `l2(0.001)` azt jelenti, hogy a réteg súlymátrixának minden egyes együtthatója `0.001 * súly_együttható_értéke**2` hozzáadódik a hálózat teljes **veszteségéhez**.\n",
        "\n",
        "Ezért figyeljük közvetlenül a `binary_crossentropy` értéket. Mert nincs benne ez a regularizációs komponens keverve.\n",
        "\n",
        "Tehát ugyanaz a `\"Large\"` modell egy `L2` regularizációs büntetéssel sokkal jobban teljesít:\n"
      ]
    },
    {
      "cell_type": "code",
      "metadata": {
        "id": "7wkfLyxBZdh_",
        "colab": {
          "base_uri": "https://localhost:8080/",
          "height": 300
        },
        "outputId": "0e4dbe16-5688-44b3-b5c9-fca80440fca4"
      },
      "source": [
        "plotter.plot(regularizer_histories)\n",
        "plt.ylim([0.5, 0.7])"
      ],
      "execution_count": 44,
      "outputs": [
        {
          "output_type": "execute_result",
          "data": {
            "text/plain": [
              "(0.5, 0.7)"
            ]
          },
          "metadata": {},
          "execution_count": 44
        },
        {
          "output_type": "display_data",
          "data": {
            "text/plain": [
              "<Figure size 432x288 with 1 Axes>"
            ],
            "image/png": "[encoded data removed]"
          },
          "metadata": {
            "needs_background": "light"
          }
        }
      ]
    },
    {
      "cell_type": "markdown",
      "metadata": {
        "id": "Kx1YHMsVxWjP"
      },
      "source": [
        "Mint látható, az \"L2\" regularizált modell sokkal versenyképesebb a \"Tiny\" modellel szemben. Ez az `\"L2\"` modell a túlillesztéssel szemben is sokkal ellenállóbb, mint az alapjául szolgáló `\"Large\"` modell, annak ellenére, hogy ugyanannyi paramétere van."
      ]
    },
    {
      "cell_type": "markdown",
      "metadata": {
        "id": "JheBk6f8jMQ7"
      },
      "source": [
        "#### További információ\n",
        "\n",
        "Két fontos dolgot kell megjegyezni ezzel a fajta regularizációval kapcsolatban.\n",
        "\n",
        "**Először:** ha saját képzési hurkot írsz, akkor mindenképpen nézd meg a modell regularizációs veszteségeit."
      ]
    },
    {
      "cell_type": "code",
      "metadata": {
        "id": "apDHQNybjaML"
      },
      "source": [
        "result = l2_model(features)\n",
        "regularization_loss=tf.add_n(l2_model.losses)"
      ],
      "execution_count": 45,
      "outputs": []
    },
    {
      "cell_type": "markdown",
      "metadata": {
        "id": "MLhG6fMSjE-J"
      },
      "source": [
        "**Másodszor:** Ez a megvalósítás úgy működik, hogy a súlybüntetéseket hozzáadjuk a modell veszteségéhez, majd ezután egy standard optimalizálási eljárást alkalmazunk.\n",
        "\n",
        "Van egy második megközelítés, amely ehelyett csak a nyers veszteségen futtatja az optimalizálót, majd a számított lépés alkalmazása közben az optimalizáló némi súlycsökkenést is alkalmaz. Ez a \"Decoupled Weight Decay\" az olyan optimalizálókban látható, mint az `optimizers.FTRL` és az `optimizers.AdamW`."
      ]
    },
    {
      "cell_type": "markdown",
      "metadata": {
        "id": "HmnBNOOVxiG8"
      },
      "source": [
        "### Kiesés hozzáadása\n",
        "\n",
        "A dropout az egyik leghatékonyabb és leggyakrabban használt regularizációs technika a neurális hálózatokhoz, amelyet Hinton és tanítványai fejlesztettek ki a Torontói Egyetemen.\n",
        "\n",
        "A dropout intuitív magyarázata az, hogy mivel a hálózat egyes csomópontjai nem támaszkodhatnak a többiek kimenetére, minden egyes csomópontnak olyan jellemzőket kell kiadnia, amelyek önmagukban hasznosak.\n",
        "\n",
        "Az egy rétegre alkalmazott kiesés abból áll, hogy a képzés során véletlenszerűen \"kiesik\" (azaz nullára állítják) a réteg néhány kimeneti jellemzője. Tegyük fel, hogy egy adott réteg normál esetben egy [0.2, 0.5, 1.3, 0.8, 1.1] vektort adott bemeneti mintára adott vissza a képzés során; a kiesés alkalmazása után ez a vektor néhány véletlenszerűen elosztott nulla bejegyzést fog tartalmazni, pl. [0, 0.5,\n",
        "1.3, 0, 1.1].\n",
        "\n",
        "A \"kiesési ráta\" a nullázásra kerülő jellemzők hányadát jelenti; általában 0,2 és 0,5 között van beállítva. Teszteléskor egyetlen egység sem esik ki, ehelyett a réteg kimeneti értékeit a kiesési rátával megegyező tényezővel csökkentjük, hogy kiegyenlítsük azt a tényt, hogy több egység aktív, mint a képzéskor.\n",
        "\n",
        "Az `tf.keras`-ban a Dropout rétegen keresztül vezethetünk be kiesést a hálózatba, amely közvetlenül a réteg kimenetére kerül alkalmazásra.\n",
        "\n",
        "Adjunk hozzá két Dropout réteget a hálózatunkhoz, hogy lássuk, mennyire alkalmasak a túlillesztés csökkentésére:"
      ]
    },
    {
      "cell_type": "code",
      "metadata": {
        "id": "OFEYvtrHxSWS",
        "colab": {
          "base_uri": "https://localhost:8080/"
        },
        "outputId": "ecd02e0a-a703-4ed0-d42a-e6151636cdbd"
      },
      "source": [
        "dropout_model = tf.keras.Sequential([\n",
        "    layers.Dense(512, activation='elu', input_shape=(FEATURES,)),\n",
        "    layers.Dropout(0.5),\n",
        "    layers.Dense(512, activation='elu'),\n",
        "    layers.Dropout(0.5),\n",
        "    layers.Dense(512, activation='elu'),\n",
        "    layers.Dropout(0.5),\n",
        "    layers.Dense(512, activation='elu'),\n",
        "    layers.Dropout(0.5),\n",
        "    layers.Dense(1)\n",
        "])\n",
        "\n",
        "regularizer_histories['dropout'] = compile_and_fit(dropout_model, \"regularizers/dropout\")"
      ],
      "execution_count": 46,
      "outputs": [
        {
          "output_type": "stream",
          "name": "stdout",
          "text": [
            "Model: \"sequential_5\"\n",
            "_________________________________________________________________\n",
            " Layer (type)                Output Shape              Param #   \n",
            "=================================================================\n",
            " dense_19 (Dense)            (None, 512)               14848     \n",
            "                                                                 \n",
            " dropout (Dropout)           (None, 512)               0         \n",
            "                                                                 \n",
            " dense_20 (Dense)            (None, 512)               262656    \n",
            "                                                                 \n",
            " dropout_1 (Dropout)         (None, 512)               0         \n",
            "                                                                 \n",
            " dense_21 (Dense)            (None, 512)               262656    \n",
            "                                                                 \n",
            " dropout_2 (Dropout)         (None, 512)               0         \n",
            "                                                                 \n",
            " dense_22 (Dense)            (None, 512)               262656    \n",
            "                                                                 \n",
            " dropout_3 (Dropout)         (None, 512)               0         \n",
            "                                                                 \n",
            " dense_23 (Dense)            (None, 1)                 513       \n",
            "                                                                 \n",
            "=================================================================\n",
            "Total params: 803,329\n",
            "Trainable params: 803,329\n",
            "Non-trainable params: 0\n",
            "_________________________________________________________________\n",
            "\n",
            "Epoch: 0, accuracy:0.4991,  binary_crossentropy:0.8204,  loss:0.8204,  val_accuracy:0.4920,  val_binary_crossentropy:0.6755,  val_loss:0.6755,  \n",
            "....................................................................................................\n",
            "Epoch: 100, accuracy:0.6605,  binary_crossentropy:0.5961,  loss:0.5961,  val_accuracy:0.6430,  val_binary_crossentropy:0.5779,  val_loss:0.5779,  \n",
            "....................................................................................................\n",
            "Epoch: 200, accuracy:0.6913,  binary_crossentropy:0.5556,  loss:0.5556,  val_accuracy:0.6850,  val_binary_crossentropy:0.5789,  val_loss:0.5789,  \n",
            "....................................................................................................\n",
            "Epoch: 300, accuracy:0.7243,  binary_crossentropy:0.5087,  loss:0.5087,  val_accuracy:0.6990,  val_binary_crossentropy:0.5959,  val_loss:0.5959,  \n",
            "........................."
          ]
        }
      ]
    },
    {
      "cell_type": "code",
      "metadata": {
        "id": "SPZqwVchx5xp",
        "colab": {
          "base_uri": "https://localhost:8080/",
          "height": 300
        },
        "outputId": "f0cc3250-19f2-4d5c-9483-45284dbec554"
      },
      "source": [
        "plotter.plot(regularizer_histories)\n",
        "plt.ylim([0.5, 0.7])"
      ],
      "execution_count": 47,
      "outputs": [
        {
          "output_type": "execute_result",
          "data": {
            "text/plain": [
              "(0.5, 0.7)"
            ]
          },
          "metadata": {},
          "execution_count": 47
        },
        {
          "output_type": "display_data",
          "data": {
            "text/plain": [
              "<Figure size 432x288 with 1 Axes>"
            ],
            "image/png": "[encoded data removed]"
          },
          "metadata": {
            "needs_background": "light"
          }
        }
      ]
    },
    {
      "cell_type": "markdown",
      "metadata": {
        "id": "4zlHr4iaI1U6"
      },
      "source": [
        "Ebből a diagramból világosan látszik, hogy mindkét regularizációs megközelítés javítja a \"nagy\" modell viselkedését. De ez még mindig nem veri meg a \"Tiny\" alapmodellt sem.\n",
        "\n",
        "Próbáljuk ki legközelebb mindkettőt együtt, és nézzük meg, hogy ez jobban teljesít-e."
      ]
    },
    {
      "cell_type": "markdown",
      "metadata": {
        "id": "u7qMg_7Nwy5t"
      },
      "source": [
        "### Combined L2 + dropout"
      ]
    },
    {
      "cell_type": "code",
      "metadata": {
        "id": "7zfs_qQIw1cz",
        "colab": {
          "base_uri": "https://localhost:8080/"
        },
        "outputId": "dacc470d-e417-420b-9138-21b538f3625b"
      },
      "source": [
        "combined_model = tf.keras.Sequential([\n",
        "    layers.Dense(512, kernel_regularizer=regularizers.l2(0.0001),\n",
        "                 activation='elu', input_shape=(FEATURES,)),\n",
        "    layers.Dropout(0.5),\n",
        "    layers.Dense(512, kernel_regularizer=regularizers.l2(0.0001),\n",
        "                 activation='elu'),\n",
        "    layers.Dropout(0.5),\n",
        "    layers.Dense(512, kernel_regularizer=regularizers.l2(0.0001),\n",
        "                 activation='elu'),\n",
        "    layers.Dropout(0.5),\n",
        "    layers.Dense(512, kernel_regularizer=regularizers.l2(0.0001),\n",
        "                 activation='elu'),\n",
        "    layers.Dropout(0.5),\n",
        "    layers.Dense(1)\n",
        "])\n",
        "\n",
        "regularizer_histories['combined'] = compile_and_fit(combined_model, \"regularizers/combined\")"
      ],
      "execution_count": 48,
      "outputs": [
        {
          "output_type": "stream",
          "name": "stdout",
          "text": [
            "Model: \"sequential_6\"\n",
            "_________________________________________________________________\n",
            " Layer (type)                Output Shape              Param #   \n",
            "=================================================================\n",
            " dense_24 (Dense)            (None, 512)               14848     \n",
            "                                                                 \n",
            " dropout_4 (Dropout)         (None, 512)               0         \n",
            "                                                                 \n",
            " dense_25 (Dense)            (None, 512)               262656    \n",
            "                                                                 \n",
            " dropout_5 (Dropout)         (None, 512)               0         \n",
            "                                                                 \n",
            " dense_26 (Dense)            (None, 512)               262656    \n",
            "                                                                 \n",
            " dropout_6 (Dropout)         (None, 512)               0         \n",
            "                                                                 \n",
            " dense_27 (Dense)            (None, 512)               262656    \n",
            "                                                                 \n",
            " dropout_7 (Dropout)         (None, 512)               0         \n",
            "                                                                 \n",
            " dense_28 (Dense)            (None, 1)                 513       \n",
            "                                                                 \n",
            "=================================================================\n",
            "Total params: 803,329\n",
            "Trainable params: 803,329\n",
            "Non-trainable params: 0\n",
            "_________________________________________________________________\n",
            "\n",
            "Epoch: 0, accuracy:0.5060,  binary_crossentropy:0.7941,  loss:0.9524,  val_accuracy:0.4790,  val_binary_crossentropy:0.6781,  val_loss:0.8357,  \n",
            "....................................................................................................\n",
            "Epoch: 100, accuracy:0.6463,  binary_crossentropy:0.6048,  loss:0.6337,  val_accuracy:0.6790,  val_binary_crossentropy:0.5808,  val_loss:0.6096,  \n",
            "....................................................................................................\n",
            "Epoch: 200, accuracy:0.6608,  binary_crossentropy:0.5885,  loss:0.6140,  val_accuracy:0.6710,  val_binary_crossentropy:0.5764,  val_loss:0.6020,  \n",
            "....................................................................................................\n",
            "Epoch: 300, accuracy:0.6699,  binary_crossentropy:0.5786,  loss:0.6064,  val_accuracy:0.7010,  val_binary_crossentropy:0.5657,  val_loss:0.5936,  \n",
            "....................................................................................................\n",
            "Epoch: 400, accuracy:0.6758,  binary_crossentropy:0.5804,  loss:0.6107,  val_accuracy:0.6810,  val_binary_crossentropy:0.5579,  val_loss:0.5882,  \n",
            "....................................................................................................\n",
            "Epoch: 500, accuracy:0.6791,  binary_crossentropy:0.5756,  loss:0.6080,  val_accuracy:0.6760,  val_binary_crossentropy:0.5568,  val_loss:0.5891,  \n",
            "....................................................................................................\n",
            "Epoch: 600, accuracy:0.6788,  binary_crossentropy:0.5663,  loss:0.6003,  val_accuracy:0.7010,  val_binary_crossentropy:0.5451,  val_loss:0.5791,  \n",
            "....................................................................................................\n",
            "Epoch: 700, accuracy:0.6927,  binary_crossentropy:0.5591,  loss:0.5947,  val_accuracy:0.6980,  val_binary_crossentropy:0.5442,  val_loss:0.5798,  \n",
            "....................................................................................................\n",
            "Epoch: 800, accuracy:0.6899,  binary_crossentropy:0.5586,  loss:0.5952,  val_accuracy:0.6880,  val_binary_crossentropy:0.5488,  val_loss:0.5853,  \n",
            "....................................................................................................\n",
            "Epoch: 900, accuracy:0.6969,  binary_crossentropy:0.5549,  loss:0.5927,  val_accuracy:0.7090,  val_binary_crossentropy:0.5378,  val_loss:0.5755,  \n",
            ".................."
          ]
        }
      ]
    },
    {
      "cell_type": "code",
      "metadata": {
        "id": "qDqBBxfI0Yd8",
        "colab": {
          "base_uri": "https://localhost:8080/",
          "height": 300
        },
        "outputId": "19733100-dc15-4ac1-84cf-79d61840fad1"
      },
      "source": [
        "plotter.plot(regularizer_histories)\n",
        "plt.ylim([0.5, 0.7])"
      ],
      "execution_count": 49,
      "outputs": [
        {
          "output_type": "execute_result",
          "data": {
            "text/plain": [
              "(0.5, 0.7)"
            ]
          },
          "metadata": {},
          "execution_count": 49
        },
        {
          "output_type": "display_data",
          "data": {
            "text/plain": [
              "<Figure size 432x288 with 1 Axes>"
            ],
            "image/png": "[encoded data removed]"
          },
          "metadata": {
            "needs_background": "light"
          }
        }
      ]
    },
    {
      "cell_type": "markdown",
      "metadata": {
        "id": "tE0OoNCQNTJv"
      },
      "source": [
        "Ez a modell a \"kombinált\" regularizációval nyilvánvalóan az eddigi legjobb."
      ]
    },
    {
      "cell_type": "markdown",
      "metadata": {
        "id": "-dw23T03FEO1"
      },
      "source": [
        "### Nézet a TensorBoardban\n",
        "\n",
        "Ezek a modellek TensorBoard naplókat is rögzítettek.\n",
        "\n",
        "A beágyazott Tensorboard nézegető megnyitásához egy notebookon belül másolja be a következőt egy kódcellába:\n",
        "\n",
        "```\n",
        "%tensorboard --logdir {logdir}/regularizers\n",
        "```"
      ]
    },
    {
      "cell_type": "markdown",
      "metadata": {
        "id": "KX3Voac-FEO4"
      },
      "source": [
        "A [TensorDoard.dev](https://tensorboard.dev/) oldalon megtekintheti a notebook [egy korábbi futtatás eredményeit](https://tensorboard.dev/experiment/fGInKDo8TXes1z7HQku9mw/#scalars&_smoothingWeight=0.97).\n",
        "\n",
        "A könnyebbség kedvéért egy `<<iframe>` keretben is szerepel:"
      ]
    },
    {
      "cell_type": "code",
      "metadata": {
        "id": "doMtyYoqFEO5",
        "colab": {
          "base_uri": "https://localhost:8080/",
          "height": 217
        },
        "outputId": "b5c4b01c-79a3-48eb-bbb6-de08718bfb5a"
      },
      "source": [
        "display.IFrame(\n",
        "    src=\"https://tensorboard.dev/experiment/fGInKDo8TXes1z7HQku9mw/#scalars&_smoothingWeight=0.97\",\n",
        "    width = \"100%\",\n",
        "    height=\"800px\")\n"
      ],
      "execution_count": 1,
      "outputs": [
        {
          "output_type": "error",
          "ename": "AttributeError",
          "evalue": "ignored",
          "traceback": [
            "\u001b[0;31m---------------------------------------------------------------------------\u001b[0m",
            "\u001b[0;31mAttributeError\u001b[0m                            Traceback (most recent call last)",
            "\u001b[0;32m<ipython-input-1-295e9fd24676>\u001b[0m in \u001b[0;36m<module>\u001b[0;34m\u001b[0m\n\u001b[0;32m----> 1\u001b[0;31m display.IFrame(\n\u001b[0m\u001b[1;32m      2\u001b[0m     \u001b[0msrc\u001b[0m\u001b[0;34m=\u001b[0m\u001b[0;34m\"https://tensorboard.dev/experiment/fGInKDo8TXes1z7HQku9mw/#scalars&_smoothingWeight=0.97\"\u001b[0m\u001b[0;34m,\u001b[0m\u001b[0;34m\u001b[0m\u001b[0;34m\u001b[0m\u001b[0m\n\u001b[1;32m      3\u001b[0m     \u001b[0mwidth\u001b[0m \u001b[0;34m=\u001b[0m \u001b[0;34m\"100%\"\u001b[0m\u001b[0;34m,\u001b[0m\u001b[0;34m\u001b[0m\u001b[0;34m\u001b[0m\u001b[0m\n\u001b[1;32m      4\u001b[0m     height=\"800px\")\n",
            "\u001b[0;31mAttributeError\u001b[0m: 'function' object has no attribute 'IFrame'"
          ]
        }
      ]
    },
    {
      "cell_type": "markdown",
      "metadata": {
        "id": "mds5RXGjIcSu"
      },
      "source": [
        "This was uploaded with:\n",
        "\n",
        "```\n",
        "!tensorboard dev upload --logdir  {logdir}/regularizers\n",
        "```"
      ]
    },
    {
      "cell_type": "markdown",
      "metadata": {
        "id": "uXJxtwBWIhjG"
      },
      "source": [
        "## Konklúzió"
      ]
    },
    {
      "cell_type": "markdown",
      "metadata": {
        "id": "gjfnkEeQyAFG"
      },
      "source": [
        "Összefoglalva: íme a neurális hálózatokban a túlillesztés megelőzésének leggyakoribb módjai:\n",
        "\n",
        "* Szerezzen több képzési adatot.\n",
        "* Csökkentse a hálózat kapacitását.\n",
        "* Adjunk hozzá súlyszabályozást.\n",
        "* Kiesés hozzáadása.\n",
        "\n",
        "Két fontos, ebben az útmutatóban nem tárgyalt megközelítés:\n",
        "\n",
        "* adat-bővítés\n",
        "* kötegelt normalizálás\n",
        "\n",
        "Ne feledje, hogy mindegyik módszer önmagában is segíthet, de gyakran a kombinálásuk még hatékonyabb lehet."
      ]
    }
  ]
}
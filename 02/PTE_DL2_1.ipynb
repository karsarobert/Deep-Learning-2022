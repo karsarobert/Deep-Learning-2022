{
  "nbformat": 4,
  "nbformat_minor": 5,
  "metadata": {
    "jupytext": {
      "formats": "ipynb"
    },
    "kernelspec": {
      "display_name": "Python 3",
      "language": "python",
      "name": "python3"
    },
    "language_info": {
      "codemirror_mode": {
        "name": "ipython",
        "version": 3
      },
      "file_extension": ".py",
      "mimetype": "text/x-python",
      "name": "python",
      "nbconvert_exporter": "python",
      "pygments_lexer": "ipython3",
      "version": "3.7.9"
    },
    "papermill": {
      "default_parameters": {},
      "duration": 13.462751,
      "end_time": "2021-06-03T16:40:14.894014",
      "environment_variables": {},
      "exception": null,
      "input_path": "__notebook__.ipynb",
      "output_path": "__notebook__.ipynb",
      "parameters": {},
      "start_time": "2021-06-03T16:40:01.431263",
      "version": "2.3.2"
    },
    "colab": {
      "provenance": [],
      "collapsed_sections": [],
      "include_colab_link": true
    },
    "accelerator": "GPU"
  },
  "cells": [
    {
      "cell_type": "markdown",
      "metadata": {
        "id": "view-in-github",
        "colab_type": "text"
      },
      "source": [
        "<a href=\"https://colab.research.google.com/github/karsarobert/Deep-Learning-2022/blob/main/02/PTE_DL2_1.ipynb\" target=\"_parent\"><img src=\"https://colab.research.google.com/assets/colab-badge.svg\" alt=\"Open In Colab\"/></a>"
      ]
    },
    {
      "cell_type": "markdown",
      "metadata": {
        "id": "opposed-female"
      },
      "source": [
        "# Deep Learning gyakorlat\n",
        "\n",
        "\n",
        "## 2. gyakorlat: tensorflow, regresszió, osztályozás, regularizáció\n",
        "### 2022. szeptrember 14."
      ],
      "id": "opposed-female"
    },
    {
      "cell_type": "markdown",
      "metadata": {
        "papermill": {
          "duration": 0.005661,
          "end_time": "2021-06-03T16:40:07.716849",
          "exception": false,
          "start_time": "2021-06-03T16:40:07.711188",
          "status": "completed"
        },
        "tags": [],
        "id": "underlying-racing"
      },
      "source": [
        "# PTE DL3 #\n",
        "\n",
        "\n",
        "- **teljesen összekapcsolt** neurális hálózati architektúra létrehozása\n",
        "- neurális hálók alkalmazása két klasszikus ML-problémára: **regresszió** és **osztályozás**.\n",
        "- neurális hálók képzése **stochasztikus gradiens ereszkedéssel**, és\n",
        "- a teljesítmény javítása **dropout**, **batch normalizáció** és más technikák segítségével\n",
        "\n",
        "\n",
        "# Mi a mélytanulás? #\n",
        "\n",
        "A mesterséges intelligencia terén az elmúlt évek leglenyűgözőbb előrelépései a *mély tanulás* területén történtek. A természetes nyelvi fordítás, a képfelismerés és a játék mind olyan feladatok, ahol a mély tanulási modellek megközelítették, vagy akár meg is haladták az emberi szintű teljesítményt.\n",
        "\n",
        "Mi is az a mélytanulás? A **mély tanulás** a gépi tanulás olyan megközelítése, amelyet mély számítási hálózatok jellemeznek. Ez a számítási mélység teszi lehetővé, hogy a mélytanulási modellek a legnehezebb valós adathalmazokban található összetett és hierarchikus mintázatokat kibogozzák.\n",
        "\n",
        "A **neurális hálózatok** teljesítményük és skálázhatóságuk révén a mélytanulás meghatározó modelljévé váltak.  A neurális hálózatok neuronokból állnak, ahol minden egyes neuron külön-külön csak egy egyszerű számítást végez. A neurális hálózatok ereje ehelyett a neuronok által kialakítható kapcsolatok összetettségéből ered.\n",
        "\n",
        "\n",
        "# A neuron #\n",
        "\n",
        "Kezdjük tehát a neurális hálózat alapvető összetevőjével: az egyes neuronokkal. Egy **neuron** (vagy **egység**) egy bemenettel így néz ki:\n",
        "\n",
        "<figure style=\"padding: 1em;\">\n",
        "<img src=\"https://i.imgur.com/mfOlDR6.png\" width=\"250\" alt=\"Egy lineáris egység diagramja.\">\n",
        "<figcaption style=\"textalign: center; font-style: italic\"><center>A lineáris egység: $y = w x + b$.\n",
        "</center></figcaption>\n",
        "</figura>\n",
        "\n",
        "A bemenet az `x`. A neuronhoz való kapcsolódásának **súlya** van, ami `w`. Valahányszor egy érték átfolyik egy kapcsolaton, megszorozzuk az értéket a kapcsolat súlyával. Az `x` bemenet esetén, ami a neuronhoz eljut, az `w * x`. A neurális hálózat a súlyok módosításával \"tanul\".\n",
        "\n",
        "A `b` a súly egy speciális fajtája, amelyet **biasnak** nevezünk. Az előfeszítéshez nem kapcsolódik semmilyen bemeneti adat; helyette egy `1`-et teszünk a diagramba, így a neuronhoz érkező érték csak `b` (mivel `1 * b = b`). Az előfeszítés lehetővé teszi a neuron számára, hogy a bemenetektől függetlenül módosítsa a kimenetet.\n",
        "\n",
        "Az `y` az az érték, amelyet a neuron végül kiad. A kimenethez a neuron a kapcsolatain keresztül kapott értékeket összegzi. Ennek a neuronnak az aktivációja `y = w * x + b`, vagy a képletben $y = w x + b$.\n",
        "\n",
        "<blockquote style=\"margin-right:auto; margin-left:auto; background-color: #ebf9ff; padding: 1em; margó:24px;\">\n",
        "    <strong>Az $y=w x + b$ képlet ismerős?</strong><br>\n",
        "Ez egy egyenes egyenlete! Ez a meredekség-metszéspont egyenlet, ahol $w$ a meredekség és $b$ az y-metszés. \n",
        "</blockquote>"
      ],
      "id": "underlying-racing"
    },
    {
      "cell_type": "markdown",
      "metadata": {
        "papermill": {
          "duration": 0.004035,
          "end_time": "2021-06-03T16:40:07.725379",
          "exception": false,
          "start_time": "2021-06-03T16:40:07.721344",
          "status": "completed"
        },
        "tags": [],
        "id": "hazardous-trick"
      },
      "source": [
        "# Példa - A lineáris egység mint modell #\n",
        "\n",
        "Bár az egyes neuronok általában csak egy nagyobb hálózat részeként működnek, gyakran hasznos, ha alapként egyetlen neuron modelljével kezdünk. Az egy neuronból álló modellek *lineáris* modellek. \n",
        "\n",
        "Gondoljuk végig, hogyan működhet ez egy olyan adathalmazon, mint a [80 Gabona](https://www.kaggle.com/crawford/80-cereals). Ha egy modellt képezünk ki a `'cukrok'-kal (gramm cukor adagonként) mint bemenet és a `'kalóriák'-kal (kalória adagonként) mint kimenet, akkor a torzítás `b=90`, a súly pedig `w=2.5`. Egy adagonként 5 gramm cukrot tartalmazó gabonapehely kalóriatartalmát így becsülhetjük meg:\n",
        "\n",
        "<figure style=\"padding: 1em;\">\n",
        "<img src=\"https://i.imgur.com/yjsfFvY.png\" width=\"1000\" alt=\"Számítás a lineáris egységgel.\">\n",
        "<figcaption style=\"textalign: center; font-style: italic\"><center>Kiszámítás a lineáris egységgel.\n",
        "</center></figcaption>\n",
        "</figura>\n",
        "\n",
        "És a képletünkkel összevetve azt kapjuk, hogy $kalória = 2,5 * 5 + 90 = 102,5$, ahogyan azt vártuk.\n",
        "\n",
        "# Többszörös bemenet #\n",
        "\n",
        "A *80 Cereals* adathalmaz sokkal több jellemzőt tartalmaz, mint csak a `'cukrok'`. Mi lenne, ha a modellünket ki akarnánk bővíteni olyan dolgokkal, mint a rost- vagy fehérjetartalom? Ez elég egyszerű. Csak több bemeneti kapcsolatot adunk a neuronhoz, egyet-egyet minden további jellemzőhöz. A kimenet megtalálásához minden bemenetet megszoroznánk a kapcsolati súlyával, majd összeadnánk őket.\n",
        "\n",
        "<figure style=\"padding: 1em;\">\n",
        "<img src=\"https://i.imgur.com/vyXSnlZ.png\" width=\"300\" alt=\"Három bemeneti kapcsolat: x0, x1 és x2, valamint az előfeszítés.\">\n",
        "<figcaption style=\"textalign: center; font-style: italic\"><center>Egy lineáris egység három bemenettel.\n",
        "</center></figcaption>\n",
        "</figura>\n",
        "\n",
        "Ennek a neuronnak a képlete a következő lenne: $y = w_0 x_0 + w_1 x_1 + w_2 x_2 + b$. Egy lineáris egység két bemenettel egy síkba illeszkedik, egy ennél több bemenettel rendelkező egység pedig egy hipersíkba.\n",
        "\n",
        "# Lineáris egységek a Kerasban #\n",
        "\n",
        "A Kerasban a legegyszerűbben a `keras.Sequential` segítségével hozhatunk létre egy modellt, amely egy neurális hálózatot *rétegek halmazaként* hoz létre. A fentihez hasonló modelleket egy *sűrű réteggel* hozhatunk létre (amiről a következőkben többet fogunk megtudni).\n",
        "\n",
        "Definiálhatunk egy lineáris modellt, amely három bemeneti jellemzőt fogad el (`'cukor'`, `'rost'` és `'fehérje'`), és egyetlen kimenetet (`'kalória'`) állít elő a következőképpen:\n",
        "\n",
        "\n"
      ],
      "id": "hazardous-trick"
    },
    {
      "cell_type": "code",
      "metadata": {
        "execution": {
          "iopub.execute_input": "2021-06-03T16:40:07.738112Z",
          "iopub.status.busy": "2021-06-03T16:40:07.736965Z",
          "iopub.status.idle": "2021-06-03T16:40:13.861704Z",
          "shell.execute_reply": "2021-06-03T16:40:13.860908Z"
        },
        "papermill": {
          "duration": 6.132284,
          "end_time": "2021-06-03T16:40:13.861869",
          "exception": false,
          "start_time": "2021-06-03T16:40:07.729585",
          "status": "completed"
        },
        "tags": [],
        "id": "massive-update"
      },
      "source": [
        "from tensorflow import keras\n",
        "from tensorflow.keras import layers\n",
        "\n",
        "# Create a network with 1 linear unit\n",
        "model = keras.Sequential([\n",
        "    layers.Dense(units=1, input_shape=[3])\n",
        "])"
      ],
      "id": "massive-update",
      "execution_count": null,
      "outputs": []
    },
    {
      "cell_type": "markdown",
      "metadata": {
        "papermill": {
          "duration": 0.004099,
          "end_time": "2021-06-03T16:40:13.870583",
          "exception": false,
          "start_time": "2021-06-03T16:40:13.866484",
          "status": "completed"
        },
        "tags": [],
        "id": "portuguese-philip"
      },
      "source": [
        "Az első argumentummal, az `units`, meghatározzuk, hogy hány kimenetet szeretnénk. Ebben az esetben mi csak a `'kalóriákat'` jelezzük előre, ezért az `units=1` értéket használjuk. \n",
        "\n",
        "A második argumentummal, az `input_shape`-vel megmondjuk a Kerasnak a bemenetek méreteit. Az `input_shape=[3]` beállítása biztosítja, hogy a modell három jellemzőt fogadjon el bemenetként (`'cukor'`, `'rost'` és `'fehérje'`).\n",
        "\n",
        "Ez a modell most már készen áll a gyakorló adatokra való illesztésre!\n",
        "\n",
        "<blockquote style=\"margin-right:auto; margin-left:auto; background-color: #ebf9ff; padding: 1em; margó:24px;\">\n",
        "    <strong>Miért van a <code>input_shape</code> egy Python lista?</strong><br>\n",
        "Az adatok, amelyeket ebben a kurzusban használni fogunk, általában táblázatos adatok lesznek, mint egy Pandas adatkeretben. Az adathalmaz minden egyes jellemzőjéhez lesz egy bemenetünk. A jellemzők oszlopok szerint vannak elrendezve, így mindig <code>input_shape=[num_columns]</code> lesz.\n",
        "\n",
        "A Keras azért használ itt listát, hogy lehetővé tegye az összetettebb adathalmazok használatát. A képadatoknak például három dimenzióra lehet szükségük: <code>[magasság, szélesség, csatornák]</code>.\n",
        "</blockquote>\n",
        "\n",
        "\n"
      ],
      "id": "portuguese-philip"
    },
    {
      "cell_type": "markdown",
      "metadata": {
        "papermill": {
          "duration": 0.005337,
          "end_time": "2021-09-13T20:12:25.870066",
          "exception": false,
          "start_time": "2021-09-13T20:12:25.864729",
          "status": "completed"
        },
        "tags": [],
        "id": "bcefc96c"
      },
      "source": [
        "# Neurális hálózat \n",
        "\n",
        "Ebben a leckében azt fogjuk megnézni, hogyan tudunk olyan neurális hálózatokat építeni, amelyek képesek megtanulni az összetett típusú kapcsolatokat, amelyekről a mély neurális hálók híresek.\n",
        "\n",
        "A kulcsgondolat itt a *modularitás*, vagyis egy komplex hálózat felépítése egyszerűbb funkcionális egységekből. Láttuk, hogy egy lineáris egység hogyan számol ki egy lineáris függvényt -- most megnézzük, hogyan kombinálhatjuk és módosíthatjuk ezeket az egyes egységeket, hogy összetettebb kapcsolatokat modellezzünk.\n",
        "\n",
        "# Rétegek #\n",
        "\n",
        "A neurális hálózatok jellemzően **rétegekbe** szervezik neuronjaikat. Ha olyan lineáris egységeket gyűjtünk össze, amelyeknek közös bemenetük van, akkor egy **sűrű** réteget kapunk.\n",
        "\n",
        "<figure style=\"padding: 1em;\">\n",
        "<img src=\"https://i.imgur.com/2MA4iMV.png\" width=\"300\" alt=\"Három körből álló halom egy bemeneti rétegben, amely egy sűrű rétegben lévő két körhöz kapcsolódik.\">\n",
        "<figcaption style=\"textalign: center; font-style: italic\"><center>Két lineáris egységből álló sűrű réteg, amely két bemenetet és egy torzítást kap.\n",
        "</center></figcaption>\n",
        "</figura>\n",
        "\n",
        "Úgy is elképzelhetjük, hogy a neurális hálózat minden rétege valamilyen viszonylag egyszerű transzformációt hajt végre. A rétegek mély halmazán keresztül a neurális hálózat egyre összetettebb módon tudja átalakítani a bemeneteit. Egy jól képzett neurális hálózatban minden egyes réteg egy olyan átalakítás, amely egy kicsit közelebb visz minket a megoldáshoz.\n",
        "\n",
        "<blockquote style=\"margin-right:auto; margin-left:auto; background-color: #ebf9ff; padding: 1em; margó:24px;\">\n",
        "    <strong>Sokféle réteg</strong><br>\n",
        "A \"réteg\" a Kerasban egy nagyon általános jellegű dolog. Egy réteg lehet lényegében bármilyen <em>adattranszformáció</em>. Sok réteg, mint például a <a href=\"https://www.tensorflow.org/api_docs/python/tf/keras/layers/Conv2D\">konvolúciós</a> és <a href=\"https://www.tensorflow.org/api_docs/python/tf/keras/layers/RNN\">recurrent</a> rétegek, neuronok felhasználásával alakítják át az adatokat, és elsősorban a kialakított kapcsolatok mintázatában különböznek. Másokat azonban <a href=\"https://www.tensorflow.org/api_docs/python/tf/keras/layers/Embedding\">új jellemzők kinyerésére</a> vagy csak <a href=\"https://www.tensorflow.org/api_docs/python/tf/keras/layers/Add\">egyszerű számtani</a> feladatokra használnak. A rétegek egész világát fedezhetjük fel -- <a href=\"https://www.tensorflow.org/api_docs/python/tf/keras/layers\">nézd meg őket</a>!\n",
        "</blockquote>\n",
        "\n",
        "# Az aktiválási függvény #\n",
        "\n",
        "Kiderül azonban, hogy két sűrű réteg, amelyek között nincs semmi, semmivel sem jobb, mint egyetlen sűrű réteg önmagában. A sűrű rétegek önmagukban soha nem tudnak kimozdítani minket a vonalak és síkok világából. Amire szükségünk van, az valami *nemlineáris*. Aktiválási függvényekre van szükségünk.\n",
        "\n",
        "<figure style=\"padding: 1em;\">\n",
        "<img src=\"https://i.imgur.com/OLSUEYT.png\" width=\"400\" alt=\"\">\n",
        "<figcaption style=\"textalign: center; font-style: italic\"><center>Az aktivációs függvények nélkül a neurális hálózatok csak lineáris összefüggéseket tudnak megtanulni. Ahhoz, hogy görbéket illesszünk, aktiválási függvényeket kell használnunk. \n",
        "</center></figcaption>\n",
        "</figura>\n",
        "\n",
        "Az **aktiválási függvény** egyszerűen valamilyen függvény, amelyet egy réteg minden egyes kimenetére (annak *aktivációira*) alkalmazunk. A legelterjedtebb az *egyenirányító* függvény $max(0, x)$.\n",
        "\n",
        "<figure style=\"padding: 1em;\">\n",
        "<img src=\"https://i.imgur.com/aeIyAlF.png\" width=\"400\" alt=\"Az egyenirányító függvény grafikonja. Az egyenes y=x, ha x>0, és y=0, ha x<0, ami egy \"csuklós\" alakot eredményez, mint a \"_/\".\"> >.\n",
        "<figcaption style=\"textalign: center; font-style: italic\"><center>\n",
        "</center></figcaption>\n",
        "</figura>\n",
        "\n",
        "Az egyenirányító függvény grafikonja egy egyenes, amelynek negatív része nullára \"egyenirányított\". A függvényt egy neuron kimeneteire alkalmazva egy *görbületet* tesz az adatokba, eltávolodva az egyszerű vonalaktól.\n",
        "\n",
        "Ha az egyenirányítót egy lineáris egységhez kapcsoljuk, akkor egy **egyenirányított lineáris egységet** vagy **ReLU-t** kapunk. (Ezért szokás az egyenirányító függvényt \"ReLU függvénynek\" nevezni).  A ReLU-aktiválás lineáris egységre való alkalmazása azt jelenti, hogy a kimenet `max(0, w * x + b)` lesz, amit egy ilyen diagramon rajzolhatunk meg:\n",
        "\n",
        "<figure style=\"padding: 1em;\">\n",
        "<img src=\"https://i.imgur.com/eFry7Yu.png\" width=\"250\" alt=\"Egyetlen ReLU diagramja. Mint egy lineáris egység, de a '+' szimbólum helyett most egy csuklós '_/' van. \">\n",
        "<figcaption style=\"textalign: center; font-style: italic\"><center>Egy egyenirányított lineáris egység.\n",
        "</center></figcaption>\n",
        "</figura>\n",
        "\n",
        "A kurzus késöbbi részében további aktivációs fügvényekkel is meg fogunk ismerkedni. (szigmoid, tanh, ...)\n",
        "\n"
      ],
      "id": "bcefc96c"
    },
    {
      "cell_type": "markdown",
      "metadata": {
        "papermill": {
          "duration": 0.003912,
          "end_time": "2021-09-13T20:12:25.878471",
          "exception": false,
          "start_time": "2021-09-13T20:12:25.874559",
          "status": "completed"
        },
        "tags": [],
        "id": "26bca23f"
      },
      "source": [
        "# Sűrű rétegek halmozása \n",
        "\n",
        "Most, hogy már van némi nemlinearitásunk, nézzük meg, hogyan tudunk rétegeket egymásra helyezni, hogy összetett adattranszformációkat kapjunk.\n",
        "\n",
        "<figure style=\"padding: 1em;\">\n",
        "<img src=\"https://i.imgur.com/Y5iwFQZ.png\" width=\"450\" alt=\"Egy bemeneti réteg, két rejtett réteg és egy végső lineáris réteg.\">\n",
        "<figcaption style=\"textalign: center; font-style: italic\"><center>A sűrű rétegek halmaza egy \"teljesen összekapcsolt\" hálózatot alkot.\n",
        "</center></figcaption>\n",
        "</figura>\n",
        "\n",
        "A kimeneti réteg előtti rétegeket néha **rejtettnek** nevezik, mivel kimeneteiket soha nem látjuk közvetlenül.\n",
        "\n",
        "Most figyeljük meg, hogy az utolsó (kimeneti) réteg egy lineáris egység (vagyis nincs aktiváló függvény). Ez teszi ezt a hálózatot alkalmassá egy regressziós feladatra, ahol valamilyen tetszőleges számértéket próbálunk megjósolni. Más feladatok (mint például az osztályozás) aktiválási függvényt igényelhetnek a kimeneten.\n",
        "\n",
        "## Szekvenciális modellek építése ##\n",
        "\n",
        "Az általunk használt `Sorozatos` modell a rétegek listáját az elsőtől az utolsóig terjedő sorrendben kapcsolja össze: az első réteg kapja a bemenetet, az utolsó réteg pedig a kimenetet. Így jön létre a fenti ábrán látható modell:"
      ],
      "id": "26bca23f"
    },
    {
      "cell_type": "code",
      "metadata": {
        "execution": {
          "iopub.execute_input": "2021-09-13T20:12:25.900624Z",
          "iopub.status.busy": "2021-09-13T20:12:25.899879Z",
          "iopub.status.idle": "2021-09-13T20:12:31.285929Z",
          "shell.execute_reply": "2021-09-13T20:12:31.286550Z"
        },
        "papermill": {
          "duration": 5.404402,
          "end_time": "2021-09-13T20:12:31.286934",
          "exception": false,
          "start_time": "2021-09-13T20:12:25.882532",
          "status": "completed"
        },
        "tags": [],
        "id": "29c79c6c"
      },
      "source": [
        "from tensorflow import keras\n",
        "from tensorflow.keras import layers\n",
        "\n",
        "model = keras.Sequential([\n",
        "    # the hidden ReLU layers\n",
        "    layers.Dense(units=4, activation='relu', input_shape=[2]),\n",
        "    layers.Dense(units=3, activation='relu'),\n",
        "    # the linear output layer \n",
        "    layers.Dense(units=1),\n",
        "])\n",
        "\n",
        "# rétegenként is fel lehet építeni a model.add(layers.Dense(units=3, activation='relu')) segítségével"
      ],
      "id": "29c79c6c",
      "execution_count": null,
      "outputs": []
    },
    {
      "cell_type": "markdown",
      "metadata": {
        "papermill": {
          "duration": 0.011279,
          "end_time": "2021-09-13T20:12:23.994159",
          "exception": false,
          "start_time": "2021-09-13T20:12:23.982880",
          "status": "completed"
        },
        "tags": [],
        "id": "9e68f8f0"
      },
      "source": [
        "# Bevezetés \n",
        "\n",
        "\n",
        "Mint minden gépi tanulási feladatnál, itt is egy sor képzési adattal kezdünk. A képzési adatok minden egyes példája néhány jellemzőből (a bemenetekből) és egy várható célértékből (a kimenetből) áll. A hálózat képzése azt jelenti, hogy a súlyokat úgy állítjuk be, hogy a hálózat a jellemzőket a célértékké tudja alakítani. A *80 gabonaféle* adathalmazban például olyan hálózatot szeretnénk, amely képes az egyes gabonafélék \"cukor\"-, \"rost\"- és \"fehérjetartalmát\" figyelembe venni, és előrejelzést készíteni az adott gabonaféle \"kalóriatartalmára\". Ha sikeresen be tudunk képezni egy hálózatot erre a feladatra, akkor a súlyainak valamilyen módon reprezentálniuk kell az említett jellemzők és a képzési adatokban kifejezett cél közötti kapcsolatot.\n",
        "\n",
        "A képzési adatokon kívül még két dologra van szükségünk:\n",
        "- Egy \"veszteségfüggvényre\", amely azt méri, hogy mennyire jók a hálózat előrejelzései.\n",
        "- Egy \"optimalizáló\", amely megmondja a hálózatnak, hogyan változtassa meg a súlyokat.\n",
        "\n",
        "# A veszteségfüggvény \n",
        "\n",
        "Láttuk, hogyan tervezzük meg egy hálózat architektúráját, de azt még nem láttuk, hogyan mondjuk meg a hálózatnak, hogy *milyen* problémát oldjon meg. Ez a veszteségfüggvény feladata.\n",
        "\n",
        "A **veszteségfüggvény** a cél valódi értéke és a modell által megjósolt érték közötti eltérést méri. \n",
        "\n",
        "A különböző problémák különböző veszteségfüggvényeket igényelnek. Olyan **regressziós** problémákat vizsgáltunk, ahol a feladat valamilyen numerikus érték előrejelzése -- kalória a *80 gabonafélében*, minősítés a *Vörösbor minőségében*. Más regressziós feladatok lehetnek egy ház árának vagy egy autó üzemanyag-hatékonyságának előrejelzése.\n",
        "\n",
        "A regressziós problémák gyakori veszteségfüggvénye a **abszolút hiba átlaga** vagy **MAE**. Az MAE minden egyes `y_pred` előrejelzés esetében az `y_true` abszolút különbséggel `abs(y_true - y_pred)` méri az eltérést a valódi céltól.\n",
        "\n",
        "A teljes MAE veszteség egy adathalmazon az összes abszolút különbség átlaga.\n",
        "\n",
        "\n",
        "\n",
        "<figure style=\"padding: 1em;\">\n",
        "<img src=\"https://i.imgur.com/VDcvkZN.png\" width=\"500\" alt=\"Az adatpontoktól a illesztett egyeneshez tartozó hibasávokat ábrázoló grafikon..\">\n",
        "<figcaption style=\"textalign: center; font-style: italic\"><center>A középső abszolút hiba az illesztett görbe és az adatpontok közötti átlagos hossz.\n",
        "</center></figcaption>\n",
        "</figura>\n",
        "\n",
        "A MAE mellett más veszteségfüggvények, amelyekkel regressziós problémák esetén találkozhatunk, az átlagos négyzetes hiba (MSE) vagy a Huber-veszteség (mindkettő elérhető a Kerasban).\n",
        "\n",
        "A modell a képzés során a veszteségfüggvényt használja útmutatásként a súlyok helyes értékeinek megtalálásához (az alacsonyabb veszteség jobb). Más szóval a veszteségfüggvény megmondja a hálózatnak a célját.\n",
        "\n",
        "# Az optimalizáló - sztochasztikus gradiens leszállás \n",
        "\n",
        "Leírtuk a problémát, amelyet a hálózattal meg akarunk oldani, de most meg kell mondanunk, hogy *hogyan* oldja meg. Ez az **optimalizáló** feladata. Az optimalizáló egy algoritmus, amely úgy állítja be a súlyokat, hogy minimalizálja a veszteséget.\n",
        "\n",
        "A mélytanulásban használt optimalizáló algoritmusok gyakorlatilag mindegyike a **stochasztikus gradiens ereszkedés** nevű családba tartozik. Ezek iteratív algoritmusok, amelyek lépésekben képzik a hálózatot. A képzés egy **lépése** a következőképpen zajlik:\n",
        "1. Mintavételezzünk néhány képzési adatot, és futtassuk le a hálózaton keresztül, hogy előrejelzéseket készítsünk.\n",
        "2. Mérjük meg a veszteséget a jóslatok és a valós értékek között.\n",
        "3. Végül állítsa be a súlyokat olyan irányba, hogy a veszteség kisebb legyen.\n",
        "\n",
        "Ezután csak tegye ezt újra és újra, amíg a veszteség olyan kicsi nem lesz, amennyire szeretné (vagy amíg nem csökken tovább).\n",
        "\n",
        "<figure style=\"padding: 1em;\">\n",
        "<img src=\"https://i.imgur.com/rFI1tIk.gif\" width=\"1600\" alt=\"Egy sor tételenkénti illesztése. A veszteség csökken, és a súlyok közelítenek a valós értékükhöz.\">\n",
        "<figcaption style=\"textalign: center; font-style: italic\"><center>Neurális hálózat képzése sztochasztikus gradiens leszállással.\n",
        "</center></figcaption>\n",
        "</figura>\n",
        "\n",
        "Az egyes iterációk képzési adatainak mintáját **minibatchnek** (vagy gyakran csak \"batch\"-nek), míg a képzési adatok egy teljes körét **epochnak** korszaknak nevezzük. A korszakok száma, amennyit edzünk, azt jelenti, hogy a hálózat hányszor látja az egyes edzési példákat.\n",
        "\n",
        "Az animáció az első rész lineáris modelljének SGD-vel történő betanítását mutatja. A halványpiros pontok a teljes tréningkészletet ábrázolják, míg az egyszínű piros pontok a minitételeket. Minden alkalommal, amikor az SGD egy új minitételt lát, a súlyokat (`w` a meredekséget és `b` az y-metszetet) a helyes értékek felé tolja el az adott tételen. Tételről tételre a vonal végül konvergál a legjobb illeszkedéshez. Látható, hogy a veszteség egyre kisebb lesz, ahogy a súlyok közelebb kerülnek a valódi értékekhez.\n",
        "\n",
        "\n",
        "\n",
        "## Tanulási sebesség és tételméret \n",
        "\n",
        "Vegyük észre, hogy a vonal csak egy kis elmozdulást tesz az egyes tételek irányában (ahelyett, hogy teljesen elmozdulna). Ezeknek az eltolódásoknak a méretét a **tanulási sebesség** határozza meg. Egy kisebb tanulási ráta azt jelenti, hogy a hálózatnak több minitételt kell látnia, mielőtt a súlyai a legjobb értékükhöz konvergálnak.\n",
        "\n",
        "A tanulási ráta és a minitételek mérete az a két paraméter, amely a legnagyobb hatással van az SGD képzés menetére. Ezek kölcsönhatása gyakran finom, és e paraméterek helyes megválasztása nem mindig nyilvánvaló. (Ezeket a hatásokat a gyakorlatban fogjuk megvizsgálni.)\n",
        "\n",
        "Szerencsére a legtöbb munka esetében nem lesz szükség kiterjedt hiperparaméter-keresésre ahhoz, hogy kielégítő eredményeket kapjunk. Az **Adam** egy olyan SGD algoritmus, amely adaptív tanulási sebességgel rendelkezik, ami a legtöbb problémára alkalmassá teszi a paraméterek hangolása nélkül (bizonyos értelemben \"önhangoló\"). Az Adam egy nagyszerű általános célú optimalizáló.\n",
        "\n",
        "## A veszteség és az optimalizáló hozzáadása \n",
        "\n",
        "A modell definiálása után a modell `compile` módszerével hozzáadhat egy veszteségfüggvényt és egy optimalizálót:\n",
        "\n",
        "```\n",
        "model.compile(\n",
        "    optimizer=\"adam\",\n",
        "    loss=\"mae\",\n",
        ")\n",
        "```\n",
        "\n",
        "Vegyük észre, hogy a veszteséget és az optimalizálót csak egy karakterlánccal tudjuk megadni. Ezekhez közvetlenül is hozzáférhetünk a Keras API-n keresztül -- ha például paramétereket szeretnénk hangolni --, de nekünk az alapértelmezettek is megfelelnek.\n",
        "\n",
        "<blockquote style=\"margin-right:auto; margin-left:auto; background-color: #ebf9ff; padding: 1em; margin:24px;\">\".\n",
        "    <strong>Mi van a névben?</strong><br>\n",
        "A <strong>gradiens</strong> egy vektor, amely megmondja, hogy a súlyoknak milyen irányba kell menniük. Pontosabban azt mondja meg, hogyan kell megváltoztatni a súlyokat, hogy a veszteség <em>gyorsabban</em> változzon. A folyamatunkat gradiensnek <strong>lejtmenetnek</strong> nevezzük, mert a gradienst arra használja, hogy <em>lejtmenet</em> a veszteséggörbét egy minimum felé vezesse. <strong>Sztochasztikus</strong> azt jelenti, hogy \"véletlen által meghatározott\". A képzésünk <em>stochasztikus</em>, mert a minitételek <em>véletlen minták</em> az adathalmazból. És ezért hívják SGD-nek!\n",
        "</blockquote>\n",
        "\n"
      ],
      "id": "9e68f8f0"
    },
    {
      "cell_type": "markdown",
      "metadata": {
        "papermill": {
          "duration": 0.009629,
          "end_time": "2021-09-13T20:12:24.014054",
          "exception": false,
          "start_time": "2021-09-13T20:12:24.004425",
          "status": "completed"
        },
        "tags": [],
        "id": "e23a44d4"
      },
      "source": [
        "# Példa - vörösbor minősége \n",
        "\n",
        "Most már mindent tudunk, amire szükségünk van ahhoz, hogy elkezdhessük a mélytanulási modellek képzését. Lássuk tehát a gyakorlatban! A *Red Wine Quality* adathalmazt fogjuk használni.\n",
        "\n",
        "Ez az adatkészlet körülbelül 1600 portugál vörösbor fiziokémiai méréseiből áll. Tartalmazza továbbá az egyes borok vak kóstolótesztekből származó minőségi értékelését is. Mennyire tudjuk megjósolni egy bor érzékelt minőségét ezekből a mérésekből?\n",
        "\n"
      ],
      "id": "e23a44d4"
    },
    {
      "cell_type": "code",
      "source": [
        "import pandas as pd\n",
        "from sklearn.model_selection import train_test_split\n",
        "\n",
        "red_wine = pd.read_csv('red-wine.csv')\n",
        "\n",
        "y = red_wine.quality #X,y beállítása\n",
        "X = red_wine.drop(['quality'], axis = 1)\n",
        "\n",
        "X_train, X_test, y_train, y_test = train_test_split(X, y, test_size=0.2, random_state=1) # első felosztás train, teszt halmazokra\n",
        "\n",
        "# Scale to [0, 1]\n",
        "max_ = X_train.max(axis=0)\n",
        "min_ = X_train.min(axis=0)\n",
        "X_train = (X_train - min_) / (max_ - min_)\n",
        "X_test = (X_test - min_) / (max_ - min_)\n",
        "\n",
        "red_wine.head()"
      ],
      "metadata": {
        "colab": {
          "base_uri": "https://localhost:8080/",
          "height": 267
        },
        "id": "nfErVePmMY9O",
        "outputId": "4b76d062-c6d1-4de7-c690-86f7e22d40b1"
      },
      "id": "nfErVePmMY9O",
      "execution_count": null,
      "outputs": [
        {
          "output_type": "execute_result",
          "data": {
            "text/plain": [
              "   fixed acidity  volatile acidity  citric acid  residual sugar  chlorides  \\\n",
              "0            7.4              0.70         0.00             1.9      0.076   \n",
              "1            7.8              0.88         0.00             2.6      0.098   \n",
              "2            7.8              0.76         0.04             2.3      0.092   \n",
              "3           11.2              0.28         0.56             1.9      0.075   \n",
              "4            7.4              0.70         0.00             1.9      0.076   \n",
              "\n",
              "   free sulfur dioxide  total sulfur dioxide  density    pH  sulphates  \\\n",
              "0                 11.0                  34.0   0.9978  3.51       0.56   \n",
              "1                 25.0                  67.0   0.9968  3.20       0.68   \n",
              "2                 15.0                  54.0   0.9970  3.26       0.65   \n",
              "3                 17.0                  60.0   0.9980  3.16       0.58   \n",
              "4                 11.0                  34.0   0.9978  3.51       0.56   \n",
              "\n",
              "   alcohol  quality  \n",
              "0      9.4        5  \n",
              "1      9.8        5  \n",
              "2      9.8        5  \n",
              "3      9.8        6  \n",
              "4      9.4        5  "
            ],
            "text/html": [
              "\n",
              "  <div id=\"df-7acc8e9c-a804-42b1-818c-aeb5ef9590b1\">\n",
              "    <div class=\"colab-df-container\">\n",
              "      <div>\n",
              "<style scoped>\n",
              "    .dataframe tbody tr th:only-of-type {\n",
              "        vertical-align: middle;\n",
              "    }\n",
              "\n",
              "    .dataframe tbody tr th {\n",
              "        vertical-align: top;\n",
              "    }\n",
              "\n",
              "    .dataframe thead th {\n",
              "        text-align: right;\n",
              "    }\n",
              "</style>\n",
              "<table border=\"1\" class=\"dataframe\">\n",
              "  <thead>\n",
              "    <tr style=\"text-align: right;\">\n",
              "      <th></th>\n",
              "      <th>fixed acidity</th>\n",
              "      <th>volatile acidity</th>\n",
              "      <th>citric acid</th>\n",
              "      <th>residual sugar</th>\n",
              "      <th>chlorides</th>\n",
              "      <th>free sulfur dioxide</th>\n",
              "      <th>total sulfur dioxide</th>\n",
              "      <th>density</th>\n",
              "      <th>pH</th>\n",
              "      <th>sulphates</th>\n",
              "      <th>alcohol</th>\n",
              "      <th>quality</th>\n",
              "    </tr>\n",
              "  </thead>\n",
              "  <tbody>\n",
              "    <tr>\n",
              "      <th>0</th>\n",
              "      <td>7.4</td>\n",
              "      <td>0.70</td>\n",
              "      <td>0.00</td>\n",
              "      <td>1.9</td>\n",
              "      <td>0.076</td>\n",
              "      <td>11.0</td>\n",
              "      <td>34.0</td>\n",
              "      <td>0.9978</td>\n",
              "      <td>3.51</td>\n",
              "      <td>0.56</td>\n",
              "      <td>9.4</td>\n",
              "      <td>5</td>\n",
              "    </tr>\n",
              "    <tr>\n",
              "      <th>1</th>\n",
              "      <td>7.8</td>\n",
              "      <td>0.88</td>\n",
              "      <td>0.00</td>\n",
              "      <td>2.6</td>\n",
              "      <td>0.098</td>\n",
              "      <td>25.0</td>\n",
              "      <td>67.0</td>\n",
              "      <td>0.9968</td>\n",
              "      <td>3.20</td>\n",
              "      <td>0.68</td>\n",
              "      <td>9.8</td>\n",
              "      <td>5</td>\n",
              "    </tr>\n",
              "    <tr>\n",
              "      <th>2</th>\n",
              "      <td>7.8</td>\n",
              "      <td>0.76</td>\n",
              "      <td>0.04</td>\n",
              "      <td>2.3</td>\n",
              "      <td>0.092</td>\n",
              "      <td>15.0</td>\n",
              "      <td>54.0</td>\n",
              "      <td>0.9970</td>\n",
              "      <td>3.26</td>\n",
              "      <td>0.65</td>\n",
              "      <td>9.8</td>\n",
              "      <td>5</td>\n",
              "    </tr>\n",
              "    <tr>\n",
              "      <th>3</th>\n",
              "      <td>11.2</td>\n",
              "      <td>0.28</td>\n",
              "      <td>0.56</td>\n",
              "      <td>1.9</td>\n",
              "      <td>0.075</td>\n",
              "      <td>17.0</td>\n",
              "      <td>60.0</td>\n",
              "      <td>0.9980</td>\n",
              "      <td>3.16</td>\n",
              "      <td>0.58</td>\n",
              "      <td>9.8</td>\n",
              "      <td>6</td>\n",
              "    </tr>\n",
              "    <tr>\n",
              "      <th>4</th>\n",
              "      <td>7.4</td>\n",
              "      <td>0.70</td>\n",
              "      <td>0.00</td>\n",
              "      <td>1.9</td>\n",
              "      <td>0.076</td>\n",
              "      <td>11.0</td>\n",
              "      <td>34.0</td>\n",
              "      <td>0.9978</td>\n",
              "      <td>3.51</td>\n",
              "      <td>0.56</td>\n",
              "      <td>9.4</td>\n",
              "      <td>5</td>\n",
              "    </tr>\n",
              "  </tbody>\n",
              "</table>\n",
              "</div>\n",
              "      <button class=\"colab-df-convert\" onclick=\"convertToInteractive('df-7acc8e9c-a804-42b1-818c-aeb5ef9590b1')\"\n",
              "              title=\"Convert this dataframe to an interactive table.\"\n",
              "              style=\"display:none;\">\n",
              "        \n",
              "  <svg xmlns=\"http://www.w3.org/2000/svg\" height=\"24px\"viewBox=\"0 0 24 24\"\n",
              "       width=\"24px\">\n",
              "    <path d=\"M0 0h24v24H0V0z\" fill=\"none\"/>\n",
              "    <path d=\"M18.56 5.44l.94 2.06.94-2.06 2.06-.94-2.06-.94-.94-2.06-.94 2.06-2.06.94zm-11 1L8.5 8.5l.94-2.06 2.06-.94-2.06-.94L8.5 2.5l-.94 2.06-2.06.94zm10 10l.94 2.06.94-2.06 2.06-.94-2.06-.94-.94-2.06-.94 2.06-2.06.94z\"/><path d=\"M17.41 7.96l-1.37-1.37c-.4-.4-.92-.59-1.43-.59-.52 0-1.04.2-1.43.59L10.3 9.45l-7.72 7.72c-.78.78-.78 2.05 0 2.83L4 21.41c.39.39.9.59 1.41.59.51 0 1.02-.2 1.41-.59l7.78-7.78 2.81-2.81c.8-.78.8-2.07 0-2.86zM5.41 20L4 18.59l7.72-7.72 1.47 1.35L5.41 20z\"/>\n",
              "  </svg>\n",
              "      </button>\n",
              "      \n",
              "  <style>\n",
              "    .colab-df-container {\n",
              "      display:flex;\n",
              "      flex-wrap:wrap;\n",
              "      gap: 12px;\n",
              "    }\n",
              "\n",
              "    .colab-df-convert {\n",
              "      background-color: #E8F0FE;\n",
              "      border: none;\n",
              "      border-radius: 50%;\n",
              "      cursor: pointer;\n",
              "      display: none;\n",
              "      fill: #1967D2;\n",
              "      height: 32px;\n",
              "      padding: 0 0 0 0;\n",
              "      width: 32px;\n",
              "    }\n",
              "\n",
              "    .colab-df-convert:hover {\n",
              "      background-color: #E2EBFA;\n",
              "      box-shadow: 0px 1px 2px rgba(60, 64, 67, 0.3), 0px 1px 3px 1px rgba(60, 64, 67, 0.15);\n",
              "      fill: #174EA6;\n",
              "    }\n",
              "\n",
              "    [theme=dark] .colab-df-convert {\n",
              "      background-color: #3B4455;\n",
              "      fill: #D2E3FC;\n",
              "    }\n",
              "\n",
              "    [theme=dark] .colab-df-convert:hover {\n",
              "      background-color: #434B5C;\n",
              "      box-shadow: 0px 1px 3px 1px rgba(0, 0, 0, 0.15);\n",
              "      filter: drop-shadow(0px 1px 2px rgba(0, 0, 0, 0.3));\n",
              "      fill: #FFFFFF;\n",
              "    }\n",
              "  </style>\n",
              "\n",
              "      <script>\n",
              "        const buttonEl =\n",
              "          document.querySelector('#df-7acc8e9c-a804-42b1-818c-aeb5ef9590b1 button.colab-df-convert');\n",
              "        buttonEl.style.display =\n",
              "          google.colab.kernel.accessAllowed ? 'block' : 'none';\n",
              "\n",
              "        async function convertToInteractive(key) {\n",
              "          const element = document.querySelector('#df-7acc8e9c-a804-42b1-818c-aeb5ef9590b1');\n",
              "          const dataTable =\n",
              "            await google.colab.kernel.invokeFunction('convertToInteractive',\n",
              "                                                     [key], {});\n",
              "          if (!dataTable) return;\n",
              "\n",
              "          const docLinkHtml = 'Like what you see? Visit the ' +\n",
              "            '<a target=\"_blank\" href=https://colab.research.google.com/notebooks/data_table.ipynb>data table notebook</a>'\n",
              "            + ' to learn more about interactive tables.';\n",
              "          element.innerHTML = '';\n",
              "          dataTable['output_type'] = 'display_data';\n",
              "          await google.colab.output.renderOutput(dataTable, element);\n",
              "          const docLink = document.createElement('div');\n",
              "          docLink.innerHTML = docLinkHtml;\n",
              "          element.appendChild(docLink);\n",
              "        }\n",
              "      </script>\n",
              "    </div>\n",
              "  </div>\n",
              "  "
            ]
          },
          "metadata": {},
          "execution_count": 3
        }
      ]
    },
    {
      "cell_type": "markdown",
      "metadata": {
        "papermill": {
          "duration": 0.010454,
          "end_time": "2021-09-13T20:12:24.143650",
          "exception": false,
          "start_time": "2021-09-13T20:12:24.133196",
          "status": "completed"
        },
        "tags": [],
        "id": "d12aa4f3"
      },
      "source": [
        "Hány bemenettel kell rendelkeznie ennek a hálózatnak? Ezt az adatmátrix oszlopainak számával tudjuk kideríteni. Ügyeljünk arra, hogy a célt (`'minőség'`) itt ne szerepeltessük -- csak a bemeneti jellemzőket."
      ],
      "id": "d12aa4f3"
    },
    {
      "cell_type": "code",
      "metadata": {
        "colab": {
          "base_uri": "https://localhost:8080/"
        },
        "id": "dkz7q-HjBgdk",
        "outputId": "05406100-fba7-43c0-db92-0d31ede1a882"
      },
      "source": [
        "X_train.shape"
      ],
      "id": "dkz7q-HjBgdk",
      "execution_count": null,
      "outputs": [
        {
          "output_type": "execute_result",
          "data": {
            "text/plain": [
              "(1279, 11)"
            ]
          },
          "metadata": {},
          "execution_count": 4
        }
      ]
    },
    {
      "cell_type": "markdown",
      "metadata": {
        "papermill": {
          "duration": 0.011325,
          "end_time": "2021-09-13T20:12:24.196960",
          "exception": false,
          "start_time": "2021-09-13T20:12:24.185635",
          "status": "completed"
        },
        "tags": [],
        "id": "f57b046d"
      },
      "source": [
        "Tizenegy oszlop tizenegy bemenetet jelent.\n",
        "\n",
        "Egy háromrétegű hálózatot választottunk, több mint 1500 neuronnal. Ennek a hálózatnak képesnek kell lennie arra, hogy meglehetősen összetett összefüggéseket tanuljon az adatokban."
      ],
      "id": "f57b046d"
    },
    {
      "cell_type": "code",
      "metadata": {
        "execution": {
          "iopub.execute_input": "2021-09-13T20:12:24.227653Z",
          "iopub.status.busy": "2021-09-13T20:12:24.226742Z",
          "iopub.status.idle": "2021-09-13T20:12:30.077980Z",
          "shell.execute_reply": "2021-09-13T20:12:30.078461Z"
        },
        "papermill": {
          "duration": 5.870206,
          "end_time": "2021-09-13T20:12:30.078647",
          "exception": false,
          "start_time": "2021-09-13T20:12:24.208441",
          "status": "completed"
        },
        "tags": [],
        "id": "99fb9fe9"
      },
      "source": [
        "from tensorflow import keras\n",
        "from tensorflow.keras import layers\n",
        "\n",
        "model = keras.Sequential([\n",
        "    layers.Dense(512, activation='relu', input_shape=[11]),\n",
        "    layers.Dense(512, activation='relu'),\n",
        "    layers.Dense(512, activation='relu'),\n",
        "    layers.Dense(1),\n",
        "])"
      ],
      "id": "99fb9fe9",
      "execution_count": null,
      "outputs": []
    },
    {
      "cell_type": "markdown",
      "metadata": {
        "papermill": {
          "duration": 0.011615,
          "end_time": "2021-09-13T20:12:30.102410",
          "exception": false,
          "start_time": "2021-09-13T20:12:30.090795",
          "status": "completed"
        },
        "tags": [],
        "id": "c5bb4b35"
      },
      "source": [
        "A modell architektúrájának eldöntése egy folyamat része kell, hogy legyen. Kezdje egyszerűen, és használja a validációs veszteséget útmutatóként. A modellfejlesztésről a gyakorlatokban többet fog megtudni.\n",
        "\n",
        "A modell meghatározása után az optimalizálót és a veszteségfüggvényt állítjuk össze."
      ],
      "id": "c5bb4b35"
    },
    {
      "cell_type": "code",
      "metadata": {
        "execution": {
          "iopub.execute_input": "2021-09-13T20:12:30.140885Z",
          "iopub.status.busy": "2021-09-13T20:12:30.140205Z",
          "iopub.status.idle": "2021-09-13T20:12:30.146998Z",
          "shell.execute_reply": "2021-09-13T20:12:30.146455Z"
        },
        "papermill": {
          "duration": 0.032697,
          "end_time": "2021-09-13T20:12:30.147148",
          "exception": false,
          "start_time": "2021-09-13T20:12:30.114451",
          "status": "completed"
        },
        "tags": [],
        "id": "792306c8"
      },
      "source": [
        "model.compile(\n",
        "    optimizer='adam',\n",
        "    loss='mae',\n",
        "    )"
      ],
      "id": "792306c8",
      "execution_count": null,
      "outputs": []
    },
    {
      "cell_type": "markdown",
      "metadata": {
        "papermill": {
          "duration": 0.011795,
          "end_time": "2021-09-13T20:12:30.171158",
          "exception": false,
          "start_time": "2021-09-13T20:12:30.159363",
          "status": "completed"
        },
        "tags": [],
        "id": "eb2d3fd1"
      },
      "source": [
        "Most már készen állunk a képzés megkezdésére! Megmondtuk a Kerasnak, hogy egyszerre 256 sort tápláljon az optimalizálónak a képzési adatokból (a `batch_size`), és ezt 10 alkalommal tegye végig az adathalmazon (az `epochs`)."
      ],
      "id": "eb2d3fd1"
    },
    {
      "cell_type": "code",
      "metadata": {
        "execution": {
          "iopub.execute_input": "2021-09-13T20:12:30.201572Z",
          "iopub.status.busy": "2021-09-13T20:12:30.200889Z",
          "iopub.status.idle": "2021-09-13T20:12:32.537010Z",
          "shell.execute_reply": "2021-09-13T20:12:32.536300Z"
        },
        "papermill": {
          "duration": 2.353408,
          "end_time": "2021-09-13T20:12:32.537230",
          "exception": false,
          "start_time": "2021-09-13T20:12:30.183822",
          "status": "completed"
        },
        "tags": [],
        "id": "ce63cb9b",
        "colab": {
          "base_uri": "https://localhost:8080/"
        },
        "outputId": "3d9d1c69-c9c8-412b-8e5f-4a999d5382e7"
      },
      "source": [
        "history = model.fit(\n",
        "    X_train, y_train,\n",
        "    validation_data=(X_test, y_test),\n",
        "    batch_size=256,\n",
        "    epochs=100,\n",
        ")"
      ],
      "id": "ce63cb9b",
      "execution_count": null,
      "outputs": [
        {
          "output_type": "stream",
          "name": "stdout",
          "text": [
            "Epoch 1/100\n",
            "5/5 [==============================] - 1s 38ms/step - loss: 4.9562 - val_loss: 3.4007\n",
            "Epoch 2/100\n",
            "5/5 [==============================] - 0s 9ms/step - loss: 1.9434 - val_loss: 2.0638\n",
            "Epoch 3/100\n",
            "5/5 [==============================] - 0s 8ms/step - loss: 1.4480 - val_loss: 0.9232\n",
            "Epoch 4/100\n",
            "5/5 [==============================] - 0s 8ms/step - loss: 1.1843 - val_loss: 0.8773\n",
            "Epoch 5/100\n",
            "5/5 [==============================] - 0s 8ms/step - loss: 0.8705 - val_loss: 0.9443\n",
            "Epoch 6/100\n",
            "5/5 [==============================] - 0s 8ms/step - loss: 0.8237 - val_loss: 0.7587\n",
            "Epoch 7/100\n",
            "5/5 [==============================] - 0s 8ms/step - loss: 0.7999 - val_loss: 0.6280\n",
            "Epoch 8/100\n",
            "5/5 [==============================] - 0s 8ms/step - loss: 0.7374 - val_loss: 0.6186\n",
            "Epoch 9/100\n",
            "5/5 [==============================] - 0s 8ms/step - loss: 0.6857 - val_loss: 0.6142\n",
            "Epoch 10/100\n",
            "5/5 [==============================] - 0s 9ms/step - loss: 0.6591 - val_loss: 0.6155\n",
            "Epoch 11/100\n",
            "5/5 [==============================] - 0s 8ms/step - loss: 0.6485 - val_loss: 0.5960\n",
            "Epoch 12/100\n",
            "5/5 [==============================] - 0s 8ms/step - loss: 0.6418 - val_loss: 0.5961\n",
            "Epoch 13/100\n",
            "5/5 [==============================] - 0s 8ms/step - loss: 0.6275 - val_loss: 0.5833\n",
            "Epoch 14/100\n",
            "5/5 [==============================] - 0s 8ms/step - loss: 0.6190 - val_loss: 0.5730\n",
            "Epoch 15/100\n",
            "5/5 [==============================] - 0s 8ms/step - loss: 0.6128 - val_loss: 0.5697\n",
            "Epoch 16/100\n",
            "5/5 [==============================] - 0s 8ms/step - loss: 0.6093 - val_loss: 0.5602\n",
            "Epoch 17/100\n",
            "5/5 [==============================] - 0s 8ms/step - loss: 0.5967 - val_loss: 0.5514\n",
            "Epoch 18/100\n",
            "5/5 [==============================] - 0s 9ms/step - loss: 0.5882 - val_loss: 0.5512\n",
            "Epoch 19/100\n",
            "5/5 [==============================] - 0s 8ms/step - loss: 0.5832 - val_loss: 0.5471\n",
            "Epoch 20/100\n",
            "5/5 [==============================] - 0s 8ms/step - loss: 0.5750 - val_loss: 0.5395\n",
            "Epoch 21/100\n",
            "5/5 [==============================] - 0s 8ms/step - loss: 0.5665 - val_loss: 0.5336\n",
            "Epoch 22/100\n",
            "5/5 [==============================] - 0s 8ms/step - loss: 0.5582 - val_loss: 0.5293\n",
            "Epoch 23/100\n",
            "5/5 [==============================] - 0s 10ms/step - loss: 0.5516 - val_loss: 0.5327\n",
            "Epoch 24/100\n",
            "5/5 [==============================] - 0s 12ms/step - loss: 0.5471 - val_loss: 0.5229\n",
            "Epoch 25/100\n",
            "5/5 [==============================] - 0s 8ms/step - loss: 0.5381 - val_loss: 0.5125\n",
            "Epoch 26/100\n",
            "5/5 [==============================] - 0s 12ms/step - loss: 0.5279 - val_loss: 0.5085\n",
            "Epoch 27/100\n",
            "5/5 [==============================] - 0s 12ms/step - loss: 0.5197 - val_loss: 0.5064\n",
            "Epoch 28/100\n",
            "5/5 [==============================] - 0s 12ms/step - loss: 0.5127 - val_loss: 0.4980\n",
            "Epoch 29/100\n",
            "5/5 [==============================] - 0s 13ms/step - loss: 0.5116 - val_loss: 0.5038\n",
            "Epoch 30/100\n",
            "5/5 [==============================] - 0s 16ms/step - loss: 0.5107 - val_loss: 0.5000\n",
            "Epoch 31/100\n",
            "5/5 [==============================] - 0s 8ms/step - loss: 0.5013 - val_loss: 0.4884\n",
            "Epoch 32/100\n",
            "5/5 [==============================] - 0s 8ms/step - loss: 0.4937 - val_loss: 0.4953\n",
            "Epoch 33/100\n",
            "5/5 [==============================] - 0s 8ms/step - loss: 0.5050 - val_loss: 0.4901\n",
            "Epoch 34/100\n",
            "5/5 [==============================] - 0s 8ms/step - loss: 0.5008 - val_loss: 0.4968\n",
            "Epoch 35/100\n",
            "5/5 [==============================] - 0s 9ms/step - loss: 0.4851 - val_loss: 0.4817\n",
            "Epoch 36/100\n",
            "5/5 [==============================] - 0s 9ms/step - loss: 0.4787 - val_loss: 0.4900\n",
            "Epoch 37/100\n",
            "5/5 [==============================] - 0s 8ms/step - loss: 0.4773 - val_loss: 0.4822\n",
            "Epoch 38/100\n",
            "5/5 [==============================] - 0s 8ms/step - loss: 0.4778 - val_loss: 0.4798\n",
            "Epoch 39/100\n",
            "5/5 [==============================] - 0s 7ms/step - loss: 0.4722 - val_loss: 0.4761\n",
            "Epoch 40/100\n",
            "5/5 [==============================] - 0s 8ms/step - loss: 0.4670 - val_loss: 0.4834\n",
            "Epoch 41/100\n",
            "5/5 [==============================] - 0s 9ms/step - loss: 0.4640 - val_loss: 0.4760\n",
            "Epoch 42/100\n",
            "5/5 [==============================] - 0s 8ms/step - loss: 0.4679 - val_loss: 0.4714\n",
            "Epoch 43/100\n",
            "5/5 [==============================] - 0s 8ms/step - loss: 0.4674 - val_loss: 0.4786\n",
            "Epoch 44/100\n",
            "5/5 [==============================] - 0s 9ms/step - loss: 0.4620 - val_loss: 0.4740\n",
            "Epoch 45/100\n",
            "5/5 [==============================] - 0s 8ms/step - loss: 0.4560 - val_loss: 0.4830\n",
            "Epoch 46/100\n",
            "5/5 [==============================] - 0s 8ms/step - loss: 0.4613 - val_loss: 0.4689\n",
            "Epoch 47/100\n",
            "5/5 [==============================] - 0s 8ms/step - loss: 0.4531 - val_loss: 0.4709\n",
            "Epoch 48/100\n",
            "5/5 [==============================] - 0s 8ms/step - loss: 0.4502 - val_loss: 0.4792\n",
            "Epoch 49/100\n",
            "5/5 [==============================] - 0s 8ms/step - loss: 0.4637 - val_loss: 0.4619\n",
            "Epoch 50/100\n",
            "5/5 [==============================] - 0s 9ms/step - loss: 0.4681 - val_loss: 0.4701\n",
            "Epoch 51/100\n",
            "5/5 [==============================] - 0s 8ms/step - loss: 0.4664 - val_loss: 0.4886\n",
            "Epoch 52/100\n",
            "5/5 [==============================] - 0s 8ms/step - loss: 0.4597 - val_loss: 0.4890\n",
            "Epoch 53/100\n",
            "5/5 [==============================] - 0s 8ms/step - loss: 0.4524 - val_loss: 0.4742\n",
            "Epoch 54/100\n",
            "5/5 [==============================] - 0s 9ms/step - loss: 0.4447 - val_loss: 0.4652\n",
            "Epoch 55/100\n",
            "5/5 [==============================] - 0s 8ms/step - loss: 0.4452 - val_loss: 0.4757\n",
            "Epoch 56/100\n",
            "5/5 [==============================] - 0s 8ms/step - loss: 0.4420 - val_loss: 0.4651\n",
            "Epoch 57/100\n",
            "5/5 [==============================] - 0s 9ms/step - loss: 0.4394 - val_loss: 0.4712\n",
            "Epoch 58/100\n",
            "5/5 [==============================] - 0s 8ms/step - loss: 0.4410 - val_loss: 0.4759\n",
            "Epoch 59/100\n",
            "5/5 [==============================] - 0s 8ms/step - loss: 0.4475 - val_loss: 0.4630\n",
            "Epoch 60/100\n",
            "5/5 [==============================] - 0s 8ms/step - loss: 0.4543 - val_loss: 0.4767\n",
            "Epoch 61/100\n",
            "5/5 [==============================] - 0s 8ms/step - loss: 0.4728 - val_loss: 0.4820\n",
            "Epoch 62/100\n",
            "5/5 [==============================] - 0s 8ms/step - loss: 0.4639 - val_loss: 0.4627\n",
            "Epoch 63/100\n",
            "5/5 [==============================] - 0s 8ms/step - loss: 0.4425 - val_loss: 0.4641\n",
            "Epoch 64/100\n",
            "5/5 [==============================] - 0s 8ms/step - loss: 0.4495 - val_loss: 0.4690\n",
            "Epoch 65/100\n",
            "5/5 [==============================] - 0s 9ms/step - loss: 0.4356 - val_loss: 0.4782\n",
            "Epoch 66/100\n",
            "5/5 [==============================] - 0s 8ms/step - loss: 0.4399 - val_loss: 0.4676\n",
            "Epoch 67/100\n",
            "5/5 [==============================] - 0s 9ms/step - loss: 0.4304 - val_loss: 0.4837\n",
            "Epoch 68/100\n",
            "5/5 [==============================] - 0s 7ms/step - loss: 0.4555 - val_loss: 0.5434\n",
            "Epoch 69/100\n",
            "5/5 [==============================] - 0s 8ms/step - loss: 0.4489 - val_loss: 0.5202\n",
            "Epoch 70/100\n",
            "5/5 [==============================] - 0s 8ms/step - loss: 0.4510 - val_loss: 0.5109\n",
            "Epoch 71/100\n",
            "5/5 [==============================] - 0s 8ms/step - loss: 0.4350 - val_loss: 0.4794\n",
            "Epoch 72/100\n",
            "5/5 [==============================] - 0s 8ms/step - loss: 0.4371 - val_loss: 0.4642\n",
            "Epoch 73/100\n",
            "5/5 [==============================] - 0s 8ms/step - loss: 0.4355 - val_loss: 0.4599\n",
            "Epoch 74/100\n",
            "5/5 [==============================] - 0s 8ms/step - loss: 0.4588 - val_loss: 0.4581\n",
            "Epoch 75/100\n",
            "5/5 [==============================] - 0s 8ms/step - loss: 0.4337 - val_loss: 0.4608\n",
            "Epoch 76/100\n",
            "5/5 [==============================] - 0s 8ms/step - loss: 0.4308 - val_loss: 0.4821\n",
            "Epoch 77/100\n",
            "5/5 [==============================] - 0s 10ms/step - loss: 0.4433 - val_loss: 0.4754\n",
            "Epoch 78/100\n",
            "5/5 [==============================] - 0s 12ms/step - loss: 0.4507 - val_loss: 0.4650\n",
            "Epoch 79/100\n",
            "5/5 [==============================] - 0s 8ms/step - loss: 0.4241 - val_loss: 0.4676\n",
            "Epoch 80/100\n",
            "5/5 [==============================] - 0s 8ms/step - loss: 0.4333 - val_loss: 0.4614\n",
            "Epoch 81/100\n",
            "5/5 [==============================] - 0s 8ms/step - loss: 0.4153 - val_loss: 0.4741\n",
            "Epoch 82/100\n",
            "5/5 [==============================] - 0s 8ms/step - loss: 0.4247 - val_loss: 0.4702\n",
            "Epoch 83/100\n",
            "5/5 [==============================] - 0s 8ms/step - loss: 0.4221 - val_loss: 0.4671\n",
            "Epoch 84/100\n",
            "5/5 [==============================] - 0s 8ms/step - loss: 0.4146 - val_loss: 0.4788\n",
            "Epoch 85/100\n",
            "5/5 [==============================] - 0s 10ms/step - loss: 0.4128 - val_loss: 0.4642\n",
            "Epoch 86/100\n",
            "5/5 [==============================] - 0s 8ms/step - loss: 0.4104 - val_loss: 0.4831\n",
            "Epoch 87/100\n",
            "5/5 [==============================] - 0s 9ms/step - loss: 0.4245 - val_loss: 0.4810\n",
            "Epoch 88/100\n",
            "5/5 [==============================] - 0s 8ms/step - loss: 0.4269 - val_loss: 0.4633\n",
            "Epoch 89/100\n",
            "5/5 [==============================] - 0s 8ms/step - loss: 0.4162 - val_loss: 0.4863\n",
            "Epoch 90/100\n",
            "5/5 [==============================] - 0s 8ms/step - loss: 0.4187 - val_loss: 0.4620\n",
            "Epoch 91/100\n",
            "5/5 [==============================] - 0s 8ms/step - loss: 0.4105 - val_loss: 0.4838\n",
            "Epoch 92/100\n",
            "5/5 [==============================] - 0s 8ms/step - loss: 0.4120 - val_loss: 0.4743\n",
            "Epoch 93/100\n",
            "5/5 [==============================] - 0s 9ms/step - loss: 0.4031 - val_loss: 0.4629\n",
            "Epoch 94/100\n",
            "5/5 [==============================] - 0s 8ms/step - loss: 0.4228 - val_loss: 0.4668\n",
            "Epoch 95/100\n",
            "5/5 [==============================] - 0s 8ms/step - loss: 0.4247 - val_loss: 0.5146\n",
            "Epoch 96/100\n",
            "5/5 [==============================] - 0s 9ms/step - loss: 0.4321 - val_loss: 0.4712\n",
            "Epoch 97/100\n",
            "5/5 [==============================] - 0s 8ms/step - loss: 0.4086 - val_loss: 0.4755\n",
            "Epoch 98/100\n",
            "5/5 [==============================] - 0s 8ms/step - loss: 0.4012 - val_loss: 0.4685\n",
            "Epoch 99/100\n",
            "5/5 [==============================] - 0s 11ms/step - loss: 0.4039 - val_loss: 0.5009\n",
            "Epoch 100/100\n",
            "5/5 [==============================] - 0s 9ms/step - loss: 0.4233 - val_loss: 0.4763\n"
          ]
        }
      ]
    },
    {
      "cell_type": "markdown",
      "metadata": {
        "papermill": {
          "duration": 0.01858,
          "end_time": "2021-09-13T20:12:32.576613",
          "exception": false,
          "start_time": "2021-09-13T20:12:32.558033",
          "status": "completed"
        },
        "tags": [],
        "id": "8d06ef72"
      },
      "source": [
        "Láthatja, hogy a Keras folyamatosan tájékoztatja Önt a veszteségről, ahogy a modell tanul.\n",
        "\n",
        "Gyakran azonban jobb módja a veszteség megtekintésének, ha ábrázolja azt. A `fit` módszer valójában egy `History` objektumban tartja nyilván a képzés során keletkezett veszteséget. Az adatokat egy Pandas adatkeretbe konvertáljuk, ami megkönnyíti a grafikus ábrázolást."
      ],
      "id": "8d06ef72"
    },
    {
      "cell_type": "markdown",
      "source": [
        "##Mit jelentenek a loss-ok?"
      ],
      "metadata": {
        "id": "aMPu8ENb2gfL"
      },
      "id": "aMPu8ENb2gfL"
    },
    {
      "cell_type": "code",
      "metadata": {
        "execution": {
          "iopub.execute_input": "2021-09-13T20:12:32.621022Z",
          "iopub.status.busy": "2021-09-13T20:12:32.620354Z",
          "iopub.status.idle": "2021-09-13T20:12:32.882520Z",
          "shell.execute_reply": "2021-09-13T20:12:32.883030Z"
        },
        "lines_to_next_cell": 2,
        "papermill": {
          "duration": 0.287746,
          "end_time": "2021-09-13T20:12:32.883339",
          "exception": false,
          "start_time": "2021-09-13T20:12:32.595593",
          "status": "completed"
        },
        "tags": [],
        "id": "8e2a6841",
        "colab": {
          "base_uri": "https://localhost:8080/",
          "height": 265
        },
        "outputId": "449de6fe-2e27-4459-f8d7-ac20f865f655"
      },
      "source": [
        "import pandas as pd\n",
        "\n",
        "# convert the training history to a dataframe\n",
        "history_df = pd.DataFrame(history.history)\n",
        "history_df.loc[:, ['loss', 'val_loss']].plot();"
      ],
      "id": "8e2a6841",
      "execution_count": null,
      "outputs": [
        {
          "output_type": "display_data",
          "data": {
            "text/plain": [
              "<Figure size 432x288 with 1 Axes>"
            ],
            "image/png": "[encoded data removed]"
          },
          "metadata": {
            "needs_background": "light"
          }
        }
      ]
    },
    {
      "cell_type": "markdown",
      "metadata": {
        "papermill": {
          "duration": 0.019501,
          "end_time": "2021-09-13T20:12:32.922996",
          "exception": false,
          "start_time": "2021-09-13T20:12:32.903495",
          "status": "completed"
        },
        "tags": [],
        "id": "4ad7e201"
      },
      "source": [
        "Figyeljük meg, hogy a veszteség a korszakok elteltével kiegyenlítődik. Amikor a veszteséggörbe ilyen vízszintessé válik, az azt jelenti, hogy a modell mindent megtanult, amit csak tudott, és nincs értelme további korszakokat folytatni."
      ],
      "id": "4ad7e201"
    },
    {
      "cell_type": "markdown",
      "source": [
        "#Osztályozási feladat"
      ],
      "metadata": {
        "id": "vnly6_fyDKap"
      },
      "id": "vnly6_fyDKap"
    },
    {
      "cell_type": "code",
      "source": [
        "from sklearn.datasets import make_blobs\n",
        "import matplotlib.pyplot as plt\n",
        "\n",
        "X, y = make_blobs(500, 2, centers = 4, random_state=2, cluster_std=2)\n",
        "plt.scatter(X[:, 0], X[:, 1], c=y, s=50);"
      ],
      "metadata": {
        "colab": {
          "base_uri": "https://localhost:8080/",
          "height": 265
        },
        "id": "ybUkG-Tr3jDV",
        "outputId": "fcd4a06d-202b-4316-d0d9-3686b10aee0e"
      },
      "id": "ybUkG-Tr3jDV",
      "execution_count": null,
      "outputs": [
        {
          "output_type": "display_data",
          "data": {
            "text/plain": [
              "<Figure size 432x288 with 1 Axes>"
            ],
            "image/png": "[encoded data removed]"
          },
          "metadata": {
            "needs_background": "light"
          }
        }
      ]
    },
    {
      "cell_type": "markdown",
      "source": [
        "#Vizsgáljuk meg X-et és y-t\n"
      ],
      "metadata": {
        "id": "1B4oIHQ5DlN3"
      },
      "id": "1B4oIHQ5DlN3"
    },
    {
      "cell_type": "code",
      "source": [
        "print(X[:10])\n",
        "print(y[:10])"
      ],
      "metadata": {
        "colab": {
          "base_uri": "https://localhost:8080/"
        },
        "id": "Ls5TIHqS6Wce",
        "outputId": "b287b187-4141-42dd-9dc6-90a1e42fb31e"
      },
      "id": "Ls5TIHqS6Wce",
      "execution_count": null,
      "outputs": [
        {
          "output_type": "stream",
          "name": "stdout",
          "text": [
            "[[ -0.17719387  -4.89705934]\n",
            " [ -6.49984446   3.55613952]\n",
            " [ -4.37345118 -13.64677923]\n",
            " [ -2.2818913   -7.39746205]\n",
            " [ -3.7159428   -0.02291661]\n",
            " [ -3.53530837  -1.41299822]\n",
            " [  0.58507297  -0.72268008]\n",
            " [  0.97804728  -3.16121347]\n",
            " [ -1.11658179  -3.65906656]\n",
            " [ -2.05426997  -1.61505894]]\n",
            "[0 3 0 2 3 2 2 1 1 2]\n"
          ]
        }
      ]
    },
    {
      "cell_type": "markdown",
      "source": [
        "#Osszuk fel az adatokat tréning és teszt részekre, az y-t alakítsuk át one hot encoding segítségével"
      ],
      "metadata": {
        "id": "y-sQ-xeiD7Qz"
      },
      "id": "y-sQ-xeiD7Qz"
    },
    {
      "cell_type": "code",
      "source": [
        "from sklearn.model_selection import train_test_split\n",
        "import tensorflow as tf\n",
        "\n",
        "X_train, X_test, y_train, y_test = train_test_split(...... # első felosztás train, teszt halmazokra\n",
        "\n",
        "y_train = tf.keras.utils.to_categorical( , )\n",
        "y_test = tf.keras.utils.to_categorical(, )"
      ],
      "metadata": {
        "id": "oKb0WHMn5P-V"
      },
      "id": "oKb0WHMn5P-V",
      "execution_count": null,
      "outputs": []
    },
    {
      "cell_type": "code",
      "source": [
        "y_train[:5]"
      ],
      "metadata": {
        "colab": {
          "base_uri": "https://localhost:8080/"
        },
        "id": "U3DssSUF67F-",
        "outputId": "2af228f8-4c43-44a8-8b4d-56e2dde54aa8"
      },
      "id": "U3DssSUF67F-",
      "execution_count": null,
      "outputs": [
        {
          "output_type": "execute_result",
          "data": {
            "text/plain": [
              "array([[0., 0., 1., 0.],\n",
              "       [0., 0., 1., 0.],\n",
              "       [0., 1., 0., 0.],\n",
              "       [0., 1., 0., 0.],\n",
              "       [0., 1., 0., 0.]], dtype=float32)"
            ]
          },
          "metadata": {},
          "execution_count": 12
        }
      ]
    },
    {
      "cell_type": "markdown",
      "source": [
        "#Készítsük el az architekturát 3 rejtett réteggel rétegenként 64 neuronnal\n",
        "Figyeljünk a bemeneti/kimeneti dimenzióra, aktivitásokra!\n"
      ],
      "metadata": {
        "id": "JATy-3puF4VN"
      },
      "id": "JATy-3puF4VN"
    },
    {
      "cell_type": "code",
      "metadata": {
        "execution": {
          "iopub.execute_input": "2021-09-13T20:12:24.227653Z",
          "iopub.status.busy": "2021-09-13T20:12:24.226742Z",
          "iopub.status.idle": "2021-09-13T20:12:30.077980Z",
          "shell.execute_reply": "2021-09-13T20:12:30.078461Z"
        },
        "papermill": {
          "duration": 5.870206,
          "end_time": "2021-09-13T20:12:30.078647",
          "exception": false,
          "start_time": "2021-09-13T20:12:24.208441",
          "status": "completed"
        },
        "tags": [],
        "id": "oulvMNKD5aF_"
      },
      "source": [
        "from tensorflow import keras\n",
        "from tensorflow.keras import layers\n",
        "\n",
        "model = keras.Sequential([\n",
        "    layers.Dense(    ,\n",
        "    ,\n",
        "])"
      ],
      "execution_count": null,
      "outputs": [],
      "id": "oulvMNKD5aF_"
    },
    {
      "cell_type": "markdown",
      "source": [
        "#Compile segítségével adjuk meg az optimalizálót, loss-t, metrikát\n",
        "Figyelem osztályozási feladat!"
      ],
      "metadata": {
        "id": "1ai8GEaVGiGB"
      },
      "id": "1ai8GEaVGiGB"
    },
    {
      "cell_type": "code",
      "source": [
        "model.compile(\n",
        "    optimizer='adam',\n",
        "    loss='cat.........,\n",
        "    metrics=['accuracy'])\n",
        "  "
      ],
      "metadata": {
        "id": "ailn9RmY5T_j"
      },
      "id": "ailn9RmY5T_j",
      "execution_count": null,
      "outputs": []
    },
    {
      "cell_type": "markdown",
      "source": [
        "#Illesszük a modellt"
      ],
      "metadata": {
        "id": "zMXsIJejG6Lx"
      },
      "id": "zMXsIJejG6Lx"
    },
    {
      "cell_type": "code",
      "metadata": {
        "execution": {
          "iopub.execute_input": "2021-09-13T20:12:30.201572Z",
          "iopub.status.busy": "2021-09-13T20:12:30.200889Z",
          "iopub.status.idle": "2021-09-13T20:12:32.537010Z",
          "shell.execute_reply": "2021-09-13T20:12:32.536300Z"
        },
        "papermill": {
          "duration": 2.353408,
          "end_time": "2021-09-13T20:12:32.537230",
          "exception": false,
          "start_time": "2021-09-13T20:12:30.183822",
          "status": "completed"
        },
        "tags": [],
        "colab": {
          "base_uri": "https://localhost:8080/"
        },
        "outputId": "30da37b1-33f4-4db6-a7fd-cc4f01552cd0",
        "id": "I1qNBojp6AIx"
      },
      "source": [
        "history = model.fit(\n",
        "    X_train, y_train,\n",
        "    validation_data=(X_test, y_test),\n",
        "    batch_size=256,\n",
        "    epochs=200,\n",
        ")"
      ],
      "execution_count": null,
      "outputs": [
        {
          "output_type": "stream",
          "name": "stdout",
          "text": [
            "Epoch 1/200\n",
            "2/2 [==============================] - 1s 382ms/step - loss: 1.3618 - accuracy: 0.2425 - val_loss: 1.1958 - val_accuracy: 0.5200\n",
            "Epoch 2/200\n",
            "2/2 [==============================] - 0s 42ms/step - loss: 1.1834 - accuracy: 0.4850 - val_loss: 1.0545 - val_accuracy: 0.5300\n",
            "Epoch 3/200\n",
            "2/2 [==============================] - 0s 39ms/step - loss: 1.0570 - accuracy: 0.4925 - val_loss: 0.9608 - val_accuracy: 0.5800\n",
            "Epoch 4/200\n",
            "2/2 [==============================] - 0s 31ms/step - loss: 0.9645 - accuracy: 0.5350 - val_loss: 0.8952 - val_accuracy: 0.6000\n",
            "Epoch 5/200\n",
            "2/2 [==============================] - 0s 43ms/step - loss: 0.8961 - accuracy: 0.5750 - val_loss: 0.8472 - val_accuracy: 0.6100\n",
            "Epoch 6/200\n",
            "2/2 [==============================] - 0s 49ms/step - loss: 0.8450 - accuracy: 0.6050 - val_loss: 0.8099 - val_accuracy: 0.6500\n",
            "Epoch 7/200\n",
            "2/2 [==============================] - 0s 88ms/step - loss: 0.8067 - accuracy: 0.6700 - val_loss: 0.7812 - val_accuracy: 0.7000\n",
            "Epoch 8/200\n",
            "2/2 [==============================] - 0s 33ms/step - loss: 0.7756 - accuracy: 0.6900 - val_loss: 0.7547 - val_accuracy: 0.7300\n",
            "Epoch 9/200\n",
            "2/2 [==============================] - 0s 49ms/step - loss: 0.7461 - accuracy: 0.7000 - val_loss: 0.7278 - val_accuracy: 0.7400\n",
            "Epoch 10/200\n",
            "2/2 [==============================] - 0s 101ms/step - loss: 0.7188 - accuracy: 0.7050 - val_loss: 0.7037 - val_accuracy: 0.7400\n",
            "Epoch 11/200\n",
            "2/2 [==============================] - 0s 37ms/step - loss: 0.6945 - accuracy: 0.7100 - val_loss: 0.6835 - val_accuracy: 0.7400\n",
            "Epoch 12/200\n",
            "2/2 [==============================] - 0s 69ms/step - loss: 0.6725 - accuracy: 0.7225 - val_loss: 0.6674 - val_accuracy: 0.7400\n",
            "Epoch 13/200\n",
            "2/2 [==============================] - 0s 99ms/step - loss: 0.6554 - accuracy: 0.7275 - val_loss: 0.6529 - val_accuracy: 0.7400\n",
            "Epoch 14/200\n",
            "2/2 [==============================] - 0s 60ms/step - loss: 0.6416 - accuracy: 0.7325 - val_loss: 0.6392 - val_accuracy: 0.7400\n",
            "Epoch 15/200\n",
            "2/2 [==============================] - 0s 43ms/step - loss: 0.6272 - accuracy: 0.7325 - val_loss: 0.6268 - val_accuracy: 0.7500\n",
            "Epoch 16/200\n",
            "2/2 [==============================] - 0s 57ms/step - loss: 0.6154 - accuracy: 0.7275 - val_loss: 0.6158 - val_accuracy: 0.7600\n",
            "Epoch 17/200\n",
            "2/2 [==============================] - 0s 71ms/step - loss: 0.6046 - accuracy: 0.7375 - val_loss: 0.6059 - val_accuracy: 0.7800\n",
            "Epoch 18/200\n",
            "2/2 [==============================] - 0s 64ms/step - loss: 0.5953 - accuracy: 0.7350 - val_loss: 0.5969 - val_accuracy: 0.7700\n",
            "Epoch 19/200\n",
            "2/2 [==============================] - 0s 41ms/step - loss: 0.5871 - accuracy: 0.7400 - val_loss: 0.5889 - val_accuracy: 0.7700\n",
            "Epoch 20/200\n",
            "2/2 [==============================] - 0s 32ms/step - loss: 0.5787 - accuracy: 0.7300 - val_loss: 0.5823 - val_accuracy: 0.7800\n",
            "Epoch 21/200\n",
            "2/2 [==============================] - 0s 38ms/step - loss: 0.5708 - accuracy: 0.7325 - val_loss: 0.5759 - val_accuracy: 0.7800\n",
            "Epoch 22/200\n",
            "2/2 [==============================] - 0s 73ms/step - loss: 0.5640 - accuracy: 0.7350 - val_loss: 0.5706 - val_accuracy: 0.7700\n",
            "Epoch 23/200\n",
            "2/2 [==============================] - 0s 33ms/step - loss: 0.5566 - accuracy: 0.7375 - val_loss: 0.5660 - val_accuracy: 0.7800\n",
            "Epoch 24/200\n",
            "2/2 [==============================] - 0s 54ms/step - loss: 0.5507 - accuracy: 0.7450 - val_loss: 0.5627 - val_accuracy: 0.7800\n",
            "Epoch 25/200\n",
            "2/2 [==============================] - 0s 56ms/step - loss: 0.5452 - accuracy: 0.7425 - val_loss: 0.5590 - val_accuracy: 0.7900\n",
            "Epoch 26/200\n",
            "2/2 [==============================] - 0s 72ms/step - loss: 0.5402 - accuracy: 0.7475 - val_loss: 0.5550 - val_accuracy: 0.7800\n",
            "Epoch 27/200\n",
            "2/2 [==============================] - 0s 32ms/step - loss: 0.5344 - accuracy: 0.7475 - val_loss: 0.5505 - val_accuracy: 0.7800\n",
            "Epoch 28/200\n",
            "2/2 [==============================] - 0s 120ms/step - loss: 0.5291 - accuracy: 0.7525 - val_loss: 0.5449 - val_accuracy: 0.7900\n",
            "Epoch 29/200\n",
            "2/2 [==============================] - 0s 71ms/step - loss: 0.5238 - accuracy: 0.7525 - val_loss: 0.5395 - val_accuracy: 0.7900\n",
            "Epoch 30/200\n",
            "2/2 [==============================] - 0s 50ms/step - loss: 0.5180 - accuracy: 0.7550 - val_loss: 0.5347 - val_accuracy: 0.7900\n",
            "Epoch 31/200\n",
            "2/2 [==============================] - 0s 84ms/step - loss: 0.5127 - accuracy: 0.7550 - val_loss: 0.5292 - val_accuracy: 0.7900\n",
            "Epoch 32/200\n",
            "2/2 [==============================] - 0s 63ms/step - loss: 0.5082 - accuracy: 0.7575 - val_loss: 0.5234 - val_accuracy: 0.7900\n",
            "Epoch 33/200\n",
            "2/2 [==============================] - 0s 72ms/step - loss: 0.5032 - accuracy: 0.7675 - val_loss: 0.5190 - val_accuracy: 0.8000\n",
            "Epoch 34/200\n",
            "2/2 [==============================] - 0s 49ms/step - loss: 0.4986 - accuracy: 0.7675 - val_loss: 0.5160 - val_accuracy: 0.8000\n",
            "Epoch 35/200\n",
            "2/2 [==============================] - 0s 46ms/step - loss: 0.4936 - accuracy: 0.7675 - val_loss: 0.5140 - val_accuracy: 0.8000\n",
            "Epoch 36/200\n",
            "2/2 [==============================] - 0s 99ms/step - loss: 0.4883 - accuracy: 0.7700 - val_loss: 0.5109 - val_accuracy: 0.8100\n",
            "Epoch 37/200\n",
            "2/2 [==============================] - 0s 42ms/step - loss: 0.4836 - accuracy: 0.7825 - val_loss: 0.5064 - val_accuracy: 0.8100\n",
            "Epoch 38/200\n",
            "2/2 [==============================] - 0s 34ms/step - loss: 0.4786 - accuracy: 0.7825 - val_loss: 0.5011 - val_accuracy: 0.7900\n",
            "Epoch 39/200\n",
            "2/2 [==============================] - 0s 84ms/step - loss: 0.4735 - accuracy: 0.7875 - val_loss: 0.4971 - val_accuracy: 0.7900\n",
            "Epoch 40/200\n",
            "2/2 [==============================] - 0s 56ms/step - loss: 0.4691 - accuracy: 0.7925 - val_loss: 0.4942 - val_accuracy: 0.8100\n",
            "Epoch 41/200\n",
            "2/2 [==============================] - 0s 104ms/step - loss: 0.4638 - accuracy: 0.7925 - val_loss: 0.4936 - val_accuracy: 0.8100\n",
            "Epoch 42/200\n",
            "2/2 [==============================] - 0s 63ms/step - loss: 0.4605 - accuracy: 0.8025 - val_loss: 0.4893 - val_accuracy: 0.8200\n",
            "Epoch 43/200\n",
            "2/2 [==============================] - 0s 52ms/step - loss: 0.4549 - accuracy: 0.8100 - val_loss: 0.4850 - val_accuracy: 0.8000\n",
            "Epoch 44/200\n",
            "2/2 [==============================] - 0s 37ms/step - loss: 0.4493 - accuracy: 0.8175 - val_loss: 0.4812 - val_accuracy: 0.8000\n",
            "Epoch 45/200\n",
            "2/2 [==============================] - 0s 70ms/step - loss: 0.4452 - accuracy: 0.8225 - val_loss: 0.4765 - val_accuracy: 0.7900\n",
            "Epoch 46/200\n",
            "2/2 [==============================] - 0s 48ms/step - loss: 0.4421 - accuracy: 0.8150 - val_loss: 0.4734 - val_accuracy: 0.7900\n",
            "Epoch 47/200\n",
            "2/2 [==============================] - 0s 94ms/step - loss: 0.4356 - accuracy: 0.8250 - val_loss: 0.4718 - val_accuracy: 0.8200\n",
            "Epoch 48/200\n",
            "2/2 [==============================] - 0s 46ms/step - loss: 0.4310 - accuracy: 0.8375 - val_loss: 0.4678 - val_accuracy: 0.8200\n",
            "Epoch 49/200\n",
            "2/2 [==============================] - 0s 45ms/step - loss: 0.4253 - accuracy: 0.8325 - val_loss: 0.4632 - val_accuracy: 0.8100\n",
            "Epoch 50/200\n",
            "2/2 [==============================] - 0s 46ms/step - loss: 0.4207 - accuracy: 0.8300 - val_loss: 0.4600 - val_accuracy: 0.8100\n",
            "Epoch 51/200\n",
            "2/2 [==============================] - 0s 77ms/step - loss: 0.4159 - accuracy: 0.8300 - val_loss: 0.4550 - val_accuracy: 0.8200\n",
            "Epoch 52/200\n",
            "2/2 [==============================] - 0s 85ms/step - loss: 0.4104 - accuracy: 0.8325 - val_loss: 0.4517 - val_accuracy: 0.8200\n",
            "Epoch 53/200\n",
            "2/2 [==============================] - 0s 100ms/step - loss: 0.4072 - accuracy: 0.8375 - val_loss: 0.4469 - val_accuracy: 0.8200\n",
            "Epoch 54/200\n",
            "2/2 [==============================] - 0s 39ms/step - loss: 0.4012 - accuracy: 0.8325 - val_loss: 0.4447 - val_accuracy: 0.8100\n",
            "Epoch 55/200\n",
            "2/2 [==============================] - 0s 73ms/step - loss: 0.3999 - accuracy: 0.8250 - val_loss: 0.4455 - val_accuracy: 0.8200\n",
            "Epoch 56/200\n",
            "2/2 [==============================] - 0s 88ms/step - loss: 0.3961 - accuracy: 0.8350 - val_loss: 0.4429 - val_accuracy: 0.8300\n",
            "Epoch 57/200\n",
            "2/2 [==============================] - 0s 47ms/step - loss: 0.3892 - accuracy: 0.8325 - val_loss: 0.4431 - val_accuracy: 0.8300\n",
            "Epoch 58/200\n",
            "2/2 [==============================] - 0s 35ms/step - loss: 0.3871 - accuracy: 0.8400 - val_loss: 0.4351 - val_accuracy: 0.8300\n",
            "Epoch 59/200\n",
            "2/2 [==============================] - 0s 33ms/step - loss: 0.3807 - accuracy: 0.8375 - val_loss: 0.4295 - val_accuracy: 0.8200\n",
            "Epoch 60/200\n",
            "2/2 [==============================] - 0s 43ms/step - loss: 0.3788 - accuracy: 0.8325 - val_loss: 0.4254 - val_accuracy: 0.8200\n",
            "Epoch 61/200\n",
            "2/2 [==============================] - 0s 77ms/step - loss: 0.3743 - accuracy: 0.8350 - val_loss: 0.4271 - val_accuracy: 0.8300\n",
            "Epoch 62/200\n",
            "2/2 [==============================] - 0s 40ms/step - loss: 0.3716 - accuracy: 0.8450 - val_loss: 0.4264 - val_accuracy: 0.8300\n",
            "Epoch 63/200\n",
            "2/2 [==============================] - 0s 42ms/step - loss: 0.3678 - accuracy: 0.8400 - val_loss: 0.4235 - val_accuracy: 0.8300\n",
            "Epoch 64/200\n",
            "2/2 [==============================] - 0s 73ms/step - loss: 0.3669 - accuracy: 0.8425 - val_loss: 0.4216 - val_accuracy: 0.8300\n",
            "Epoch 65/200\n",
            "2/2 [==============================] - 0s 50ms/step - loss: 0.3625 - accuracy: 0.8450 - val_loss: 0.4242 - val_accuracy: 0.8400\n",
            "Epoch 66/200\n",
            "2/2 [==============================] - 0s 44ms/step - loss: 0.3602 - accuracy: 0.8575 - val_loss: 0.4185 - val_accuracy: 0.8300\n",
            "Epoch 67/200\n",
            "2/2 [==============================] - 0s 38ms/step - loss: 0.3558 - accuracy: 0.8500 - val_loss: 0.4123 - val_accuracy: 0.8300\n",
            "Epoch 68/200\n",
            "2/2 [==============================] - 0s 32ms/step - loss: 0.3555 - accuracy: 0.8425 - val_loss: 0.4109 - val_accuracy: 0.8300\n",
            "Epoch 69/200\n",
            "2/2 [==============================] - 0s 41ms/step - loss: 0.3526 - accuracy: 0.8575 - val_loss: 0.4162 - val_accuracy: 0.8400\n",
            "Epoch 70/200\n",
            "2/2 [==============================] - 0s 102ms/step - loss: 0.3530 - accuracy: 0.8575 - val_loss: 0.4125 - val_accuracy: 0.8400\n",
            "Epoch 71/200\n",
            "2/2 [==============================] - 0s 47ms/step - loss: 0.3475 - accuracy: 0.8525 - val_loss: 0.4108 - val_accuracy: 0.8400\n",
            "Epoch 72/200\n",
            "2/2 [==============================] - 0s 48ms/step - loss: 0.3501 - accuracy: 0.8475 - val_loss: 0.4090 - val_accuracy: 0.8400\n",
            "Epoch 73/200\n",
            "2/2 [==============================] - 0s 110ms/step - loss: 0.3437 - accuracy: 0.8550 - val_loss: 0.4230 - val_accuracy: 0.8400\n",
            "Epoch 74/200\n",
            "2/2 [==============================] - 0s 40ms/step - loss: 0.3466 - accuracy: 0.8600 - val_loss: 0.4141 - val_accuracy: 0.8400\n",
            "Epoch 75/200\n",
            "2/2 [==============================] - 0s 48ms/step - loss: 0.3411 - accuracy: 0.8550 - val_loss: 0.4066 - val_accuracy: 0.8400\n",
            "Epoch 76/200\n",
            "2/2 [==============================] - 0s 54ms/step - loss: 0.3413 - accuracy: 0.8475 - val_loss: 0.4089 - val_accuracy: 0.8400\n",
            "Epoch 77/200\n",
            "2/2 [==============================] - 0s 35ms/step - loss: 0.3422 - accuracy: 0.8500 - val_loss: 0.4169 - val_accuracy: 0.8300\n",
            "Epoch 78/200\n",
            "2/2 [==============================] - 0s 128ms/step - loss: 0.3374 - accuracy: 0.8575 - val_loss: 0.4141 - val_accuracy: 0.8200\n",
            "Epoch 79/200\n",
            "2/2 [==============================] - 0s 46ms/step - loss: 0.3348 - accuracy: 0.8550 - val_loss: 0.4113 - val_accuracy: 0.8300\n",
            "Epoch 80/200\n",
            "2/2 [==============================] - 0s 42ms/step - loss: 0.3366 - accuracy: 0.8500 - val_loss: 0.4097 - val_accuracy: 0.8300\n",
            "Epoch 81/200\n",
            "2/2 [==============================] - 0s 40ms/step - loss: 0.3355 - accuracy: 0.8600 - val_loss: 0.4157 - val_accuracy: 0.8200\n",
            "Epoch 82/200\n",
            "2/2 [==============================] - 0s 38ms/step - loss: 0.3336 - accuracy: 0.8575 - val_loss: 0.4064 - val_accuracy: 0.8200\n",
            "Epoch 83/200\n",
            "2/2 [==============================] - 0s 33ms/step - loss: 0.3304 - accuracy: 0.8550 - val_loss: 0.4041 - val_accuracy: 0.8200\n",
            "Epoch 84/200\n",
            "2/2 [==============================] - 0s 136ms/step - loss: 0.3302 - accuracy: 0.8525 - val_loss: 0.4051 - val_accuracy: 0.8200\n",
            "Epoch 85/200\n",
            "2/2 [==============================] - 0s 107ms/step - loss: 0.3305 - accuracy: 0.8500 - val_loss: 0.4083 - val_accuracy: 0.8300\n",
            "Epoch 86/200\n",
            "2/2 [==============================] - 0s 52ms/step - loss: 0.3281 - accuracy: 0.8550 - val_loss: 0.4145 - val_accuracy: 0.8300\n",
            "Epoch 87/200\n",
            "2/2 [==============================] - 0s 44ms/step - loss: 0.3297 - accuracy: 0.8575 - val_loss: 0.4137 - val_accuracy: 0.8400\n",
            "Epoch 88/200\n",
            "2/2 [==============================] - 0s 121ms/step - loss: 0.3263 - accuracy: 0.8575 - val_loss: 0.4069 - val_accuracy: 0.8300\n",
            "Epoch 89/200\n",
            "2/2 [==============================] - 0s 120ms/step - loss: 0.3291 - accuracy: 0.8475 - val_loss: 0.4065 - val_accuracy: 0.8200\n",
            "Epoch 90/200\n",
            "2/2 [==============================] - 0s 100ms/step - loss: 0.3281 - accuracy: 0.8550 - val_loss: 0.4159 - val_accuracy: 0.8200\n",
            "Epoch 91/200\n",
            "2/2 [==============================] - 0s 34ms/step - loss: 0.3257 - accuracy: 0.8575 - val_loss: 0.4128 - val_accuracy: 0.8200\n",
            "Epoch 92/200\n",
            "2/2 [==============================] - 0s 73ms/step - loss: 0.3242 - accuracy: 0.8550 - val_loss: 0.4102 - val_accuracy: 0.8300\n",
            "Epoch 93/200\n",
            "2/2 [==============================] - 0s 25ms/step - loss: 0.3247 - accuracy: 0.8550 - val_loss: 0.4118 - val_accuracy: 0.8300\n",
            "Epoch 94/200\n",
            "2/2 [==============================] - 0s 26ms/step - loss: 0.3234 - accuracy: 0.8575 - val_loss: 0.4129 - val_accuracy: 0.8300\n",
            "Epoch 95/200\n",
            "2/2 [==============================] - 0s 26ms/step - loss: 0.3231 - accuracy: 0.8575 - val_loss: 0.4136 - val_accuracy: 0.8300\n",
            "Epoch 96/200\n",
            "2/2 [==============================] - 0s 24ms/step - loss: 0.3224 - accuracy: 0.8575 - val_loss: 0.4181 - val_accuracy: 0.8300\n",
            "Epoch 97/200\n",
            "2/2 [==============================] - 0s 24ms/step - loss: 0.3228 - accuracy: 0.8600 - val_loss: 0.4197 - val_accuracy: 0.8300\n",
            "Epoch 98/200\n",
            "2/2 [==============================] - 0s 24ms/step - loss: 0.3225 - accuracy: 0.8600 - val_loss: 0.4128 - val_accuracy: 0.8300\n",
            "Epoch 99/200\n",
            "2/2 [==============================] - 0s 25ms/step - loss: 0.3206 - accuracy: 0.8575 - val_loss: 0.4083 - val_accuracy: 0.8300\n",
            "Epoch 100/200\n",
            "2/2 [==============================] - 0s 24ms/step - loss: 0.3206 - accuracy: 0.8550 - val_loss: 0.4095 - val_accuracy: 0.8300\n",
            "Epoch 101/200\n",
            "2/2 [==============================] - 0s 24ms/step - loss: 0.3213 - accuracy: 0.8525 - val_loss: 0.4174 - val_accuracy: 0.8300\n",
            "Epoch 102/200\n",
            "2/2 [==============================] - 0s 24ms/step - loss: 0.3207 - accuracy: 0.8525 - val_loss: 0.4212 - val_accuracy: 0.8300\n",
            "Epoch 103/200\n",
            "2/2 [==============================] - 0s 24ms/step - loss: 0.3192 - accuracy: 0.8525 - val_loss: 0.4148 - val_accuracy: 0.8300\n",
            "Epoch 104/200\n",
            "2/2 [==============================] - 0s 24ms/step - loss: 0.3201 - accuracy: 0.8500 - val_loss: 0.4132 - val_accuracy: 0.8300\n",
            "Epoch 105/200\n",
            "2/2 [==============================] - 0s 22ms/step - loss: 0.3217 - accuracy: 0.8500 - val_loss: 0.4171 - val_accuracy: 0.8400\n",
            "Epoch 106/200\n",
            "2/2 [==============================] - 0s 24ms/step - loss: 0.3193 - accuracy: 0.8550 - val_loss: 0.4146 - val_accuracy: 0.8300\n",
            "Epoch 107/200\n",
            "2/2 [==============================] - 0s 29ms/step - loss: 0.3198 - accuracy: 0.8525 - val_loss: 0.4131 - val_accuracy: 0.8300\n",
            "Epoch 108/200\n",
            "2/2 [==============================] - 0s 23ms/step - loss: 0.3196 - accuracy: 0.8625 - val_loss: 0.4215 - val_accuracy: 0.8300\n",
            "Epoch 109/200\n",
            "2/2 [==============================] - 0s 26ms/step - loss: 0.3178 - accuracy: 0.8625 - val_loss: 0.4248 - val_accuracy: 0.8300\n",
            "Epoch 110/200\n",
            "2/2 [==============================] - 0s 33ms/step - loss: 0.3176 - accuracy: 0.8600 - val_loss: 0.4204 - val_accuracy: 0.8300\n",
            "Epoch 111/200\n",
            "2/2 [==============================] - 0s 25ms/step - loss: 0.3172 - accuracy: 0.8650 - val_loss: 0.4147 - val_accuracy: 0.8300\n",
            "Epoch 112/200\n",
            "2/2 [==============================] - 0s 25ms/step - loss: 0.3168 - accuracy: 0.8550 - val_loss: 0.4181 - val_accuracy: 0.8300\n",
            "Epoch 113/200\n",
            "2/2 [==============================] - 0s 23ms/step - loss: 0.3162 - accuracy: 0.8600 - val_loss: 0.4279 - val_accuracy: 0.8300\n",
            "Epoch 114/200\n",
            "2/2 [==============================] - 0s 23ms/step - loss: 0.3177 - accuracy: 0.8675 - val_loss: 0.4212 - val_accuracy: 0.8300\n",
            "Epoch 115/200\n",
            "2/2 [==============================] - 0s 23ms/step - loss: 0.3178 - accuracy: 0.8550 - val_loss: 0.4188 - val_accuracy: 0.8300\n",
            "Epoch 116/200\n",
            "2/2 [==============================] - 0s 23ms/step - loss: 0.3171 - accuracy: 0.8575 - val_loss: 0.4262 - val_accuracy: 0.8300\n",
            "Epoch 117/200\n",
            "2/2 [==============================] - 0s 22ms/step - loss: 0.3153 - accuracy: 0.8600 - val_loss: 0.4336 - val_accuracy: 0.8300\n",
            "Epoch 118/200\n",
            "2/2 [==============================] - 0s 22ms/step - loss: 0.3161 - accuracy: 0.8625 - val_loss: 0.4299 - val_accuracy: 0.8300\n",
            "Epoch 119/200\n",
            "2/2 [==============================] - 0s 23ms/step - loss: 0.3153 - accuracy: 0.8600 - val_loss: 0.4194 - val_accuracy: 0.8200\n",
            "Epoch 120/200\n",
            "2/2 [==============================] - 0s 27ms/step - loss: 0.3196 - accuracy: 0.8575 - val_loss: 0.4192 - val_accuracy: 0.8300\n",
            "Epoch 121/200\n",
            "2/2 [==============================] - 0s 25ms/step - loss: 0.3139 - accuracy: 0.8600 - val_loss: 0.4357 - val_accuracy: 0.8300\n",
            "Epoch 122/200\n",
            "2/2 [==============================] - 0s 26ms/step - loss: 0.3210 - accuracy: 0.8625 - val_loss: 0.4357 - val_accuracy: 0.8300\n",
            "Epoch 123/200\n",
            "2/2 [==============================] - 0s 31ms/step - loss: 0.3147 - accuracy: 0.8725 - val_loss: 0.4201 - val_accuracy: 0.8400\n",
            "Epoch 124/200\n",
            "2/2 [==============================] - 0s 25ms/step - loss: 0.3190 - accuracy: 0.8625 - val_loss: 0.4214 - val_accuracy: 0.8400\n",
            "Epoch 125/200\n",
            "2/2 [==============================] - 0s 45ms/step - loss: 0.3165 - accuracy: 0.8625 - val_loss: 0.4287 - val_accuracy: 0.8300\n",
            "Epoch 126/200\n",
            "2/2 [==============================] - 0s 31ms/step - loss: 0.3174 - accuracy: 0.8700 - val_loss: 0.4346 - val_accuracy: 0.8300\n",
            "Epoch 127/200\n",
            "2/2 [==============================] - 0s 24ms/step - loss: 0.3129 - accuracy: 0.8700 - val_loss: 0.4206 - val_accuracy: 0.8300\n",
            "Epoch 128/200\n",
            "2/2 [==============================] - 0s 24ms/step - loss: 0.3178 - accuracy: 0.8625 - val_loss: 0.4222 - val_accuracy: 0.8300\n",
            "Epoch 129/200\n",
            "2/2 [==============================] - 0s 27ms/step - loss: 0.3159 - accuracy: 0.8575 - val_loss: 0.4328 - val_accuracy: 0.8300\n",
            "Epoch 130/200\n",
            "2/2 [==============================] - 0s 24ms/step - loss: 0.3131 - accuracy: 0.8675 - val_loss: 0.4474 - val_accuracy: 0.8300\n",
            "Epoch 131/200\n",
            "2/2 [==============================] - 0s 24ms/step - loss: 0.3149 - accuracy: 0.8725 - val_loss: 0.4317 - val_accuracy: 0.8300\n",
            "Epoch 132/200\n",
            "2/2 [==============================] - 0s 26ms/step - loss: 0.3109 - accuracy: 0.8600 - val_loss: 0.4238 - val_accuracy: 0.8300\n",
            "Epoch 133/200\n",
            "2/2 [==============================] - 0s 25ms/step - loss: 0.3149 - accuracy: 0.8575 - val_loss: 0.4237 - val_accuracy: 0.8300\n",
            "Epoch 134/200\n",
            "2/2 [==============================] - 0s 26ms/step - loss: 0.3127 - accuracy: 0.8625 - val_loss: 0.4369 - val_accuracy: 0.8300\n",
            "Epoch 135/200\n",
            "2/2 [==============================] - 0s 36ms/step - loss: 0.3136 - accuracy: 0.8700 - val_loss: 0.4349 - val_accuracy: 0.8300\n",
            "Epoch 136/200\n",
            "2/2 [==============================] - 0s 28ms/step - loss: 0.3112 - accuracy: 0.8625 - val_loss: 0.4263 - val_accuracy: 0.8300\n",
            "Epoch 137/200\n",
            "2/2 [==============================] - 0s 25ms/step - loss: 0.3136 - accuracy: 0.8550 - val_loss: 0.4293 - val_accuracy: 0.8300\n",
            "Epoch 138/200\n",
            "2/2 [==============================] - 0s 26ms/step - loss: 0.3135 - accuracy: 0.8575 - val_loss: 0.4444 - val_accuracy: 0.8300\n",
            "Epoch 139/200\n",
            "2/2 [==============================] - 0s 23ms/step - loss: 0.3124 - accuracy: 0.8700 - val_loss: 0.4394 - val_accuracy: 0.8300\n",
            "Epoch 140/200\n",
            "2/2 [==============================] - 0s 26ms/step - loss: 0.3122 - accuracy: 0.8625 - val_loss: 0.4281 - val_accuracy: 0.8200\n",
            "Epoch 141/200\n",
            "2/2 [==============================] - 0s 25ms/step - loss: 0.3106 - accuracy: 0.8575 - val_loss: 0.4285 - val_accuracy: 0.8300\n",
            "Epoch 142/200\n",
            "2/2 [==============================] - 0s 24ms/step - loss: 0.3096 - accuracy: 0.8625 - val_loss: 0.4347 - val_accuracy: 0.8300\n",
            "Epoch 143/200\n",
            "2/2 [==============================] - 0s 23ms/step - loss: 0.3105 - accuracy: 0.8700 - val_loss: 0.4334 - val_accuracy: 0.8300\n",
            "Epoch 144/200\n",
            "2/2 [==============================] - 0s 22ms/step - loss: 0.3098 - accuracy: 0.8675 - val_loss: 0.4266 - val_accuracy: 0.8300\n",
            "Epoch 145/200\n",
            "2/2 [==============================] - 0s 23ms/step - loss: 0.3089 - accuracy: 0.8600 - val_loss: 0.4291 - val_accuracy: 0.8300\n",
            "Epoch 146/200\n",
            "2/2 [==============================] - 0s 23ms/step - loss: 0.3095 - accuracy: 0.8625 - val_loss: 0.4330 - val_accuracy: 0.8300\n",
            "Epoch 147/200\n",
            "2/2 [==============================] - 0s 26ms/step - loss: 0.3095 - accuracy: 0.8675 - val_loss: 0.4353 - val_accuracy: 0.8300\n",
            "Epoch 148/200\n",
            "2/2 [==============================] - 0s 24ms/step - loss: 0.3101 - accuracy: 0.8650 - val_loss: 0.4415 - val_accuracy: 0.8300\n",
            "Epoch 149/200\n",
            "2/2 [==============================] - 0s 23ms/step - loss: 0.3134 - accuracy: 0.8700 - val_loss: 0.4476 - val_accuracy: 0.8300\n",
            "Epoch 150/200\n",
            "2/2 [==============================] - 0s 23ms/step - loss: 0.3091 - accuracy: 0.8725 - val_loss: 0.4267 - val_accuracy: 0.8200\n",
            "Epoch 151/200\n",
            "2/2 [==============================] - 0s 26ms/step - loss: 0.3115 - accuracy: 0.8600 - val_loss: 0.4237 - val_accuracy: 0.8500\n",
            "Epoch 152/200\n",
            "2/2 [==============================] - 0s 23ms/step - loss: 0.3126 - accuracy: 0.8625 - val_loss: 0.4311 - val_accuracy: 0.8300\n",
            "Epoch 153/200\n",
            "2/2 [==============================] - 0s 24ms/step - loss: 0.3076 - accuracy: 0.8675 - val_loss: 0.4426 - val_accuracy: 0.8300\n",
            "Epoch 154/200\n",
            "2/2 [==============================] - 0s 23ms/step - loss: 0.3083 - accuracy: 0.8725 - val_loss: 0.4422 - val_accuracy: 0.8300\n",
            "Epoch 155/200\n",
            "2/2 [==============================] - 0s 28ms/step - loss: 0.3075 - accuracy: 0.8700 - val_loss: 0.4368 - val_accuracy: 0.8300\n",
            "Epoch 156/200\n",
            "2/2 [==============================] - 0s 23ms/step - loss: 0.3081 - accuracy: 0.8600 - val_loss: 0.4360 - val_accuracy: 0.8300\n",
            "Epoch 157/200\n",
            "2/2 [==============================] - 0s 23ms/step - loss: 0.3068 - accuracy: 0.8575 - val_loss: 0.4313 - val_accuracy: 0.8300\n",
            "Epoch 158/200\n",
            "2/2 [==============================] - 0s 24ms/step - loss: 0.3071 - accuracy: 0.8625 - val_loss: 0.4347 - val_accuracy: 0.8300\n",
            "Epoch 159/200\n",
            "2/2 [==============================] - 0s 23ms/step - loss: 0.3072 - accuracy: 0.8700 - val_loss: 0.4447 - val_accuracy: 0.8300\n",
            "Epoch 160/200\n",
            "2/2 [==============================] - 0s 24ms/step - loss: 0.3082 - accuracy: 0.8675 - val_loss: 0.4346 - val_accuracy: 0.8300\n",
            "Epoch 161/200\n",
            "2/2 [==============================] - 0s 23ms/step - loss: 0.3094 - accuracy: 0.8625 - val_loss: 0.4314 - val_accuracy: 0.8400\n",
            "Epoch 162/200\n",
            "2/2 [==============================] - 0s 28ms/step - loss: 0.3083 - accuracy: 0.8625 - val_loss: 0.4393 - val_accuracy: 0.8300\n",
            "Epoch 163/200\n",
            "2/2 [==============================] - 0s 24ms/step - loss: 0.3070 - accuracy: 0.8700 - val_loss: 0.4485 - val_accuracy: 0.8300\n",
            "Epoch 164/200\n",
            "2/2 [==============================] - 0s 29ms/step - loss: 0.3057 - accuracy: 0.8725 - val_loss: 0.4434 - val_accuracy: 0.8300\n",
            "Epoch 165/200\n",
            "2/2 [==============================] - 0s 24ms/step - loss: 0.3054 - accuracy: 0.8625 - val_loss: 0.4366 - val_accuracy: 0.8300\n",
            "Epoch 166/200\n",
            "2/2 [==============================] - 0s 25ms/step - loss: 0.3064 - accuracy: 0.8625 - val_loss: 0.4384 - val_accuracy: 0.8300\n",
            "Epoch 167/200\n",
            "2/2 [==============================] - 0s 25ms/step - loss: 0.3046 - accuracy: 0.8675 - val_loss: 0.4390 - val_accuracy: 0.8300\n",
            "Epoch 168/200\n",
            "2/2 [==============================] - 0s 26ms/step - loss: 0.3041 - accuracy: 0.8725 - val_loss: 0.4366 - val_accuracy: 0.8300\n",
            "Epoch 169/200\n",
            "2/2 [==============================] - 0s 25ms/step - loss: 0.3046 - accuracy: 0.8700 - val_loss: 0.4376 - val_accuracy: 0.8300\n",
            "Epoch 170/200\n",
            "2/2 [==============================] - 0s 24ms/step - loss: 0.3043 - accuracy: 0.8725 - val_loss: 0.4429 - val_accuracy: 0.8300\n",
            "Epoch 171/200\n",
            "2/2 [==============================] - 0s 27ms/step - loss: 0.3044 - accuracy: 0.8725 - val_loss: 0.4448 - val_accuracy: 0.8300\n",
            "Epoch 172/200\n",
            "2/2 [==============================] - 0s 24ms/step - loss: 0.3039 - accuracy: 0.8700 - val_loss: 0.4454 - val_accuracy: 0.8300\n",
            "Epoch 173/200\n",
            "2/2 [==============================] - 0s 26ms/step - loss: 0.3034 - accuracy: 0.8675 - val_loss: 0.4429 - val_accuracy: 0.8400\n",
            "Epoch 174/200\n",
            "2/2 [==============================] - 0s 24ms/step - loss: 0.3045 - accuracy: 0.8625 - val_loss: 0.4443 - val_accuracy: 0.8300\n",
            "Epoch 175/200\n",
            "2/2 [==============================] - 0s 24ms/step - loss: 0.3049 - accuracy: 0.8650 - val_loss: 0.4415 - val_accuracy: 0.8200\n",
            "Epoch 176/200\n",
            "2/2 [==============================] - 0s 26ms/step - loss: 0.3035 - accuracy: 0.8675 - val_loss: 0.4390 - val_accuracy: 0.8200\n",
            "Epoch 177/200\n",
            "2/2 [==============================] - 0s 24ms/step - loss: 0.3034 - accuracy: 0.8650 - val_loss: 0.4412 - val_accuracy: 0.8300\n",
            "Epoch 178/200\n",
            "2/2 [==============================] - 0s 25ms/step - loss: 0.3026 - accuracy: 0.8700 - val_loss: 0.4471 - val_accuracy: 0.8300\n",
            "Epoch 179/200\n",
            "2/2 [==============================] - 0s 26ms/step - loss: 0.3033 - accuracy: 0.8700 - val_loss: 0.4450 - val_accuracy: 0.8300\n",
            "Epoch 180/200\n",
            "2/2 [==============================] - 0s 51ms/step - loss: 0.3034 - accuracy: 0.8650 - val_loss: 0.4380 - val_accuracy: 0.8400\n",
            "Epoch 181/200\n",
            "2/2 [==============================] - 0s 24ms/step - loss: 0.3031 - accuracy: 0.8700 - val_loss: 0.4406 - val_accuracy: 0.8300\n",
            "Epoch 182/200\n",
            "2/2 [==============================] - 0s 24ms/step - loss: 0.3031 - accuracy: 0.8775 - val_loss: 0.4483 - val_accuracy: 0.8300\n",
            "Epoch 183/200\n",
            "2/2 [==============================] - 0s 28ms/step - loss: 0.3029 - accuracy: 0.8750 - val_loss: 0.4459 - val_accuracy: 0.8300\n",
            "Epoch 184/200\n",
            "2/2 [==============================] - 0s 24ms/step - loss: 0.3016 - accuracy: 0.8675 - val_loss: 0.4437 - val_accuracy: 0.8400\n",
            "Epoch 185/200\n",
            "2/2 [==============================] - 0s 24ms/step - loss: 0.3040 - accuracy: 0.8600 - val_loss: 0.4455 - val_accuracy: 0.8300\n",
            "Epoch 186/200\n",
            "2/2 [==============================] - 0s 24ms/step - loss: 0.3022 - accuracy: 0.8675 - val_loss: 0.4459 - val_accuracy: 0.8300\n",
            "Epoch 187/200\n",
            "2/2 [==============================] - 0s 24ms/step - loss: 0.3017 - accuracy: 0.8675 - val_loss: 0.4472 - val_accuracy: 0.8300\n",
            "Epoch 188/200\n",
            "2/2 [==============================] - 0s 49ms/step - loss: 0.3020 - accuracy: 0.8725 - val_loss: 0.4438 - val_accuracy: 0.8300\n",
            "Epoch 189/200\n",
            "2/2 [==============================] - 0s 24ms/step - loss: 0.3012 - accuracy: 0.8700 - val_loss: 0.4456 - val_accuracy: 0.8300\n",
            "Epoch 190/200\n",
            "2/2 [==============================] - 0s 23ms/step - loss: 0.3012 - accuracy: 0.8750 - val_loss: 0.4415 - val_accuracy: 0.8400\n",
            "Epoch 191/200\n",
            "2/2 [==============================] - 0s 24ms/step - loss: 0.3026 - accuracy: 0.8700 - val_loss: 0.4402 - val_accuracy: 0.8400\n",
            "Epoch 192/200\n",
            "2/2 [==============================] - 0s 25ms/step - loss: 0.3056 - accuracy: 0.8675 - val_loss: 0.4469 - val_accuracy: 0.8300\n",
            "Epoch 193/200\n",
            "2/2 [==============================] - 0s 25ms/step - loss: 0.3000 - accuracy: 0.8775 - val_loss: 0.4416 - val_accuracy: 0.8400\n",
            "Epoch 194/200\n",
            "2/2 [==============================] - 0s 23ms/step - loss: 0.3029 - accuracy: 0.8700 - val_loss: 0.4420 - val_accuracy: 0.8300\n",
            "Epoch 195/200\n",
            "2/2 [==============================] - 0s 24ms/step - loss: 0.3004 - accuracy: 0.8700 - val_loss: 0.4554 - val_accuracy: 0.8300\n",
            "Epoch 196/200\n",
            "2/2 [==============================] - 0s 24ms/step - loss: 0.3016 - accuracy: 0.8675 - val_loss: 0.4568 - val_accuracy: 0.8300\n",
            "Epoch 197/200\n",
            "2/2 [==============================] - 0s 24ms/step - loss: 0.3007 - accuracy: 0.8675 - val_loss: 0.4471 - val_accuracy: 0.8300\n",
            "Epoch 198/200\n",
            "2/2 [==============================] - 0s 25ms/step - loss: 0.3003 - accuracy: 0.8675 - val_loss: 0.4460 - val_accuracy: 0.8400\n",
            "Epoch 199/200\n",
            "2/2 [==============================] - 0s 23ms/step - loss: 0.2993 - accuracy: 0.8700 - val_loss: 0.4510 - val_accuracy: 0.8300\n",
            "Epoch 200/200\n",
            "2/2 [==============================] - 0s 24ms/step - loss: 0.2995 - accuracy: 0.8725 - val_loss: 0.4500 - val_accuracy: 0.8300\n"
          ]
        }
      ],
      "id": "I1qNBojp6AIx"
    },
    {
      "cell_type": "markdown",
      "source": [
        "#Nézzük meg a loss-okat!"
      ],
      "metadata": {
        "id": "AgeTA9qeHCaw"
      },
      "id": "AgeTA9qeHCaw"
    },
    {
      "cell_type": "code",
      "metadata": {
        "execution": {
          "iopub.execute_input": "2021-09-13T20:12:32.621022Z",
          "iopub.status.busy": "2021-09-13T20:12:32.620354Z",
          "iopub.status.idle": "2021-09-13T20:12:32.882520Z",
          "shell.execute_reply": "2021-09-13T20:12:32.883030Z"
        },
        "lines_to_next_cell": 2,
        "papermill": {
          "duration": 0.287746,
          "end_time": "2021-09-13T20:12:32.883339",
          "exception": false,
          "start_time": "2021-09-13T20:12:32.595593",
          "status": "completed"
        },
        "tags": [],
        "colab": {
          "base_uri": "https://localhost:8080/",
          "height": 267
        },
        "outputId": "201c65fc-e7b4-4748-b662-b37bb22cc1ef",
        "id": "RielU6rn7LVq"
      },
      "source": [
        "import pandas as pd\n",
        "\n",
        "# convert the training history to a dataframe\n",
        "history_df = pd.DataFrame(history.history)\n",
        "history_df.loc[:, ['loss', 'val_loss']].plot();"
      ],
      "execution_count": null,
      "outputs": [
        {
          "output_type": "display_data",
          "data": {
            "text/plain": [
              "<Figure size 432x288 with 1 Axes>"
            ],
            "image/png": "[encoded data removed]"
          },
          "metadata": {
            "needs_background": "light"
          }
        }
      ],
      "id": "RielU6rn7LVq"
    },
    {
      "cell_type": "code",
      "source": [
        "import numpy as np\n",
        "\n",
        "rng = np.random.RandomState(0) # véletlen pontok generálása a tanítóadatok körül\n",
        "Xnew = [-15,-15]+ [25, 25] * rng.rand(2000,2) \n",
        "ynew = model.predict(Xnew)"
      ],
      "metadata": {
        "id": "bWL0N_sAMkBJ"
      },
      "execution_count": null,
      "outputs": [],
      "id": "bWL0N_sAMkBJ"
    },
    {
      "cell_type": "code",
      "source": [
        "plt.scatter(X[:, 0], X[:, 1], c=y, s=50) #tanító adatok kirajzolása\n",
        "lim = plt.axis()\n",
        "plt.scatter(Xnew[:, 0], Xnew[:, 1], c=ynew, s=20, alpha=0.1) # a teszt pontok kirajzolása\n",
        "plt.axis(lim);"
      ],
      "metadata": {
        "colab": {
          "base_uri": "https://localhost:8080/",
          "height": 265
        },
        "id": "7JLqG3Z6MptB",
        "outputId": "7fe36100-e57a-4f51-94b1-0e282a734843"
      },
      "execution_count": null,
      "outputs": [
        {
          "output_type": "display_data",
          "data": {
            "text/plain": [
              "<Figure size 432x288 with 1 Axes>"
            ],
            "image/png": "[encoded data removed]"
          },
          "metadata": {
            "needs_background": "light"
          }
        }
      ],
      "id": "7JLqG3Z6MptB"
    },
    {
      "cell_type": "markdown",
      "metadata": {
        "papermill": {
          "duration": 0.007821,
          "end_time": "2021-09-13T20:12:18.922427",
          "exception": false,
          "start_time": "2021-09-13T20:12:18.914606",
          "status": "completed"
        },
        "tags": [],
        "id": "0d2c022f"
      },
      "source": [
        "# Bevezetés \n",
        "\n",
        "Emlékezzünk vissza az előző feladat példájából, hogy a Keras megőrzi a képzési és validálási veszteség előzményeit a korszakok alatt, amikor a modellt képzi. Ebben a részben megtanuljuk, hogyan értelmezzük ezeket a tanulási görbéket, és hogyan használhatjuk fel őket a modellfejlesztés irányítására. Különösen a tanulási görbéket fogjuk megvizsgálni az *alulilleszkedés* és *túlilleszkedés* bizonyítékai szempontjából, és megnézünk néhány stratégiát ezek korrigálására.\n",
        "\n",
        "# A tanulási görbék értelmezése \n",
        "\n",
        "A képzési adatokban lévő információkra kétféleképpen gondolhat: *jel* és *zaj*. A jel az a rész, amely általánosítható, az a rész, amely segíthet a modellünknek új adatokból előrejelzéseket készíteni. A zaj az a rész, amely *csak* a képzési adatokra igaz; a zaj az összes olyan véletlenszerű ingadozás, amely a valós világ adataiból származik, vagy az összes olyan véletlenszerű, nem informatív minta, amely valójában nem segíthet a modellnek előrejelzéseket készíteni. A zaj az a rész, amely hasznosnak tűnhet, de valójában nem az.\n",
        "\n",
        "A modellt úgy képezzük ki, hogy olyan súlyokat vagy paramétereket választunk, amelyek minimalizálják a veszteséget egy képzési halmazon. Talán tudja, hogy ahhoz azonban, hogy pontosan értékelni tudjuk egy modell teljesítményét, ki kell értékelnünk azt egy új adathalmazon, a *validálási* adatokon.\n",
        "\n",
        "Amikor egy modellt képezünk, a veszteséget korszakonként ábrázoljuk a gyakorlóhalmazon. Ehhez hozzáadjuk a validálási adatok ábrázolását is. Ezeket az ábrákat **tanulási görbéknek** nevezzük. A mélytanulási modellek hatékony képzése érdekében képesnek kell lennünk értelmezni őket.\n",
        "\n",
        "<figure style=\"padding: 1em;\">\n",
        "<img src=\"https://i.imgur.com/tHiVFnM.png\" width=\"500\" alt=\"A képzési és validációs veszteség grafikonja.\">\n",
        "<figcaption style=\"textalign: center; font-style: italic\"><center>A validációs veszteség a nem látott adatokon várható hiba becslését adja meg.\n",
        "</center></figcaption>\n",
        "</figura>\n",
        "\n",
        "Most a képzési veszteség vagy akkor csökken, amikor a modell jelet tanul, vagy amikor zajt tanul. A validációs veszteség azonban csak akkor fog csökkenni, ha a modell jelet tanul. (Bármilyen zajt is tanult meg a modell a gyakorlóhalmazból, az nem fog általánosítani az új adatokra). Tehát amikor a modell jelet tanul, mindkét görbe csökken, de amikor zajt tanul, a görbék között *hézag* keletkezik. A rés nagysága mutatja meg, hogy a modell mennyi zajt tanult meg.\n",
        "\n",
        "Ideális esetben olyan modelleket hoznánk létre, amelyek megtanulják az összes jelet, és nem tanulják meg a zajt. Ez gyakorlatilag soha nem fog megvalósulni. Ehelyett egyfajta kereskedést folytatunk. Rávehetjük a modellt, hogy több jelet tanuljon meg a több zaj megtanulásának árán. Mindaddig, amíg a kereskedés a javunkra válik, a validációs veszteség tovább csökken. Egy bizonyos pont után azonban a kereskedés ellenünk fordulhat, a költség meghaladja a hasznot, és az érvényesítési veszteség emelkedni kezd.\n",
        "\n",
        "<figure style=\"padding: 1em;\">\n",
        "<img src=\"https://i.imgur.com/eUF6mfo.png\" width=\"600\" alt=\"Two graphs. On the left, a line through a few data points with the true fit a parabola. On the right, a curve running through each datapoint with the true fit a parabola.\">\n",
        "<figcaption style=\"textalign: center; font-style: italic\"><center>Underfitting and overfitting.\n",
        "</center></figcaption>\n",
        "</figure>\n",
        "\n",
        "Ez a kompromisszum azt jelzi, hogy a modell képzése során két probléma merülhet fel: nem elegendő jel vagy túl sok zaj. A **alulilleszkedés** a gyakorlóhalmazban az, amikor a veszteség nem olyan alacsony, mint amilyen lehetne, mert a modell nem tanult elég *jelet*. **Túlillesztés** a gyakorlóhalmazon, amikor a veszteség nem olyan alacsony, mint lehetne, mert a modell túl sok *zajt* tanult. A mély tanulási modellek képzésének trükkje a kettő közötti legjobb egyensúly megtalálása.\n",
        "\n",
        "Megnézünk néhány módszert arra, hogyan lehet több jelet kihozni a képzési adatokból, miközben csökkentjük a zaj mennyiségét.\n",
        "\n",
        "# Kapacitás \n",
        "\n",
        "Egy modell **kapacitása** a tanulni képes minták méretére és összetettségére utal. A neurális hálózatok esetében ezt nagyrészt az határozza meg, hogy hány neuronja van, és ezek hogyan vannak összekapcsolva. Ha úgy tűnik, hogy a hálózat nem illeszkedik megfelelően az adatokhoz, akkor próbálja meg növelni a kapacitását.\n",
        "\n",
        "A hálózat kapacitását növelheti úgy, hogy *szélesebbé* teszi (több egység a meglévő rétegekhez) vagy *mélyebbé* teszi (több réteg hozzáadásával). A szélesebb hálózatok könnyebben tanulnak lineárisabb összefüggéseket, míg a mélyebb hálózatok a nemlineárisabbakat részesítik előnyben. Hogy melyik a jobb, az csak az adathalmaztól függ.\n",
        "\n",
        "```\n",
        "model = keras.Sequential([\n",
        "    layers.Dense(16, activation='relu'),\n",
        "    layers.Dense(1),\n",
        "])\n",
        "\n",
        "wider = keras.Sequential([\n",
        "    layers.Dense(32, activation='relu'),\n",
        "    layers.Dense(1),\n",
        "])\n",
        "\n",
        "deeper = keras.Sequential([\n",
        "    layers.Dense(16, activation='relu'),\n",
        "    layers.Dense(16, activation='relu'),\n",
        "    layers.Dense(1),\n",
        "])\n",
        "```\n",
        "\n",
        "\n",
        "# Korai megállás \n",
        "Említettük, hogy ha egy modell túl buzgón tanulja a zajt, a validációs veszteség a képzés során elkezdhet növekedni. Ennek megelőzésére egyszerűen leállíthatjuk a képzést, amikor úgy tűnik, hogy a validációs veszteség már nem csökken. A képzés ilyen módon történő megszakítását **korai leállításnak** nevezzük.\n",
        "\n",
        "<figure style=\"padding: 1em;\">\n",
        "<img src=\"https://i.imgur.com/eP0gppr.png\" width=500 alt=\"A tanulási görbék grafikonja a korai leállással a minimális validációs veszteségnél, alulillesztéssel balra, túlillesztéssel jobbra.\">.\n",
        "<figcaption style=\"textalign: center; font-style: italic\"><center>Megtartjuk a modellt ott, ahol a validációs veszteség minimális.\n",
        "</center></figcaption>\n",
        "</figura>\n",
        "\n",
        "Amint észleljük, hogy a validációs veszteség emelkedni kezd, visszaállíthatjuk a súlyokat oda, ahol a minimum bekövetkezett. Ez biztosítja, hogy a modell ne tanuljon tovább zajt és ne illessze túl az adatokat.\n",
        "\n",
        "A korai leállással történő képzés azt is jelenti, hogy kisebb a veszélye annak, hogy túl korán leállítjuk a képzést, mielőtt a hálózat befejezte volna a jelek tanulását. Tehát amellett, hogy a korai leállítás megakadályozza a túl hosszú képzésből adódó túlilleszkedést, a korai leállítás megakadályozhatja a nem elég hosszú képzésből adódó *alulilleszkedést* is. Csak állítsa be a képzési epochákat valamilyen nagy számra (többre, mint amennyire szüksége lesz), és a korai leállítás gondoskodik a többiről.\n",
        "\n",
        "## Korai megállás hozzáadása \n",
        "\n",
        "A Kerasban a korai leállítást egy visszahíváson keresztül illesztjük be a képzésünkbe. A **callback** nem más, mint egy olyan függvény, amelyet a hálózat edzése közben időnként le akarunk futtatni. A korai leállítás visszahívás minden korszak után lefut. (A Kerasnak [számos hasznos callback](https://www.tensorflow.org/api_docs/python/tf/keras/callbacks) van előre definiálva, de [definiálhatunk sajátot is](https://www.tensorflow.org/api_docs/python/tf/keras/callbacks/LambdaCallback).)"
      ],
      "id": "0d2c022f"
    },
    {
      "cell_type": "code",
      "metadata": {
        "execution": {
          "iopub.execute_input": "2021-09-13T20:12:18.947709Z",
          "iopub.status.busy": "2021-09-13T20:12:18.939851Z",
          "iopub.status.idle": "2021-09-13T20:12:24.166232Z",
          "shell.execute_reply": "2021-09-13T20:12:24.165532Z"
        },
        "papermill": {
          "duration": 5.236808,
          "end_time": "2021-09-13T20:12:24.166415",
          "exception": false,
          "start_time": "2021-09-13T20:12:18.929607",
          "status": "completed"
        },
        "tags": [],
        "id": "e6a68a26"
      },
      "source": [
        "from tensorflow.keras.callbacks import EarlyStopping\n",
        "\n",
        "early_stopping = EarlyStopping(\n",
        "    min_delta=0.001, # minimium amount of change to count as an improvement\n",
        "    patience=20, # how many epochs to wait before stopping\n",
        "    restore_best_weights=True,\n",
        ")"
      ],
      "id": "e6a68a26",
      "execution_count": null,
      "outputs": []
    },
    {
      "cell_type": "markdown",
      "metadata": {
        "papermill": {
          "duration": 0.007423,
          "end_time": "2021-09-13T20:12:24.181910",
          "exception": false,
          "start_time": "2021-09-13T20:12:24.174487",
          "status": "completed"
        },
        "tags": [],
        "id": "d61f75ff"
      },
      "source": [
        "Ezek a paraméterek azt mondják: \"Ha a validációs veszteség nem javult legalább 0,001-gyel az előző 20 korszakhoz képest, akkor állítsa le a képzést, és tartsa meg a legjobbnak talált modellt.\" Néha nehéz lehet megmondani, hogy a validációs veszteség a túlillesztés miatt emelkedik-e, vagy csak a véletlenszerű tételváltozások miatt. A paraméterek lehetővé teszik számunkra, hogy beállítsunk néhány megengedést arra vonatkozóan, hogy mikor álljunk le.\n",
        "\n",
        "Ahogy a példánkban látni fogjuk, ezt a visszahívást a veszteséggel és az optimalizálóval együtt átadjuk a `fit` metódusnak.\n",
        "\n",
        "# Példa - Modellképzés korai leállítással \n",
        "\n",
        "Folytassuk a modell fejlesztését a legutóbbi bemutató példájából. Növeljük a hálózat kapacitását, de a túlillesztés megelőzése érdekében hozzáadunk egy korai leállítás visszahívást is.\n",
        "\n",
        "Itt van az adatelőkészítés újra."
      ],
      "id": "d61f75ff"
    },
    {
      "cell_type": "code",
      "source": [
        "import pandas as pd\n",
        "from sklearn.model_selection import train_test_split\n",
        "\n",
        "red_wine = pd.read_csv('red-wine.csv')\n",
        "\n",
        "y = red_wine.quality #X,y beállítása\n",
        "X = red_wine.drop(['quality'], axis = 1)\n",
        "\n",
        "X_train, X_test, y_train, y_test = train_test_split(X, y, test_size=0.2, random_state=1) # első felosztás train, teszt halmazokra\n",
        "\n",
        "# Scale to [0, 1]\n",
        "max_ = X_train.max(axis=0)\n",
        "min_ = X_train.min(axis=0)\n",
        "X_train = (X_train - min_) / (max_ - min_)\n",
        "X_test = (X_test - min_) / (max_ - min_)\n",
        "\n",
        "red_wine.head()"
      ],
      "metadata": {
        "colab": {
          "base_uri": "https://localhost:8080/",
          "height": 267
        },
        "outputId": "72108dd6-e01f-4653-a747-83565d56f555",
        "id": "ByFIBjSgJLmY"
      },
      "execution_count": null,
      "outputs": [
        {
          "output_type": "execute_result",
          "data": {
            "text/plain": [
              "   fixed acidity  volatile acidity  citric acid  residual sugar  chlorides  \\\n",
              "0            7.4              0.70         0.00             1.9      0.076   \n",
              "1            7.8              0.88         0.00             2.6      0.098   \n",
              "2            7.8              0.76         0.04             2.3      0.092   \n",
              "3           11.2              0.28         0.56             1.9      0.075   \n",
              "4            7.4              0.70         0.00             1.9      0.076   \n",
              "\n",
              "   free sulfur dioxide  total sulfur dioxide  density    pH  sulphates  \\\n",
              "0                 11.0                  34.0   0.9978  3.51       0.56   \n",
              "1                 25.0                  67.0   0.9968  3.20       0.68   \n",
              "2                 15.0                  54.0   0.9970  3.26       0.65   \n",
              "3                 17.0                  60.0   0.9980  3.16       0.58   \n",
              "4                 11.0                  34.0   0.9978  3.51       0.56   \n",
              "\n",
              "   alcohol  quality  \n",
              "0      9.4        5  \n",
              "1      9.8        5  \n",
              "2      9.8        5  \n",
              "3      9.8        6  \n",
              "4      9.4        5  "
            ],
            "text/html": [
              "\n",
              "  <div id=\"df-d052e101-b95e-46b2-bc4b-9b387ee87454\">\n",
              "    <div class=\"colab-df-container\">\n",
              "      <div>\n",
              "<style scoped>\n",
              "    .dataframe tbody tr th:only-of-type {\n",
              "        vertical-align: middle;\n",
              "    }\n",
              "\n",
              "    .dataframe tbody tr th {\n",
              "        vertical-align: top;\n",
              "    }\n",
              "\n",
              "    .dataframe thead th {\n",
              "        text-align: right;\n",
              "    }\n",
              "</style>\n",
              "<table border=\"1\" class=\"dataframe\">\n",
              "  <thead>\n",
              "    <tr style=\"text-align: right;\">\n",
              "      <th></th>\n",
              "      <th>fixed acidity</th>\n",
              "      <th>volatile acidity</th>\n",
              "      <th>citric acid</th>\n",
              "      <th>residual sugar</th>\n",
              "      <th>chlorides</th>\n",
              "      <th>free sulfur dioxide</th>\n",
              "      <th>total sulfur dioxide</th>\n",
              "      <th>density</th>\n",
              "      <th>pH</th>\n",
              "      <th>sulphates</th>\n",
              "      <th>alcohol</th>\n",
              "      <th>quality</th>\n",
              "    </tr>\n",
              "  </thead>\n",
              "  <tbody>\n",
              "    <tr>\n",
              "      <th>0</th>\n",
              "      <td>7.4</td>\n",
              "      <td>0.70</td>\n",
              "      <td>0.00</td>\n",
              "      <td>1.9</td>\n",
              "      <td>0.076</td>\n",
              "      <td>11.0</td>\n",
              "      <td>34.0</td>\n",
              "      <td>0.9978</td>\n",
              "      <td>3.51</td>\n",
              "      <td>0.56</td>\n",
              "      <td>9.4</td>\n",
              "      <td>5</td>\n",
              "    </tr>\n",
              "    <tr>\n",
              "      <th>1</th>\n",
              "      <td>7.8</td>\n",
              "      <td>0.88</td>\n",
              "      <td>0.00</td>\n",
              "      <td>2.6</td>\n",
              "      <td>0.098</td>\n",
              "      <td>25.0</td>\n",
              "      <td>67.0</td>\n",
              "      <td>0.9968</td>\n",
              "      <td>3.20</td>\n",
              "      <td>0.68</td>\n",
              "      <td>9.8</td>\n",
              "      <td>5</td>\n",
              "    </tr>\n",
              "    <tr>\n",
              "      <th>2</th>\n",
              "      <td>7.8</td>\n",
              "      <td>0.76</td>\n",
              "      <td>0.04</td>\n",
              "      <td>2.3</td>\n",
              "      <td>0.092</td>\n",
              "      <td>15.0</td>\n",
              "      <td>54.0</td>\n",
              "      <td>0.9970</td>\n",
              "      <td>3.26</td>\n",
              "      <td>0.65</td>\n",
              "      <td>9.8</td>\n",
              "      <td>5</td>\n",
              "    </tr>\n",
              "    <tr>\n",
              "      <th>3</th>\n",
              "      <td>11.2</td>\n",
              "      <td>0.28</td>\n",
              "      <td>0.56</td>\n",
              "      <td>1.9</td>\n",
              "      <td>0.075</td>\n",
              "      <td>17.0</td>\n",
              "      <td>60.0</td>\n",
              "      <td>0.9980</td>\n",
              "      <td>3.16</td>\n",
              "      <td>0.58</td>\n",
              "      <td>9.8</td>\n",
              "      <td>6</td>\n",
              "    </tr>\n",
              "    <tr>\n",
              "      <th>4</th>\n",
              "      <td>7.4</td>\n",
              "      <td>0.70</td>\n",
              "      <td>0.00</td>\n",
              "      <td>1.9</td>\n",
              "      <td>0.076</td>\n",
              "      <td>11.0</td>\n",
              "      <td>34.0</td>\n",
              "      <td>0.9978</td>\n",
              "      <td>3.51</td>\n",
              "      <td>0.56</td>\n",
              "      <td>9.4</td>\n",
              "      <td>5</td>\n",
              "    </tr>\n",
              "  </tbody>\n",
              "</table>\n",
              "</div>\n",
              "      <button class=\"colab-df-convert\" onclick=\"convertToInteractive('df-d052e101-b95e-46b2-bc4b-9b387ee87454')\"\n",
              "              title=\"Convert this dataframe to an interactive table.\"\n",
              "              style=\"display:none;\">\n",
              "        \n",
              "  <svg xmlns=\"http://www.w3.org/2000/svg\" height=\"24px\"viewBox=\"0 0 24 24\"\n",
              "       width=\"24px\">\n",
              "    <path d=\"M0 0h24v24H0V0z\" fill=\"none\"/>\n",
              "    <path d=\"M18.56 5.44l.94 2.06.94-2.06 2.06-.94-2.06-.94-.94-2.06-.94 2.06-2.06.94zm-11 1L8.5 8.5l.94-2.06 2.06-.94-2.06-.94L8.5 2.5l-.94 2.06-2.06.94zm10 10l.94 2.06.94-2.06 2.06-.94-2.06-.94-.94-2.06-.94 2.06-2.06.94z\"/><path d=\"M17.41 7.96l-1.37-1.37c-.4-.4-.92-.59-1.43-.59-.52 0-1.04.2-1.43.59L10.3 9.45l-7.72 7.72c-.78.78-.78 2.05 0 2.83L4 21.41c.39.39.9.59 1.41.59.51 0 1.02-.2 1.41-.59l7.78-7.78 2.81-2.81c.8-.78.8-2.07 0-2.86zM5.41 20L4 18.59l7.72-7.72 1.47 1.35L5.41 20z\"/>\n",
              "  </svg>\n",
              "      </button>\n",
              "      \n",
              "  <style>\n",
              "    .colab-df-container {\n",
              "      display:flex;\n",
              "      flex-wrap:wrap;\n",
              "      gap: 12px;\n",
              "    }\n",
              "\n",
              "    .colab-df-convert {\n",
              "      background-color: #E8F0FE;\n",
              "      border: none;\n",
              "      border-radius: 50%;\n",
              "      cursor: pointer;\n",
              "      display: none;\n",
              "      fill: #1967D2;\n",
              "      height: 32px;\n",
              "      padding: 0 0 0 0;\n",
              "      width: 32px;\n",
              "    }\n",
              "\n",
              "    .colab-df-convert:hover {\n",
              "      background-color: #E2EBFA;\n",
              "      box-shadow: 0px 1px 2px rgba(60, 64, 67, 0.3), 0px 1px 3px 1px rgba(60, 64, 67, 0.15);\n",
              "      fill: #174EA6;\n",
              "    }\n",
              "\n",
              "    [theme=dark] .colab-df-convert {\n",
              "      background-color: #3B4455;\n",
              "      fill: #D2E3FC;\n",
              "    }\n",
              "\n",
              "    [theme=dark] .colab-df-convert:hover {\n",
              "      background-color: #434B5C;\n",
              "      box-shadow: 0px 1px 3px 1px rgba(0, 0, 0, 0.15);\n",
              "      filter: drop-shadow(0px 1px 2px rgba(0, 0, 0, 0.3));\n",
              "      fill: #FFFFFF;\n",
              "    }\n",
              "  </style>\n",
              "\n",
              "      <script>\n",
              "        const buttonEl =\n",
              "          document.querySelector('#df-d052e101-b95e-46b2-bc4b-9b387ee87454 button.colab-df-convert');\n",
              "        buttonEl.style.display =\n",
              "          google.colab.kernel.accessAllowed ? 'block' : 'none';\n",
              "\n",
              "        async function convertToInteractive(key) {\n",
              "          const element = document.querySelector('#df-d052e101-b95e-46b2-bc4b-9b387ee87454');\n",
              "          const dataTable =\n",
              "            await google.colab.kernel.invokeFunction('convertToInteractive',\n",
              "                                                     [key], {});\n",
              "          if (!dataTable) return;\n",
              "\n",
              "          const docLinkHtml = 'Like what you see? Visit the ' +\n",
              "            '<a target=\"_blank\" href=https://colab.research.google.com/notebooks/data_table.ipynb>data table notebook</a>'\n",
              "            + ' to learn more about interactive tables.';\n",
              "          element.innerHTML = '';\n",
              "          dataTable['output_type'] = 'display_data';\n",
              "          await google.colab.output.renderOutput(dataTable, element);\n",
              "          const docLink = document.createElement('div');\n",
              "          docLink.innerHTML = docLinkHtml;\n",
              "          element.appendChild(docLink);\n",
              "        }\n",
              "      </script>\n",
              "    </div>\n",
              "  </div>\n",
              "  "
            ]
          },
          "metadata": {},
          "execution_count": 20
        }
      ],
      "id": "ByFIBjSgJLmY"
    },
    {
      "cell_type": "markdown",
      "metadata": {
        "papermill": {
          "duration": 0.007917,
          "end_time": "2021-09-13T20:12:24.284880",
          "exception": false,
          "start_time": "2021-09-13T20:12:24.276963",
          "status": "completed"
        },
        "tags": [],
        "id": "1f5d5d03"
      },
      "source": [
        "Most növeljük a hálózat kapacitását. Elég nagy hálózatot választunk, de a visszahívásra támaszkodva leállítjuk a képzést, amint a validációs veszteség a növekedés jeleit mutatja."
      ],
      "id": "1f5d5d03"
    },
    {
      "cell_type": "code",
      "metadata": {
        "execution": {
          "iopub.execute_input": "2021-09-13T20:12:24.308472Z",
          "iopub.status.busy": "2021-09-13T20:12:24.307690Z",
          "iopub.status.idle": "2021-09-13T20:12:24.430609Z",
          "shell.execute_reply": "2021-09-13T20:12:24.431186Z"
        },
        "papermill": {
          "duration": 0.138373,
          "end_time": "2021-09-13T20:12:24.431366",
          "exception": false,
          "start_time": "2021-09-13T20:12:24.292993",
          "status": "completed"
        },
        "tags": [],
        "id": "f9b56875"
      },
      "source": [
        "from tensorflow import keras\n",
        "from tensorflow.keras import layers, callbacks\n",
        "\n",
        "early_stopping = callbacks.EarlyStopping(\n",
        "    min_delta=0.001, # minimium amount of change to count as an improvement\n",
        "    patience=20, # how many epochs to wait before stopping\n",
        "    restore_best_weights=True,\n",
        ")\n",
        "\n",
        "model = keras.Sequential([\n",
        "    layers.Dense(512, activation='relu', input_shape=[11]),\n",
        "    layers.Dense(512, activation='relu'),\n",
        "    layers.Dense(512, activation='relu'),\n",
        "    layers.Dense(1),\n",
        "])\n",
        "model.compile(\n",
        "    optimizer='adam',\n",
        "    loss='mae',\n",
        ")"
      ],
      "id": "f9b56875",
      "execution_count": null,
      "outputs": []
    },
    {
      "cell_type": "markdown",
      "metadata": {
        "papermill": {
          "duration": 0.008216,
          "end_time": "2021-09-13T20:12:24.448401",
          "exception": false,
          "start_time": "2021-09-13T20:12:24.440185",
          "status": "completed"
        },
        "tags": [],
        "id": "2e8ed3b4"
      },
      "source": [
        "Miután definiáltad a visszahívást, add hozzá argumentumként a `fit`-ben (több is lehet, ezért tedd egy listába). A korai leállítás használatakor válasszon nagy számú epochát, többet, mint amennyire szüksége lesz."
      ],
      "id": "2e8ed3b4"
    },
    {
      "cell_type": "code",
      "metadata": {
        "execution": {
          "iopub.execute_input": "2021-09-13T20:12:24.472723Z",
          "iopub.status.busy": "2021-09-13T20:12:24.469177Z",
          "iopub.status.idle": "2021-09-13T20:12:31.858209Z",
          "shell.execute_reply": "2021-09-13T20:12:31.857670Z"
        },
        "papermill": {
          "duration": 7.401441,
          "end_time": "2021-09-13T20:12:31.858368",
          "exception": false,
          "start_time": "2021-09-13T20:12:24.456927",
          "status": "completed"
        },
        "tags": [],
        "id": "d6066ae7",
        "colab": {
          "base_uri": "https://localhost:8080/",
          "height": 282
        },
        "outputId": "225d0d1f-5d4a-473a-bbd3-3de4c6853e12"
      },
      "source": [
        "history = model.fit(\n",
        "    X_train, y_train,\n",
        "    validation_data=(X_test, y_test),\n",
        "    batch_size=256,\n",
        "    epochs=500,\n",
        "    callbacks=[early_stopping], # put your callbacks in a list\n",
        "    verbose=0,  # turn off training log\n",
        ")\n",
        "\n",
        "history_df = pd.DataFrame(history.history)\n",
        "history_df.loc[:, ['loss', 'val_loss']].plot();\n",
        "print(\"Minimum validation loss: {}\".format(history_df['val_loss'].min()))"
      ],
      "id": "d6066ae7",
      "execution_count": null,
      "outputs": [
        {
          "output_type": "stream",
          "name": "stdout",
          "text": [
            "Minimum validation loss: 0.46485084295272827\n"
          ]
        },
        {
          "output_type": "display_data",
          "data": {
            "text/plain": [
              "<Figure size 432x288 with 1 Axes>"
            ],
            "image/png": "[encoded data removed]"
          },
          "metadata": {
            "needs_background": "light"
          }
        }
      ]
    },
    {
      "cell_type": "markdown",
      "metadata": {
        "papermill": {
          "duration": 0.009936,
          "end_time": "2021-09-13T20:12:31.878606",
          "exception": false,
          "start_time": "2021-09-13T20:12:31.868670",
          "status": "completed"
        },
        "tags": [],
        "id": "17956847"
      },
      "source": [
        "És valóban, a Keras jóval a teljes 500 korszak előtt leállította a tréninget!\n",
        "\n"
      ],
      "id": "17956847"
    },
    {
      "cell_type": "code",
      "source": [
        "model.predict([[0.362832,0.349315,0.234,0.3456,0.123,0.112551,1,1,1,1,1]])"
      ],
      "metadata": {
        "colab": {
          "base_uri": "https://localhost:8080/"
        },
        "id": "N73waIoIX0Sl",
        "outputId": "94ab5a7f-a1ea-423e-cf89-72a5013a623f"
      },
      "id": "N73waIoIX0Sl",
      "execution_count": null,
      "outputs": [
        {
          "output_type": "execute_result",
          "data": {
            "text/plain": [
              "array([[6.69974]], dtype=float32)"
            ]
          },
          "metadata": {},
          "execution_count": 23
        }
      ]
    },
    {
      "cell_type": "markdown",
      "metadata": {
        "papermill": {
          "duration": 0.006594,
          "end_time": "2021-09-13T20:12:28.177355",
          "exception": false,
          "start_time": "2021-09-13T20:12:28.170761",
          "status": "completed"
        },
        "tags": [],
        "id": "85e709b9"
      },
      "source": [
        "# Bevezetés \n",
        "\n",
        "A mélytanulás világa több, mint sűrű rétegek. Több tucatnyi fajta réteget adhatsz hozzá egy modellhez. (Próbáld meg átböngészni a [Keras docs](https://www.tensorflow.org/api_docs/python/tf/keras/layers/) című dokumentumot egy példáért!) Egyesek olyanok, mint a sűrű rétegek, és neuronok közötti kapcsolatokat határoznak meg, mások pedig előfeldolgozást vagy másfajta transzformációkat végezhetnek.\n",
        "\n",
        "Ebben a részben kétféle speciális réteget ismerünk meg, amelyek maguk nem tartalmaznak neuronokat, de olyan funkciókat adnak hozzá, amelyek néha különböző módon előnyösek lehetnek egy modell számára. Mindkettőt gyakran használják a modern architektúrákban.\n",
        "\n",
        "# Dropout \n",
        "\n",
        "Ezek közül az első a \"kieső réteg\", amely segíthet a túlillesztés korrigálásában.\n",
        "\n",
        "Az előző részben beszéltünk arról, hogy a túlilleszkedést az okozza, hogy a hálózat hamis mintákat tanul a képzési adatokban. Ezeknek a hamis mintázatoknak a felismeréséhez a hálózat gyakran nagyon speciális súlykombinációkra, a súlyok egyfajta \"összefonódásokra\" támaszkodik.\n",
        "A teljesen összekapcsolt réteg a paraméterek nagy részét lefoglalja, ezért a neuronok a képzés során egymás között társfüggőséget alakítanak ki, ami az egyes neuronok egyéni teljesítményét visszafogja, ami a képzési adatok túlzott illeszkedéséhez vezet. Mivel ilyen specifikusak, általában törékenyek: ha egyet eltávolítunk, az összefonódás szétesik.\n",
        "\n",
        "Ez az ötlet áll a **dropout** mögött. Az ilyen összeesküvések felbontására a képzés minden lépésénél véletlenszerűen *kiesik* a réteg bemeneti egységeinek egy töredéke, így a hálózat sokkal nehezebben tanulja meg ezeket a hamis mintákat a képzési adatokban. Ehelyett széleskörű, általános mintákat kell keresnie, amelyek súlymintái általában robusztusabbak.\n",
        "\n",
        "<figure style=\"padding: 1em;\">\n",
        "<img src=\"https://i.imgur.com/a86utxY.gif\" width=\"600\" alt=\"An animation of a network cycling through various random dropout configurations.\">\n",
        "<figcaption style=\"textalign: center; font-style: italic\"><center>Here, 50% dropout has been added between the two hidden layers.</center></figcaption>\n",
        "</figure>\n",
        "\n",
        "Úgy is gondolhatsz a kiesésre, mint a hálózatok egyfajta *együttesének* létrehozására. A jóslatokat már nem egy nagy hálózat, hanem kisebb hálózatok bizottsága fogja elkészíteni. A bizottságban lévő egyének hajlamosak különböző hibákat elkövetni, de ugyanakkor igazuk is lesz, így a bizottság egésze jobb lesz, mint bármelyik egyén. (Ha ismeri a véletlen erdőket, mint döntési fák együttesét, akkor ez ugyanez az elképzelés).\n",
        "\n",
        "## Kiesés hozzáadása \n",
        "\n",
        "A Kerasban a kiesési arány argumentum `rate` határozza meg, hogy a bemeneti egységek hány százalékát kell kikapcsolni. A `Dropout` réteget közvetlenül a réteg elé tesszük, amelyre a kiesést alkalmazni szeretnénk:\n",
        "\n",
        "```\n",
        "keras.Sequential([\n",
        "    # ...\n",
        "    layers.Dropout(rate=0.3), # apply 30% dropout to the next layer\n",
        "    layers.Dense(16),\n",
        "    # ...\n",
        "])\n",
        "```\n",
        "\n",
        "# Batch normalizálás \n",
        "\n",
        "A következő speciális réteg, amelyet megnézünk, a \"kötegelt normalizálást\" (vagy \"batchnorm\") végzi, amely segíthet a lassú vagy instabil képzés korrigálásában.\n",
        "\n",
        "A kötegelt normalizálás olyan transzformációt alkalmaz, amely az átlagos kimenetet 0 közelében tartja, a kimeneti szórást pedig 1 közelében tartja.\n",
        "\n",
        "A neurális hálózatoknál általában jó ötlet az összes adatot közös skálára helyezni, talán valami olyasmivel, mint a scikit-learn [StandardScaler](https://scikit-learn.org/stable/modules/generated/sklearn.preprocessing.StandardScaler.html) vagy [MinMaxScaler](https://scikit-learn.org/stable/modules/generated/sklearn.preprocessing.MinMaxScaler.html). Ennek oka az, hogy az SGD a hálózati súlyokat annak arányában fogja eltolni, hogy az adatok mekkora aktiválást eredményeznek. Az olyan jellemzők, amelyek hajlamosak nagyon eltérő méretű aktivációkat produkálni, instabil képzési viselkedést eredményezhetnek.\n",
        "\n",
        "Nos, ha jó, ha az adatokat normalizáljuk, mielőtt a hálózatba kerülnek, talán a hálózaton belüli normalizálás is jobb lenne! Valójában van egy speciális rétegünk, amely képes erre, a **batch normalizációs réteg**. A tétel normalizáló réteg minden egyes tételt megvizsgál, amikor beérkezik, először normalizálja a tételt a saját átlagával és szórásával, majd az adatokat egy új skálára is helyezi két betanítható átskálázási paraméterrel. A Batchnorm valójában egyfajta koordinált átskálázást végez a bemenetein.\n",
        "\n",
        "A batchnormot leggyakrabban az optimalizálási folyamat segédeszközeként adják hozzá (bár néha az előrejelzési teljesítményt is segítheti). A batchnormával rendelkező modelleknek általában kevesebb korszakra van szükségük a képzés befejezéséhez. Ezenkívül a batchnorm különböző olyan problémákat is orvosolhat, amelyek miatt a képzés \"elakadhat\". Fontolja meg a batchnormálás hozzáadását a modelljeihez, különösen akkor, ha a képzés során problémák merülnek fel.\n",
        "\n",
        "## Batch normalizálás hozzáadása \n",
        "\n",
        "Úgy tűnik, hogy a kötegelt normalizálás a hálózat szinte bármely pontján használható. Elhelyezhetjük egy réteg után...\n",
        "\n",
        "```\n",
        "layers.Dense(16, activation='relu'),\n",
        "layers.BatchNormalization(),\n",
        "```\n",
        "\n",
        "... vagy egy réteg és annak aktiváló függvénye között:\n",
        "\n",
        "```\n",
        "layers.Dense(16),\n",
        "layers.BatchNormalization(),\n",
        "layers.Activation('relu'),\n",
        "```\n",
        "\n",
        "Ha pedig a hálózatod első rétegeként adod hozzá, akkor egyfajta adaptív előfeldolgozóként működhet, és helyettesítheti például a Sci-Kit Learn \"StandardScaler\"-jét.\n",
        "\n",
        "# Példa - Kiesés és kötegelt normalizálás használata \n",
        "\n",
        "Folytassuk a *Red Wine* modell fejlesztését. Most még tovább növeljük a kapacitást, de hozzáadunk dropoutot a túlillesztés ellenőrzésére és batch normalizálást az optimalizálás felgyorsítására. Ezúttal az adatok szabványosítását is elhagyjuk, hogy bemutassuk, hogyan stabilizálhatja a kötegelt normalizálás a képzést."
      ],
      "id": "85e709b9"
    },
    {
      "cell_type": "markdown",
      "metadata": {
        "papermill": {
          "duration": 0.005497,
          "end_time": "2021-09-13T20:12:28.277466",
          "exception": false,
          "start_time": "2021-09-13T20:12:28.271969",
          "status": "completed"
        },
        "tags": [],
        "id": "55e65c8a"
      },
      "source": [
        "A dropout hozzáadásakor előfordulhat, hogy növelnie kell a \"Dense\" rétegek egységszámát."
      ],
      "id": "55e65c8a"
    },
    {
      "cell_type": "code",
      "metadata": {
        "execution": {
          "iopub.execute_input": "2021-09-13T20:12:28.296475Z",
          "iopub.status.busy": "2021-09-13T20:12:28.295723Z",
          "iopub.status.idle": "2021-09-13T20:12:33.667836Z",
          "shell.execute_reply": "2021-09-13T20:12:33.667127Z"
        },
        "papermill": {
          "duration": 5.384758,
          "end_time": "2021-09-13T20:12:33.667993",
          "exception": false,
          "start_time": "2021-09-13T20:12:28.283235",
          "status": "completed"
        },
        "tags": [],
        "id": "ae9eca0b"
      },
      "source": [
        "from tensorflow import keras\n",
        "from tensorflow.keras import layers\n",
        "\n",
        "model = keras.Sequential([\n",
        "                   \n",
        "    layers.Dense(1024, activation='relu', input_shape=[11]),\n",
        "    layers.Dropout(0.3),\n",
        "    layers.BatchNormalization(),\n",
        "    layers.Dense(1024, activation='relu'),\n",
        "    layers.Dropout(0.3),\n",
        "    layers.BatchNormalization(),\n",
        "    layers.Dense(1024, activation='relu'),\n",
        "    layers.Dropout(0.3),\n",
        "    layers.BatchNormalization(),\n",
        "    layers.Dense(1),\n",
        "])"
      ],
      "id": "ae9eca0b",
      "execution_count": null,
      "outputs": []
    },
    {
      "cell_type": "markdown",
      "metadata": {
        "papermill": {
          "duration": 0.006561,
          "end_time": "2021-09-13T20:12:33.681770",
          "exception": false,
          "start_time": "2021-09-13T20:12:33.675209",
          "status": "completed"
        },
        "tags": [],
        "id": "4a255797"
      },
      "source": [
        "Ezúttal nem kell változtatni a képzés felépítésén."
      ],
      "id": "4a255797"
    },
    {
      "cell_type": "code",
      "metadata": {
        "execution": {
          "iopub.execute_input": "2021-09-13T20:12:33.699838Z",
          "iopub.status.busy": "2021-09-13T20:12:33.698880Z",
          "iopub.status.idle": "2021-09-13T20:13:16.340058Z",
          "shell.execute_reply": "2021-09-13T20:13:16.340591Z"
        },
        "papermill": {
          "duration": 42.652228,
          "end_time": "2021-09-13T20:13:16.340778",
          "exception": false,
          "start_time": "2021-09-13T20:12:33.688550",
          "status": "completed"
        },
        "tags": [],
        "id": "2260a27b",
        "colab": {
          "base_uri": "https://localhost:8080/",
          "height": 265
        },
        "outputId": "04984b6f-caaf-41ce-daf0-cb0ebab737d7"
      },
      "source": [
        "model.compile(\n",
        "    optimizer='adam',\n",
        "    loss='mae',\n",
        ")\n",
        "\n",
        "history = model.fit(\n",
        "    X_train, y_train,\n",
        "    validation_data=(X_test, y_test),\n",
        "    batch_size=256,\n",
        "    epochs=100,\n",
        "    verbose=0,\n",
        ")\n",
        "\n",
        "\n",
        "# Show the learning curves\n",
        "history_df = pd.DataFrame(history.history)\n",
        "history_df.loc[:, ['loss', 'val_loss']].plot();"
      ],
      "id": "2260a27b",
      "execution_count": null,
      "outputs": [
        {
          "output_type": "display_data",
          "data": {
            "text/plain": [
              "<Figure size 432x288 with 1 Axes>"
            ],
            "image/png": "[encoded data removed]"
          },
          "metadata": {
            "needs_background": "light"
          }
        }
      ]
    },
    {
      "cell_type": "markdown",
      "metadata": {
        "papermill": {
          "duration": 0.008583,
          "end_time": "2021-09-13T20:13:16.357754",
          "exception": false,
          "start_time": "2021-09-13T20:13:16.349171",
          "status": "completed"
        },
        "tags": [],
        "id": "489359c1"
      },
      "source": [
        "Jellemzően jobb teljesítményt érhet el, ha az adatokat szabványosítja, mielőtt a képzéshez használná őket. Az azonban, hogy egyáltalán fel tudtuk használni a nyers adatokat, azt mutatja, hogy a kötegelt normalizálás mennyire hatékony lehet a nehezebb adathalmazokon.\n"
      ],
      "id": "489359c1"
    },
    {
      "cell_type": "markdown",
      "metadata": {
        "papermill": {
          "duration": 0.008793,
          "end_time": "2021-09-13T20:12:43.944166",
          "exception": false,
          "start_time": "2021-09-13T20:12:43.935373",
          "status": "completed"
        },
        "tags": [],
        "id": "a8cd3520"
      },
      "source": [
        "# Bináris osztályozás\n",
        "\n",
        "A kurzus eddigi részében arról tanultunk, hogy a neurális hálózatok hogyan oldanak meg regressziós problémákat. Most a neurális hálózatokat egy másik gyakori gépi tanulási problémára fogjuk alkalmazni: az osztályozásra. Az eddig tanultak nagy része továbbra is érvényes. A fő különbség a veszteségfüggvényben van, amelyet használunk, és abban, hogy milyen kimeneteket szeretnénk, ha az utolsó réteg produkálna.\n",
        "\n",
        "\n",
        "A két osztály valamelyikébe történő osztályozás gyakori gépi tanulási probléma. Megjósolhatjuk, hogy egy vásárló valószínűleg vásárol-e vagy sem, hogy egy hitelkártya-tranzakció csalárd volt-e vagy sem, hogy a mélyűri jelek egy új bolygóra utaló jeleket mutatnak-e, vagy egy orvosi teszt egy betegségre utaló bizonyítékot. Ezek mind **bináris osztályozási** problémák.\n",
        "\n",
        "A nyers adatokban az osztályokat olyan karakterláncok képviselhetik, mint az \"Igen\" és a \"Nem\", vagy a \"Kutya\" és a \"Macska\". Az adatok felhasználása előtt hozzárendelünk egy **osztálycímkét**: az egyik osztály \"0\", a másik \"1\" lesz. A numerikus címkék hozzárendelése az adatokat olyan formába hozza, amelyet a neurális hálózat fel tud használni.\n",
        "\n",
        "# Pontosság és kereszt-entrópia \n",
        "\n",
        "A **pontosság** az egyik a sok mérőszám közül, amelyet egy osztályozási probléma sikerének mérésére használnak. A pontosság a helyes előrejelzések aránya az összes előrejelzéshez képest: `Pontosság = number_correct / total`. Egy olyan modell, amely mindig helyesen jósol, pontossági értéke `1,0` lenne. Ha minden más tényező egyenlő, a pontosság ésszerű mérőszám, ha az adathalmazban az osztályok nagyjából azonos gyakorisággal fordulnak elő.\n",
        "\n",
        "A pontossággal (és a legtöbb más osztályozási metrikával) az a probléma, hogy nem használható veszteségfüggvényként. Az SGD-nek olyan veszteségfüggvényre van szüksége, amely egyenletesen változik, de a pontosság, mivel a számok aránya, \"ugrásszerűen\" változik. Ezért egy helyettesítő függvényt kell választanunk, amely a veszteségfüggvény szerepét tölti be. Ez a helyettesítő a *kereszt-entrópia* függvény.\n",
        "\n",
        "Emlékezzünk vissza, hogy a veszteségfüggvény határozza meg a hálózat *célját* a képzés során. A regresszióval a célunk az volt, hogy minimalizáljuk a távolságot a várható eredmény és a megjósolt eredmény között. Ennek a távolságnak a mérésére a MAE-t választottuk.\n",
        "\n",
        "Osztályozás esetén ehelyett a *valószínűségek* közötti távolságot szeretnénk, és ezt a kereszt-entrópia biztosítja. A **kereszt-entrópia** egyfajta mérték az egyik valószínűségi eloszlás és a másik közötti távolságra.\n",
        "\n",
        "\n",
        "\n",
        "\n",
        "<figure style=\"padding: 1em;\">\n",
        "<img src=\"https://i.imgur.com/DwVV9bR.png\" width=\"400\" alt=\"Graphs of accuracy and cross-entropy.\">\n",
        "<figcaption style=\"textalign: center; font-style: italic\"><center>Cross-entropy penalizes incorrect probability predictions.</center></figcaption>\n",
        "</figure>\n",
        "\n",
        "Az elképzelés az, hogy azt szeretnénk, ha a hálózatunk a helyes osztályt 1,0 valószínűséggel jósolná meg. Minél távolabb van a megjósolt valószínűség az `1.0-tól`, annál nagyobb lesz a kereszt-entrópia veszteség.\n",
        "\n",
        "A kereszt-entrópia használatának technikai okai kissé bonyolultak, de a legfontosabb dolog, amit ebből a szakaszból érdemes leszűrni, a következő: használjuk a kereszt-entrópiát osztályozási veszteségként; más mérőszámok, amelyek fontosak lehetnek (mint például a pontosság), ezzel együtt javulni fognak.\n",
        "\n",
        "# Valószínűségek készítése a szigmoid függvénnyel \n",
        "\n",
        "A kereszt-entrópia és a pontosság függvények egyaránt valószínűségeket igényelnek bemenetként, azaz 0 és 1 közötti számokat. Ahhoz, hogy a sűrű réteg által előállított valós értékű kimeneteket valószínűséggé alakítsuk, egy újfajta aktiválási függvényt csatolunk, a **szigmoid aktiválást**.\n",
        "\n",
        "<figure style=\"padding: 1em;\">\n",
        "<img src=\"https://i.imgur.com/FYbRvJo.png\" width=\"400\" alt=\"The sigmoid graph is an 'S' shape with horizontal asymptotes at 0 to the left and 1 to the right. \">\n",
        "<figcaption style=\"textalign: center; font-style: italic\"><center>The sigmoid function maps real numbers into the interval $[0, 1]$.</center></figcaption>\n",
        "</figure>\n",
        "\n",
        "A végső osztály-előrejelzéshez definiálunk egy *küszöbérték* valószínűséget. Ez általában 0,5, így a kerekítéssel megkapjuk a helyes osztályt: a 0,5 alatti érték a 0 címkével jelölt osztályt jelenti, a 0,5 vagy a feletti érték pedig az 1 címkével jelölt osztályt. A 0,5-es küszöbérték az, amit a Keras alapértelmezés szerint használ a [pontossági metrikával] (https://www.tensorflow.org/api_docs/python/tf/keras/metrics/BinaryAccuracy).\n"
      ],
      "id": "a8cd3520"
    },
    {
      "cell_type": "markdown",
      "source": [
        "#Házi Feladat\n",
        "\n",
        "A fentiekben gyakorolt borminősítéses feladatot alakítsuk át osztályozási feladattá, azaz y-t one hot encodingal alakítsuk át és a hozzátartozó modellt is ennek megfelelően alakítsuk át.\n",
        "Legyen 3 rejtett réteg rétegenként 1024 neuronnal, 30%-os dropouttal, korai megállással. A metrika legyen a pontosság! Értékeljük ki a loss-okat!"
      ],
      "metadata": {
        "id": "EL8KVrfSTJZD"
      },
      "id": "EL8KVrfSTJZD"
    }
  ]
}
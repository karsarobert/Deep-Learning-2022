{
  "nbformat": 4,
  "nbformat_minor": 0,
  "metadata": {
    "colab": {
      "provenance": [],
      "collapsed_sections": [],
      "authorship_tag": "ABX9TyNs0L12L+q7zq7AJIRGYBjV",
      "include_colab_link": true
    },
    "kernelspec": {
      "name": "python3",
      "display_name": "Python 3"
    },
    "language_info": {
      "name": "python"
    },
    "accelerator": "GPU"
  },
  "cells": [
    {
      "cell_type": "markdown",
      "metadata": {
        "id": "view-in-github",
        "colab_type": "text"
      },
      "source": [
        "<a href=\"https://colab.research.google.com/github/karsarobert/Deep-Learning-2022/blob/main/PTE_DL1_1.ipynb\" target=\"_parent\"><img src=\"https://colab.research.google.com/assets/colab-badge.svg\" alt=\"Open In Colab\"/></a>"
      ]
    },
    {
      "cell_type": "markdown",
      "metadata": {
        "id": "opposed-female"
      },
      "source": [
        "# Deep Learning gyakorlat\n",
        "\n",
        "\n",
        "## 1. gyakorlat: bevezetés, tensorflow alapok\n",
        "### 2022. szeptrember 7."
      ]
    },
    {
      "cell_type": "markdown",
      "source": [
        "Javasolt python anyag:\n",
        "https://oroszl.web.elte.hu/szamprob/static_notebooks/Package03/mintapelda03.html"
      ],
      "metadata": {
        "id": "wAr5o6YBKVrR"
      }
    },
    {
      "cell_type": "code",
      "metadata": {
        "colab": {
          "base_uri": "https://localhost:8080/"
        },
        "id": "erkKvk263Ash",
        "outputId": "8392c196-247b-4f6f-f3c3-d34687125f69"
      },
      "source": [
        "import numpy as np\n",
        "\n",
        "# És kapu megvalósítása\n",
        "\n",
        "def AND(x1, x2):            # függvény definiálása két paramétert vesz át x1 és x2\n",
        "    x = np.array([x1, x2])  # Az átvett értékeket egy numpy tömbbe másolja\n",
        "    w = np.array([0.5, 0.5])# súlytényezők beállítása\n",
        "    b = -0.7                # bias beállítása\n",
        "    tmp = np.sum(w*x) + b   # a neuron összegzi a bemenetet\n",
        "    if tmp <= 0:            # aktivációs függvény \n",
        "        return 0\n",
        "    else:\n",
        "        return 1\n",
        "\n",
        "for xs in [(0, 0), (1, 0), (0, 1), (1, 1)]: # ciklus futtatása a lehetséges bemeneti értékekkel egy listából\n",
        "    y = AND(xs[0], xs[1])                   # az AND fügvény meghívása\n",
        "    print(str(xs) + \" -> \" + str(y))        # az eredmény kinyomtatása képernyőre str fügvény a hasában lévő objektumot str-re konvertálja"
      ],
      "execution_count": 1,
      "outputs": [
        {
          "output_type": "stream",
          "name": "stdout",
          "text": [
            "(0, 0) -> 0\n",
            "(1, 0) -> 0\n",
            "(0, 1) -> 0\n",
            "(1, 1) -> 1\n"
          ]
        }
      ]
    },
    {
      "cell_type": "code",
      "metadata": {
        "colab": {
          "base_uri": "https://localhost:8080/"
        },
        "id": "SqyIKjR_3CHs",
        "outputId": "8221393b-3a3a-4926-d912-50cda117d0c6"
      },
      "source": [
        "def NAND(x1, x2):           # Nand kapu megvalósítása\n",
        "    x = np.array([x1, x2])\n",
        "    w = np.array([-0.5, -0.5])\n",
        "    b = 0.7\n",
        "    tmp = np.sum(w*x) + b\n",
        "    if tmp <= 0:\n",
        "        return 0\n",
        "    else:\n",
        "        return 1\n",
        "\n",
        "for xs in [(0, 0), (1, 0), (0, 1), (1, 1)]:\n",
        "    y = NAND(xs[0], xs[1])\n",
        "    print(str(xs) + \" -> \" + str(y))"
      ],
      "execution_count": 2,
      "outputs": [
        {
          "output_type": "stream",
          "name": "stdout",
          "text": [
            "(0, 0) -> 1\n",
            "(1, 0) -> 1\n",
            "(0, 1) -> 1\n",
            "(1, 1) -> 0\n"
          ]
        }
      ]
    },
    {
      "cell_type": "code",
      "metadata": {
        "colab": {
          "base_uri": "https://localhost:8080/"
        },
        "id": "MA6zwt9n3CKv",
        "outputId": "faabe3ac-69b4-4a30-91af-bc0af495c6e7"
      },
      "source": [
        "def OR(x1, x2):             # Vagy kapu megvalósítása\n",
        "    x = np.array([x1, x2])\n",
        "    w = np.array([0.5, 0.5])\n",
        "    b = -0.2\n",
        "    tmp = np.sum(w*x) + b\n",
        "    if tmp <= 0:\n",
        "        return 0\n",
        "    else:\n",
        "        return 1\n",
        "\n",
        "for xs in [(0, 0), (1, 0), (0, 1), (1, 1)]:\n",
        "    y = OR(xs[0], xs[1])\n",
        "    print(str(xs) + \" -> \" + str(y))"
      ],
      "execution_count": 3,
      "outputs": [
        {
          "output_type": "stream",
          "name": "stdout",
          "text": [
            "(0, 0) -> 0\n",
            "(1, 0) -> 1\n",
            "(0, 1) -> 1\n",
            "(1, 1) -> 1\n"
          ]
        }
      ]
    },
    {
      "cell_type": "markdown",
      "metadata": {
        "id": "m0OVygrHXKuO"
      },
      "source": [
        "![image.png](data:image/png;base64,iVBORw0KGgoAAAANSUhEUgAAA0UAAABeCAYAAADsfr9wAAAgAElEQVR4Ae2dCbxN1RfHm+d51jwPlKEUimhSmlVoEDIPpcFUmkkUzaUJIVEakMgsQwMiImSeZ0kI5b31/3yXt27b+d/H473n3Xffup/Pvnufc/bZe5/fWfvsvfYa9h7iP0fAERBJFfljxUqZP3uOzJoxU+bMmSPz58+XubPnxMLwwUOk/C23ypmnnian5DtRzjrtdDn79DM0Jm3H4TnS5CdwnZhzZ5xyqpxwzLFy4w3l5P1339M6582ZK7NnzhJigtY9d+42byc1NVWPiVNSUjS9ZcuWbfJwPkVSeST92T2WKXps5z12BKIIGK0YrekxhJUW/tm0Wdau+VN+nzZdaReahYbnz52nNGz0PGfW7BhN9+v7jVS9v4ocf+xxsb5j/YM+cvrJp2gfufD8C2To4CFaHveHfZHyta7Zs2XevHnbNJv+YO3mAunosd0Qnre8xP/++69l8TgPIAB9QwvEf6xa/R/NzZwlC+fO02Oj65AO582aLV9+1lPq1qyl33No177zFnPu5BPyyTWly0jP7j1kLv1j9hwt18aZmTO3jjlz587Vsce+6dbvdvQKjI7tPronY4D/HAFHYOcQ2GPnsntuRyC5ELDBcObvM+TjjzrLE02aynPPPCvPPPOMNG/eXJ5+8il55qmn5anmT0rD+g3kkkKF5dQTT5KTjj8hFjPgETh34nHHxwLHFmCiyMN1Yo7zHXucFC5YSO6pdLeWTx3U9+zTz2idpFu3bi2///67LFq0SFatWiUrVqzYZoIXHTRtMrclNUUI8X4MoDaIxrvu5xwBQyBKJ5s2bZL1f62T5UuXyYply2XSLxOlxyfdpVmTpvLkE83l+Wefi9Eu/YZj6Ln540/EaLxWjZpSolhxOeG44+W0k07WQJ+yNH2D9LlnniUN6tXXPsH9Yd+wPvn0009Lq1atZPr06bJ48WJZvny5rF69Wv7880/ZvHlzbOGA57EJI+noc9nzRvuTnfc4ORGARpYtW6bfVmKYk7fffEvpFnpu+exz8vQTzZWmGRegQ+iZa/q9fqK5VK9SVa6+srQcd9TRSrcwQdCv0TEx40CB886XmtUekGf5xjOupH3vKQd6Nvqmz8B4LVuyNNauv/76S/7++299CSHthjQdviG+/c4ShYh42hHIGALOFGUMJ8+VpAgwwBA+7tJV6tSoKRcXLCRFL75ELr74Yrnkkkvk4sJF9Bjm5cL8BeSM005XKQ8DHcEmcwyEpO2YQdGOiZEMkcfusfRpp5wq5597nlxS5GIN1E26SKHCWnfJkiXl448/lq+//loGDRokAwYMkA0bNuhKNgO6rdgzmTOGiFcVDpbhIGqv0Z7bjj12BLaHgNEQTMdvk6fIN1/3lUEDBsp77d+VGg9UlwIX5JeCF160te8ULqL0Cy3Tb6K0Td7TTz1NTj7xpFh/CPuK9RGkR+S1+y+9pKiWb8eXFb1U6yld6krp2rmL9O3ztfT/pp+GH7//QRYtWPh/E8l4TE+0L/zzzz/bg8KvJRECMNATJkyQXr16Sb9+/aRr165y3z33KtPON7jYJUWleNFLpdillwn0Bo2TDr/R0Oh555yrTP6JLHydkE9O5Vt/0sma5pjvPIExxMYUyr+0yMU65lBP0cJF5LKLL5GSxUuoROnbvt/oN793794yfvx4WbhwoTL669ev/+/7niry7+at9BrSbZSmk+iV+aM4AtmKgDNF2QqvF57oCDB4sAJ3Z/k75IJzzpX99tpbDjrgQNlrr71kzz33lD322EMO2G9/OeyQQ+XoI4+SM08/Q5kYBsJCFxXUwZHJn4XilxWTkpdfoYG0MTlM6AgMpgyK3Jv//AvknLPOlpPynSiHH3qY7LfPvrL3nnvJPnvtrWnqJZS5srRcXryEXHv1NVLu+htk9MhRuoq45Z9/RVJSY4yRTVxt4mdMkg+QiU6FuaN90NGYMWPk5TYv6cQQOofpgcExmiWGhvfcYw8N0PShBx+i/Yd+RT/Kd/wJcvaZZyn9n3v2OTqhZFIZDSwW0OeOOOxwOfjAg7QOyrU+su/e+8hhBx2sgYkr6klXlbpSSlx6maozffHpZ7Jg3vxt+kisv1i/CaC3/mOnrB/ZscfJh8CMGTPkgw8+kIIFC0qBAgUkf/78ysgcuP8BctQRR8oRhxwqxx55lBxy0MECvUHPfJOhZb7Z0DMST6NnvunQMbQLbVvMeRbUjj36GO0PVt4+e+wp++65l447+++9jxy4735a5xXFikuZkqWk1BUl5YoSl0u9OnWly0edZdpvU2XVipXy9/oN/9F1Gi0b/Ubj5Htr/kSOQPYh4ExR9mHrJecCBJCowDyw2nzOGWeqikOL556Xbt26Sf/+/WXo0KEyevRoGTdunK7WMSgRULfD7ofVaAKTL+wcFs5fIIsXLtJzqEBwzDUCaQL5sFuaOuU3LWvypF9l/LifhdXt4UOHSZ9eveXdd9qrmkbDBx+SW266Wa4qXUZXGWHKmITCYJW99jqpVKGi5vu6dx9ZsmixriDaZM4Gx1zwGryJCYwA9AQtEUaMGCGPN22mzAor3bfefIs0evQxVf15td0rah/3Rc/PVYr03bDhQhjz409K32N/GiM/jx0n0Du0b/Rvfcri6VOnCYHr9ItxY8ZqGDVipAwbMlS+7ddfJbvUhwpSk0cfk/sq3S1lr75GmEwWKnBhzHaPlX0WPCrceZc0adRYsGdavXKVbN64SSeV9mzAz3cglLAm8CvxpmURArxzVNN++ukn+eGHH+Szzz6T6tUeUAkk0h5UnJH6X13mKnnskUdVQvrL+AlKl9AytDnl18lKq0azRtscG03PmP675uFe+gGBxa0RQ4fJkAED5ZMuXeXNV1+T559+Rho/8qjcU6Gi3HT9Dbr4cFGBC5XB4tsPo8ViG/3ukYYP63jBWAJNp25JiamL+rc/iwjEi8lzCDhTlOdeuT9wiACDInYS11x1tU6k8p97nk6c0C3HfmfNmjUaUFlAbQ2VtY0bN0pMSmMrzmrZmvrf6h3H6YWUVEn5d4uqPaDyQBsoGzsI7IaWLl0qU6dOlZEjRyqD1OGDD1Xn/IGq1VRihDoGqkcM2qw+0nZWEl9/9TU1eqd96Q2K6Z0PMfG0IxBFwOjmu+++k8aPNZL9991PFxKaNm2qakcwS6j4TJkyRRYsWCArV67UfgNNM+mk/1gfor8Z3aP6g7MG4njpdevWxe6jL/7xxx9aNgbqP//8s4z8boT2104dOgpMUtPGTYR+wqIBq/fHHXOs9hEWElh1r1+3njJUTFY3rFuvjwkjZAsJ9tz2vHbscXIjsHbtWqXX2bNnq40cNM5CFLZASIqQ1kM7MOTr1v6lkhps66BPaJlxgWCMNefsvKWhe7QS6Afcp/S8arVKfmCaWAD4ftRoVf/s3OkjeaVtO7VbwikJjBBaBdAzDkoYA1Dne6LZ49L2pZfl88966mIDY048ek7ut+dP5whkHQLOFGUdll5SLkWAAYpBD29BOFLAkxYDF4OL8TXpPVp08sRxuPocvU454bn0VqbJw2CKZy+M2hksP+rYSR5+qKFcf11ZVcODKTry8CNU/Y7VRFYzmSQijWJSyv36DGke66xuq9/i9J7NzzsCRiMWIzlF4rLXHnvKbbfcKl26dFFmXhcK4nhBjIeglWXXosd2PhpbPovpZ0xE6avYhqAKRfs6d+4sDz74oJQvX14lR9gmoQaF3VLhCy+SeytW0pX5KRMn6cIH9VCOlctxlEmKtsWPkwsBvpX8eO8rl6+QAf2/VacKBfMX0MUyVOJuKHu9tHu5rWoIoL6GZCa9H7RkgTwhbdk90XMcw1SxkMCCHPTMdx8G6dGHH1GJJ6p0xuyjdg3zjzo20q133npbPeeZjZHTsCHtsSOQcQScKco4Vp4zCRFgEGJCBEPB5AnVG9QfzNOPubaGOdreLzrAbS8v16L5o8xR7LpxZaY3zkCcKvLnH2uE1cUP3ntfKt97nw6MrCKi344x7z333KMr+KxORsveUdv8uiNgCEQnVkOGDFFpDLY9qG6iZhqjVbspiLmW3nUrm9jyxMvPOctL0UbPdl94r1VtebZs2qzujz/t9ok0fayRlLuurBx/9DFy+MGHaFyqVCllpHAgwcQ4XllWpsfJh0BIVzHaS/vmIsFc/+da+Wn093L/fZXlrDPOFGyNrixZSqUzqM3xYwzhZ/cbXerJtD+rx/JwWvOluc62ccZi++zrqlzatx/tAtrEot1nPT5Vj4+MWyyOYXuHvRILFb2+/EqWLFkSVu9pR8ARyCACzhRlECjPtmMEbCKSmyYWtJVVv+vS1OeKXFRQdcRhJnbECO0YkcznMCyjJTGBQ+UONSK8E+EuFsP3Y446WtUrWNlEjWjCz+Plrz/XxjwU2eBMeeEkkONoXdHjaBv8OOsQsPdifSje+8i62nauJOjAaAH1OWyIcHZw1x13Svfu3XeusBzITT/Bvg/bpk+791BnJdhmoIaEp7sq996nk9whgwZvVXmNSIp08hpIW3kE8LB3ZvhYnAOPmGurNLqyB4ge2/mcihkHkNx06NBB99bCaQiqmNj0IDXasPFv2fzvP1s1CoI95LS9WTiAGG0RQ8+o+f34448qRYIRYiGMBTHsjrBHavV8Cxn7w48xho32GL2SjjFdOQWs1+sIJCgCzhQl6IvJTc2KN5DFO5eIz8QkFHUD9pnAbTbqc7gcZuBJb5+fRHgO8LUJNDYcvb/qpXtnwAwxOMIcoVaBnREbYDIp5Gfvxe6NPgvXLU/0mh9nPQK5DWvU07DbQX0OSVFuYIp4a9gAsikn0tXXXnlV7ri9vFxw3vkqLUJtFq+O7A+Dqip9P957YVKJVCDetXiUkdF88e7NS+eiOEWPcxoLvpW//PKLOr/hm4rXOdSV2V9u4q+TZN2G/2zTwrZm9XOE5aHdgB0UUiNsjyreVUG93iExQr0OiWibF1qpfSpaDyFDxPP4Pkbhm/K0I/AfAs4U/YeFpzKBAB9sQvTjm4kid8uttBeVhGvLXKVehpAUoT6HnUIWLvRl+lkM32hBpguPg4affvhRB0cGbNweM3jjEpx9ZNhg03TNrYzwXdk54vTqCvN4OmsQCLE2RpVz/CzOmpqyphQY7NzGFMXoPG15fPbMWfLGa6+rpAvVI9wro3qK4Tre7VClw87Q8CeOlZEGI8d2PR6yXNve9Xj35MVz8bA17BIBv/C9oy6HxzcWnaAX3G2zrxGqamE+a39Wv8+4NJcqOl59+P4Hcvutt6kDHtyGIwXFTT0e7vBKauMEZZi6n31vsrqdXp4jkJsRcKYoN7+9BGh7vA8r5/j4stFoooeBAweq9yr2NsH1Kpu34plKJ0UJgG9GJgbksYEOWyNchbO5Zp1atXX1kE0E8VaHh7qJE37RyZqVy3uKN9ja9QSAIOmbgLdBPLexQS/0iCt4Nuq1zXpzsg/RFuqnXbjXfuuNN3VzS/ZsYXU6t0iKICKV8qTZ5G3c8Lc6McE9Pi74b7yhnG62SV/BgB0bEjb1tH5lRBjtFxxHz6WX1857/P8IsKiDNIYNVKF76I2Qk7RP3YMHD5a+fftqO9guARXLp598SveMgznC+yf0w7YN4Y9valb94tFXSHfUhSQUb3gs6OGNDpU6GH6YN7zWoe63aNEi9bRKu+KN21nVXi/HEcjNCDhTlJvfXgK1PfxI20e8bt26khtCzeo11MEC6nNIitRdLyo0CYCvYRk2xbCOXmOg4xw2Ukz2vvz8C524snEgK4e4mGVia16T7H4rL6yDtF2PnvfjrEOACc3YsWPl9ddfl2rVqsX6S/369aV27dqx45zqR/Xq1dvahtp15MH6DVRlDvfAbD55d8VKCc8UGQ3bJFWP2e94S4oGmB6kX61bvaj7gbFhJypIeBrDYN0mjztijqy/WH1ZRyHJXZLhOm3aNOnYsaNUrVpVGjRoIHXq1NGQU3Rv9dIO+iLHDerVV3s69rxiE26+qUjkUSN9/933lMk2ejF62F1vT+k7VdTNPB5IcU+PSihtRJWaTZbZVwn3+EajYVt3Vzu9Hkcg0RFwpijR31AuaJ9NOMKm8uEtXbq0eurBW0+ihpIlS+p+K2effkbMpsiYokS1KbJBDbzDdPgeNv29UVYsWy6vvtxW1YTQM8eGgj2P2FQQxkn3WgpeGmWF5QWXPJlNCPDOWBlv2LChFC1aVIoVKyZ4RKPvEOd0v8EFsLUBT1cwRAUuyK+qmbi2TnRJkU38LIa+bQLJqgfHGNJ///330ubF1jrZRVKE2inOSzBoR2psk3fuDftZNpFFniuWPaeeffZZKVKkiNL9FVdcsVvGD/au2l648sortR3anlJXqpdStm8oUay42hXhyfDSIherm3o2JYY2jMayY1EtVnaaim1Ii1yDpnGsg4Odl9u8pO1EmkXo2rmLLvghlTN6znOE5g/sCOwAAWeKdgCQX945BMKPdOvWrdVDD156EjW8/PLLWydDhQorU4SkCEcLugHqzj16tubWAS9ODWlmEjFmJjpoMkgOHThIVzmxMWJlkxXEL3p+rivlNlmkaLs3TjV+KpsQAHM2PO3Ro4e0bNlSXnzxRWnXrp20bdtWoM2c7jdMrDDkRiWH1eeHGjyo9HPogQepl6tEZ4rC/gHWhOjPJrKbN26Svn2+lpvK3Sj5jj1O3XZXrlxZ+vTpo5vGcl84maTv2L3RMv145xBYuHChqqm1aNFCaf+ll17SfpDT9E8/bNOmjWh7Xm6rjAb9gXbBNF90QX457qijpWjhIrqvEWqZ/KCyf1O27BwIcXKH42mcy7FTRtuaP43oWfTq1vVjlejirpvvvzpH6faJbjkRry/ECvSEI5BHEXCmKI+++Kx6bPuwWky5lp43b57at2DjkqgBl9boYZcpWUpOP/mUmPc59dijQ1tWIbXr5YCnYWql2DnGP/a2CH82kGqckioL586Tvr166wo/gyNSI3TM8cSlXvaCTTfDesJ0WL6nsxYBVFrYrBGpBPQ4d+5cmTVrlqYTpd/MmTVbFi9cJJ9/1lPq164j++21d65gipD2msQ3pGfrI/YmYXCYRK5asVKeav6klL6ipE52Tz75ZGncuLG6P7YFBMqx+3HZjBG7XbPyPM44AmCHNzUcXMycOVMYN+gD9IWcpn/rj3j4DNuCN89fJ06Su++4S84/+xzJf+55apeGTSeMs+03lHEUtp/TaC6kYbuDc9ucTxVhTyOGBTbybtXyBdWGQOUV+6LaNWupDaPd77Ej4Aj8h4AzRf9h4aksRIBJgw12DHiJGjb9s1kZg9KlrlSmiB3vkRTBFG3LamQhOLu5KCbdU6dOFXThYYjQMz/vrLOFDS2ZhPCzSZ1N9ji3zUC7m9ts1YUDftg2u57bY56P52IixeQ6EfsJE3/aRRvZvLVJ48eEzVsrVsgd+xRtj0aiNMVz9uzZU2rVqiUwREeyun7nXdLz089E2EQzJVW9OCIRYMI56ZeJuv/RjBkz1F6D7wkSAr4dm9MkBdF+FNL09tqW0WvxyovWSVn2rPGuZbSu7MhHexK9D4T9kn6AJsHq1avVFrBw4cLq1AA1urkzZ8m6tX9lB0y7VCbjWK9evaR69erqbOeIww5XSSgSUezqjCbCwhONPmibtcloJWyvpx2BrETAmaKsRNPLiiGQWz5eTF5gCK675lrBroh9ipAcIUGJSmBiD5cLE+xp8UKLlqo/jwrdYQcdLHVr1lLvSonKEIUwM3iHAyNpa3eYLzeneSYLifQchjttYvPWx5s1kX323lPurpS7vM+lhynPF04OJ0+eLK+99poUKlRIDt7/ALn+mmt1byMYIdzaY7OxYN58+bp3H3mv/buqUvVRx07qPW3lypVbF4PSNvSkTis7xJHz0eP02pdV56P1JVr/oX3RkFXPnlXlGIbELBZgC3XTTTdt9fJ2xpkybNBgWbZkaew5sqreXS2Hd8yCGJvPsuksTBEOd1D/w+40pE2eKTze1Tqz+j5rE+Ua/tF0Vtfp5eVdBJwpyrvv3p88Te+bVT8GCvM+l0ySIgbF2ECSKrriXfne+wSbkBvLXi/dunVTQ3KIIRx8EoU4rE2sztov9jx2wuNsRQC8DfNhw4ZJ0yaNVFJU4a47Et7Rwo6ACZ+NvBxDc6ywT5w4UW1FUKs98/QzpP3b76ib+0svKare93B3fOapp6nqFDHqSbj0xnAfW46li5doeYYd5Rs9h+d21MadvR4+k9VncVhWdrYhrCeZ0iG2pMG1d+/eggfTg/bbX+687Xb5tl//hHpk2skYN2jAQCl77XVqV4q2AN7oUNsN6cDoJJEYZmtT2M6EAtgbk1QIOFOUVK/TH2ZnEfhny1ZVCDwKJSNTZHjowJIqMmL4d/JEs8flpONPUCPh5s2by08//RR3smaDkZWRE7G1wQZEjgl2nBNtys46ea4wZGddGS07xNqYor32TA71OcPA6IxjnpdJJF7pbil3oxQ473xVj0L9FIYIL46nnXKqurtv/Mij8kSTpip1LXZJUTnrtNNV4lyjajUZOWy4lmF1WEz5YX12Pqvi8H1Z2uJE6zu0y0L4/PHOhddzKh2vXfSJxx55VA454EC5pnQZXXhCipQoP945i0ps01Cl8v0x75E4UZk0aVIMf54tkZgh8KNN9rM+k2g0bO3zODkQcKYoOd5jwjxF+BFLmEZtpyEYYTOA4W6Y1V7zPpcsNkXbvI9UUXfcr7/6mpxzxpmCO9kHHnhAvvrqqxhCtvN57EQOJ7Zpf2SQzOGmZWv1PHf02bO1wgwWPnz4cJUU7b3XHlKp4l25XlIUSiBDCGxyWKdGTYHZQVIEM8QmyLgkx4Njxw87SP+v+6rKVO8vvpSH6tWXUiUul1PynSgF8xeQDu+9L9OnT9dieZc2qcvK92p0Eo3DZyGdHXVH68iLx+D6ww8/yONNm6mkCIc9n3zcTdasWRPDPKdxMXpjG4amjZvIxYWL6F5c991zr8DQ2c/y2bH1ATvO6TjR25fT+Hj9WYOAM0VZg6OXkg4C0cE60Y6RFMEAJaukyAY2cMe7FsbheBBj8oYHMbzQdfmo81YfsizKpQXd4PW/Rbp03u7uOR0dDKPHu6cVOVNLTvcXnjrEe+jQoTFHC8mgPmdvlX7CcxrzYOfZ5ws1U1TlsMfAe1fFuyooQ4Rtke71lSpqazRqxEjdBLZ40UvliEMOlVoPVJc+vXrLP5s2x/oVjhrMM5htomx1ZUfMMxnjF32+6LNmR/07KpM2EdL72fWciq1dVr8dg52dGz16tG7qesA++0qJSy+TD9//QBYvXmxZczS2d0xb+ba/9cabcvONN6mqJwuB/b/pF6Nh29DYaDpRPA1p29NQDMezHAXWK09aBJwpStpX6w+WEQSQFOFZKJQU4WghWSRFYBAbSLak6MDIxn6PN26ikqJrrrpann/2ORk9cpQMGzJUhg8dJkMHD9Gg6aFDhYlwTgW8nQ0ePFhXNEmzsknAfS/OMPy3exEAe2yKkkV9jkmjTRwNyfB4/JixytwgITK7ovHjfpYN69brZBJPc7YfDVLWZcuWqa0Gm9wWvPAiueP28tK500fat1BdpW/Rr74bNnxrX8vCvkX/oJ/yjkgPHDhQxowZE/MwaZN4e85EiK1N4cQ3Edq1M21A/Rg37iefkE/dcz/95FMyduzY/6OrnSkzW/KmpMq4MWP1e3/qyaeo44Wq91fRDb1HfjdCVauhUcaB2FiQhfS5q2OIff+RUtsYwIbXuZlmsuX9eqFZgoAzRVkCoxeSWxFgQoP6HI4WklF9zt6LMkYsFm5JEfbYaP/mW1tdkBcsJOVvu13VP9CLb/xYI3n4oYa6Q/ujDz8ijz76aI6HRo0aaRsaNmwoDz/8sDRr1kwmTJigLpDt+TzOHgRs0mqlh0xRMqjP2XMRm7TIzvHsUyZOkgZ16spJ+U5UtaMhgwYLe9GYtIftOZFzsLii8ZYtyrDfXbGSXJi/gBS6qKBUq1JV+1WjRx/TvkUfe6Thw2qHkpX965FHtvbXxx57TPtJgwYNpFWrVropasjohWl7Vo/jIxBiFU7CwzR7GXXt3CWmOsm7HTlyZEJM2mm/tdW+/e+89bYUKVRYt2Yodullctcdd+r3n+89YwB0SlrjHP7+Q8vWR/j2s2cYx4wJ9lzx35yfdQR2DQFninYNN78rSRBgMmPe52CKLi5YSPcpQgqRvlJH7nr4cPBgkFy0YKGq0J179jm6bxE2EpcXLyElihUXBkniEiVKSNGiRYUV75wMlxW9VEpefoUauFs7UHXEk9KKZctz14tIgtbCFCXTPkXxXknYXyZP+lUa1KuvjhWuLFlKfvvtt23U0ex+k8bSv9inpkmjxspE4ZABiRH3Fr34kq19q1hx7VP0NaPprIitPPovDiGY+FaqVEnat28fkxbTXns+i+0ZPN55BMCQRTWkf9Uq368b/j7U4EFliowmdr7UrLvDmDraSXrJkiUquYQeUQnFW2L+8y/Q7z9jAAE6Jc4KmsxsGdAyYwDlEF9R4nKNaZ/uG5Z1UHlJjoAi4EyRE0KeRiAvMEX2gm0StHjhIvm0ew9liBh0WMl+pW07DW1felk0tG0r7dq125q2czkQs58GAU9JFl5t94rMmP67qjDZs3m8exBIVqbI+oZNHu0Y9/zVqz2gDhZuKnejzPx9hgIdTjYtr51j/xcM2i8pcnFMUgTtQrfErVu9qDQNXcf62y72LcqLlmP95cUXWknHjh11b6l41GHtjXfNz2UMATDk/U+c8IvgifDE446X+nXrqRpjxkrI3lxGmxYvXbpUbUjZrPzIw49QJqPGA9XljddeV9o0eoSuLJ2TMbRsY1PYppdat9kqos1e+Lz0PIiAM0V58KX7I/+HQLIzRTYY8sS2cjlvzlzddJK9Kpjo4Y1u1oyZymj8Pm26TJs2TTf8mzFjhnCck4FJ6PSp03Qyau2grWzS5JIAACAASURBVNh0sJGm/3YvAsnOFEXRnPLrZFUpOuuMM1WKikRg7Zo/t7EXMeYChwaoKKFed/99ldVbHTZ7ODKBuZo9c1asL8HUGz1nJqZv2P2WtrKn/TZV5s2bp+p8PFf4LYg+px/vOgJoGmCTU71KVZUUNXzwIcH+JZF+9u4XLVqkqn4wRQezV90N5ZQZmjNrttIRNMP3FZoyOjL6yomY9tAOa4sdQ+tJo8qRSITibRFnipwI8jQCyc4UhS/XBkYGlBbPPa8rhXeWv0M+7tJVbSQ2b9ykqiAYjKMSQsAJRU4HJh1hm5h8wuAZkxc+o6ezF4FkZYrSQ23W9N/VHuj0U0+TM047XfsKk0MmZNgV0aesX3EOt8dM3FDvwYV3hQoVZPz48bJ+/Xp1DEJfgomib0HXme1b1kfpH2FZdkxfIfCLtTOSTu/Z/XzGEIDR+KzHp3L9NdeqO3ZscUaMGLEN3hkrKetzGcNuJc+fP186deioDP5BBxyo6pWdOnVSGuF7ioMh6MjoJ6SpnErbWBQdA0J6tufz2BHILALOFGUWQb8/VyOQF5giBkabGPGysJOoVaOmrhSyIWWPT7rHVt0SfaCx9lmcq4kvFzY+2Zki6CoMyhQ98qicd9bZapiOIfrggYP+c7Nt7zBVtnF5f/aZZ0nhgoUE5wcLFiywXLE4u+g3I+Xa88Ua44lMIYD3OTx44n3u7NPPkGZNmsqPP/64jTQxUxVkwc32/UcL4LVXXlXX8tgU4Yzj22+/3WZ8sOoyQkuWd3fGvhi2O9HOe3U5U5T33rk/cYBAXmCK7HEZ5Fgp7Nb1YzVczXf8CYI+eb++38RWNWGgEnEwDNsUpu3ZPN49COQFpihE8pMuXeXO225XCcAxRxypjNH5556n+3shYf3x+x/kl/ETZOC3A9SzHA4OjjnqaCHPu2+9rY4ZKI9+FZ3MRY/Denc1nV7fsPPElt7VOvy+/xAAS6RCONY49MCDpGTxEqqajPQoEX6hpAh6+/TTTwXPiIcefIh6XP36669VMkRbuc7zJOoYYM9ibUwEfL0NyYeAM0XJ9079iXYCgbzAFDGIEPhNnz5dcMmKjQResdq0aaP2Q1HIyJ0I3ves7RbTzjAdbbcfZy8Cyc4UhegxCWPz1lvK3SgnHX+CFCpwoeCpEa+NuOi+7557VbUOyUDtmrXUaxebu7KfUd2atWT44CGyevXq/6NXm9yFdWV32voMsdVP2n+ZR+CHH35Qxxps3gpThA3Z2rVrYzhnvobMlWDvmff+zjvvyC033SwH7Le/VKpQUfeAo3TyZAeTnrmWu8pnZvHz+3ceAWeKdh4zvyOJEEh2psgGRGL0xdnQkX1Sjj36GLn91tvk888/l3Xr1ukbDQdFdl1JlCmTTeIsprH2XElEirniUZKRKYKWLBhtYcfAxPbhBg/KFcWKy1mnnS4P3F9FalStplIic1uMe/iy114nGK7jbQ5Xx3fdXl56fNxNFs9fsFsmmrSdvpFen4iet34UPZ8rCDDBGsk3s3///soUH37wIXLzDeWk91e9VPqSSPjSzlWrVgn7/kCjSDPZZHbcuHGKqNFEOAYkUvvttYdtCtN23WNHILMIOFOUWQT9fkXAPlAWc9I+tIkOEV7Mri1zlW5mekmhwjJ1ym9qGJ0oTMGO8ANzw91i7rE07wGdcgzAsSVCtefYI4+S+rXrqJck0ze3ergvt7w7a3NujcN3FL4z0onyDmiHtjNVdNd73E3vtceeUvGuCtK9e/fcCr22mz6+ddvV//oLF1B/QrWIPVyYQCJVxcECjhTWrP5DxowZI23bttWNJB966CFp2bKl2mbgsZHFB/9lDIH06D/6TcpYadmTy/qhtZW2WXrLps1S64HqKkHEm+cLLVoKNkb87L7sadXWUuPVET1HW9esWSMfvPe+uuBGyglN40URZx/xfvZ88a75OUcgmRFwpiiZ3+5ueDY+nvE+oIk0qG0PBtq+5Z9/pUzJUnLGKacKTBFueFkpRoqUm348S3RApP2cZ6LG3g6sEp54Qj7dT2PYoMFqYxQ+I3nDEF7zdPYjkGjY057YLyVVhg4eIk80e1z23nOvpGGKlDFKSdG+w/PiZWvkyJFSq1YtnTwiVaXfsKiAK3i+F3wfcKDw+++/q93QrFmz5K+//orZZ4BZvL4Yw9ITikBIX2Gai9HjnIYMKUrYJuhk2uQpcuuNN6mtGRuhDuj/rSxcuDBGS7uzzda2KN0h8Zw4caLgaRQvirQTNdCVy1coHVsb7f5ExN7a6LEjkN0IOFOU3QjnkfJxlxl+VHlsJgpz5sxJ+MAK8FWlrpQzTz1NilxUcOvkZ8OGhFEf2x4JgXl0EAzzc23Dhg36DjCwZeUbr0O4C2Y/ClsptDKi7zAsy9PZgwDqi8uWLdMJ9ty5c4VAv7E4J/vQ7NmztS3EbPqL6+EG9erLnnvskRxMUcj0pb1e8O7c6SMpefkV2leKXXqZsPcM+3uFe2Ox0MC7o39F+1H2UErylWrfL5jM5cuXC3TGuEGcCPQPLbDXE7G1DWc1tG3q1KnyQft31Y7o1JNP0Y162cTV7Mh2x9tK73sd+55vSZG5s+eoSt+F+QvogtjFhYtInVq1VVLEuG2/sKwwbdc9dgTyAgLOFOWFt5yNzxjqIFONDXKksVfJDQEvUpcWuVglRTBFv06cpCu+/6ZsyUbksq5oGwAttvdAjMRu6eIlMmjAQGWIkBJhKH51mauETSbtfdm9NhhanHWt9JLiIQDuTLIw1v7kk0/kiy++0D7z2WefJUTfoT0E2tO3z9fSutWLygzpHicVKuZ69Tl7J9YPmCTSV3CecPKJJwmT3erVHpDPP+spGzdsVYvjm2f9xe632PuNIbFzMYsCuLFGHTOR+kDPnj21HxJ/9dVXQmz9gbbecettcsE556rjmptvvEm/tUZLu5MWqItg47HFMPFId9k7CfU+HOyg9vrl518oI2/5eFthe8P0zr1Jz+0I5G4EnCnK3e8vIVof6ljbZIGP6kknnSQnnnhiQodjjz1WvUWdku9EOe2kk6Vo4SLC5qaowgSKQwmBc3qNSG8A412wcolBLfumHHbIoXJD2evlzdffEEmJ/3RWlr3H9Or081mDAHj36tVLKlasKIcffrhAj/QbQr58+XK879AG2nLCCSfo5qUwCqjf4NIX72u53aaIt2g0j+Sne7dPVFXuhOOO13286tetJyO/G6Eqc+QNJ5FhOtpfrMysoZLkLQWcCKNGjZJ69eppHzjmmGOU9k855ZQcp/+TTz5ZCMcff7y2xfom/eGoo46SU088SfIde5yqpn31xZe6oW+ivC1o8v132ssdt5dXNdCDDzxIoGf2JTIJUUin6aUT5Xm8HY7A7kDAmaLdgXKS12ETAovtcWvUqCG1a9dO+PBA1WpSMH8BdbRwccFCMZui+GyDPV1ixDapCFvDZA11FIzFsSO69eZb5LRTTpX99tlXqt5fRVc6o++KcsJJXjhAhmV7OmsR4D2MHTtWXn31ValSpYrQZ7Blod9YnNN9qE6dOtoeJlRs9luiWHE5+sijdCKY25kio3MM0Sf9MlEdkbDpKv0FiWqfXr1VbY73FPY1uy8eNXAt2r/i5fNz/zGZbCraoUMHqVy5stSvX1+guZo1a+b42FGzeg2pV6euqpsRP1i/ge7zU/yyYgLjzGIartq5hoYBi028/91lUxuPDqE97IhmzpwpVe69T4pdUlTYkw7viJ983E1VAZ32HAFHID4CzhTFx8XPZhABG/zDCTVpPtaozqF2k8gBdQg2My1x6WUqKUJ9DhsjbAXMK1UGocjRbOBtAyQ2DujBf/nll1Lxjjul8IUX6UrhGaedrupPqKnwCyV8HNu7tHR4rDf4X5YjAMYY7H/33XeqPsfmigTokpDTfYc+DOPTo0cP6fXlV0o/5W+7XQ7c/wC5p9LdSSEpoq9PnvSrdO3cRTc1Rs0IySr7uGA7wvXoDycsLJpYn4te9+OMIwCGS5YsURXSbt26Ka1Bb4kwfvT89DP5oufnakuHCiUqpC+3eUluu+XWmMMaHC282u4VWb50mfyzaXPswcMxMXYyGxNGi3/++adMmTJFPvroI2WIkGadfEI+tYvD4cL69euVdnPT+JaNsHnRjsA2CDhTtA0cfpBZBGyFjA80H18m6IkcGECwrcHRAt7nYIpwyU2bc8OgEWVcOMYomMl0+fLl5ezTz5ATjjlWDcbZtG/40GG6iri7B+zM0lWy3k8/4Z1hqM/kmziR+g1tIaBatunvjTLw2wHySMOHk8YlN3Q1YcIEeeO11+WuO+5Uu4v9991PcK7wXvt3Vc0o2se4RxmiNKbIJqPEliZPvPuSlY539bnAyDCzPsC3F3pLhHEDF+x4HCSG4UndkiLffN1XVUdxaw2z8fQTzeW7YcO3qiSnqRfszndv+BnNTZ48WaVu5cqV002HDz3wIDnnjDPVMx7jnS5aptEw94T37+p79PscgWRBwJmiZHmTCfocfHATOcDEMeDheOD0NA9CeBVat2G9RN0sRAeP6HF6r4AB0oLliXdvvHPkNwYmHGjDvJxfOH+BGohXQr3p0st0s0lUOwoWLKgqKe3bt1evSLiRtXsttjZ5nHgI8I5yMkBbRifESLSaNGqsLrlRpWNln19Im+mhaOWkd31H56N1KC5pkzsWMGKMSto5junDOEyxa9RBf5ox/XfBwco9d1aQ/Oeep5PHIw8/QjCWRzL265TJsuqP1Ttqkl/PZgT0HWdnH4Ae0rZeMDsbi3k06Aq6Y5yYPn26PN60mZxz1tm6pUGB884XvqvsTRXeY9/reNDY89g16xMWa50p224FEV6Ld532zfx9hiDVurHs9YIKOHZOhx10sFSoUEHeeecdmTRpUmwxLFqetcVjR8AREHGmyKkgTyPAAIFXKZgidq0vhKRo6lT5a/06nVDFG+C4xyZopC3EA5Jr8X7hPZRlIcxLHquH81aW3UuMQwjai4oHm2qed865OmAjHbrw/AukefPmqobF6iE/yrNywro87QjsCAHoZujQoTGmCC9WSCT5cS2kLaPbeLQW71x6dVu5dp1juz+sw85ZW+z4ny3/KkPEeRYEsLUb+9MYefed9oK9yEUX5NfVfhYQsLnACcmvv/4qa9b+Kdzrv+RGwBhm03AIaSp8cvaj6tixo1xevITa0+FxDrU57AH5BvMzmrMywvt3JW3lpXcv15Gm/fzzz9Lhgw+lbu06ujE3DBEqczBtH374oV6njbQrLDOr2ple+/y8I5AbEXCmKDe+NW9zliKAWkSZK0srU3RRgQt1FRmmKB47w6ASDiwZbYjdF+/e6Lnw2AYyVEtMtQr9e+xQWKFkUH7vvffkoQYP6m7lGP9iD3H5ZcXk3oqVZMyYMbr/B/fy84Ewo2/M88VDwJgi26cIN+LRX0i/8a5xfXt5oveEx9wX0rBNZi0PixiWBwZo/V/rZMWy5eosYfbMWTJuzFh5vd0rgkQVT5OoPyFZve6aa6XGA9VjK+qUlxvUZ+25Pc4cAkaPFuMwAQ2ClStXqjoyNk7s7cP3FUnRjTeUk9YtX1CGyOgxdm9aU6LH6bWQfATKsbIsrx1D16ZOyH5OixcvVskV3/e33npLqlS+X3AQgj0cqp/lrisrNapW0zw4XbAf5WW0XXaPx45AXkLAmaK89Lb9Wf8PASZVrCCXLnWlMkWoHjB5YkJlTFE4iNggRUHxpEj/V0EaIxLmtfIstnuix9TFPhPr1v6lG2fiHatTh47qQe6aq64WGDg2YsWrHPrtbMjKxA6D+CWLFqvhQ9jeMB2ty9rgsSMQImB0YvHw4cN1D5+999xL7r37HnUKEeYnbXRm9xAbs2Lnovekd2xlcT28N0zbvWFeJrOoDPXr87U82exxubbMVeoljBX0/ffeR9WLLilUWNXlfh47buseRNbh054hLM/q8Dj5ELBvMzSldJUq6oJ9/Lif5Ylmj0vRiy9RZuPYo4/Rbywb+7Lxdcq/Wxlwo+0oMiGNhmnLF6vPTkRipb+UVG3L2jV/qjMQ7JkefqihlLv+BilwQX51j7/PXnvrOMAx7rdHjxyl9n/YP+1KvZFm+KEjkKcQcKYoT71uf9goAqhPwADBFJ156mmqTjNk0GDV0UYiw+7kuOtltS1mcL5pk+qQ22BqZdogF43tOjHXbLJFTN0WMIKlPlYCcZaAWsS3/frLh+9/IM0ff0Jq16wlN5W7UVXkcLF6yEEHqyoHK5d4Q2rV8gX58fsflIFSpi5Ndc/aafWGbQjb5mlHIIoAtMIP2iENU8RGkEiK7ix/h3q4+uOPP9QwHmmk0Rr3hGkrx+JoPTs65j6C0TD5WcxgNf+vP9fK6pWrVBrEwsGA/t/KK23bqfT0lnI3SvGil6pKKTYWxx55lJx31tkqRW3xzLMyeOAgLYO2Wh2kw3p21Da/nnsRiEoa0RqAARnz40/y7NPPqDo1C0+nn3qaSmD4Ds+fO09pxlbNQpreGboJ7zN6ZozB4cqKFSt0U2e8Ivb/pp/S86MPP6Ibr16Yv4BKrA4/9DDBDg6VaZihFs89L6NGjJRVK1Zu80Jok9G3XYjWbec9dgTyOgLOFOV1Csjjz8+Uj8kcNkVMls4/+xx5/uln1PMUhqtf9+4jMEl4bft+1GjdDJUVxAk/j9dJ2KIFCyUMODwIAwMoUhvOkSaQf8G8+bqvBavUlEfAg1G/vt+owWzHDztI25de1gkoqhFXlS4j+c+/QAdnVCR0j4yTThYGSNQ63nrjTd1kkgE1OtDvzECdx8nBHz+CgE2eiAkjRoyQxo81kn333kf7TMvnW8iwIUN1jx/6BJM4aH3u7DmqtsYEDaYFaScMDDFe7DIauIdJKmpweAFbuniJMv30qV/GT5CffvhR6Z4VdPoMrpGZuN5+621yceEi6n3xxLT9ZNh09tSTT1HXxO+89fbWCeSqVfrEZigfMnLebyLEkMSHLHpBmyuXr1CHNdA1NHTS8SfI8Ucfo+PCXbeXV9fc5IEWoWvzTLd54yalaexToW07JrbANfJTD/dC1/SPxQsX6VhC38HeDcaG/bGQSMHcQ8/sNYdanG2efOIJ+VRKxIIYeye9/uprKiHiOfDcxy+kZY6tDyfxa/RHcwQyjYAzRZmG0AvIzQggKcIIFZsCGKLT8p2k9ji46EZFAYaEQQePW8889bTuUcFABRPC/kas4oUBpiYM7GuBtIdz5CNN3PurXioBohyYnxdatIwxQEiDsHG69JKiqifOQIjqBmoSe+2xp6pKFLzwIkGFjhVCylyz+g91F8tEjgCzF88mwia5ufmdedtzBgEmWUiKcOjBKjU0yMQRj1xIKZmYfdSxk9I2dM9CAhta4hkLldR5c+bGmCUmlkh3iLcXjMGaM2u2lvPD6O9VEvTVF1/K22++pfsmNWvSVPvptVdfIyUvv0KZIRYNDjvkUO0zrKZfVvRSKV26tOCmePTo0bJg0UJZ//cG7SfmfcxQjS4q2HmPkw8BYxSWLVmqzDwLUw3q1VcaOvP0M+T4I49WtWrszx6qV18ZcBa1YPqhZwKMOnZr0DFMTjRA55xjHyPuZWGM+6FpmCAWFWCCcAEPM0b/uv++yjr+wAihJg1DDz2jtorkyr7/N5S9XvsZ9aPOp99+1FXT9tEK3xjP6ox+iIinHYH/R8CZov/HxM/kIQQYPJgE3XfPvXL9NdfKtVeWUfuDa0qXUekManVXlLhcihQqLCflO1EO2G9/teE56IADZf9999NJF8xKGBi4LHCeVXWYGWx/OE+azS+5RhlcZ6Bj8LuyZCmtF8kVdXOM7QZMFQMpk0sGV1bQmdGhN07M6iQ/G/SMKTImKHY+olKXh161P+ouIhCuOLPxL0w8/QH6tHDEYYcrLVufIIbWUbML6Z7jQw8+RCd4xDsKlEH/4D6C9Sv6ofWb8889T9sBU0RfxUMYtnVIek06G5MEpaboYgH9A3fdxBYMHusresFOepyUCMycOVP39EHizvcXD4TQEN96mOmjDz1cjjrkMDn68COE/X6MDon32msrfaPGTICWWSw4+MCD9BgmxmidNOetL1g5jAGkbfygThieUleUjI0DxS8rJvXq1JUuH3VWWyaYMKROMcJNYSDY+npi3/s0F/Wcpf/aeXuJ8c7ZNY8dgbyMgDNFefnt+7PrYIH9TZ8+faRr167SpUsX6dy5s6Y//vhjHYhQY0C/HMYJ3XIbQDFsRaUtswFvcUwuqQPpU9fOXTSwjwq7ktM2bIxQjUCqRXuxp/CfI7A7EYBZwOvVqFGjpFOnTtpP6BvQK4wI3q+wb6Bf0EeIcf4R9g/OWbA8dhwvhuEhUAbXw/LOOuNMlfw0atRI+wn9lb6L6+T+/fsLbpTpL6gThYzd7sTM60psBHDIMXLkSPXg+e6778oHH3ygbqyvvfZaKVSokDIoMCkEmCZoMD16jke/URoP7w1pmbLpO2gIPNX8SZW48v2nnzEGDBgwQLdeYAzACx19McroJDbS3jpHIHcg4ExR7nhP3spsRgCnCoSlS5fKsmXLNM0EELUEdL7x6MNeEA9UrSbVqz2gTg/q162n9jzY9OxqYK+UWjVqqpEsahSoVyAJImA3sWjRIm2PTep8IMxmQvDit4sAEhccgsydO1f7CCpDSC+xe2A1GwkNMXumQNfE1jdwFELgvAXof3vB7qEcK5PyOF+tSlVp1aqV9OvXT5k1jNPpw/PmzVNDdRYOfEV8u68zz1/EsQGObebPn6/ut6GfadOmSYsWLaROnTpKZ0a/RndGk1FaNpoOY6NtO2f3WplWBvmgZxbGUDtlHEClj/YsXLhQcGbCYpj/HAFHIHsRcKYoe/H10hMcAWM2rJkh00Ha1NNwjY1xrNlHoA+OOltmA+UwqWQQxCBX1SDS1CG07lAlzlzGRrzYWds9dgSyCwHrFxabipn1D2wrcB5i/SGr+gflUZbZb4Rp+uKqVatik0XUYK196eGgfTqdDZXTu8fPJzcC0ER0HIARgfHfHh1Dk1zf2WB9JKRt+g5uvmGETC2OMYdflKZjfc/pOLkJ058uRxBwpihHYPdKEwkBG3RscLTjsI0MRAycrJQz+SKQzqpAefysnrBu0vHaFM3jx45AdiJg/YM6jE5tgoZUBhomJtAvuGbHdi7sPxnpQ9zHCrn1M465j8B56iBN26wthgHHnA+DXfPYEYiHgNFQSK9Ge7sSM2YYvdr9lG3BxhSO8YJK3vBntMs50mEc5vO0I+AIZA0CzhRlDY5eSi5FYHuDDtdsYsXjZeegZGWHMNoAHZ4jnd75aD4/dgSyGoF4tBfvXNivom2waxmJuTde3wjLDK+TNiYpzBNNW93R836ctxDYVTrY1fvioUtZ4Y/jsE9Fr5M3K+sP6/a0I5DXEXCmKK9TQB5/flObCAceOxcOTMDEcXTAygr4rEzKtzqi5YbtC9PRfH7sCOxuBKy/WL0Zpc+M5rNytxfHKyt6juPoue2V6dfyBgLxvvPRJ99VutkRzUXrtnqj9+1q/Vaex46AI5AxBJwpyhhOnivJEQgHnTDNY0ePDYr0BjS7npE4WgZ1ReuLHlub4p3PSJ2exxHILAIhnULD4bGVnV30aXVZbPURR8/ZcTQO7/F03kYA2tjRLyN5dlTGjq4bjVq+sM7tXbP8HjsCjkDmEXCmKPMYegm5HAEGHGNOojGPtr3BKSsf3eq2Mu3YYs5bOmyT5ffYEcguBMI+EtYRjw7Dc6S3F8KyMpNGWmX1WpyZ8vzevInAznxfs4rOouWEx9G0HVucN9+SP7UjkH0IOFOUfdh6yY6AI+AIOAKOgCPgCDgCjoAjkAsQcKYoF7wkb6Ij4Ag4Ao6AI+AIOAKOgCPgCGQfAs4UZR+2XrIj4Ag4Ao6AI+AIOAKOgCPgCOQCBJwpygUvyZvoCDgCjoAj4Ag4Ao6AI+AIOALZh4AzRdmHrZfsCDgCjoAj4Ag4Ao6AI+AIOAK5AAFninLBS/ImOgKOgCPgCDgCjoAj4Ag4Ao5A9iHgTFH2YeslOwKOgCPgCDgCjoAj4Ag4Ao5ALkDAmaJc8JK8iY6AI+AIOAKOgCPgCDgCjoAjkH0IOFOUfdh6yY6AI+AIOAKOgCPgCDgCjoAjkAsQcKYoF7wkb6Ij4Ag4Ao6AI+AIOAKOgCPgCGQfAs4UZR+2XrIj4Ag4Ao6AI+AIOAKOgCPgCOQCBJwpygUvyZvoCDgCjoAj4Ag4Ao6AI+AIOALZh4AzRdmHrZfsCDgCjoAj4Ag4Ao6AI+AIOAK5AAFninLBS/ImOgKOgCPgCDgCjoAj4Ag4Ao5A9iHgTFH2YeslOwKOgCPgCDgCjoAj4Ag4Ao5ALkDAmaJc8JK8iY6AI+AIOAKOgCPgCDgCjoAjkH0IOFOUfdh6yUmAQGpqqqSkpMSehGN+FtsFy7Nly5ZYftLp/ex+YktbXivLjsPrpP/991+9FJ63vB47AlmNAPQYpbWQRqN0Hs1r7QnP2/30ps3//iPEKZKq8ZZUUiLElubY8nDV8lI25RKsTM6llw7bErbH0nafHVts91nM+fSuWR6P8w4C4XcfuojSUYhEtL9YXotDuorSmd1L3jBfWL6nHQFHYNcRcKZo17HzO/MoAjZ4hY8fnmOwssErzBOmyRPew7Xwnh0NeGHesFxPOwJZiUBIhzDjRrMW23WOoUnieNcsH20L05bXYrtmjD/5SXOesCO6D+u3ujhn91n5hpEdW2zn04utDRnNn145fj75EIjSREjTUbq0p4cuw/tIW7A80Xv/+eefbe6xfB47Ao5A5hFwpijzGHoJSYyADVjE0YlVOOgBQTh5s/s4Hw5yYdruySh80cExrCOjZXg+R2BnEDAaj3cP16xPxMuXHn1uL294Lb37OW/5bFIZ5rU0eax91n6uWbBzxCETZuctH2VYfXbNY0fAEAhpx2gvjC1t+Yk5F9KU0XF4tOqpUwAAF2tJREFULt59dj3etbB8TzsCjsCuIeBM0a7h5nflIQTiDUQ22WJwsgGK2PICT3g+XjoehPEmYNxr93NPOAjHK8PPOQJZjUBIc0b7Vgc0b/Rp+awf2Hny2n3hOdLhMfnCc3YPseWz2Oq3e6zO8Lylud/aZufsPjum3LAeOx/GYd1hOszj6byLADRhIUTB6Dh6zc6HecP+FJ4nbTRHnu3Re/Q+P3YEHIGMIeBMUcZw8lx5GAEGn7/++kuWLl0qq1atijsYMeHavHmzLFmyRP744w9N2wAGdGGa8v7++28t788//4xdW7dunSxbtkx+++03mTx5skyaNEmmTJki06dPl7lz52r+tWvX7nDilodflT96FiMQTrygYY6h8wULFgi0uHHjRq0xpG9rAnk3bdqktAttk473Y2JI/6JM8qEeFP4o28pfs2aNrF69WpYvXx7rh+lNLClzxYoVmp/yaA9hzpw5MnXqVO1n9LFff/1VZs+erefpf7TTGCir19oTtsXOeewIhHSycuVK/X737NlTunTpIl999ZWMGDFCv9/QNjTIz+4hph/NmzdPZsyYofQITTIGEH7//XdZtGiR9g1o3WjTUXcEHIGsR8CZoqzH1EtMIgQYhBjIhg0bJu+++67069dPJ3A8ok3GGNRgcmBc3nrrLendu7dOsGzwI68NgKTJO23aNPn888/l+1Gj5Z9NmyXl3y0ybsxY+bR7D3n+2efkxRdaSduXXpbWrV6Ul9u8JB++/4F07dxFry9asFA2bvhb70kiqP1REhAB6NbonNiYnFdeeUX7AnTMD1qPTtagcxYJ3n//fWXwYVL4WV+wGOZq7Nix0qZNG/n++++V4SGf1Wvlkv/nn3+Wzz77TNq3by/r16/Xsux6WDbtGT9+vPbFkSNHap/bsGGDTi5p+4svvqjhtVdelRdatJRX2raTt954U/vYt/36y+RJv8rf6zfE2hv2ZU5ybO3XTP6XJxEwurAYJqZHjx7y0ksvSdOmTaVRo0bSrFkzeeKJJ6RDhw7y008/6aKZ0RDeQzZv3CTTfpsqH7z3vn7vX2rdRgh8/19++WV58803pWPHjjpewFxZXSHd50nw/aEdgWxAwJmibADVi0wuBJDUwOzUrVtXnnvuOZk/f76ulttTMnljwsWqc4UKFXQg/OKLL3Qixqp6+GMixSRw+PDhOmh2+aizDooMjr2+/EqaNm4id91xpzRr0lSeaPa4PN60mTRp1FhatXxBB8nXX31Nvuj5ufwyfoIsXbwkLNrTjkC2IGCTL2gXOv/ll1+kYsWKOtFjFRzpCj9jEmzShhQUqef999+vDBT5LE+YH2nohx9+KHfffbf2M1bJQ6mS3UM/Y8GBySb9DEYKSZD9yGd5OdenTx9p1aqVdO3aVaVFSKHoy7fffrtUr15dHn74YWn++BPS+LFG2t+ee+ZZXYCAOer9VS9dpEDqa5KrsOwwbfV7nHcRQIJpC12vv/669o3GjRsrQ9SkSRMhDS1+9NFHMmrUKJUKKVqpootiw4YMlQb16uu3H5rku8/3H4bq6aefltatW0u7du10MQDGi/qcBvMuvfmTZx8CzhRlH7ZechIgwMADQ/TUU0/pJOree+9VhoYV8PDHBJDJYtmyZaV06dJSvnx5XfWGAbLBi8kiaVa4Bw0aJDVq1JB332kv69b+pf6GYZAYCGF89FxKqkhKqmz6e6P8+ccaWb50mUyfOk3q160nNR6ortKksA2edgSyGgGjXYuh83Hjxsk111wjZcqUkVq1asknn3wSW722fNA6eSdOnCjXX3+9qhAtXLgw1jyTAkHf77/7njIlTzV/Uu6/r7L07fO1rF3zp6RuSdnqh9v8caeKSnLq1q4jlxS5WPtA3759/09CRRsIn376qTz66KMqqYJ5gsGhj95www16TRkq+liqqOT1rz/XysrlK2TkdyNUenRlyVLKzLEIYj8r257TznucdxFAAoomwZ133imPP/64DB48WBfEDBGjFdTgkCBVrVpVXnjhBVXFNtr78vMvpNGjj8mr7V6RLf/8qzSp9J+mWYDKKBJPmKPbbrtN+vfvH+tzVo/HjoAjkHkEnCnKPIZeQi5GwAYsHsHS28QpqcqEvNf+Xene7RNdzevUoaOM+fGnrRO2NFUaBkZUf6pUqSI1q9dQiQ9qcDNnzoypAdkKOqt8xhShBsTqO7/OnTsLq4qvvfaaTig5p/uxpNlycD+650OHDtWVx8r33qcrjqyqW5u1oLQ2WdpjR2BXEYAfCX/QLozFrbfeqhJM1IOQoHLepDvG8MCE/DpxkpS7/gaVvGAXEf6gWZh/+gmS0NEjRwk03eGDD2XSLxN1QYD8RtvQf7du3eTRhx+Rhg8+JFUq3y9vvPGGMl7Wt8hroXv37vLYY4/p6jp2HkwsYdLKlSsnSHKxSwp/lIFkl/44evRoqV+/vvbj74YNj/V1a4+1Kbzf03kHAaMxmPrfJk9Rxv6qq65S9U6Y7dj14FuMxBW6euett+WGstfL1Cm/Ka2hZorEtWHDhoKUKZTMGqL0KcpFqnr11VerrVK0P1lejx0BR2DXEXCmaNex8zuTBAEbwGyiw+SINIMTEhomXz0+6a6TNmx9CIMGDNy6kp02aWNSiDoPq4Co4XT8sINO8BgEUdthULPJIpMubJPq1KmjE7YdMUXAzL3WPgbDtm3byr1336MGvKE0KkleiT9GgiCwdRvV/xoDnSMpQgXt7TffUpuHypUr6zmuWd+BVqFLmCImgKyEm6TI6Bi1tDmzZseko8uWLNUFCFbLsethFd36jLUA9SOkqdhcoGbEyjuLCfxsMmlpbDvSY4qw58NxCm2x9lgdxLNmzVIJE0za1737qIorz0awX7z77JrHyY1AjG5SRQYPHKRjws0336zf+ngq06AB7fDtRhJ6zVVXCypz9Am+/9AjUk1U5LjfaCtWT5rECMYITQTsW3EW4j9HwBHIWgScKcpaPL20XIiADUDWdJv4MKnDAPa+e+6Vfn2/kbmz5yhzxCo1dj0YyNqPVegffvhBmCCiDjRi+Hd6HxMzbI1swkYMkzRgwABVn8uIpMjqsJj2ffzxx1KnVm01wKVufpyPTiLtHo8dgV1BwJgim5zRJ3788UdV4enTq7fSIRIVvGyhHmT2N0zsVH1uwi9y4w3lVFIEExL+UCNFOvTkE83VkQgOR2B2Wj7fQhcVWIW3n9E1TBFqdtj9fP5ZT2nZsqXaXZgTB/LTD2gvE00kWfQxvEaapAj1OZw1hCqw1ue5jzRSLhw13FTuRunW9WNVq6Ps8Fth91gbPc47CFh/gHFHiwDpZfPmzVU12mgVNOy7H9IKDnXurlhJaRzGhjx4qnvkkUd0kYHjWPlpNMcxfQqJJ6qrqHRjW+Q/R8ARyFoEnCnKWjy9tFyGQDiAWdM5x8DEivgjDR9WG58pv05WyRB2B5xr8dzzomo1aTexSo5U6L777pOPu3SV9X+tk4XzF6ia25NPPikTJkyIOWdgYokKHDZFO2KK/psWbp2Q2aQML0bYI9WsWVMno9Z2i8kX79nsuseOQEYQUHOeQCUN5gOm6MYbb1RpDq6s6Ss4XsBT1pAhQ7RY6I8+YepzLCIsXrw4xrBwD8f3VLpbPurYSfMxwZwx/Xdp82JrqVenrtrPoVoU0jFeuHBCgt0ddkdjxoyRV199VVX4UC3iZ32EhQOTFMVjiqjf8sbDgjbSPrw/0tetHdyzvfvileXnkgsBo4HVK1cpk45jBL7/xvwQG73w5OH5JYsWq7dDbIi++eYblRSZ+hzOGGB86GcWWFzASQnOeVCvRsMAL3Rh+cmFrj+NI5BzCDhTlHPYe80JhAATIAY6G7xYlWPAYlI0dPAQYSBj0obrbOwfsIPAtsh+DFx4FYIp6tzpI/lj1Wr5d/M/uqLHCiK2D7aKzmCHpAgPWBlhiqxNFtNWbCNQ0cOGiYmp/WywtmOPHYHMIGBMEWVAWzD0MCI4T0BShDoQdI2b6+eff15tIsy2CMmMqc/BFIWSGfoL7rVvu+VWVUXFkyKG5biah9ln4aH/N/105d3qhv6RFCFZQoV1w7r1WiaMGI5NMD43FT3uQUqLStI777yjE82opMiYtCg+1MOz8kMaC5M2oP+3sWx2LXbCE3kOAfvO4pgDJh2aRH0a2rFgoHBsP/oKDnPQJqhds5b06tVLnTLgKRHVaxyX4CAEyRHSTNLYv6EuDS1D55xn+4ewXCvfY0fAEcgcAs4UZQ4/vzvJELDBDlUfBp87y98hs2bMjDE5MEaffNxNmSJsh2BQ+NkKOq6CYZaQFMFAMVHD0xAqRqjkMGEk77fffpthm6LoJIyBFdUJDNJxd4z9Q3SAtOdIstfjj7ObEQiZIqpG+sPkD2cFuJBncsYPySd7seB9i01YoVEYKBwm4GiBvKEND3kGDhwoFe68Syb8PF77C30Lxoj+xco7zJF6iAukP9gP4bYe6Q1MEfYY0D9qq6gUIUHlB/2b97ntMUWaOS1/2M9I06ceqFpNmaIhgwZr1rCfhfmtHI/zBgK8ewKSImj1maeeVgkqTx+lEfKFUp35c+epPR5MEbZ20PE3X/dVz4uMN4wrBBbfGDtYbMCzHWqf1113nW7uiuppWE/eQN2f0hHIfgScKcp+jL2GBEeAQYsBxgY6mosdEJ6uqlWpqh6ykPowaSMgOWLTx+rVHtD7uBf1HFbQcdmNBAcHDdhE4M4XNR5W1vHaxaQSmyImhBmRFIU2HQys1kaTFFWrVi3m4Y5r9rPnsWOPHYFdQcDoz+4NmSIcEMDcQJcw/HhNbNCggUpBYfxNfQ5HC1998aVKlSgHOmUvIhichxo8qCpz1rfoM6NGjNQ9uZAW2R5INqnEdolJKBtb6sJDSorWw2as7Oli7sGhf5giU58Lvc+ZTRGSIvtZv7JjYuqsVaOmSqWQFFEmP/JaOszv6byDgNFLKCnCpjT8hTQSppGKslErYwtMEdJR+hKOc8pee516dXz4oYby2COPqkc69tOCGSpWrJguRrAQYP0hrM/TjoAjkHkEnCnKPIZeQi5HgAGOn8WozqHuVqlSJSlzZWmdGKFGwwQJd9swQ6x+X1b0Ul0hZ+LGqjguudmAEvW5FcuWKwOFJInVbuwwuMakjZVtVO1q166dIfW5sG0GNSvzrVu9qNImW63nmg2W9iyW32NHYFcQMDbb6Ak6RxoDk48XrXnz5mmxTPpQT2MvlbvuukslpEgzsRGir6A+Zy6EUZ1DDe6OO+6Q668rK1Xvr6J9i7236Gc4NmHFnP7Fni/GGNEG8z5n6nP2TCw0sPjw7LPPCgwS/SD0PpeeTRH327NZmmOeh+8ATiLavdxWN3K161anx3kXAWiEwB5ySInYYBt1a773IQMU0oxpFfw+bbqq3KF2h5dFHPbAHOGsAUcjLKj9vX6DLsYhEWKBAaYemyKYfGicBbaQbvPum/AndwSyFgFnirIWTy8tlyJgAxnqbRhwM9AxQUN1AbsfXKB+8MEHmn7//fcF5wnYD5FmLyJWxWGKONehQwddOTcoMBZnUoZjBfahYNX5+1GjtXxUe0KX3Ox8zoo7k894P7PX+PLLL3WAfO6559Rg3fLac9ixx45AViBgEzDoEgYf98PYQyApsmvQJh7omCDiVhubIPZiueWmm3XSh10e6nG44eY69nq41KYPWB+jP7333nvK2LAXEqp07AODJAl1VBYccMmNpAinJ+EPhox+ygo8dbEZMobpnDNJERJgnESwOBHaOFFOuKAAk8ViA1IlFkhmzJgRe0573rBuT+dNBMyeDmbl7bffjtmNht9h6MVohnjatGlqP4T7baRLMN94SsT7HN9+jsP7QZZjGKE2bdpoPrQS/OcIOAJZj4AzRVmPqZeYixCwiRBNJq32OpN+1c0hcQ3MBHD69OkaGMxII+lB/Q3jVwZDPMvB9DDA4YULD1kwSfzCwRBjdAITQlbZ69auo4wWq4HkQzWoadOm6k2L1XR+NjgyUNI2fqy4M3FE0sTqOBO+eL/w2eJd93OOwI4QMPolH7QIXZpNEcbhqIeGP2gRF9aNH2ukNm94bUN9rvdXvYR9iGBuBn47QG2CcG3/22+/qX0c/QqGCg9yOA6h37FAgO0Q+7ls+edfvRemCKaLFXVW02kTbSQgUcIoHaYIl/h4qDOX3LSbzVphisqWLaubZcbzPkefgSFCAgbTh40gEieeizrCPhWmQww8nbcQMAklm6+iFcAiGD/oI+w/fMMZJ5D4oIUAYw7d8/03pghGySRKUfqir7CAwGbJZjuXt5D2p3UEsh8BZ4qyH2OvIYERMKaDJjKAoQKEPjfqOag02KBGHKaR7uDpCjUibCNYxWPChcF3p06ddPCjTCvfBrju3bur1yHUgwgwN5RF2WpE3rSpSpNCSZHdi90GAyNuuPE6h5TIrlGP1RWmExh6b1ouQMBonqbClJtNETYOqAuZpIiJXCxvSqq6pYfpwbvcdddcq4sA5sGRxQC8dbH3F/Qbuy8ND46ZWELr999XWd547XV1bw9DBcOFTRFMEQbq/Ox+2rdx40Z17nDrzbfoHkNIbj/88EOdrNJ2FjCQFOFEBSbJ7rd+BPP03XffCa6RS5QoITB+MGnWt6jL0nqz/+VpBKAbaAbHOWxojOQThsUWsACHNDRDPtzH42UOpyR8z/khYcXbnG3eakyVAWv0zaJB165dlaHCJbedt3weOwKOQOYRcKYo8xh6CbkcAQYXAhMqBh42bGQixiZ74QQoOggxyYIJat26tQ5qqDQwMKIKBHNl94YDJMwTXuMKXJBfrixZSiVHrBTyw14Cl6w4YGDfCuwpBg0apIbrDJqoATGYYovB4Iu6ED+rJ9q+6LFm9j9HYCcRCOkIZp39WMqUKaM0b+7gjanQvCmpMnnSryqpwSbvogIXymc9PpV5c+aqWhsMC+pvv4yfEGsJ90HHFlMek0ZUWNmsFecmqN7Rd3DAgBQX9TmtL2CM6MNIkNgDptQVJaVQoULKFNFXzSV38eLF1UsejhiQ+GKfR4xkCBUoVuLpgw8++KAyfdFJqjXa+p0de5w3EWBBAC0CHPMgAWKxyphppJH0ESSg2LqxoIVEiW83kiPol+8/tMi3n7EEGuY8wfoVyKKmDTN/1VVXSd++fWO0nzdR96d2BLIHAWeKsgdXLzWXIGCTKprLhI9d7MvfdrvuwTJ39pxtnoJJkAUusMIHk8Jgh+obkiJWAZEUmaTHyrdBDrfEqAOVLnWl3HF7eZUUMQjyQw2DAROVHXTHWVVEx5x0ixYtVJ2oXr16qmLHJM68Z9nkzOqyRtt5O/bYEdhVBIyWoGvU52DMkRSZ+pxdVxpMSVW7PBgh7IZwmID6HK6I2QSZc9j7oE5nNEtsZRATWEx4+smndKNkvNchKUJ9DiYJ1Ti8dvHjXitHy0jLRz++/PLLdSIJQ0Rgcnr11VfrBJTJK/0LNVgmo9gP0p/pY8SozTFxtZ/VY+208x7nXQSMFkwKibQHL4hIGtEKgNGGkcHOlGvYuGE3h5YBDA80xfcfJgpVbNvPzujZkOUYqeywYcN0ryKYIhs3LI/HjoAjkHkEnCnKPIZeQi5GwPS3GdxYmR43bpw0qFdffh47bptJlw1+4aMyKLE6yCCHlAdvWzAv/fr1U1WJ8B7SNtAtXrhI3a2y4s2AaYMbm1AymN5yyy06aWPnclYWsR1CXQ4bCyZuSKTMSNxWEinf6uOcpcP2etoR2FkEjI4sZlUbOwj23cKGDhsKo2ti7U+pohsXT5zwi7R/+x25u2IllfTAFI39aYyqzrEwgOMEK5d2hWmOoWPU5d564035tHsPdXGPkxLcGcMcwRRZ3eFz4T4f5wwvtGipklzrj/QzVu1ZuEAaxB5frM7jAIW+RsyiBHZ/9EXsP8L+FdZBW6PtDa97Ou8gYHRAjE0bzDYaBDDX9BPoCprjGDsipEpGt9AXATsjGHTGE8qx6xaDJuMTGx7DPCHdRB3Pf46AI5C1CPwPr3b22bBTM5gAAAAASUVORK5CYII=)"
      ]
    },
    {
      "cell_type": "markdown",
      "metadata": {
        "id": "HOvY24xY6oLW"
      },
      "source": [
        "![fig02_11.jpg](data:image/jpeg;base64,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)"
      ]
    },
    {
      "cell_type": "code",
      "metadata": {
        "colab": {
          "base_uri": "https://localhost:8080/"
        },
        "id": "c456DUzm3CND",
        "outputId": "f1ea2049-6495-483a-f396-bec3e9ea5640"
      },
      "source": [
        "def XOR(x1, x2):          # XOR kapu megvalósítása (kizáró vagy)\n",
        "    s1 = NAND(x1, x2)\n",
        "    s2 = OR(x1, x2)\n",
        "    y = AND(s1, s2)\n",
        "    return y\n",
        "\n",
        "for xs in [(0, 0), (1, 0), (0, 1), (1, 1)]:\n",
        "    y = XOR(xs[0], xs[1])\n",
        "    print(str(xs) + \" -> \" + str(y))"
      ],
      "execution_count": 4,
      "outputs": [
        {
          "output_type": "stream",
          "name": "stdout",
          "text": [
            "(0, 0) -> 0\n",
            "(1, 0) -> 1\n",
            "(0, 1) -> 1\n",
            "(1, 1) -> 0\n"
          ]
        }
      ]
    },
    {
      "cell_type": "markdown",
      "source": [
        "##Tensorflow"
      ],
      "metadata": {
        "id": "0LlqQnpflQcn"
      }
    },
    {
      "cell_type": "code",
      "source": [
        "!nvidia-smi"
      ],
      "metadata": {
        "colab": {
          "base_uri": "https://localhost:8080/"
        },
        "id": "sGMDegfxmqY2",
        "outputId": "ffb3917d-74dc-49f1-a301-296320109a9f"
      },
      "execution_count": 5,
      "outputs": [
        {
          "output_type": "stream",
          "name": "stdout",
          "text": [
            "Tue Sep  6 19:48:37 2022       \n",
            "+-----------------------------------------------------------------------------+\n",
            "| NVIDIA-SMI 460.32.03    Driver Version: 460.32.03    CUDA Version: 11.2     |\n",
            "|-------------------------------+----------------------+----------------------+\n",
            "| GPU  Name        Persistence-M| Bus-Id        Disp.A | Volatile Uncorr. ECC |\n",
            "| Fan  Temp  Perf  Pwr:Usage/Cap|         Memory-Usage | GPU-Util  Compute M. |\n",
            "|                               |                      |               MIG M. |\n",
            "|===============================+======================+======================|\n",
            "|   0  Tesla T4            Off  | 00000000:00:04.0 Off |                    0 |\n",
            "| N/A   68C    P8    12W /  70W |      0MiB / 15109MiB |      0%      Default |\n",
            "|                               |                      |                  N/A |\n",
            "+-------------------------------+----------------------+----------------------+\n",
            "                                                                               \n",
            "+-----------------------------------------------------------------------------+\n",
            "| Processes:                                                                  |\n",
            "|  GPU   GI   CI        PID   Type   Process name                  GPU Memory |\n",
            "|        ID   ID                                                   Usage      |\n",
            "|=============================================================================|\n",
            "|  No running processes found                                                 |\n",
            "+-----------------------------------------------------------------------------+\n"
          ]
        }
      ]
    },
    {
      "cell_type": "code",
      "metadata": {
        "id": "Yvv4pZ7WrHL6"
      },
      "source": [
        "import tensorflow as tf\n",
        "from tensorflow import keras\n",
        "import numpy as np"
      ],
      "execution_count": 6,
      "outputs": []
    },
    {
      "cell_type": "code",
      "source": [
        "# beállítások a tréninghez\n",
        "EPOCHS = 50 # korszakok száma\n",
        "BATCH_SIZE = 128 \n",
        "VERBOSE = 1 # lássuk az edzés adatait\n",
        "NB_CLASSES = 10   # kimenetek száma\n",
        "#N_HIDDEN = 128 \n"
      ],
      "metadata": {
        "id": "F5ht0YU-l6_U"
      },
      "execution_count": 7,
      "outputs": []
    },
    {
      "cell_type": "code",
      "source": [
        "# MNIST dataset letöltése\n",
        "# verify\n",
        "# the split between train and test is 60,000, and 10,000 respectly \n",
        "\n",
        "mnist = keras.datasets.mnist\n",
        "(X_train, Y_train), (X_test, Y_test) = mnist.load_data()"
      ],
      "metadata": {
        "id": "NlPUR0N4l2eN"
      },
      "execution_count": 8,
      "outputs": []
    },
    {
      "cell_type": "markdown",
      "source": [
        "##Adatok átnézése"
      ],
      "metadata": {
        "id": "0bwx9v3U7-95"
      }
    },
    {
      "cell_type": "code",
      "source": [
        "%pylab inline\n",
        "\n",
        "fig = figure(0, (20, 16))\n",
        "for i in range(9):\n",
        "    fig.add_subplot(3, 3, i+1)\n",
        "    imshow(X_train[i*100, :, :])\n",
        "    title(str(round(Y_train[i*100], 3)), fontsize = 24)\n",
        "    "
      ],
      "metadata": {
        "colab": {
          "base_uri": "https://localhost:8080/",
          "height": 961
        },
        "id": "3FcuMLJM68rZ",
        "outputId": "b090e957-a8b0-4c05-eada-a03065403992"
      },
      "execution_count": 9,
      "outputs": [
        {
          "output_type": "stream",
          "name": "stdout",
          "text": [
            "Populating the interactive namespace from numpy and matplotlib\n"
          ]
        },
        {
          "output_type": "display_data",
          "data": {
            "text/plain": [
              "<Figure size 1440x1152 with 9 Axes>"
            ],
            "image/png": "[encoded data removed]"
          },
          "metadata": {
            "needs_background": "light"
          }
        }
      ]
    },
    {
      "cell_type": "code",
      "source": [
        "X_train[0]"
      ],
      "metadata": {
        "colab": {
          "base_uri": "https://localhost:8080/"
        },
        "id": "yO1zXPWPN11x",
        "outputId": "91efc510-c32c-4f63-bb30-999569f6b667"
      },
      "execution_count": 10,
      "outputs": [
        {
          "output_type": "execute_result",
          "data": {
            "text/plain": [
              "array([[  0,   0,   0,   0,   0,   0,   0,   0,   0,   0,   0,   0,   0,\n",
              "          0,   0,   0,   0,   0,   0,   0,   0,   0,   0,   0,   0,   0,\n",
              "          0,   0],\n",
              "       [  0,   0,   0,   0,   0,   0,   0,   0,   0,   0,   0,   0,   0,\n",
              "          0,   0,   0,   0,   0,   0,   0,   0,   0,   0,   0,   0,   0,\n",
              "          0,   0],\n",
              "       [  0,   0,   0,   0,   0,   0,   0,   0,   0,   0,   0,   0,   0,\n",
              "          0,   0,   0,   0,   0,   0,   0,   0,   0,   0,   0,   0,   0,\n",
              "          0,   0],\n",
              "       [  0,   0,   0,   0,   0,   0,   0,   0,   0,   0,   0,   0,   0,\n",
              "          0,   0,   0,   0,   0,   0,   0,   0,   0,   0,   0,   0,   0,\n",
              "          0,   0],\n",
              "       [  0,   0,   0,   0,   0,   0,   0,   0,   0,   0,   0,   0,   0,\n",
              "          0,   0,   0,   0,   0,   0,   0,   0,   0,   0,   0,   0,   0,\n",
              "          0,   0],\n",
              "       [  0,   0,   0,   0,   0,   0,   0,   0,   0,   0,   0,   0,   3,\n",
              "         18,  18,  18, 126, 136, 175,  26, 166, 255, 247, 127,   0,   0,\n",
              "          0,   0],\n",
              "       [  0,   0,   0,   0,   0,   0,   0,   0,  30,  36,  94, 154, 170,\n",
              "        253, 253, 253, 253, 253, 225, 172, 253, 242, 195,  64,   0,   0,\n",
              "          0,   0],\n",
              "       [  0,   0,   0,   0,   0,   0,   0,  49, 238, 253, 253, 253, 253,\n",
              "        253, 253, 253, 253, 251,  93,  82,  82,  56,  39,   0,   0,   0,\n",
              "          0,   0],\n",
              "       [  0,   0,   0,   0,   0,   0,   0,  18, 219, 253, 253, 253, 253,\n",
              "        253, 198, 182, 247, 241,   0,   0,   0,   0,   0,   0,   0,   0,\n",
              "          0,   0],\n",
              "       [  0,   0,   0,   0,   0,   0,   0,   0,  80, 156, 107, 253, 253,\n",
              "        205,  11,   0,  43, 154,   0,   0,   0,   0,   0,   0,   0,   0,\n",
              "          0,   0],\n",
              "       [  0,   0,   0,   0,   0,   0,   0,   0,   0,  14,   1, 154, 253,\n",
              "         90,   0,   0,   0,   0,   0,   0,   0,   0,   0,   0,   0,   0,\n",
              "          0,   0],\n",
              "       [  0,   0,   0,   0,   0,   0,   0,   0,   0,   0,   0, 139, 253,\n",
              "        190,   2,   0,   0,   0,   0,   0,   0,   0,   0,   0,   0,   0,\n",
              "          0,   0],\n",
              "       [  0,   0,   0,   0,   0,   0,   0,   0,   0,   0,   0,  11, 190,\n",
              "        253,  70,   0,   0,   0,   0,   0,   0,   0,   0,   0,   0,   0,\n",
              "          0,   0],\n",
              "       [  0,   0,   0,   0,   0,   0,   0,   0,   0,   0,   0,   0,  35,\n",
              "        241, 225, 160, 108,   1,   0,   0,   0,   0,   0,   0,   0,   0,\n",
              "          0,   0],\n",
              "       [  0,   0,   0,   0,   0,   0,   0,   0,   0,   0,   0,   0,   0,\n",
              "         81, 240, 253, 253, 119,  25,   0,   0,   0,   0,   0,   0,   0,\n",
              "          0,   0],\n",
              "       [  0,   0,   0,   0,   0,   0,   0,   0,   0,   0,   0,   0,   0,\n",
              "          0,  45, 186, 253, 253, 150,  27,   0,   0,   0,   0,   0,   0,\n",
              "          0,   0],\n",
              "       [  0,   0,   0,   0,   0,   0,   0,   0,   0,   0,   0,   0,   0,\n",
              "          0,   0,  16,  93, 252, 253, 187,   0,   0,   0,   0,   0,   0,\n",
              "          0,   0],\n",
              "       [  0,   0,   0,   0,   0,   0,   0,   0,   0,   0,   0,   0,   0,\n",
              "          0,   0,   0,   0, 249, 253, 249,  64,   0,   0,   0,   0,   0,\n",
              "          0,   0],\n",
              "       [  0,   0,   0,   0,   0,   0,   0,   0,   0,   0,   0,   0,   0,\n",
              "          0,  46, 130, 183, 253, 253, 207,   2,   0,   0,   0,   0,   0,\n",
              "          0,   0],\n",
              "       [  0,   0,   0,   0,   0,   0,   0,   0,   0,   0,   0,   0,  39,\n",
              "        148, 229, 253, 253, 253, 250, 182,   0,   0,   0,   0,   0,   0,\n",
              "          0,   0],\n",
              "       [  0,   0,   0,   0,   0,   0,   0,   0,   0,   0,  24, 114, 221,\n",
              "        253, 253, 253, 253, 201,  78,   0,   0,   0,   0,   0,   0,   0,\n",
              "          0,   0],\n",
              "       [  0,   0,   0,   0,   0,   0,   0,   0,  23,  66, 213, 253, 253,\n",
              "        253, 253, 198,  81,   2,   0,   0,   0,   0,   0,   0,   0,   0,\n",
              "          0,   0],\n",
              "       [  0,   0,   0,   0,   0,   0,  18, 171, 219, 253, 253, 253, 253,\n",
              "        195,  80,   9,   0,   0,   0,   0,   0,   0,   0,   0,   0,   0,\n",
              "          0,   0],\n",
              "       [  0,   0,   0,   0,  55, 172, 226, 253, 253, 253, 253, 244, 133,\n",
              "         11,   0,   0,   0,   0,   0,   0,   0,   0,   0,   0,   0,   0,\n",
              "          0,   0],\n",
              "       [  0,   0,   0,   0, 136, 253, 253, 253, 212, 135, 132,  16,   0,\n",
              "          0,   0,   0,   0,   0,   0,   0,   0,   0,   0,   0,   0,   0,\n",
              "          0,   0],\n",
              "       [  0,   0,   0,   0,   0,   0,   0,   0,   0,   0,   0,   0,   0,\n",
              "          0,   0,   0,   0,   0,   0,   0,   0,   0,   0,   0,   0,   0,\n",
              "          0,   0],\n",
              "       [  0,   0,   0,   0,   0,   0,   0,   0,   0,   0,   0,   0,   0,\n",
              "          0,   0,   0,   0,   0,   0,   0,   0,   0,   0,   0,   0,   0,\n",
              "          0,   0],\n",
              "       [  0,   0,   0,   0,   0,   0,   0,   0,   0,   0,   0,   0,   0,\n",
              "          0,   0,   0,   0,   0,   0,   0,   0,   0,   0,   0,   0,   0,\n",
              "          0,   0]], dtype=uint8)"
            ]
          },
          "metadata": {},
          "execution_count": 10
        }
      ]
    },
    {
      "cell_type": "markdown",
      "source": [
        "Adatok átalakítása, kilapítása, vektorrá alakítása"
      ],
      "metadata": {
        "id": "wXW6w85u8GtX"
      }
    },
    {
      "cell_type": "code",
      "source": [
        "#X_train  60000 adat of 28x28-as felbontásban --> átalakítása 60000 x 784 alakzatra\n",
        "RESHAPED = 784\n",
        "#\n",
        "X_train = X_train.reshape(60000, -1)\n",
        "X_test = X_test.reshape(10000, RESHAPED)\n",
        "X_train = X_train.astype('float32')\n",
        "X_test = X_test.astype('float32')"
      ],
      "metadata": {
        "id": "tlKdNaCElyv1"
      },
      "execution_count": 11,
      "outputs": []
    },
    {
      "cell_type": "code",
      "source": [
        "X_train[0,:]"
      ],
      "metadata": {
        "colab": {
          "base_uri": "https://localhost:8080/"
        },
        "id": "97xFZpinNTvi",
        "outputId": "8c8649fd-21b3-4ad6-ca47-a6a5b75455bd"
      },
      "execution_count": 12,
      "outputs": [
        {
          "output_type": "execute_result",
          "data": {
            "text/plain": [
              "array([  0.,   0.,   0.,   0.,   0.,   0.,   0.,   0.,   0.,   0.,   0.,\n",
              "         0.,   0.,   0.,   0.,   0.,   0.,   0.,   0.,   0.,   0.,   0.,\n",
              "         0.,   0.,   0.,   0.,   0.,   0.,   0.,   0.,   0.,   0.,   0.,\n",
              "         0.,   0.,   0.,   0.,   0.,   0.,   0.,   0.,   0.,   0.,   0.,\n",
              "         0.,   0.,   0.,   0.,   0.,   0.,   0.,   0.,   0.,   0.,   0.,\n",
              "         0.,   0.,   0.,   0.,   0.,   0.,   0.,   0.,   0.,   0.,   0.,\n",
              "         0.,   0.,   0.,   0.,   0.,   0.,   0.,   0.,   0.,   0.,   0.,\n",
              "         0.,   0.,   0.,   0.,   0.,   0.,   0.,   0.,   0.,   0.,   0.,\n",
              "         0.,   0.,   0.,   0.,   0.,   0.,   0.,   0.,   0.,   0.,   0.,\n",
              "         0.,   0.,   0.,   0.,   0.,   0.,   0.,   0.,   0.,   0.,   0.,\n",
              "         0.,   0.,   0.,   0.,   0.,   0.,   0.,   0.,   0.,   0.,   0.,\n",
              "         0.,   0.,   0.,   0.,   0.,   0.,   0.,   0.,   0.,   0.,   0.,\n",
              "         0.,   0.,   0.,   0.,   0.,   0.,   0.,   0.,   0.,   0.,   0.,\n",
              "         0.,   0.,   0.,   0.,   0.,   0.,   0.,   0.,   0.,   3.,  18.,\n",
              "        18.,  18., 126., 136., 175.,  26., 166., 255., 247., 127.,   0.,\n",
              "         0.,   0.,   0.,   0.,   0.,   0.,   0.,   0.,   0.,   0.,   0.,\n",
              "        30.,  36.,  94., 154., 170., 253., 253., 253., 253., 253., 225.,\n",
              "       172., 253., 242., 195.,  64.,   0.,   0.,   0.,   0.,   0.,   0.,\n",
              "         0.,   0.,   0.,   0.,   0.,  49., 238., 253., 253., 253., 253.,\n",
              "       253., 253., 253., 253., 251.,  93.,  82.,  82.,  56.,  39.,   0.,\n",
              "         0.,   0.,   0.,   0.,   0.,   0.,   0.,   0.,   0.,   0.,   0.,\n",
              "        18., 219., 253., 253., 253., 253., 253., 198., 182., 247., 241.,\n",
              "         0.,   0.,   0.,   0.,   0.,   0.,   0.,   0.,   0.,   0.,   0.,\n",
              "         0.,   0.,   0.,   0.,   0.,   0.,   0.,  80., 156., 107., 253.,\n",
              "       253., 205.,  11.,   0.,  43., 154.,   0.,   0.,   0.,   0.,   0.,\n",
              "         0.,   0.,   0.,   0.,   0.,   0.,   0.,   0.,   0.,   0.,   0.,\n",
              "         0.,   0.,   0.,  14.,   1., 154., 253.,  90.,   0.,   0.,   0.,\n",
              "         0.,   0.,   0.,   0.,   0.,   0.,   0.,   0.,   0.,   0.,   0.,\n",
              "         0.,   0.,   0.,   0.,   0.,   0.,   0.,   0.,   0.,   0.,   0.,\n",
              "       139., 253., 190.,   2.,   0.,   0.,   0.,   0.,   0.,   0.,   0.,\n",
              "         0.,   0.,   0.,   0.,   0.,   0.,   0.,   0.,   0.,   0.,   0.,\n",
              "         0.,   0.,   0.,   0.,   0.,   0.,  11., 190., 253.,  70.,   0.,\n",
              "         0.,   0.,   0.,   0.,   0.,   0.,   0.,   0.,   0.,   0.,   0.,\n",
              "         0.,   0.,   0.,   0.,   0.,   0.,   0.,   0.,   0.,   0.,   0.,\n",
              "         0.,   0.,  35., 241., 225., 160., 108.,   1.,   0.,   0.,   0.,\n",
              "         0.,   0.,   0.,   0.,   0.,   0.,   0.,   0.,   0.,   0.,   0.,\n",
              "         0.,   0.,   0.,   0.,   0.,   0.,   0.,   0.,   0.,  81., 240.,\n",
              "       253., 253., 119.,  25.,   0.,   0.,   0.,   0.,   0.,   0.,   0.,\n",
              "         0.,   0.,   0.,   0.,   0.,   0.,   0.,   0.,   0.,   0.,   0.,\n",
              "         0.,   0.,   0.,   0.,   0.,  45., 186., 253., 253., 150.,  27.,\n",
              "         0.,   0.,   0.,   0.,   0.,   0.,   0.,   0.,   0.,   0.,   0.,\n",
              "         0.,   0.,   0.,   0.,   0.,   0.,   0.,   0.,   0.,   0.,   0.,\n",
              "         0.,  16.,  93., 252., 253., 187.,   0.,   0.,   0.,   0.,   0.,\n",
              "         0.,   0.,   0.,   0.,   0.,   0.,   0.,   0.,   0.,   0.,   0.,\n",
              "         0.,   0.,   0.,   0.,   0.,   0.,   0.,   0.,   0., 249., 253.,\n",
              "       249.,  64.,   0.,   0.,   0.,   0.,   0.,   0.,   0.,   0.,   0.,\n",
              "         0.,   0.,   0.,   0.,   0.,   0.,   0.,   0.,   0.,   0.,   0.,\n",
              "         0.,  46., 130., 183., 253., 253., 207.,   2.,   0.,   0.,   0.,\n",
              "         0.,   0.,   0.,   0.,   0.,   0.,   0.,   0.,   0.,   0.,   0.,\n",
              "         0.,   0.,   0.,   0.,   0.,  39., 148., 229., 253., 253., 253.,\n",
              "       250., 182.,   0.,   0.,   0.,   0.,   0.,   0.,   0.,   0.,   0.,\n",
              "         0.,   0.,   0.,   0.,   0.,   0.,   0.,   0.,   0.,  24., 114.,\n",
              "       221., 253., 253., 253., 253., 201.,  78.,   0.,   0.,   0.,   0.,\n",
              "         0.,   0.,   0.,   0.,   0.,   0.,   0.,   0.,   0.,   0.,   0.,\n",
              "         0.,   0.,  23.,  66., 213., 253., 253., 253., 253., 198.,  81.,\n",
              "         2.,   0.,   0.,   0.,   0.,   0.,   0.,   0.,   0.,   0.,   0.,\n",
              "         0.,   0.,   0.,   0.,   0.,   0.,  18., 171., 219., 253., 253.,\n",
              "       253., 253., 195.,  80.,   9.,   0.,   0.,   0.,   0.,   0.,   0.,\n",
              "         0.,   0.,   0.,   0.,   0.,   0.,   0.,   0.,   0.,   0.,  55.,\n",
              "       172., 226., 253., 253., 253., 253., 244., 133.,  11.,   0.,   0.,\n",
              "         0.,   0.,   0.,   0.,   0.,   0.,   0.,   0.,   0.,   0.,   0.,\n",
              "         0.,   0.,   0.,   0.,   0., 136., 253., 253., 253., 212., 135.,\n",
              "       132.,  16.,   0.,   0.,   0.,   0.,   0.,   0.,   0.,   0.,   0.,\n",
              "         0.,   0.,   0.,   0.,   0.,   0.,   0.,   0.,   0.,   0.,   0.,\n",
              "         0.,   0.,   0.,   0.,   0.,   0.,   0.,   0.,   0.,   0.,   0.,\n",
              "         0.,   0.,   0.,   0.,   0.,   0.,   0.,   0.,   0.,   0.,   0.,\n",
              "         0.,   0.,   0.,   0.,   0.,   0.,   0.,   0.,   0.,   0.,   0.,\n",
              "         0.,   0.,   0.,   0.,   0.,   0.,   0.,   0.,   0.,   0.,   0.,\n",
              "         0.,   0.,   0.,   0.,   0.,   0.,   0.,   0.,   0.,   0.,   0.,\n",
              "         0.,   0.,   0.,   0.,   0.,   0.,   0.,   0.,   0.,   0.,   0.,\n",
              "         0.,   0.,   0.,   0.,   0.,   0.,   0.,   0.,   0.,   0.,   0.,\n",
              "         0.,   0.,   0.], dtype=float32)"
            ]
          },
          "metadata": {},
          "execution_count": 12
        }
      ]
    },
    {
      "cell_type": "markdown",
      "source": [
        "##Adatok normalizálása"
      ],
      "metadata": {
        "id": "tVCjVnzi8OWv"
      }
    },
    {
      "cell_type": "code",
      "source": [
        "#adatok normalizálása [0,1]\n",
        "X_train /= 255\n",
        "X_test /= 255\n",
        "print(X_train.shape[0], 'train samples')\n",
        "print(X_test.shape[0], 'test samples')\n"
      ],
      "metadata": {
        "colab": {
          "base_uri": "https://localhost:8080/"
        },
        "id": "NI8JKy1PlvGt",
        "outputId": "62b4101e-9b73-4222-d6f2-c288d85502cb"
      },
      "execution_count": 13,
      "outputs": [
        {
          "output_type": "stream",
          "name": "stdout",
          "text": [
            "60000 train samples\n",
            "10000 test samples\n"
          ]
        }
      ]
    },
    {
      "cell_type": "code",
      "source": [
        "X_train[0,:]"
      ],
      "metadata": {
        "colab": {
          "base_uri": "https://localhost:8080/"
        },
        "id": "QiB9qIwQOGNw",
        "outputId": "754b1c80-a48e-44ed-cd86-757e7e633f54"
      },
      "execution_count": 14,
      "outputs": [
        {
          "output_type": "execute_result",
          "data": {
            "text/plain": [
              "array([0.        , 0.        , 0.        , 0.        , 0.        ,\n",
              "       0.        , 0.        , 0.        , 0.        , 0.        ,\n",
              "       0.        , 0.        , 0.        , 0.        , 0.        ,\n",
              "       0.        , 0.        , 0.        , 0.        , 0.        ,\n",
              "       0.        , 0.        , 0.        , 0.        , 0.        ,\n",
              "       0.        , 0.        , 0.        , 0.        , 0.        ,\n",
              "       0.        , 0.        , 0.        , 0.        , 0.        ,\n",
              "       0.        , 0.        , 0.        , 0.        , 0.        ,\n",
              "       0.        , 0.        , 0.        , 0.        , 0.        ,\n",
              "       0.        , 0.        , 0.        , 0.        , 0.        ,\n",
              "       0.        , 0.        , 0.        , 0.        , 0.        ,\n",
              "       0.        , 0.        , 0.        , 0.        , 0.        ,\n",
              "       0.        , 0.        , 0.        , 0.        , 0.        ,\n",
              "       0.        , 0.        , 0.        , 0.        , 0.        ,\n",
              "       0.        , 0.        , 0.        , 0.        , 0.        ,\n",
              "       0.        , 0.        , 0.        , 0.        , 0.        ,\n",
              "       0.        , 0.        , 0.        , 0.        , 0.        ,\n",
              "       0.        , 0.        , 0.        , 0.        , 0.        ,\n",
              "       0.        , 0.        , 0.        , 0.        , 0.        ,\n",
              "       0.        , 0.        , 0.        , 0.        , 0.        ,\n",
              "       0.        , 0.        , 0.        , 0.        , 0.        ,\n",
              "       0.        , 0.        , 0.        , 0.        , 0.        ,\n",
              "       0.        , 0.        , 0.        , 0.        , 0.        ,\n",
              "       0.        , 0.        , 0.        , 0.        , 0.        ,\n",
              "       0.        , 0.        , 0.        , 0.        , 0.        ,\n",
              "       0.        , 0.        , 0.        , 0.        , 0.        ,\n",
              "       0.        , 0.        , 0.        , 0.        , 0.        ,\n",
              "       0.        , 0.        , 0.        , 0.        , 0.        ,\n",
              "       0.        , 0.        , 0.        , 0.        , 0.        ,\n",
              "       0.        , 0.        , 0.        , 0.        , 0.        ,\n",
              "       0.        , 0.        , 0.01176471, 0.07058824, 0.07058824,\n",
              "       0.07058824, 0.49411765, 0.53333336, 0.6862745 , 0.10196079,\n",
              "       0.6509804 , 1.        , 0.96862745, 0.49803922, 0.        ,\n",
              "       0.        , 0.        , 0.        , 0.        , 0.        ,\n",
              "       0.        , 0.        , 0.        , 0.        , 0.        ,\n",
              "       0.        , 0.11764706, 0.14117648, 0.36862746, 0.6039216 ,\n",
              "       0.6666667 , 0.99215686, 0.99215686, 0.99215686, 0.99215686,\n",
              "       0.99215686, 0.88235295, 0.6745098 , 0.99215686, 0.9490196 ,\n",
              "       0.7647059 , 0.2509804 , 0.        , 0.        , 0.        ,\n",
              "       0.        , 0.        , 0.        , 0.        , 0.        ,\n",
              "       0.        , 0.        , 0.        , 0.19215687, 0.93333334,\n",
              "       0.99215686, 0.99215686, 0.99215686, 0.99215686, 0.99215686,\n",
              "       0.99215686, 0.99215686, 0.99215686, 0.9843137 , 0.3647059 ,\n",
              "       0.32156864, 0.32156864, 0.21960784, 0.15294118, 0.        ,\n",
              "       0.        , 0.        , 0.        , 0.        , 0.        ,\n",
              "       0.        , 0.        , 0.        , 0.        , 0.        ,\n",
              "       0.        , 0.07058824, 0.85882354, 0.99215686, 0.99215686,\n",
              "       0.99215686, 0.99215686, 0.99215686, 0.7764706 , 0.7137255 ,\n",
              "       0.96862745, 0.94509804, 0.        , 0.        , 0.        ,\n",
              "       0.        , 0.        , 0.        , 0.        , 0.        ,\n",
              "       0.        , 0.        , 0.        , 0.        , 0.        ,\n",
              "       0.        , 0.        , 0.        , 0.        , 0.        ,\n",
              "       0.3137255 , 0.6117647 , 0.41960785, 0.99215686, 0.99215686,\n",
              "       0.8039216 , 0.04313726, 0.        , 0.16862746, 0.6039216 ,\n",
              "       0.        , 0.        , 0.        , 0.        , 0.        ,\n",
              "       0.        , 0.        , 0.        , 0.        , 0.        ,\n",
              "       0.        , 0.        , 0.        , 0.        , 0.        ,\n",
              "       0.        , 0.        , 0.        , 0.        , 0.05490196,\n",
              "       0.00392157, 0.6039216 , 0.99215686, 0.3529412 , 0.        ,\n",
              "       0.        , 0.        , 0.        , 0.        , 0.        ,\n",
              "       0.        , 0.        , 0.        , 0.        , 0.        ,\n",
              "       0.        , 0.        , 0.        , 0.        , 0.        ,\n",
              "       0.        , 0.        , 0.        , 0.        , 0.        ,\n",
              "       0.        , 0.        , 0.        , 0.        , 0.54509807,\n",
              "       0.99215686, 0.74509805, 0.00784314, 0.        , 0.        ,\n",
              "       0.        , 0.        , 0.        , 0.        , 0.        ,\n",
              "       0.        , 0.        , 0.        , 0.        , 0.        ,\n",
              "       0.        , 0.        , 0.        , 0.        , 0.        ,\n",
              "       0.        , 0.        , 0.        , 0.        , 0.        ,\n",
              "       0.        , 0.        , 0.04313726, 0.74509805, 0.99215686,\n",
              "       0.27450982, 0.        , 0.        , 0.        , 0.        ,\n",
              "       0.        , 0.        , 0.        , 0.        , 0.        ,\n",
              "       0.        , 0.        , 0.        , 0.        , 0.        ,\n",
              "       0.        , 0.        , 0.        , 0.        , 0.        ,\n",
              "       0.        , 0.        , 0.        , 0.        , 0.        ,\n",
              "       0.        , 0.13725491, 0.94509804, 0.88235295, 0.627451  ,\n",
              "       0.42352942, 0.00392157, 0.        , 0.        , 0.        ,\n",
              "       0.        , 0.        , 0.        , 0.        , 0.        ,\n",
              "       0.        , 0.        , 0.        , 0.        , 0.        ,\n",
              "       0.        , 0.        , 0.        , 0.        , 0.        ,\n",
              "       0.        , 0.        , 0.        , 0.        , 0.        ,\n",
              "       0.31764707, 0.9411765 , 0.99215686, 0.99215686, 0.46666667,\n",
              "       0.09803922, 0.        , 0.        , 0.        , 0.        ,\n",
              "       0.        , 0.        , 0.        , 0.        , 0.        ,\n",
              "       0.        , 0.        , 0.        , 0.        , 0.        ,\n",
              "       0.        , 0.        , 0.        , 0.        , 0.        ,\n",
              "       0.        , 0.        , 0.        , 0.        , 0.1764706 ,\n",
              "       0.7294118 , 0.99215686, 0.99215686, 0.5882353 , 0.10588235,\n",
              "       0.        , 0.        , 0.        , 0.        , 0.        ,\n",
              "       0.        , 0.        , 0.        , 0.        , 0.        ,\n",
              "       0.        , 0.        , 0.        , 0.        , 0.        ,\n",
              "       0.        , 0.        , 0.        , 0.        , 0.        ,\n",
              "       0.        , 0.        , 0.        , 0.0627451 , 0.3647059 ,\n",
              "       0.9882353 , 0.99215686, 0.73333335, 0.        , 0.        ,\n",
              "       0.        , 0.        , 0.        , 0.        , 0.        ,\n",
              "       0.        , 0.        , 0.        , 0.        , 0.        ,\n",
              "       0.        , 0.        , 0.        , 0.        , 0.        ,\n",
              "       0.        , 0.        , 0.        , 0.        , 0.        ,\n",
              "       0.        , 0.        , 0.        , 0.9764706 , 0.99215686,\n",
              "       0.9764706 , 0.2509804 , 0.        , 0.        , 0.        ,\n",
              "       0.        , 0.        , 0.        , 0.        , 0.        ,\n",
              "       0.        , 0.        , 0.        , 0.        , 0.        ,\n",
              "       0.        , 0.        , 0.        , 0.        , 0.        ,\n",
              "       0.        , 0.        , 0.        , 0.18039216, 0.50980395,\n",
              "       0.7176471 , 0.99215686, 0.99215686, 0.8117647 , 0.00784314,\n",
              "       0.        , 0.        , 0.        , 0.        , 0.        ,\n",
              "       0.        , 0.        , 0.        , 0.        , 0.        ,\n",
              "       0.        , 0.        , 0.        , 0.        , 0.        ,\n",
              "       0.        , 0.        , 0.        , 0.        , 0.15294118,\n",
              "       0.5803922 , 0.8980392 , 0.99215686, 0.99215686, 0.99215686,\n",
              "       0.98039216, 0.7137255 , 0.        , 0.        , 0.        ,\n",
              "       0.        , 0.        , 0.        , 0.        , 0.        ,\n",
              "       0.        , 0.        , 0.        , 0.        , 0.        ,\n",
              "       0.        , 0.        , 0.        , 0.        , 0.        ,\n",
              "       0.09411765, 0.44705883, 0.8666667 , 0.99215686, 0.99215686,\n",
              "       0.99215686, 0.99215686, 0.7882353 , 0.30588236, 0.        ,\n",
              "       0.        , 0.        , 0.        , 0.        , 0.        ,\n",
              "       0.        , 0.        , 0.        , 0.        , 0.        ,\n",
              "       0.        , 0.        , 0.        , 0.        , 0.        ,\n",
              "       0.        , 0.09019608, 0.25882354, 0.8352941 , 0.99215686,\n",
              "       0.99215686, 0.99215686, 0.99215686, 0.7764706 , 0.31764707,\n",
              "       0.00784314, 0.        , 0.        , 0.        , 0.        ,\n",
              "       0.        , 0.        , 0.        , 0.        , 0.        ,\n",
              "       0.        , 0.        , 0.        , 0.        , 0.        ,\n",
              "       0.        , 0.        , 0.07058824, 0.67058825, 0.85882354,\n",
              "       0.99215686, 0.99215686, 0.99215686, 0.99215686, 0.7647059 ,\n",
              "       0.3137255 , 0.03529412, 0.        , 0.        , 0.        ,\n",
              "       0.        , 0.        , 0.        , 0.        , 0.        ,\n",
              "       0.        , 0.        , 0.        , 0.        , 0.        ,\n",
              "       0.        , 0.        , 0.        , 0.21568628, 0.6745098 ,\n",
              "       0.8862745 , 0.99215686, 0.99215686, 0.99215686, 0.99215686,\n",
              "       0.95686275, 0.52156866, 0.04313726, 0.        , 0.        ,\n",
              "       0.        , 0.        , 0.        , 0.        , 0.        ,\n",
              "       0.        , 0.        , 0.        , 0.        , 0.        ,\n",
              "       0.        , 0.        , 0.        , 0.        , 0.        ,\n",
              "       0.        , 0.53333336, 0.99215686, 0.99215686, 0.99215686,\n",
              "       0.83137256, 0.5294118 , 0.5176471 , 0.0627451 , 0.        ,\n",
              "       0.        , 0.        , 0.        , 0.        , 0.        ,\n",
              "       0.        , 0.        , 0.        , 0.        , 0.        ,\n",
              "       0.        , 0.        , 0.        , 0.        , 0.        ,\n",
              "       0.        , 0.        , 0.        , 0.        , 0.        ,\n",
              "       0.        , 0.        , 0.        , 0.        , 0.        ,\n",
              "       0.        , 0.        , 0.        , 0.        , 0.        ,\n",
              "       0.        , 0.        , 0.        , 0.        , 0.        ,\n",
              "       0.        , 0.        , 0.        , 0.        , 0.        ,\n",
              "       0.        , 0.        , 0.        , 0.        , 0.        ,\n",
              "       0.        , 0.        , 0.        , 0.        , 0.        ,\n",
              "       0.        , 0.        , 0.        , 0.        , 0.        ,\n",
              "       0.        , 0.        , 0.        , 0.        , 0.        ,\n",
              "       0.        , 0.        , 0.        , 0.        , 0.        ,\n",
              "       0.        , 0.        , 0.        , 0.        , 0.        ,\n",
              "       0.        , 0.        , 0.        , 0.        , 0.        ,\n",
              "       0.        , 0.        , 0.        , 0.        , 0.        ,\n",
              "       0.        , 0.        , 0.        , 0.        , 0.        ,\n",
              "       0.        , 0.        , 0.        , 0.        , 0.        ,\n",
              "       0.        , 0.        , 0.        , 0.        , 0.        ,\n",
              "       0.        , 0.        , 0.        , 0.        ], dtype=float32)"
            ]
          },
          "metadata": {},
          "execution_count": 14
        }
      ]
    },
    {
      "cell_type": "markdown",
      "source": [
        "##One-hot encoding"
      ],
      "metadata": {
        "id": "S4oQGAym8R-H"
      }
    },
    {
      "cell_type": "code",
      "source": [
        "Y_test[0]"
      ],
      "metadata": {
        "colab": {
          "base_uri": "https://localhost:8080/"
        },
        "outputId": "8effa3bb-3ff5-4b7f-e72b-c7d1820c0dad",
        "id": "7bfSlbIYObUN"
      },
      "execution_count": 15,
      "outputs": [
        {
          "output_type": "execute_result",
          "data": {
            "text/plain": [
              "7"
            ]
          },
          "metadata": {},
          "execution_count": 15
        }
      ]
    },
    {
      "cell_type": "code",
      "source": [
        "#one-hot kódolás\n",
        "Y_train = tf.keras.utils.to_categorical(Y_train, NB_CLASSES)\n",
        "Y_test = tf.keras.utils.to_categorical(Y_test, NB_CLASSES)"
      ],
      "metadata": {
        "id": "Sx-n-LATltgN"
      },
      "execution_count": 16,
      "outputs": []
    },
    {
      "cell_type": "code",
      "source": [
        "Y_test[0]"
      ],
      "metadata": {
        "colab": {
          "base_uri": "https://localhost:8080/"
        },
        "id": "Os0X4CBr8XTv",
        "outputId": "dfdc6f5d-005d-45b1-aa7f-c4aed2c2290c"
      },
      "execution_count": 17,
      "outputs": [
        {
          "output_type": "execute_result",
          "data": {
            "text/plain": [
              "array([0., 0., 0., 0., 0., 0., 0., 1., 0., 0.], dtype=float32)"
            ]
          },
          "metadata": {},
          "execution_count": 17
        }
      ]
    },
    {
      "cell_type": "markdown",
      "source": [
        "## A modell felépítése"
      ],
      "metadata": {
        "id": "4WRMcK_68oHX"
      }
    },
    {
      "cell_type": "code",
      "source": [
        "#model felépítése\n",
        "model = tf.keras.models.Sequential()\n",
        "model.add(keras.layers.Dense(NB_CLASSES,\n",
        "   \t\tinput_shape=(RESHAPED,),\n",
        "   \t\tname='dense_layer', \n",
        "   \t\tactivation='softmax'))"
      ],
      "metadata": {
        "id": "N8dJJqzRlkf9"
      },
      "execution_count": 18,
      "outputs": []
    },
    {
      "cell_type": "code",
      "source": [
        "# A modell paramétereinek kiíratása \n",
        "model.summary()"
      ],
      "metadata": {
        "colab": {
          "base_uri": "https://localhost:8080/"
        },
        "id": "gPPLWWg-lgs5",
        "outputId": "c4e8f1bd-1302-4b70-f5e5-a0766b343523"
      },
      "execution_count": 19,
      "outputs": [
        {
          "output_type": "stream",
          "name": "stdout",
          "text": [
            "Model: \"sequential\"\n",
            "_________________________________________________________________\n",
            " Layer (type)                Output Shape              Param #   \n",
            "=================================================================\n",
            " dense_layer (Dense)         (None, 10)                7850      \n",
            "                                                                 \n",
            "=================================================================\n",
            "Total params: 7,850\n",
            "Trainable params: 7,850\n",
            "Non-trainable params: 0\n",
            "_________________________________________________________________\n"
          ]
        }
      ]
    },
    {
      "cell_type": "code",
      "source": [
        "# A modell lefordítása\n",
        "model.compile(optimizer='adam', \n",
        "              loss='categorical_crossentropy',\n",
        "              metrics=['accuracy'])"
      ],
      "metadata": {
        "id": "zZXlUPW3ld-Q"
      },
      "execution_count": 20,
      "outputs": []
    },
    {
      "cell_type": "code",
      "source": [
        "#a modell képzése\n",
        "history = model.fit(X_train, Y_train,\n",
        "\t\tbatch_size=128, epochs=50,\n",
        "\t\tverbose=1, validation_data=(X_test, Y_test))"
      ],
      "metadata": {
        "colab": {
          "base_uri": "https://localhost:8080/"
        },
        "id": "NWwARVzzlaGd",
        "outputId": "d39a97c0-aecd-462a-e12e-357cc81768f5"
      },
      "execution_count": 21,
      "outputs": [
        {
          "output_type": "stream",
          "name": "stdout",
          "text": [
            "Epoch 1/50\n",
            "469/469 [==============================] - 4s 4ms/step - loss: 0.6705 - accuracy: 0.8358 - val_loss: 0.3817 - val_accuracy: 0.8999\n",
            "Epoch 2/50\n",
            "469/469 [==============================] - 1s 3ms/step - loss: 0.3602 - accuracy: 0.9029 - val_loss: 0.3190 - val_accuracy: 0.9134\n",
            "Epoch 3/50\n",
            "469/469 [==============================] - 2s 4ms/step - loss: 0.3187 - accuracy: 0.9127 - val_loss: 0.2953 - val_accuracy: 0.9180\n",
            "Epoch 4/50\n",
            "469/469 [==============================] - 1s 3ms/step - loss: 0.2990 - accuracy: 0.9172 - val_loss: 0.2853 - val_accuracy: 0.9195\n",
            "Epoch 5/50\n",
            "469/469 [==============================] - 1s 3ms/step - loss: 0.2874 - accuracy: 0.9202 - val_loss: 0.2769 - val_accuracy: 0.9235\n",
            "Epoch 6/50\n",
            "469/469 [==============================] - 2s 3ms/step - loss: 0.2795 - accuracy: 0.9218 - val_loss: 0.2752 - val_accuracy: 0.9226\n",
            "Epoch 7/50\n",
            "469/469 [==============================] - 1s 3ms/step - loss: 0.2733 - accuracy: 0.9237 - val_loss: 0.2713 - val_accuracy: 0.9258\n",
            "Epoch 8/50\n",
            "469/469 [==============================] - 1s 3ms/step - loss: 0.2689 - accuracy: 0.9245 - val_loss: 0.2698 - val_accuracy: 0.9242\n",
            "Epoch 9/50\n",
            "469/469 [==============================] - 1s 3ms/step - loss: 0.2653 - accuracy: 0.9261 - val_loss: 0.2673 - val_accuracy: 0.9268\n",
            "Epoch 10/50\n",
            "469/469 [==============================] - 1s 3ms/step - loss: 0.2623 - accuracy: 0.9270 - val_loss: 0.2642 - val_accuracy: 0.9271\n",
            "Epoch 11/50\n",
            "469/469 [==============================] - 1s 3ms/step - loss: 0.2596 - accuracy: 0.9280 - val_loss: 0.2660 - val_accuracy: 0.9267\n",
            "Epoch 12/50\n",
            "469/469 [==============================] - 1s 3ms/step - loss: 0.2572 - accuracy: 0.9287 - val_loss: 0.2640 - val_accuracy: 0.9264\n",
            "Epoch 13/50\n",
            "469/469 [==============================] - 1s 3ms/step - loss: 0.2553 - accuracy: 0.9295 - val_loss: 0.2629 - val_accuracy: 0.9266\n",
            "Epoch 14/50\n",
            "469/469 [==============================] - 1s 3ms/step - loss: 0.2535 - accuracy: 0.9300 - val_loss: 0.2635 - val_accuracy: 0.9268\n",
            "Epoch 15/50\n",
            "469/469 [==============================] - 1s 3ms/step - loss: 0.2519 - accuracy: 0.9301 - val_loss: 0.2643 - val_accuracy: 0.9266\n",
            "Epoch 16/50\n",
            "469/469 [==============================] - 1s 3ms/step - loss: 0.2508 - accuracy: 0.9308 - val_loss: 0.2612 - val_accuracy: 0.9282\n",
            "Epoch 17/50\n",
            "469/469 [==============================] - 1s 3ms/step - loss: 0.2487 - accuracy: 0.9314 - val_loss: 0.2636 - val_accuracy: 0.9262\n",
            "Epoch 18/50\n",
            "469/469 [==============================] - 1s 3ms/step - loss: 0.2485 - accuracy: 0.9315 - val_loss: 0.2620 - val_accuracy: 0.9275\n",
            "Epoch 19/50\n",
            "469/469 [==============================] - 1s 3ms/step - loss: 0.2470 - accuracy: 0.9315 - val_loss: 0.2611 - val_accuracy: 0.9265\n",
            "Epoch 20/50\n",
            "469/469 [==============================] - 1s 3ms/step - loss: 0.2461 - accuracy: 0.9319 - val_loss: 0.2605 - val_accuracy: 0.9287\n",
            "Epoch 21/50\n",
            "469/469 [==============================] - 2s 3ms/step - loss: 0.2451 - accuracy: 0.9322 - val_loss: 0.2609 - val_accuracy: 0.9277\n",
            "Epoch 22/50\n",
            "469/469 [==============================] - 1s 3ms/step - loss: 0.2442 - accuracy: 0.9324 - val_loss: 0.2618 - val_accuracy: 0.9282\n",
            "Epoch 23/50\n",
            "469/469 [==============================] - 1s 3ms/step - loss: 0.2433 - accuracy: 0.9326 - val_loss: 0.2624 - val_accuracy: 0.9273\n",
            "Epoch 24/50\n",
            "469/469 [==============================] - 2s 4ms/step - loss: 0.2428 - accuracy: 0.9333 - val_loss: 0.2611 - val_accuracy: 0.9279\n",
            "Epoch 25/50\n",
            "469/469 [==============================] - 2s 5ms/step - loss: 0.2417 - accuracy: 0.9334 - val_loss: 0.2631 - val_accuracy: 0.9274\n",
            "Epoch 26/50\n",
            "469/469 [==============================] - 2s 5ms/step - loss: 0.2414 - accuracy: 0.9342 - val_loss: 0.2624 - val_accuracy: 0.9275\n",
            "Epoch 27/50\n",
            "469/469 [==============================] - 1s 3ms/step - loss: 0.2405 - accuracy: 0.9337 - val_loss: 0.2642 - val_accuracy: 0.9262\n",
            "Epoch 28/50\n",
            "469/469 [==============================] - 1s 3ms/step - loss: 0.2397 - accuracy: 0.9344 - val_loss: 0.2672 - val_accuracy: 0.9259\n",
            "Epoch 29/50\n",
            "469/469 [==============================] - 1s 3ms/step - loss: 0.2392 - accuracy: 0.9342 - val_loss: 0.2628 - val_accuracy: 0.9274\n",
            "Epoch 30/50\n",
            "469/469 [==============================] - 1s 3ms/step - loss: 0.2385 - accuracy: 0.9344 - val_loss: 0.2643 - val_accuracy: 0.9278\n",
            "Epoch 31/50\n",
            "469/469 [==============================] - 1s 3ms/step - loss: 0.2382 - accuracy: 0.9348 - val_loss: 0.2646 - val_accuracy: 0.9280\n",
            "Epoch 32/50\n",
            "469/469 [==============================] - 1s 3ms/step - loss: 0.2377 - accuracy: 0.9352 - val_loss: 0.2636 - val_accuracy: 0.9274\n",
            "Epoch 33/50\n",
            "469/469 [==============================] - 1s 3ms/step - loss: 0.2371 - accuracy: 0.9350 - val_loss: 0.2633 - val_accuracy: 0.9285\n",
            "Epoch 34/50\n",
            "469/469 [==============================] - 2s 3ms/step - loss: 0.2367 - accuracy: 0.9347 - val_loss: 0.2650 - val_accuracy: 0.9277\n",
            "Epoch 35/50\n",
            "469/469 [==============================] - 2s 3ms/step - loss: 0.2364 - accuracy: 0.9350 - val_loss: 0.2629 - val_accuracy: 0.9284\n",
            "Epoch 36/50\n",
            "469/469 [==============================] - 2s 3ms/step - loss: 0.2355 - accuracy: 0.9352 - val_loss: 0.2632 - val_accuracy: 0.9285\n",
            "Epoch 37/50\n",
            "469/469 [==============================] - 1s 3ms/step - loss: 0.2354 - accuracy: 0.9350 - val_loss: 0.2658 - val_accuracy: 0.9270\n",
            "Epoch 38/50\n",
            "469/469 [==============================] - 2s 3ms/step - loss: 0.2352 - accuracy: 0.9352 - val_loss: 0.2645 - val_accuracy: 0.9273\n",
            "Epoch 39/50\n",
            "469/469 [==============================] - 2s 3ms/step - loss: 0.2349 - accuracy: 0.9349 - val_loss: 0.2658 - val_accuracy: 0.9285\n",
            "Epoch 40/50\n",
            "469/469 [==============================] - 2s 3ms/step - loss: 0.2343 - accuracy: 0.9354 - val_loss: 0.2643 - val_accuracy: 0.9281\n",
            "Epoch 41/50\n",
            "469/469 [==============================] - 1s 3ms/step - loss: 0.2341 - accuracy: 0.9356 - val_loss: 0.2649 - val_accuracy: 0.9293\n",
            "Epoch 42/50\n",
            "469/469 [==============================] - 1s 3ms/step - loss: 0.2336 - accuracy: 0.9359 - val_loss: 0.2644 - val_accuracy: 0.9281\n",
            "Epoch 43/50\n",
            "469/469 [==============================] - 2s 3ms/step - loss: 0.2334 - accuracy: 0.9356 - val_loss: 0.2669 - val_accuracy: 0.9282\n",
            "Epoch 44/50\n",
            "469/469 [==============================] - 1s 3ms/step - loss: 0.2332 - accuracy: 0.9356 - val_loss: 0.2673 - val_accuracy: 0.9282\n",
            "Epoch 45/50\n",
            "469/469 [==============================] - 1s 3ms/step - loss: 0.2329 - accuracy: 0.9358 - val_loss: 0.2669 - val_accuracy: 0.9281\n",
            "Epoch 46/50\n",
            "469/469 [==============================] - 2s 4ms/step - loss: 0.2326 - accuracy: 0.9355 - val_loss: 0.2669 - val_accuracy: 0.9265\n",
            "Epoch 47/50\n",
            "469/469 [==============================] - 2s 3ms/step - loss: 0.2320 - accuracy: 0.9359 - val_loss: 0.2677 - val_accuracy: 0.9268\n",
            "Epoch 48/50\n",
            "469/469 [==============================] - 1s 3ms/step - loss: 0.2319 - accuracy: 0.9364 - val_loss: 0.2669 - val_accuracy: 0.9281\n",
            "Epoch 49/50\n",
            "469/469 [==============================] - 1s 3ms/step - loss: 0.2313 - accuracy: 0.9365 - val_loss: 0.2671 - val_accuracy: 0.9274\n",
            "Epoch 50/50\n",
            "469/469 [==============================] - 1s 3ms/step - loss: 0.2312 - accuracy: 0.9361 - val_loss: 0.2689 - val_accuracy: 0.9280\n"
          ]
        }
      ]
    },
    {
      "cell_type": "markdown",
      "source": [
        "##A loss függvény alakulása"
      ],
      "metadata": {
        "id": "5q24bM_pAeMM"
      }
    },
    {
      "cell_type": "code",
      "source": [
        "import pandas as pd\n",
        "\n",
        "# convert the training history to a dataframe\n",
        "history_df = pd.DataFrame(history.history)\n",
        "history_df.loc[:, ['loss','val_loss']].plot();"
      ],
      "metadata": {
        "colab": {
          "base_uri": "https://localhost:8080/",
          "height": 265
        },
        "id": "XamGdyrI3j6x",
        "outputId": "bf4acf25-2482-46d0-8f42-d493e1e28dbe"
      },
      "execution_count": 22,
      "outputs": [
        {
          "output_type": "display_data",
          "data": {
            "text/plain": [
              "<Figure size 432x288 with 1 Axes>"
            ],
            "image/png": "[encoded data removed]"
          },
          "metadata": {
            "needs_background": "light"
          }
        }
      ]
    },
    {
      "cell_type": "code",
      "source": [
        "# elrejelzések kiszámítása\n",
        "#predictions = model.predict(X_test)"
      ],
      "metadata": {
        "id": "WnOAVLrslUJF"
      },
      "execution_count": 24,
      "outputs": []
    },
    {
      "cell_type": "code",
      "source": [
        "#model felépítése\n",
        "model2 = tf.keras.models.Sequential()\n",
        "model2.add(keras.layers.Dense(20, input_shape=(RESHAPED,), activation='relu', name='dense_layer'))\n",
        "#model2.add(keras.layers.Dense(10, activation='relu'))\n",
        "model2.add(keras.layers.Dense(10, activation='softmax'))"
      ],
      "metadata": {
        "id": "aHC0D6xfSdfe"
      },
      "execution_count": 33,
      "outputs": []
    },
    {
      "cell_type": "code",
      "source": [
        "model2.compile(optimizer='adam', \n",
        "              loss='categorical_crossentropy',\n",
        "              metrics=['accuracy'])"
      ],
      "metadata": {
        "id": "AGWtOkSfTmTY"
      },
      "execution_count": 34,
      "outputs": []
    },
    {
      "cell_type": "code",
      "source": [
        "history = model2.fit(X_train, Y_train,\n",
        "\t\tbatch_size=128, epochs=50,\n",
        "\t\tverbose=1, validation_data=(X_test, Y_test))"
      ],
      "metadata": {
        "colab": {
          "base_uri": "https://localhost:8080/"
        },
        "id": "xg1oClRSU5EN",
        "outputId": "b0fc473a-4963-4c72-f7cc-c9ed9725f153"
      },
      "execution_count": 35,
      "outputs": [
        {
          "output_type": "stream",
          "name": "stdout",
          "text": [
            "Epoch 1/50\n",
            "469/469 [==============================] - 2s 3ms/step - loss: 0.5887 - accuracy: 0.8442 - val_loss: 0.3078 - val_accuracy: 0.9139\n",
            "Epoch 2/50\n",
            "469/469 [==============================] - 2s 3ms/step - loss: 0.2861 - accuracy: 0.9212 - val_loss: 0.2538 - val_accuracy: 0.9292\n",
            "Epoch 3/50\n",
            "469/469 [==============================] - 1s 3ms/step - loss: 0.2445 - accuracy: 0.9319 - val_loss: 0.2243 - val_accuracy: 0.9366\n",
            "Epoch 4/50\n",
            "469/469 [==============================] - 1s 3ms/step - loss: 0.2183 - accuracy: 0.9387 - val_loss: 0.2075 - val_accuracy: 0.9394\n",
            "Epoch 5/50\n",
            "469/469 [==============================] - 1s 3ms/step - loss: 0.2001 - accuracy: 0.9442 - val_loss: 0.1933 - val_accuracy: 0.9441\n",
            "Epoch 6/50\n",
            "469/469 [==============================] - 2s 3ms/step - loss: 0.1853 - accuracy: 0.9481 - val_loss: 0.1847 - val_accuracy: 0.9477\n",
            "Epoch 7/50\n",
            "469/469 [==============================] - 2s 3ms/step - loss: 0.1750 - accuracy: 0.9502 - val_loss: 0.1777 - val_accuracy: 0.9505\n",
            "Epoch 8/50\n",
            "469/469 [==============================] - 1s 3ms/step - loss: 0.1650 - accuracy: 0.9537 - val_loss: 0.1737 - val_accuracy: 0.9507\n",
            "Epoch 9/50\n",
            "469/469 [==============================] - 1s 3ms/step - loss: 0.1569 - accuracy: 0.9556 - val_loss: 0.1628 - val_accuracy: 0.9525\n",
            "Epoch 10/50\n",
            "469/469 [==============================] - 1s 3ms/step - loss: 0.1487 - accuracy: 0.9582 - val_loss: 0.1561 - val_accuracy: 0.9561\n",
            "Epoch 11/50\n",
            "469/469 [==============================] - 2s 4ms/step - loss: 0.1411 - accuracy: 0.9602 - val_loss: 0.1551 - val_accuracy: 0.9565\n",
            "Epoch 12/50\n",
            "469/469 [==============================] - 2s 3ms/step - loss: 0.1354 - accuracy: 0.9613 - val_loss: 0.1521 - val_accuracy: 0.9555\n",
            "Epoch 13/50\n",
            "469/469 [==============================] - 2s 3ms/step - loss: 0.1307 - accuracy: 0.9629 - val_loss: 0.1537 - val_accuracy: 0.9562\n",
            "Epoch 14/50\n",
            "469/469 [==============================] - 1s 3ms/step - loss: 0.1268 - accuracy: 0.9638 - val_loss: 0.1488 - val_accuracy: 0.9584\n",
            "Epoch 15/50\n",
            "469/469 [==============================] - 1s 3ms/step - loss: 0.1233 - accuracy: 0.9643 - val_loss: 0.1527 - val_accuracy: 0.9561\n",
            "Epoch 16/50\n",
            "469/469 [==============================] - 2s 3ms/step - loss: 0.1192 - accuracy: 0.9654 - val_loss: 0.1461 - val_accuracy: 0.9598\n",
            "Epoch 17/50\n",
            "469/469 [==============================] - 2s 3ms/step - loss: 0.1162 - accuracy: 0.9666 - val_loss: 0.1451 - val_accuracy: 0.9591\n",
            "Epoch 18/50\n",
            "469/469 [==============================] - 1s 3ms/step - loss: 0.1131 - accuracy: 0.9674 - val_loss: 0.1455 - val_accuracy: 0.9591\n",
            "Epoch 19/50\n",
            "469/469 [==============================] - 1s 3ms/step - loss: 0.1109 - accuracy: 0.9676 - val_loss: 0.1411 - val_accuracy: 0.9605\n",
            "Epoch 20/50\n",
            "469/469 [==============================] - 2s 3ms/step - loss: 0.1083 - accuracy: 0.9689 - val_loss: 0.1467 - val_accuracy: 0.9573\n",
            "Epoch 21/50\n",
            "469/469 [==============================] - 2s 3ms/step - loss: 0.1062 - accuracy: 0.9684 - val_loss: 0.1413 - val_accuracy: 0.9604\n",
            "Epoch 22/50\n",
            "469/469 [==============================] - 2s 3ms/step - loss: 0.1038 - accuracy: 0.9702 - val_loss: 0.1406 - val_accuracy: 0.9606\n",
            "Epoch 23/50\n",
            "469/469 [==============================] - 1s 3ms/step - loss: 0.1021 - accuracy: 0.9704 - val_loss: 0.1436 - val_accuracy: 0.9602\n",
            "Epoch 24/50\n",
            "469/469 [==============================] - 2s 3ms/step - loss: 0.1004 - accuracy: 0.9703 - val_loss: 0.1382 - val_accuracy: 0.9619\n",
            "Epoch 25/50\n",
            "469/469 [==============================] - 1s 3ms/step - loss: 0.0977 - accuracy: 0.9722 - val_loss: 0.1428 - val_accuracy: 0.9604\n",
            "Epoch 26/50\n",
            "469/469 [==============================] - 1s 3ms/step - loss: 0.0967 - accuracy: 0.9715 - val_loss: 0.1377 - val_accuracy: 0.9611\n",
            "Epoch 27/50\n",
            "469/469 [==============================] - 1s 3ms/step - loss: 0.0952 - accuracy: 0.9721 - val_loss: 0.1377 - val_accuracy: 0.9613\n",
            "Epoch 28/50\n",
            "469/469 [==============================] - 2s 3ms/step - loss: 0.0931 - accuracy: 0.9722 - val_loss: 0.1428 - val_accuracy: 0.9593\n",
            "Epoch 29/50\n",
            "469/469 [==============================] - 1s 3ms/step - loss: 0.0917 - accuracy: 0.9735 - val_loss: 0.1388 - val_accuracy: 0.9618\n",
            "Epoch 30/50\n",
            "469/469 [==============================] - 1s 3ms/step - loss: 0.0901 - accuracy: 0.9736 - val_loss: 0.1372 - val_accuracy: 0.9605\n",
            "Epoch 31/50\n",
            "469/469 [==============================] - 2s 3ms/step - loss: 0.0890 - accuracy: 0.9742 - val_loss: 0.1393 - val_accuracy: 0.9616\n",
            "Epoch 32/50\n",
            "469/469 [==============================] - 1s 3ms/step - loss: 0.0877 - accuracy: 0.9737 - val_loss: 0.1437 - val_accuracy: 0.9607\n",
            "Epoch 33/50\n",
            "469/469 [==============================] - 2s 3ms/step - loss: 0.0864 - accuracy: 0.9743 - val_loss: 0.1451 - val_accuracy: 0.9612\n",
            "Epoch 34/50\n",
            "469/469 [==============================] - 2s 3ms/step - loss: 0.0851 - accuracy: 0.9751 - val_loss: 0.1424 - val_accuracy: 0.9610\n",
            "Epoch 35/50\n",
            "469/469 [==============================] - 1s 3ms/step - loss: 0.0842 - accuracy: 0.9747 - val_loss: 0.1413 - val_accuracy: 0.9622\n",
            "Epoch 36/50\n",
            "469/469 [==============================] - 1s 3ms/step - loss: 0.0823 - accuracy: 0.9761 - val_loss: 0.1442 - val_accuracy: 0.9610\n",
            "Epoch 37/50\n",
            "469/469 [==============================] - 2s 3ms/step - loss: 0.0814 - accuracy: 0.9758 - val_loss: 0.1407 - val_accuracy: 0.9615\n",
            "Epoch 38/50\n",
            "469/469 [==============================] - 1s 3ms/step - loss: 0.0801 - accuracy: 0.9766 - val_loss: 0.1415 - val_accuracy: 0.9617\n",
            "Epoch 39/50\n",
            "469/469 [==============================] - 1s 3ms/step - loss: 0.0794 - accuracy: 0.9768 - val_loss: 0.1428 - val_accuracy: 0.9629\n",
            "Epoch 40/50\n",
            "469/469 [==============================] - 2s 3ms/step - loss: 0.0786 - accuracy: 0.9765 - val_loss: 0.1396 - val_accuracy: 0.9615\n",
            "Epoch 41/50\n",
            "469/469 [==============================] - 1s 3ms/step - loss: 0.0774 - accuracy: 0.9776 - val_loss: 0.1404 - val_accuracy: 0.9631\n",
            "Epoch 42/50\n",
            "469/469 [==============================] - 2s 3ms/step - loss: 0.0771 - accuracy: 0.9770 - val_loss: 0.1441 - val_accuracy: 0.9611\n",
            "Epoch 43/50\n",
            "469/469 [==============================] - 1s 3ms/step - loss: 0.0758 - accuracy: 0.9779 - val_loss: 0.1549 - val_accuracy: 0.9605\n",
            "Epoch 44/50\n",
            "469/469 [==============================] - 1s 3ms/step - loss: 0.0747 - accuracy: 0.9778 - val_loss: 0.1441 - val_accuracy: 0.9611\n",
            "Epoch 45/50\n",
            "469/469 [==============================] - 2s 3ms/step - loss: 0.0734 - accuracy: 0.9785 - val_loss: 0.1471 - val_accuracy: 0.9620\n",
            "Epoch 46/50\n",
            "469/469 [==============================] - 1s 3ms/step - loss: 0.0724 - accuracy: 0.9786 - val_loss: 0.1440 - val_accuracy: 0.9621\n",
            "Epoch 47/50\n",
            "469/469 [==============================] - 1s 3ms/step - loss: 0.0717 - accuracy: 0.9788 - val_loss: 0.1472 - val_accuracy: 0.9619\n",
            "Epoch 48/50\n",
            "469/469 [==============================] - 1s 3ms/step - loss: 0.0712 - accuracy: 0.9786 - val_loss: 0.1516 - val_accuracy: 0.9597\n",
            "Epoch 49/50\n",
            "469/469 [==============================] - 2s 3ms/step - loss: 0.0698 - accuracy: 0.9796 - val_loss: 0.1469 - val_accuracy: 0.9611\n",
            "Epoch 50/50\n",
            "469/469 [==============================] - 1s 3ms/step - loss: 0.0697 - accuracy: 0.9798 - val_loss: 0.1516 - val_accuracy: 0.9607\n"
          ]
        }
      ]
    },
    {
      "cell_type": "code",
      "source": [
        "history_df = pd.DataFrame(history.history)\n",
        "history_df.loc[:, ['loss','val_loss']].plot();"
      ],
      "metadata": {
        "colab": {
          "base_uri": "https://localhost:8080/",
          "height": 265
        },
        "id": "JCC9jRpBW8r2",
        "outputId": "0538728c-99ba-41a6-f06f-6fcfb94c3606"
      },
      "execution_count": 36,
      "outputs": [
        {
          "output_type": "display_data",
          "data": {
            "text/plain": [
              "<Figure size 432x288 with 1 Axes>"
            ],
            "image/png": "[encoded data removed]"
          },
          "metadata": {
            "needs_background": "light"
          }
        }
      ]
    }
  ]
}
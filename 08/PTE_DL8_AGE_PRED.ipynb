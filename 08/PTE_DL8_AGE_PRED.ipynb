{
  "cells": [
    {
      "cell_type": "markdown",
      "metadata": {
        "id": "view-in-github",
        "colab_type": "text"
      },
      "source": [
        "<a href=\"https://colab.research.google.com/github/karsarobert/Deep-Learning-2022/blob/main/08/PTE_DL8_AGE_PRED.ipynb\" target=\"_parent\"><img src=\"https://colab.research.google.com/assets/colab-badge.svg\" alt=\"Open In Colab\"/></a>"
      ]
    },
    {
      "cell_type": "markdown",
      "metadata": {
        "id": "opposed-female"
      },
      "source": [
        "# Deep Learning gyakorlat\n",
        "\n",
        "\n",
        "## 8. gyakorlat: konvolúciós hálózat\n",
        "### 2022. október 26."
      ],
      "id": "opposed-female"
    },
    {
      "cell_type": "markdown",
      "id": "e0928c43",
      "metadata": {
        "papermill": {
          "duration": 0.020345,
          "end_time": "2021-08-12T12:04:56.268510",
          "exception": false,
          "start_time": "2021-08-12T12:04:56.248165",
          "status": "completed"
        },
        "tags": [],
        "id": "e0928c43"
      },
      "source": [
        "# Életkor meghatározása fotó alapján\n",
        "\n",
        "Az XYZ szupermarketlánc szeretné megvizsgálni, hogy az adattudomány segíthet-e nekik az alkoholtörvények betartásában, hogy ne adjanak el alkoholt kiskorúaknak. Arra kérik, hogy végezze el ezt a feladatot, ezért amikor munkához lát, tartsa szem előtt a következőket:\n",
        "- Az üzletek kamerákkal vannak felszerelve a pénztárnál, amelyek akkor lépnek működésbe, amikor valaki alkoholt vásárol;\n",
        "- Számítógépes látásmódok segítségével egy fénykép alapján meg lehet állapítani egy személy életkorát;\n",
        "\n",
        "### 0.1 Cél\n",
        "A feladat tehát egy olyan modell létrehozása és kiértékelése, amely mély neurális hálózat segítségével ellenőrzi az emberek életkorát.\n",
        "\n",
        "forrás: https://www.kaggle.com/code/amanabdullayev/age-prediction-from-photo-using-cnn-resnet50/notebook"
      ]
    },
    {
      "cell_type": "markdown",
      "id": "c3d36f59",
      "metadata": {
        "papermill": {
          "duration": 0.027633,
          "end_time": "2021-08-12T12:04:56.314299",
          "exception": false,
          "start_time": "2021-08-12T12:04:56.286666",
          "status": "completed"
        },
        "tags": [],
        "id": "c3d36f59"
      },
      "source": [
        "## 1. Adatok betöltése és feltárása"
      ]
    },
    {
      "cell_type": "code",
      "execution_count": null,
      "id": "017e35fd",
      "metadata": {
        "_cell_guid": "b1076dfc-b9ad-4769-8c92-a6c4dae69d19",
        "_uuid": "8f2839f25d086af736a60e9eeb907d3b93b6e0e5",
        "execution": {
          "iopub.execute_input": "2021-08-12T12:04:56.381027Z",
          "iopub.status.busy": "2021-08-12T12:04:56.380229Z",
          "iopub.status.idle": "2021-08-12T12:05:01.293052Z",
          "shell.execute_reply": "2021-08-12T12:05:01.292019Z",
          "shell.execute_reply.started": "2021-08-12T11:43:11.446327Z"
        },
        "papermill": {
          "duration": 4.952726,
          "end_time": "2021-08-12T12:05:01.293211",
          "exception": false,
          "start_time": "2021-08-12T12:04:56.340485",
          "status": "completed"
        },
        "tags": [],
        "id": "017e35fd"
      },
      "outputs": [],
      "source": [
        "#necessary libraries\n",
        "import pandas as pd\n",
        "import seaborn as sns\n",
        "import matplotlib.pyplot as plt\n",
        "import tensorflow as tf\n",
        "from tensorflow.keras.preprocessing.image import ImageDataGenerator\n",
        "from tensorflow.keras.applications.resnet import ResNet50\n",
        "from tensorflow.keras.models import Sequential\n",
        "from tensorflow.keras.layers import GlobalAveragePooling2D, Dense, Dropout, Flatten\n",
        "from tensorflow.keras.optimizers import Adam\n",
        "import warnings\n",
        "warnings.filterwarnings('ignore')"
      ]
    },
    {
      "cell_type": "code",
      "source": [
        "!gdown --id 15G625qvDsp8wDgydwaiAgAXzfSq3I7NS\n",
        "!gdown --id 1rXFvWYz6UCv4aD_YT741wbthqm_BBnqY"
      ],
      "metadata": {
        "colab": {
          "base_uri": "https://localhost:8080/"
        },
        "id": "BQsoZg4JyEB7",
        "outputId": "0ee1f692-0c10-4783-b774-e7a2cca522e4"
      },
      "execution_count": null,
      "outputs": [
        {
          "output_type": "stream",
          "name": "stdout",
          "text": [
            "/usr/local/lib/python3.7/dist-packages/gdown/cli.py:131: FutureWarning: Option `--id` was deprecated in version 4.3.1 and will be removed in 5.0. You don't need to pass it anymore to use a file ID.\n",
            "  category=FutureWarning,\n",
            "Downloading...\n",
            "From: https://drive.google.com/uc?id=15G625qvDsp8wDgydwaiAgAXzfSq3I7NS\n",
            "To: /content/labels.csv\n",
            "100% 113k/113k [00:00<00:00, 68.6MB/s]\n",
            "/usr/local/lib/python3.7/dist-packages/gdown/cli.py:131: FutureWarning: Option `--id` was deprecated in version 4.3.1 and will be removed in 5.0. You don't need to pass it anymore to use a file ID.\n",
            "  category=FutureWarning,\n",
            "Downloading...\n",
            "From: https://drive.google.com/uc?id=1rXFvWYz6UCv4aD_YT741wbthqm_BBnqY\n",
            "To: /content/final_files.zip\n",
            "100% 239M/239M [00:05<00:00, 41.8MB/s]\n"
          ]
        }
      ],
      "id": "BQsoZg4JyEB7"
    },
    {
      "cell_type": "code",
      "source": [
        "!unzip -q final_files.zip"
      ],
      "metadata": {
        "id": "o741-XCUxx57"
      },
      "execution_count": null,
      "outputs": [],
      "id": "o741-XCUxx57"
    },
    {
      "cell_type": "code",
      "execution_count": null,
      "id": "a9c7e5a8",
      "metadata": {
        "execution": {
          "iopub.execute_input": "2021-08-12T12:05:01.341934Z",
          "iopub.status.busy": "2021-08-12T12:05:01.341428Z",
          "iopub.status.idle": "2021-08-12T12:05:01.377611Z",
          "shell.execute_reply": "2021-08-12T12:05:01.377169Z",
          "shell.execute_reply.started": "2021-08-12T11:43:13.324843Z"
        },
        "papermill": {
          "duration": 0.050942,
          "end_time": "2021-08-12T12:05:01.377725",
          "exception": false,
          "start_time": "2021-08-12T12:05:01.326783",
          "status": "completed"
        },
        "tags": [],
        "colab": {
          "base_uri": "https://localhost:8080/",
          "height": 206
        },
        "id": "a9c7e5a8",
        "outputId": "5eada4c3-bf2c-4fdb-c56e-b6da3240b018"
      },
      "outputs": [
        {
          "output_type": "execute_result",
          "data": {
            "text/plain": [
              "    file_name  real_age\n",
              "0  000000.jpg         4\n",
              "1  000001.jpg        18\n",
              "2  000002.jpg        80\n",
              "3  000003.jpg        50\n",
              "4  000004.jpg        17"
            ],
            "text/html": [
              "\n",
              "  <div id=\"df-aed860ef-1575-4ed5-9191-d2496395eb09\">\n",
              "    <div class=\"colab-df-container\">\n",
              "      <div>\n",
              "<style scoped>\n",
              "    .dataframe tbody tr th:only-of-type {\n",
              "        vertical-align: middle;\n",
              "    }\n",
              "\n",
              "    .dataframe tbody tr th {\n",
              "        vertical-align: top;\n",
              "    }\n",
              "\n",
              "    .dataframe thead th {\n",
              "        text-align: right;\n",
              "    }\n",
              "</style>\n",
              "<table border=\"1\" class=\"dataframe\">\n",
              "  <thead>\n",
              "    <tr style=\"text-align: right;\">\n",
              "      <th></th>\n",
              "      <th>file_name</th>\n",
              "      <th>real_age</th>\n",
              "    </tr>\n",
              "  </thead>\n",
              "  <tbody>\n",
              "    <tr>\n",
              "      <th>0</th>\n",
              "      <td>000000.jpg</td>\n",
              "      <td>4</td>\n",
              "    </tr>\n",
              "    <tr>\n",
              "      <th>1</th>\n",
              "      <td>000001.jpg</td>\n",
              "      <td>18</td>\n",
              "    </tr>\n",
              "    <tr>\n",
              "      <th>2</th>\n",
              "      <td>000002.jpg</td>\n",
              "      <td>80</td>\n",
              "    </tr>\n",
              "    <tr>\n",
              "      <th>3</th>\n",
              "      <td>000003.jpg</td>\n",
              "      <td>50</td>\n",
              "    </tr>\n",
              "    <tr>\n",
              "      <th>4</th>\n",
              "      <td>000004.jpg</td>\n",
              "      <td>17</td>\n",
              "    </tr>\n",
              "  </tbody>\n",
              "</table>\n",
              "</div>\n",
              "      <button class=\"colab-df-convert\" onclick=\"convertToInteractive('df-aed860ef-1575-4ed5-9191-d2496395eb09')\"\n",
              "              title=\"Convert this dataframe to an interactive table.\"\n",
              "              style=\"display:none;\">\n",
              "        \n",
              "  <svg xmlns=\"http://www.w3.org/2000/svg\" height=\"24px\"viewBox=\"0 0 24 24\"\n",
              "       width=\"24px\">\n",
              "    <path d=\"M0 0h24v24H0V0z\" fill=\"none\"/>\n",
              "    <path d=\"M18.56 5.44l.94 2.06.94-2.06 2.06-.94-2.06-.94-.94-2.06-.94 2.06-2.06.94zm-11 1L8.5 8.5l.94-2.06 2.06-.94-2.06-.94L8.5 2.5l-.94 2.06-2.06.94zm10 10l.94 2.06.94-2.06 2.06-.94-2.06-.94-.94-2.06-.94 2.06-2.06.94z\"/><path d=\"M17.41 7.96l-1.37-1.37c-.4-.4-.92-.59-1.43-.59-.52 0-1.04.2-1.43.59L10.3 9.45l-7.72 7.72c-.78.78-.78 2.05 0 2.83L4 21.41c.39.39.9.59 1.41.59.51 0 1.02-.2 1.41-.59l7.78-7.78 2.81-2.81c.8-.78.8-2.07 0-2.86zM5.41 20L4 18.59l7.72-7.72 1.47 1.35L5.41 20z\"/>\n",
              "  </svg>\n",
              "      </button>\n",
              "      \n",
              "  <style>\n",
              "    .colab-df-container {\n",
              "      display:flex;\n",
              "      flex-wrap:wrap;\n",
              "      gap: 12px;\n",
              "    }\n",
              "\n",
              "    .colab-df-convert {\n",
              "      background-color: #E8F0FE;\n",
              "      border: none;\n",
              "      border-radius: 50%;\n",
              "      cursor: pointer;\n",
              "      display: none;\n",
              "      fill: #1967D2;\n",
              "      height: 32px;\n",
              "      padding: 0 0 0 0;\n",
              "      width: 32px;\n",
              "    }\n",
              "\n",
              "    .colab-df-convert:hover {\n",
              "      background-color: #E2EBFA;\n",
              "      box-shadow: 0px 1px 2px rgba(60, 64, 67, 0.3), 0px 1px 3px 1px rgba(60, 64, 67, 0.15);\n",
              "      fill: #174EA6;\n",
              "    }\n",
              "\n",
              "    [theme=dark] .colab-df-convert {\n",
              "      background-color: #3B4455;\n",
              "      fill: #D2E3FC;\n",
              "    }\n",
              "\n",
              "    [theme=dark] .colab-df-convert:hover {\n",
              "      background-color: #434B5C;\n",
              "      box-shadow: 0px 1px 3px 1px rgba(0, 0, 0, 0.15);\n",
              "      filter: drop-shadow(0px 1px 2px rgba(0, 0, 0, 0.3));\n",
              "      fill: #FFFFFF;\n",
              "    }\n",
              "  </style>\n",
              "\n",
              "      <script>\n",
              "        const buttonEl =\n",
              "          document.querySelector('#df-aed860ef-1575-4ed5-9191-d2496395eb09 button.colab-df-convert');\n",
              "        buttonEl.style.display =\n",
              "          google.colab.kernel.accessAllowed ? 'block' : 'none';\n",
              "\n",
              "        async function convertToInteractive(key) {\n",
              "          const element = document.querySelector('#df-aed860ef-1575-4ed5-9191-d2496395eb09');\n",
              "          const dataTable =\n",
              "            await google.colab.kernel.invokeFunction('convertToInteractive',\n",
              "                                                     [key], {});\n",
              "          if (!dataTable) return;\n",
              "\n",
              "          const docLinkHtml = 'Like what you see? Visit the ' +\n",
              "            '<a target=\"_blank\" href=https://colab.research.google.com/notebooks/data_table.ipynb>data table notebook</a>'\n",
              "            + ' to learn more about interactive tables.';\n",
              "          element.innerHTML = '';\n",
              "          dataTable['output_type'] = 'display_data';\n",
              "          await google.colab.output.renderOutput(dataTable, element);\n",
              "          const docLink = document.createElement('div');\n",
              "          docLink.innerHTML = docLinkHtml;\n",
              "          element.appendChild(docLink);\n",
              "        }\n",
              "      </script>\n",
              "    </div>\n",
              "  </div>\n",
              "  "
            ]
          },
          "metadata": {},
          "execution_count": 4
        }
      ],
      "source": [
        "#load labels.csv and observe it\n",
        "labels = pd.read_csv('labels.csv')\n",
        "labels.head()"
      ]
    },
    {
      "cell_type": "markdown",
      "id": "1b3482f1",
      "metadata": {
        "papermill": {
          "duration": 0.011262,
          "end_time": "2021-08-12T12:05:01.400942",
          "exception": false,
          "start_time": "2021-08-12T12:05:01.389680",
          "status": "completed"
        },
        "tags": [],
        "id": "1b3482f1"
      },
      "source": [
        "> Nézzük meg a korfát"
      ]
    },
    {
      "cell_type": "code",
      "execution_count": null,
      "id": "5365e2db",
      "metadata": {
        "execution": {
          "iopub.execute_input": "2021-08-12T12:05:01.445647Z",
          "iopub.status.busy": "2021-08-12T12:05:01.444727Z",
          "iopub.status.idle": "2021-08-12T12:05:02.039178Z",
          "shell.execute_reply": "2021-08-12T12:05:02.039614Z",
          "shell.execute_reply.started": "2021-08-12T11:43:13.350613Z"
        },
        "papermill": {
          "duration": 0.627193,
          "end_time": "2021-08-12T12:05:02.039773",
          "exception": false,
          "start_time": "2021-08-12T12:05:01.412580",
          "status": "completed"
        },
        "tags": [],
        "colab": {
          "base_uri": "https://localhost:8080/",
          "height": 409
        },
        "id": "5365e2db",
        "outputId": "ad2873ab-f6be-494e-8b57-5db1d4d08627"
      },
      "outputs": [
        {
          "output_type": "display_data",
          "data": {
            "text/plain": [
              "<Figure size 720x432 with 1 Axes>"
            ],
            "image/png": "[encoded data removed]"
          },
          "metadata": {
            "needs_background": "light"
          }
        }
      ],
      "source": [
        "plt.figure(figsize=(10, 6))\n",
        "sns.set_style('whitegrid')\n",
        "sns.set_palette('inferno')\n",
        "sns.distplot(labels['real_age'], rug=True, kde_kws={'shade':True, 'color':'r'})\n",
        "plt.xlabel('Életkor', fontsize=12, color='b')\n",
        "plt.ylabel('Gyakoriság', fontsize=12, color='b')\n",
        "plt.title('Életkor eloszlása', fontsize=16, color='b')\n",
        "plt.show()"
      ]
    },
    {
      "cell_type": "markdown",
      "id": "807cd10a",
      "metadata": {
        "papermill": {
          "duration": 0.012251,
          "end_time": "2021-08-12T12:05:02.064995",
          "exception": false,
          "start_time": "2021-08-12T12:05:02.052744",
          "status": "completed"
        },
        "tags": [],
        "id": "807cd10a"
      },
      "source": [
        "* Amint a fenti ábrán láthatjuk, különböző korú emberek képei vannak. A képek többsége azonban 20-40 éves emberekhez tartozik. És elég sok aranyos babafotónk is van (kevesebb, mint 10).*."
      ]
    },
    {
      "cell_type": "markdown",
      "id": "2114e711",
      "metadata": {
        "papermill": {
          "duration": 0.012564,
          "end_time": "2021-08-12T12:05:02.090126",
          "exception": false,
          "start_time": "2021-08-12T12:05:02.077562",
          "status": "completed"
        },
        "tags": [],
        "id": "2114e711"
      },
      "source": [
        "Tekintettel arra, hogy a képfájlok száma meglehetősen nagy, célszerű elkerülni, hogy egyszerre olvassuk be őket, mivel ez nagymértékben fogyasztaná a számítási erőforrásokat. Ezért a **ImageDataGenerator** generátort fogjuk használni: a Kerasból származó osztály, amely egy könyvtárban található képek és címkék (például osztályozáshoz használt osztály) alapján képeket és címkéket tartalmazó kötegeket képez."
      ]
    },
    {
      "cell_type": "code",
      "execution_count": null,
      "id": "11a55e11",
      "metadata": {
        "execution": {
          "iopub.execute_input": "2021-08-12T12:05:02.138441Z",
          "iopub.status.busy": "2021-08-12T12:05:02.137896Z",
          "iopub.status.idle": "2021-08-12T12:05:10.648685Z",
          "shell.execute_reply": "2021-08-12T12:05:10.647910Z",
          "shell.execute_reply.started": "2021-08-12T11:43:13.851254Z"
        },
        "papermill": {
          "duration": 8.54618,
          "end_time": "2021-08-12T12:05:10.648812",
          "exception": false,
          "start_time": "2021-08-12T12:05:02.102632",
          "status": "completed"
        },
        "tags": [],
        "colab": {
          "base_uri": "https://localhost:8080/"
        },
        "id": "11a55e11",
        "outputId": "38d371c1-522f-4df1-968e-32d5be25cc4a"
      },
      "outputs": [
        {
          "output_type": "stream",
          "name": "stdout",
          "text": [
            "Found 7591 validated image filenames.\n"
          ]
        }
      ],
      "source": [
        "train_datagen = ImageDataGenerator(\n",
        "            rescale=1 / 255\n",
        "            )\n",
        "\n",
        "#flow_from_dataframe módszert használjuk  a képek betöltésére a könyvtárból és a címkék betöltésére az adatkeretből\n",
        "train_datagen_flow = train_datagen.flow_from_dataframe(\n",
        "    dataframe = labels,\n",
        "    directory='final_files',\n",
        "    x_col=\"file_name\", \n",
        "    y_col=\"real_age\",\n",
        "    #regressziót végzünk, ezért a class_mode-ot 'raw'-ra állítjuk be\n",
        "    class_mode=\"raw\",\n",
        "    #minden képet azonos pixelméretűvé konvertálni, a neurális hálózatokhoz minden képnek hasonló méretűnek kell lennie.\n",
        "    target_size=(224,224),\n",
        "    #a képeket kötegenként töltjük be (minden alkalommal 32 képet töltünk be)\n",
        "    batch_size=32,\n",
        "    seed=12345,\n",
        "    )"
      ]
    },
    {
      "cell_type": "code",
      "execution_count": null,
      "id": "6fc8766b",
      "metadata": {
        "execution": {
          "iopub.execute_input": "2021-08-12T12:05:10.680077Z",
          "iopub.status.busy": "2021-08-12T12:05:10.679495Z",
          "iopub.status.idle": "2021-08-12T12:05:15.020867Z",
          "shell.execute_reply": "2021-08-12T12:05:15.021282Z",
          "shell.execute_reply.started": "2021-08-12T11:43:16.525748Z"
        },
        "papermill": {
          "duration": 4.359774,
          "end_time": "2021-08-12T12:05:15.021449",
          "exception": false,
          "start_time": "2021-08-12T12:05:10.661675",
          "status": "completed"
        },
        "tags": [],
        "id": "6fc8766b"
      },
      "outputs": [],
      "source": [
        "#kérünk egy köteget az adatgenerátorunkból és megjelenítjük benne a képeket\n",
        "features, target = next(train_datagen_flow)\n",
        "\n",
        "# 16 kép megjelenítése\n",
        "fig = plt.figure(figsize=(12,12))\n",
        "for i in range(32):\n",
        "    fig.add_subplot(4, 8, i+1)\n",
        "    plt.imshow(features[i])\n",
        "    plt.title(f'{target[i]}')\n",
        "\t# távolítsuk el a tengelyeket és helyezzük a képeket közelebb egymáshoz a kompaktabb kimenet érdekében\n",
        "    plt.xticks([])\n",
        "    plt.yticks([])\n",
        "    plt.suptitle('Képek a valódi életkorral',  y=0.9,fontsize=16, color='b')\n",
        "    plt.tight_layout()"
      ]
    },
    {
      "cell_type": "markdown",
      "id": "0b452d6b",
      "metadata": {
        "papermill": {
          "duration": 0.027847,
          "end_time": "2021-08-12T12:05:15.078218",
          "exception": false,
          "start_time": "2021-08-12T12:05:15.050371",
          "status": "completed"
        },
        "tags": [],
        "id": "0b452d6b"
      },
      "source": [
        "Amint láthatjuk, az adathalmazunk különböző arcképeket tartalmaz. Néhányat közülük elforgatott, eltolt stb. egy kicsit.Betanítunk egy modellt."
      ]
    },
    {
      "cell_type": "markdown",
      "id": "2a07b1cb",
      "metadata": {
        "papermill": {
          "duration": 0.02752,
          "end_time": "2021-08-12T12:05:15.133627",
          "exception": false,
          "start_time": "2021-08-12T12:05:15.106107",
          "status": "completed"
        },
        "tags": [],
        "id": "2a07b1cb"
      },
      "source": [
        "## 2. Defining necessary functions for neural network"
      ]
    },
    {
      "cell_type": "code",
      "execution_count": null,
      "id": "701989c7",
      "metadata": {
        "execution": {
          "iopub.execute_input": "2021-08-12T12:05:15.200960Z",
          "iopub.status.busy": "2021-08-12T12:05:15.200222Z",
          "iopub.status.idle": "2021-08-12T12:05:15.203722Z",
          "shell.execute_reply": "2021-08-12T12:05:15.203279Z",
          "shell.execute_reply.started": "2021-08-12T11:43:21.406208Z"
        },
        "papermill": {
          "duration": 0.042619,
          "end_time": "2021-08-12T12:05:15.203837",
          "exception": false,
          "start_time": "2021-08-12T12:05:15.161218",
          "status": "completed"
        },
        "tags": [],
        "id": "701989c7"
      },
      "outputs": [],
      "source": [
        "def load_train(path):\n",
        "    \n",
        "    \"\"\"\n",
        "    It loads the train part of dataset from path\n",
        "    \"\"\"\n",
        "    \n",
        "    labels = pd.read_csv(path + 'labels.csv')\n",
        "    train_datagen = ImageDataGenerator(validation_split=0.25, rescale=1 / 255)\n",
        "    train_gen_flow = train_datagen.flow_from_dataframe(\n",
        "        dataframe=labels,\n",
        "        directory=path + 'final_files/',\n",
        "        x_col='file_name',\n",
        "        y_col='real_age',\n",
        "        target_size=(224, 224),\n",
        "        batch_size=32,\n",
        "        class_mode='raw',\n",
        "        subset = 'training',\n",
        "        seed=12345)\n",
        "\n",
        "    return train_gen_flow\n",
        "\n",
        "\n",
        "def load_test(path):\n",
        "    \n",
        "    \"\"\"\n",
        "    It loads the validation/test part of dataset from path\n",
        "    \"\"\"\n",
        "    labels = pd.read_csv(path + 'labels.csv')\n",
        "    validation_datagen = ImageDataGenerator(validation_split=0.25, rescale=1/255)\n",
        "    test_gen_flow = validation_datagen.flow_from_dataframe(\n",
        "    dataframe = labels,\n",
        "    directory=path +'final_files/',\n",
        "    x_col=\"file_name\",\n",
        "    y_col=\"real_age\", \n",
        "    class_mode=\"raw\", \n",
        "    target_size=(224,224), \n",
        "    batch_size=32,\n",
        "    subset = \"validation\",\n",
        "    seed=12345,\n",
        "    )\n",
        "\n",
        "    return test_gen_flow\n",
        "\n",
        "\n",
        "def create_model(input_shape):\n",
        "    \n",
        "    \"\"\"\n",
        "    It defines the model\n",
        "    \"\"\"\n",
        "    # a ResNet50 architektúrát fogjuk használni\n",
        "    backbone = ResNet50(input_shape=input_shape, weights='imagenet', include_top=False)\n",
        "    model = Sequential()\n",
        "    model.add(backbone)\n",
        "    \n",
        "    model.add(Dropout(0.2))\n",
        "    model.add(GlobalAveragePooling2D())\n",
        "    \n",
        "    model.add(Dense(1)) #, activation='relu'\n",
        "    optimizer = Adam(lr=0.0003)\n",
        "    model.compile(optimizer=optimizer, loss='mae', metrics=['mae'])\n",
        "    print(model.summary())\n",
        "\n",
        "    return model\n",
        "\n",
        "\n",
        "def train_model(model, train_data, test_data, batch_size=None, epochs=20,\n",
        "                steps_per_epoch=None, validation_steps=None):\n",
        "\n",
        "    \"\"\"\n",
        "    Trains the model given the parameters\n",
        "    \"\"\"\n",
        "    \n",
        "    model.fit(train_data, validation_data=test_data, batch_size=batch_size, \n",
        "              epochs=epochs, steps_per_epoch=steps_per_epoch, \n",
        "              validation_steps=validation_steps, verbose=2)\n",
        "\n",
        "    return model"
      ]
    },
    {
      "cell_type": "markdown",
      "id": "717d14a5",
      "metadata": {
        "papermill": {
          "duration": 0.027517,
          "end_time": "2021-08-12T12:05:15.258680",
          "exception": false,
          "start_time": "2021-08-12T12:05:15.231163",
          "status": "completed"
        },
        "tags": [],
        "id": "717d14a5"
      },
      "source": [
        "## Calling functions"
      ]
    },
    {
      "cell_type": "code",
      "execution_count": null,
      "id": "7008a092",
      "metadata": {
        "execution": {
          "iopub.execute_input": "2021-08-12T12:05:15.318969Z",
          "iopub.status.busy": "2021-08-12T12:05:15.318390Z",
          "iopub.status.idle": "2021-08-12T12:05:15.322536Z",
          "shell.execute_reply": "2021-08-12T12:05:15.322063Z",
          "shell.execute_reply.started": "2021-08-12T11:43:21.423489Z"
        },
        "papermill": {
          "duration": 0.036426,
          "end_time": "2021-08-12T12:05:15.322652",
          "exception": false,
          "start_time": "2021-08-12T12:05:15.286226",
          "status": "completed"
        },
        "tags": [],
        "id": "7008a092"
      },
      "outputs": [],
      "source": [
        "#assign data directory\n",
        "path = ''"
      ]
    },
    {
      "cell_type": "code",
      "execution_count": null,
      "id": "6cde5a25",
      "metadata": {
        "execution": {
          "iopub.execute_input": "2021-08-12T12:05:15.384795Z",
          "iopub.status.busy": "2021-08-12T12:05:15.383966Z",
          "iopub.status.idle": "2021-08-12T12:05:23.127228Z",
          "shell.execute_reply": "2021-08-12T12:05:23.126783Z",
          "shell.execute_reply.started": "2021-08-12T11:43:21.437004Z"
        },
        "papermill": {
          "duration": 7.776951,
          "end_time": "2021-08-12T12:05:23.127369",
          "exception": false,
          "start_time": "2021-08-12T12:05:15.350418",
          "status": "completed"
        },
        "tags": [],
        "colab": {
          "base_uri": "https://localhost:8080/"
        },
        "id": "6cde5a25",
        "outputId": "1a3e3ed2-9310-44a4-f242-653bdd77601e"
      },
      "outputs": [
        {
          "output_type": "stream",
          "name": "stdout",
          "text": [
            "Found 5694 validated image filenames.\n",
            "Found 1897 validated image filenames.\n",
            "Model: \"sequential_1\"\n",
            "_________________________________________________________________\n",
            " Layer (type)                Output Shape              Param #   \n",
            "=================================================================\n",
            " resnet50 (Functional)       (None, 7, 7, 2048)        23587712  \n",
            "                                                                 \n",
            " dropout_1 (Dropout)         (None, 7, 7, 2048)        0         \n",
            "                                                                 \n",
            " global_average_pooling2d_1   (None, 2048)             0         \n",
            " (GlobalAveragePooling2D)                                        \n",
            "                                                                 \n",
            " dense_1 (Dense)             (None, 1)                 2049      \n",
            "                                                                 \n",
            "=================================================================\n",
            "Total params: 23,589,761\n",
            "Trainable params: 23,536,641\n",
            "Non-trainable params: 53,120\n",
            "_________________________________________________________________\n",
            "None\n"
          ]
        }
      ],
      "source": [
        "#load training and testing (actually this is validation data set)\n",
        "train_data = load_train(path)\n",
        "test_data = load_test(path)\n",
        "\n",
        "#build a model\n",
        "model = create_model(input_shape = (224, 224, 3))"
      ]
    },
    {
      "cell_type": "markdown",
      "id": "b859f3b8",
      "metadata": {
        "papermill": {
          "duration": 0.030983,
          "end_time": "2021-08-12T12:05:23.190345",
          "exception": false,
          "start_time": "2021-08-12T12:05:23.159362",
          "status": "completed"
        },
        "tags": [],
        "id": "b859f3b8"
      },
      "source": [
        "> A modell kiképzése hosszú időt vehet igénybe, különösen GPU nélkül. A ResNet50 modellben több mint 23 millió betanítható paraméter van. Ez az oka annak, hogy a GPU-platform nélküli használata nagyon-nagyon hosszú várakozási időt okozna a modell betanítására, még akkor is, ha az már előre betanított."
      ]
    },
    {
      "cell_type": "code",
      "execution_count": null,
      "id": "89fb4e19",
      "metadata": {
        "execution": {
          "iopub.execute_input": "2021-08-12T12:05:23.258412Z",
          "iopub.status.busy": "2021-08-12T12:05:23.257758Z",
          "iopub.status.idle": "2021-08-12T12:23:34.564190Z",
          "shell.execute_reply": "2021-08-12T12:23:34.564683Z",
          "shell.execute_reply.started": "2021-08-12T11:43:24.598443Z"
        },
        "papermill": {
          "duration": 1091.343177,
          "end_time": "2021-08-12T12:23:34.564848",
          "exception": false,
          "start_time": "2021-08-12T12:05:23.221671",
          "status": "completed"
        },
        "tags": [],
        "colab": {
          "base_uri": "https://localhost:8080/"
        },
        "id": "89fb4e19",
        "outputId": "4c69913f-fe2a-4fe3-ebba-fb538e7a87a2"
      },
      "outputs": [
        {
          "output_type": "stream",
          "name": "stdout",
          "text": [
            "Epoch 1/20\n",
            "178/178 - 81s - loss: 10.5371 - mae: 10.5371 - val_loss: 33.7371 - val_mae: 33.7371 - 81s/epoch - 456ms/step\n",
            "Epoch 2/20\n",
            "178/178 - 73s - loss: 7.9673 - mae: 7.9673 - val_loss: 13.5528 - val_mae: 13.5528 - 73s/epoch - 412ms/step\n",
            "Epoch 3/20\n",
            "178/178 - 73s - loss: 6.6424 - mae: 6.6424 - val_loss: 13.6367 - val_mae: 13.6367 - 73s/epoch - 411ms/step\n",
            "Epoch 4/20\n",
            "178/178 - 74s - loss: 5.9141 - mae: 5.9141 - val_loss: 8.4315 - val_mae: 8.4315 - 74s/epoch - 417ms/step\n",
            "Epoch 5/20\n",
            "178/178 - 73s - loss: 5.3800 - mae: 5.3800 - val_loss: 7.6223 - val_mae: 7.6223 - 73s/epoch - 410ms/step\n",
            "Epoch 6/20\n",
            "178/178 - 74s - loss: 4.9826 - mae: 4.9826 - val_loss: 6.9846 - val_mae: 6.9846 - 74s/epoch - 413ms/step\n",
            "Epoch 7/20\n",
            "178/178 - 73s - loss: 4.5309 - mae: 4.5309 - val_loss: 7.3387 - val_mae: 7.3387 - 73s/epoch - 411ms/step\n",
            "Epoch 8/20\n",
            "178/178 - 73s - loss: 4.2695 - mae: 4.2695 - val_loss: 8.7559 - val_mae: 8.7559 - 73s/epoch - 412ms/step\n",
            "Epoch 9/20\n",
            "178/178 - 73s - loss: 3.9415 - mae: 3.9415 - val_loss: 7.1442 - val_mae: 7.1442 - 73s/epoch - 411ms/step\n",
            "Epoch 10/20\n",
            "178/178 - 73s - loss: 3.6654 - mae: 3.6654 - val_loss: 6.8177 - val_mae: 6.8177 - 73s/epoch - 408ms/step\n",
            "Epoch 11/20\n",
            "178/178 - 73s - loss: 3.5153 - mae: 3.5153 - val_loss: 6.7790 - val_mae: 6.7790 - 73s/epoch - 409ms/step\n",
            "Epoch 12/20\n",
            "178/178 - 73s - loss: 3.3852 - mae: 3.3852 - val_loss: 6.5721 - val_mae: 6.5721 - 73s/epoch - 409ms/step\n",
            "Epoch 13/20\n",
            "178/178 - 73s - loss: 3.2301 - mae: 3.2301 - val_loss: 6.4428 - val_mae: 6.4428 - 73s/epoch - 409ms/step\n",
            "Epoch 14/20\n",
            "178/178 - 73s - loss: 3.1327 - mae: 3.1327 - val_loss: 6.9275 - val_mae: 6.9275 - 73s/epoch - 410ms/step\n",
            "Epoch 15/20\n",
            "178/178 - 73s - loss: 2.9085 - mae: 2.9085 - val_loss: 6.4957 - val_mae: 6.4957 - 73s/epoch - 409ms/step\n",
            "Epoch 16/20\n",
            "178/178 - 74s - loss: 2.8170 - mae: 2.8170 - val_loss: 6.2168 - val_mae: 6.2168 - 74s/epoch - 416ms/step\n",
            "Epoch 17/20\n",
            "178/178 - 74s - loss: 2.8926 - mae: 2.8926 - val_loss: 7.3004 - val_mae: 7.3004 - 74s/epoch - 413ms/step\n",
            "Epoch 18/20\n",
            "178/178 - 73s - loss: 2.6544 - mae: 2.6544 - val_loss: 6.6912 - val_mae: 6.6912 - 73s/epoch - 413ms/step\n",
            "Epoch 19/20\n",
            "178/178 - 73s - loss: 2.5539 - mae: 2.5539 - val_loss: 6.1665 - val_mae: 6.1665 - 73s/epoch - 409ms/step\n",
            "Epoch 20/20\n",
            "178/178 - 73s - loss: 2.5871 - mae: 2.5871 - val_loss: 6.2185 - val_mae: 6.2185 - 73s/epoch - 410ms/step\n"
          ]
        }
      ],
      "source": [
        "#train the model\n",
        "model = train_model(model, train_data, test_data)"
      ]
    },
    {
      "cell_type": "markdown",
      "id": "063c7ca1",
      "metadata": {
        "papermill": {
          "duration": 0.04741,
          "end_time": "2021-08-12T12:23:34.654648",
          "exception": false,
          "start_time": "2021-08-12T12:23:34.607238",
          "status": "completed"
        },
        "tags": [],
        "id": "063c7ca1"
      },
      "source": [
        "## Elég jó MAE-t értünk el, amely a személy életkorát $\\pm$ 6.4 $\\pm$ értékkel tudja megjósolni. \n",
        "\n",
        "## Egyébként az [egy cikk erről az adatkészletről](http://people.ee.ethz.ch/~timofter/publications/Agustsson-FG-2017.pdf), amivel dolgozunk, a legalacsonyabb MAE érték, amit elértek, 5,4. Ezt a cikket 2017-ben publikálta az ETH Computer Vision researhcer. Mi is elég jól teljesítettünk, hiszen az 5,4-es értékhez képest 6,4-es MAE értéket kaptunk.\n",
        "\n",
        "Tehát a mi XYZ üzletünk, most már használhatja ezt a modellt csak arra, hogy azonosítsa az alkoholos termékeket vásárló személy életkorát."
      ]
    },
    {
      "cell_type": "code",
      "source": [
        "import matplotlib.image as mpimg\n",
        "!wget https://img.freepik.com/free-photo/cute-happy-boy-with-yellow-tshirt_58702-7711.jpg\n",
        "face = mpimg.imread(\"cute-happy-boy-with-yellow-tshirt_58702-7711.jpg\")\n",
        "plt.imshow(face)\n",
        "plt.axis(False);"
      ],
      "metadata": {
        "colab": {
          "base_uri": "https://localhost:8080/",
          "height": 439
        },
        "id": "CYrek3SOCPXu",
        "outputId": "c500b60f-7d08-4803-92a8-01dda992e304"
      },
      "id": "CYrek3SOCPXu",
      "execution_count": null,
      "outputs": [
        {
          "output_type": "stream",
          "name": "stdout",
          "text": [
            "--2022-10-25 16:50:00--  https://img.freepik.com/free-photo/cute-happy-boy-with-yellow-tshirt_58702-7711.jpg\n",
            "Resolving img.freepik.com (img.freepik.com)... 104.117.232.154, 2600:1409:9800:981::312e, 2600:1409:9800:98d::312e\n",
            "Connecting to img.freepik.com (img.freepik.com)|104.117.232.154|:443... connected.\n",
            "HTTP request sent, awaiting response... 200 OK\n",
            "Length: 35921 (35K) [image/jpeg]\n",
            "Saving to: ‘cute-happy-boy-with-yellow-tshirt_58702-7711.jpg’\n",
            "\n",
            "cute-happy-boy-with 100%[===================>]  35.08K   223KB/s    in 0.2s    \n",
            "\n",
            "2022-10-25 16:50:01 (223 KB/s) - ‘cute-happy-boy-with-yellow-tshirt_58702-7711.jpg’ saved [35921/35921]\n",
            "\n"
          ]
        },
        {
          "output_type": "display_data",
          "data": {
            "text/plain": [
              "<Figure size 432x288 with 1 Axes>"
            ],
            "image/png": "[encoded data removed]"
          },
          "metadata": {}
        }
      ]
    },
    {
      "cell_type": "code",
      "source": [
        "def load_and_prep_image(filename, img_shape=224):\n",
        "  img = tf.io.read_file(filename)\n",
        "  img = tf.image.decode_image(img, channels=3) #tensor formatum\n",
        "  img = tf.image.resize(img, size = [img_shape, img_shape])\n",
        "  img = img/255.\n",
        "  img = tf.expand_dims(img, axis=0)\n",
        "  return img\n"
      ],
      "metadata": {
        "id": "4_UryhW4C9Aq"
      },
      "id": "4_UryhW4C9Aq",
      "execution_count": null,
      "outputs": []
    },
    {
      "cell_type": "code",
      "source": [
        "face = load_and_prep_image('cute-happy-boy-with-yellow-tshirt_58702-7711.jpg')"
      ],
      "metadata": {
        "id": "GawkLBe3D2a8"
      },
      "id": "GawkLBe3D2a8",
      "execution_count": null,
      "outputs": []
    },
    {
      "cell_type": "code",
      "source": [
        "pred = model.predict(face)"
      ],
      "metadata": {
        "colab": {
          "base_uri": "https://localhost:8080/"
        },
        "id": "HWfq9c11ERXx",
        "outputId": "502f4c20-8851-4592-b51c-59bed6f42c6f"
      },
      "id": "HWfq9c11ERXx",
      "execution_count": null,
      "outputs": [
        {
          "output_type": "stream",
          "name": "stdout",
          "text": [
            "1/1 [==============================] - 0s 24ms/step\n"
          ]
        }
      ]
    },
    {
      "cell_type": "code",
      "source": [
        "pred"
      ],
      "metadata": {
        "colab": {
          "base_uri": "https://localhost:8080/"
        },
        "id": "_3fLE0oKEYTS",
        "outputId": "39704803-a982-4f88-a75d-70c5991747cb"
      },
      "id": "_3fLE0oKEYTS",
      "execution_count": null,
      "outputs": [
        {
          "output_type": "execute_result",
          "data": {
            "text/plain": [
              "array([[12.188922]], dtype=float32)"
            ]
          },
          "metadata": {},
          "execution_count": 49
        }
      ]
    },
    {
      "cell_type": "markdown",
      "source": [
        "#Házi feladat!\n",
        "##Projekt feladat\n",
        "Töltsünk le az internetről a megismert módszerrel legalább 3 osztályt érintően képeket, majd azokra transfer learning segítségével tanítsunk be egy modellt, és értékeljük azt pontosság, loss figyelembevételével mind a tanító, mind a validációs halmazon.\n",
        "A modellt mentsük el, majd egy másik notebookban töltsük be a modellt és GRADIO\n",
        "segítségével publikáljuk ki azt, és az osztályok száma szerinti képpel teszteljük a működését. Határidő: 2022.11.09"
      ],
      "metadata": {
        "id": "RAO9T6-AjaeP"
      },
      "id": "RAO9T6-AjaeP"
    }
  ],
  "metadata": {
    "kernelspec": {
      "display_name": "Python 3",
      "language": "python",
      "name": "python3"
    },
    "language_info": {
      "codemirror_mode": {
        "name": "ipython",
        "version": 3
      },
      "file_extension": ".py",
      "mimetype": "text/x-python",
      "name": "python",
      "nbconvert_exporter": "python",
      "pygments_lexer": "ipython3",
      "version": "3.7.10"
    },
    "papermill": {
      "default_parameters": {},
      "duration": 1127.949269,
      "end_time": "2021-08-12T12:23:37.322169",
      "environment_variables": {},
      "exception": null,
      "input_path": "__notebook__.ipynb",
      "output_path": "__notebook__.ipynb",
      "parameters": {},
      "start_time": "2021-08-12T12:04:49.372900",
      "version": "2.3.3"
    },
    "colab": {
      "provenance": [],
      "collapsed_sections": [],
      "include_colab_link": true
    },
    "accelerator": "GPU"
  },
  "nbformat": 4,
  "nbformat_minor": 5
}
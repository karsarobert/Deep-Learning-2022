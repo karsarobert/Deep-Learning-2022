{
  "cells": [
    {
      "cell_type": "markdown",
      "metadata": {
        "id": "view-in-github",
        "colab_type": "text"
      },
      "source": [
        "<a href=\"https://colab.research.google.com/github/karsarobert/Deep-Learning-2022/blob/main/12/PTE_DL12_Recommender.ipynb\" target=\"_parent\"><img src=\"https://colab.research.google.com/assets/colab-badge.svg\" alt=\"Open In Colab\"/></a>"
      ]
    },
    {
      "cell_type": "markdown",
      "metadata": {
        "id": "opposed-female"
      },
      "source": [
        "# Deep Learning gyakorlat\n",
        "\n",
        "\n",
        "## 12. gyakorlat: ajánlórendszer\n",
        "### 2022. november 30."
      ]
    },
    {
      "cell_type": "markdown",
      "metadata": {
        "id": "hPf-rd-1VSYN"
      },
      "source": [
        "forrás: https://github.com/prateekjoshi565/recommendation_system/blob/master/recommender_2.ipynb"
      ]
    },
    {
      "cell_type": "code",
      "execution_count": 1,
      "metadata": {
        "id": "RWtTVOebVSYR"
      },
      "outputs": [],
      "source": [
        "import pandas as pd\n",
        "import numpy as np\n",
        "import random\n",
        "from tqdm import tqdm\n",
        "from gensim.models import Word2Vec \n",
        "import matplotlib.pyplot as plt\n",
        "%matplotlib inline\n",
        "\n",
        "import warnings;\n",
        "warnings.filterwarnings('ignore')"
      ]
    },
    {
      "cell_type": "code",
      "execution_count": 2,
      "metadata": {
        "id": "6-GLb6GaVSYU"
      },
      "outputs": [],
      "source": [
        "df = pd.read_excel('https://archive.ics.uci.edu/ml/machine-learning-databases/00352/Online%20Retail.xlsx')"
      ]
    },
    {
      "cell_type": "markdown",
      "source": [
        "![áruból szavak](https://cdn.analyticsvidhya.com/wp-content/uploads/2019/07/img_9.png)"
      ],
      "metadata": {
        "id": "9JHMYhoJ6RnW"
      }
    },
    {
      "cell_type": "markdown",
      "metadata": {
        "id": "5x-YXYzuVSYV"
      },
      "source": [
        "Vessünk egy gyors pillantást az adatainkra. Letöltheted [innen](https://archive.ics.uci.edu/ml/machine-learning-databases/00352/).\n",
        "\n",
        "https://archive.ics.uci.edu/ml/machine-learning-databases/00352/Online%20Retail.xlsx"
      ]
    },
    {
      "cell_type": "code",
      "execution_count": 3,
      "metadata": {
        "id": "Wk2oQqP5VSYV",
        "outputId": "06726b72-4a62-4a22-de8d-a47e7b652ac4",
        "colab": {
          "base_uri": "https://localhost:8080/",
          "height": 206
        }
      },
      "outputs": [
        {
          "output_type": "execute_result",
          "data": {
            "text/plain": [
              "  InvoiceNo StockCode                          Description  Quantity  \\\n",
              "0    536365    85123A   WHITE HANGING HEART T-LIGHT HOLDER         6   \n",
              "1    536365     71053                  WHITE METAL LANTERN         6   \n",
              "2    536365    84406B       CREAM CUPID HEARTS COAT HANGER         8   \n",
              "3    536365    84029G  KNITTED UNION FLAG HOT WATER BOTTLE         6   \n",
              "4    536365    84029E       RED WOOLLY HOTTIE WHITE HEART.         6   \n",
              "\n",
              "          InvoiceDate  UnitPrice  CustomerID         Country  \n",
              "0 2010-12-01 08:26:00       2.55     17850.0  United Kingdom  \n",
              "1 2010-12-01 08:26:00       3.39     17850.0  United Kingdom  \n",
              "2 2010-12-01 08:26:00       2.75     17850.0  United Kingdom  \n",
              "3 2010-12-01 08:26:00       3.39     17850.0  United Kingdom  \n",
              "4 2010-12-01 08:26:00       3.39     17850.0  United Kingdom  "
            ],
            "text/html": [
              "\n",
              "  <div id=\"df-2bd5a3a4-d45d-4827-8a82-32e471c93141\">\n",
              "    <div class=\"colab-df-container\">\n",
              "      <div>\n",
              "<style scoped>\n",
              "    .dataframe tbody tr th:only-of-type {\n",
              "        vertical-align: middle;\n",
              "    }\n",
              "\n",
              "    .dataframe tbody tr th {\n",
              "        vertical-align: top;\n",
              "    }\n",
              "\n",
              "    .dataframe thead th {\n",
              "        text-align: right;\n",
              "    }\n",
              "</style>\n",
              "<table border=\"1\" class=\"dataframe\">\n",
              "  <thead>\n",
              "    <tr style=\"text-align: right;\">\n",
              "      <th></th>\n",
              "      <th>InvoiceNo</th>\n",
              "      <th>StockCode</th>\n",
              "      <th>Description</th>\n",
              "      <th>Quantity</th>\n",
              "      <th>InvoiceDate</th>\n",
              "      <th>UnitPrice</th>\n",
              "      <th>CustomerID</th>\n",
              "      <th>Country</th>\n",
              "    </tr>\n",
              "  </thead>\n",
              "  <tbody>\n",
              "    <tr>\n",
              "      <th>0</th>\n",
              "      <td>536365</td>\n",
              "      <td>85123A</td>\n",
              "      <td>WHITE HANGING HEART T-LIGHT HOLDER</td>\n",
              "      <td>6</td>\n",
              "      <td>2010-12-01 08:26:00</td>\n",
              "      <td>2.55</td>\n",
              "      <td>17850.0</td>\n",
              "      <td>United Kingdom</td>\n",
              "    </tr>\n",
              "    <tr>\n",
              "      <th>1</th>\n",
              "      <td>536365</td>\n",
              "      <td>71053</td>\n",
              "      <td>WHITE METAL LANTERN</td>\n",
              "      <td>6</td>\n",
              "      <td>2010-12-01 08:26:00</td>\n",
              "      <td>3.39</td>\n",
              "      <td>17850.0</td>\n",
              "      <td>United Kingdom</td>\n",
              "    </tr>\n",
              "    <tr>\n",
              "      <th>2</th>\n",
              "      <td>536365</td>\n",
              "      <td>84406B</td>\n",
              "      <td>CREAM CUPID HEARTS COAT HANGER</td>\n",
              "      <td>8</td>\n",
              "      <td>2010-12-01 08:26:00</td>\n",
              "      <td>2.75</td>\n",
              "      <td>17850.0</td>\n",
              "      <td>United Kingdom</td>\n",
              "    </tr>\n",
              "    <tr>\n",
              "      <th>3</th>\n",
              "      <td>536365</td>\n",
              "      <td>84029G</td>\n",
              "      <td>KNITTED UNION FLAG HOT WATER BOTTLE</td>\n",
              "      <td>6</td>\n",
              "      <td>2010-12-01 08:26:00</td>\n",
              "      <td>3.39</td>\n",
              "      <td>17850.0</td>\n",
              "      <td>United Kingdom</td>\n",
              "    </tr>\n",
              "    <tr>\n",
              "      <th>4</th>\n",
              "      <td>536365</td>\n",
              "      <td>84029E</td>\n",
              "      <td>RED WOOLLY HOTTIE WHITE HEART.</td>\n",
              "      <td>6</td>\n",
              "      <td>2010-12-01 08:26:00</td>\n",
              "      <td>3.39</td>\n",
              "      <td>17850.0</td>\n",
              "      <td>United Kingdom</td>\n",
              "    </tr>\n",
              "  </tbody>\n",
              "</table>\n",
              "</div>\n",
              "      <button class=\"colab-df-convert\" onclick=\"convertToInteractive('df-2bd5a3a4-d45d-4827-8a82-32e471c93141')\"\n",
              "              title=\"Convert this dataframe to an interactive table.\"\n",
              "              style=\"display:none;\">\n",
              "        \n",
              "  <svg xmlns=\"http://www.w3.org/2000/svg\" height=\"24px\"viewBox=\"0 0 24 24\"\n",
              "       width=\"24px\">\n",
              "    <path d=\"M0 0h24v24H0V0z\" fill=\"none\"/>\n",
              "    <path d=\"M18.56 5.44l.94 2.06.94-2.06 2.06-.94-2.06-.94-.94-2.06-.94 2.06-2.06.94zm-11 1L8.5 8.5l.94-2.06 2.06-.94-2.06-.94L8.5 2.5l-.94 2.06-2.06.94zm10 10l.94 2.06.94-2.06 2.06-.94-2.06-.94-.94-2.06-.94 2.06-2.06.94z\"/><path d=\"M17.41 7.96l-1.37-1.37c-.4-.4-.92-.59-1.43-.59-.52 0-1.04.2-1.43.59L10.3 9.45l-7.72 7.72c-.78.78-.78 2.05 0 2.83L4 21.41c.39.39.9.59 1.41.59.51 0 1.02-.2 1.41-.59l7.78-7.78 2.81-2.81c.8-.78.8-2.07 0-2.86zM5.41 20L4 18.59l7.72-7.72 1.47 1.35L5.41 20z\"/>\n",
              "  </svg>\n",
              "      </button>\n",
              "      \n",
              "  <style>\n",
              "    .colab-df-container {\n",
              "      display:flex;\n",
              "      flex-wrap:wrap;\n",
              "      gap: 12px;\n",
              "    }\n",
              "\n",
              "    .colab-df-convert {\n",
              "      background-color: #E8F0FE;\n",
              "      border: none;\n",
              "      border-radius: 50%;\n",
              "      cursor: pointer;\n",
              "      display: none;\n",
              "      fill: #1967D2;\n",
              "      height: 32px;\n",
              "      padding: 0 0 0 0;\n",
              "      width: 32px;\n",
              "    }\n",
              "\n",
              "    .colab-df-convert:hover {\n",
              "      background-color: #E2EBFA;\n",
              "      box-shadow: 0px 1px 2px rgba(60, 64, 67, 0.3), 0px 1px 3px 1px rgba(60, 64, 67, 0.15);\n",
              "      fill: #174EA6;\n",
              "    }\n",
              "\n",
              "    [theme=dark] .colab-df-convert {\n",
              "      background-color: #3B4455;\n",
              "      fill: #D2E3FC;\n",
              "    }\n",
              "\n",
              "    [theme=dark] .colab-df-convert:hover {\n",
              "      background-color: #434B5C;\n",
              "      box-shadow: 0px 1px 3px 1px rgba(0, 0, 0, 0.15);\n",
              "      filter: drop-shadow(0px 1px 2px rgba(0, 0, 0, 0.3));\n",
              "      fill: #FFFFFF;\n",
              "    }\n",
              "  </style>\n",
              "\n",
              "      <script>\n",
              "        const buttonEl =\n",
              "          document.querySelector('#df-2bd5a3a4-d45d-4827-8a82-32e471c93141 button.colab-df-convert');\n",
              "        buttonEl.style.display =\n",
              "          google.colab.kernel.accessAllowed ? 'block' : 'none';\n",
              "\n",
              "        async function convertToInteractive(key) {\n",
              "          const element = document.querySelector('#df-2bd5a3a4-d45d-4827-8a82-32e471c93141');\n",
              "          const dataTable =\n",
              "            await google.colab.kernel.invokeFunction('convertToInteractive',\n",
              "                                                     [key], {});\n",
              "          if (!dataTable) return;\n",
              "\n",
              "          const docLinkHtml = 'Like what you see? Visit the ' +\n",
              "            '<a target=\"_blank\" href=https://colab.research.google.com/notebooks/data_table.ipynb>data table notebook</a>'\n",
              "            + ' to learn more about interactive tables.';\n",
              "          element.innerHTML = '';\n",
              "          dataTable['output_type'] = 'display_data';\n",
              "          await google.colab.output.renderOutput(dataTable, element);\n",
              "          const docLink = document.createElement('div');\n",
              "          docLink.innerHTML = docLinkHtml;\n",
              "          element.appendChild(docLink);\n",
              "        }\n",
              "      </script>\n",
              "    </div>\n",
              "  </div>\n",
              "  "
            ]
          },
          "metadata": {},
          "execution_count": 3
        }
      ],
      "source": [
        "df.head()"
      ]
    },
    {
      "cell_type": "markdown",
      "metadata": {
        "id": "47nvQAolVSYW"
      },
      "source": [
        "\n",
        "InvoiceNo: Számlaszám. minden tranzakcióhoz egyedi szám tartozik\n",
        "\n",
        "Raktárkód: Termék/cikk kód. minden egyes termékhez egyedi szám tartozik\n",
        "\n",
        "Leírás: Termékleírás \n",
        "\n",
        "Mennyiség: Az egyes termékek mennyisége tranzakciónként\n",
        "\n",
        "InvoiceDate: Számla dátuma és időpontja. Az egyes tranzakciók létrehozásának napja és időpontja\n",
        "\n",
        "Ügyfélazonosító: Ügyfélszám. minden ügyfélhez egyedi számot rendelnek"
      ]
    },
    {
      "cell_type": "code",
      "execution_count": 4,
      "metadata": {
        "id": "MGuo6CVmVSYX",
        "outputId": "16d36665-b889-4b69-947f-2b486990d2cc",
        "colab": {
          "base_uri": "https://localhost:8080/"
        }
      },
      "outputs": [
        {
          "output_type": "execute_result",
          "data": {
            "text/plain": [
              "(541909, 8)"
            ]
          },
          "metadata": {},
          "execution_count": 4
        }
      ],
      "source": [
        "df.shape"
      ]
    },
    {
      "cell_type": "markdown",
      "metadata": {
        "id": "Jur5AOvYVSYY"
      },
      "source": [
        "Az adatkészlet 541 909 tranzakciót tartalmaz. Ez számunkra elég jó szám."
      ]
    },
    {
      "cell_type": "markdown",
      "metadata": {
        "id": "QYwazp0hVSYY"
      },
      "source": [
        "## Hiányzó adatok kezelése"
      ]
    },
    {
      "cell_type": "code",
      "execution_count": 5,
      "metadata": {
        "id": "ZUQ1NcKJVSYZ",
        "outputId": "e82db8f8-16d0-4582-b1a7-f78a51fd1d5a",
        "colab": {
          "base_uri": "https://localhost:8080/"
        }
      },
      "outputs": [
        {
          "output_type": "execute_result",
          "data": {
            "text/plain": [
              "InvoiceNo           0\n",
              "StockCode           0\n",
              "Description      1454\n",
              "Quantity            0\n",
              "InvoiceDate         0\n",
              "UnitPrice           0\n",
              "CustomerID     135080\n",
              "Country             0\n",
              "dtype: int64"
            ]
          },
          "metadata": {},
          "execution_count": 5
        }
      ],
      "source": [
        "# check for missing values\n",
        "df.isnull().sum()"
      ]
    },
    {
      "cell_type": "markdown",
      "metadata": {
        "id": "wKOdIwNeVSYa"
      },
      "source": [
        "<br>\n",
        "Mivel elegendő adatunk van, az összes hiányzó értékkel rendelkező sort elhagyjuk."
      ]
    },
    {
      "cell_type": "code",
      "execution_count": 6,
      "metadata": {
        "id": "EmlzgwbqVSYa",
        "outputId": "5f4990e6-5584-4de5-a0d5-4937f66f9dc2",
        "colab": {
          "base_uri": "https://localhost:8080/"
        }
      },
      "outputs": [
        {
          "output_type": "execute_result",
          "data": {
            "text/plain": [
              "InvoiceNo      0\n",
              "StockCode      0\n",
              "Description    0\n",
              "Quantity       0\n",
              "InvoiceDate    0\n",
              "UnitPrice      0\n",
              "CustomerID     0\n",
              "Country        0\n",
              "dtype: int64"
            ]
          },
          "metadata": {},
          "execution_count": 6
        }
      ],
      "source": [
        "# remove missing values\n",
        "df.dropna(inplace=True)\n",
        "\n",
        "# again check missing values\n",
        "df.isnull().sum()"
      ]
    },
    {
      "cell_type": "markdown",
      "metadata": {
        "id": "zYdV_xXQVSYa"
      },
      "source": [
        "## Adatok előkészítése"
      ]
    },
    {
      "cell_type": "markdown",
      "metadata": {
        "id": "GuiQwPlqVSYb"
      },
      "source": [
        "Konvertáljuk a StockCode-ot string adattípussá."
      ]
    },
    {
      "cell_type": "code",
      "execution_count": 7,
      "metadata": {
        "id": "pdtrjfMRVSYb"
      },
      "outputs": [],
      "source": [
        "df['StockCode']= df['StockCode'].astype(str)"
      ]
    },
    {
      "cell_type": "markdown",
      "metadata": {
        "id": "k0ujhasEVSYb"
      },
      "source": [
        "Nézzük meg az egyedi ügyfelek számát az adatállományunkban."
      ]
    },
    {
      "cell_type": "code",
      "execution_count": 8,
      "metadata": {
        "id": "-k8NVpSIVSYb",
        "outputId": "67b022a7-4687-4820-bd7f-1d005b4872ed",
        "colab": {
          "base_uri": "https://localhost:8080/"
        }
      },
      "outputs": [
        {
          "output_type": "execute_result",
          "data": {
            "text/plain": [
              "4372"
            ]
          },
          "metadata": {},
          "execution_count": 8
        }
      ],
      "source": [
        "customers = df[\"CustomerID\"].unique().tolist()\n",
        "len(customers)"
      ]
    },
    {
      "cell_type": "code",
      "source": [
        "customers[:10]"
      ],
      "metadata": {
        "colab": {
          "base_uri": "https://localhost:8080/"
        },
        "id": "0UBuGOnjPud6",
        "outputId": "00268513-1e25-4eca-bc64-2568431e1163"
      },
      "execution_count": 9,
      "outputs": [
        {
          "output_type": "execute_result",
          "data": {
            "text/plain": [
              "[17850.0,\n",
              " 13047.0,\n",
              " 12583.0,\n",
              " 13748.0,\n",
              " 15100.0,\n",
              " 15291.0,\n",
              " 14688.0,\n",
              " 17809.0,\n",
              " 15311.0,\n",
              " 14527.0]"
            ]
          },
          "metadata": {},
          "execution_count": 9
        }
      ]
    },
    {
      "cell_type": "markdown",
      "metadata": {
        "id": "rU6Ul4XVVSYc"
      },
      "source": [
        "Adatállományunkban 4372 ügyfél szerepel. "
      ]
    },
    {
      "cell_type": "markdown",
      "metadata": {
        "id": "P3tj2yykVSYc"
      },
      "source": [
        "Jó gyakorlat, ha az adatállomány egy kis részét elkülönítjük validálási célokra. Ezért az ügyfelek 90%-ának adatait fogom használni a word2vec beágyazások létrehozásához. Osszuk fel az adatokat."
      ]
    },
    {
      "cell_type": "code",
      "execution_count": 10,
      "metadata": {
        "id": "DZc5xMpSVSYc"
      },
      "outputs": [],
      "source": [
        "# shuffle customer ID's\n",
        "random.shuffle(customers)\n",
        "\n",
        "# extract 90% of customer ID's\n",
        "customers_train = [customers[i] for i in range(round(0.9*len(customers)))]\n",
        "\n",
        "# split data into train and validation set\n",
        "train_df = df[df['CustomerID'].isin(customers_train)]\n",
        "validation_df = df[~df['CustomerID'].isin(customers_train)]"
      ]
    },
    {
      "cell_type": "code",
      "source": [
        "from sklearn.model_selection import train_test_split\n",
        "\n",
        "train_df, validation_df = train_test_split(df, train_size=0.9, random_state = 0)"
      ],
      "metadata": {
        "id": "TXhfeBSv-5MM"
      },
      "execution_count": 11,
      "outputs": []
    },
    {
      "cell_type": "code",
      "source": [
        "train_df.info"
      ],
      "metadata": {
        "id": "-Bi7XPJPXSV_",
        "outputId": "2a528dff-084c-46e0-f788-c0d251d34f18",
        "colab": {
          "base_uri": "https://localhost:8080/"
        }
      },
      "execution_count": 12,
      "outputs": [
        {
          "output_type": "execute_result",
          "data": {
            "text/plain": [
              "<bound method DataFrame.info of        InvoiceNo StockCode                          Description  Quantity  \\\n",
              "173198    551658     20724          RED RETROSPOT CHARLOTTE BAG        10   \n",
              "403638    571653    85034B    3 WHITE CHOC MORRIS BOXED CANDLES        24   \n",
              "222056    556325     22138        BAKING SET 9 PIECE RETROSPOT          3   \n",
              "541658    581538     22469                HEART OF WICKER SMALL         1   \n",
              "54587     540957    82001S            VINYL RECORD FRAME SILVER        24   \n",
              "...          ...       ...                                  ...       ...   \n",
              "477422    577057     21425             SKULLS STORAGE BOX LARGE         1   \n",
              "475721    576911     23697              A PRETTY THANK YOU CARD        12   \n",
              "213726    555553    84997B     CHILDRENS CUTLERY RETROSPOT RED          4   \n",
              "169166    551170     22193                 RED DINER WALL CLOCK         5   \n",
              "410119    572092     21464  DISCO BALL ROTATOR BATTERY OPERATED         3   \n",
              "\n",
              "               InvoiceDate  UnitPrice  CustomerID         Country  \n",
              "173198 2011-05-03 12:13:00       0.85     16746.0  United Kingdom  \n",
              "403638 2011-10-18 12:17:00       1.25     14298.0  United Kingdom  \n",
              "222056 2011-06-10 11:20:00       4.95     17234.0  United Kingdom  \n",
              "541658 2011-12-09 11:34:00       1.65     14446.0  United Kingdom  \n",
              "54587  2011-01-12 13:30:00       3.39     15311.0  United Kingdom  \n",
              "...                    ...        ...         ...             ...  \n",
              "477422 2011-11-17 14:26:00       2.95     12748.0  United Kingdom  \n",
              "475721 2011-11-17 10:01:00       0.42     17461.0  United Kingdom  \n",
              "213726 2011-06-05 13:45:00       4.15     12662.0         Germany  \n",
              "169166 2011-04-26 16:40:00       8.50     15145.0  United Kingdom  \n",
              "410119 2011-10-20 14:41:00       4.25     17125.0  United Kingdom  \n",
              "\n",
              "[366146 rows x 8 columns]>"
            ]
          },
          "metadata": {},
          "execution_count": 12
        }
      ]
    },
    {
      "cell_type": "markdown",
      "metadata": {
        "id": "jSsq6C0kVSYd"
      },
      "source": [
        "Hozzuk létre a vásárlók által az adathalmazban végrehajtott vásárlások sorozatát mind a képzési, mind a validálási halmazban."
      ]
    },
    {
      "cell_type": "code",
      "execution_count": 13,
      "metadata": {
        "id": "0CRoEPjBVSYd",
        "outputId": "a02a2117-fe15-46d3-a517-9a090ab1e1a3",
        "colab": {
          "base_uri": "https://localhost:8080/"
        }
      },
      "outputs": [
        {
          "output_type": "stream",
          "name": "stderr",
          "text": [
            "100%|██████████| 3935/3935 [00:02<00:00, 1640.40it/s]\n"
          ]
        }
      ],
      "source": [
        "# lista az ügyfelek vásárlási előzményeinek rögzítésére\n",
        "\n",
        "purchases_train = []\n",
        "\n",
        "# töltse fel a listát a termékkódokkal\n",
        "for i in tqdm(customers_train):\n",
        "    temp = train_df[train_df[\"CustomerID\"] == i][\"StockCode\"].tolist()\n",
        "    purchases_train.append(temp)"
      ]
    },
    {
      "cell_type": "code",
      "source": [
        "purchases_train[:1]"
      ],
      "metadata": {
        "id": "YIYIGyTkQXrD",
        "colab": {
          "base_uri": "https://localhost:8080/"
        },
        "outputId": "4a159ded-50f1-4c9d-f076-8439a9302f45"
      },
      "execution_count": 14,
      "outputs": [
        {
          "output_type": "execute_result",
          "data": {
            "text/plain": [
              "[['22847',\n",
              "  '84078A',\n",
              "  '22624',\n",
              "  '23052',\n",
              "  '21896',\n",
              "  '22845',\n",
              "  '22960',\n",
              "  '21288',\n",
              "  '22962',\n",
              "  '22191',\n",
              "  '22176',\n",
              "  '22666',\n",
              "  '22781',\n",
              "  '22720',\n",
              "  '22781',\n",
              "  '22494',\n",
              "  '23054',\n",
              "  '21770',\n",
              "  '16016',\n",
              "  '22467',\n",
              "  'POST',\n",
              "  '15056BL',\n",
              "  '82484',\n",
              "  '22173',\n",
              "  'POST',\n",
              "  '22366']]"
            ]
          },
          "metadata": {},
          "execution_count": 14
        }
      ]
    },
    {
      "cell_type": "code",
      "execution_count": 15,
      "metadata": {
        "id": "YXuTnqzMVSYd",
        "outputId": "a3daa87c-650e-42f5-8911-fc7e549e084b",
        "colab": {
          "base_uri": "https://localhost:8080/"
        }
      },
      "outputs": [
        {
          "output_type": "stream",
          "name": "stderr",
          "text": [
            "100%|██████████| 3818/3818 [00:01<00:00, 2556.93it/s]\n"
          ]
        }
      ],
      "source": [
        "# lista az ügyfelek vásárlási előzményeinek rögzítésére\n",
        "\n",
        "purchases_val = []\n",
        "\n",
        "# töltse fel a listát a termékkódokkal\n",
        "for i in tqdm(validation_df['CustomerID'].unique()):\n",
        "    temp = validation_df[validation_df[\"CustomerID\"] == i][\"StockCode\"].tolist()\n",
        "    purchases_val.append(temp)"
      ]
    },
    {
      "cell_type": "markdown",
      "metadata": {
        "id": "YVAy4BciVSYe"
      },
      "source": [
        "## Build word2vec Embeddings for Products"
      ]
    },
    {
      "cell_type": "code",
      "execution_count": 16,
      "metadata": {
        "id": "XStBYaaCVSYe",
        "outputId": "1231e3d0-0bd8-47a7-e34c-6340ac63f6a6",
        "colab": {
          "base_uri": "https://localhost:8080/"
        }
      },
      "outputs": [
        {
          "output_type": "execute_result",
          "data": {
            "text/plain": [
              "(3288127, 3322490)"
            ]
          },
          "metadata": {},
          "execution_count": 16
        }
      ],
      "source": [
        "# train word2vec model\n",
        "model = Word2Vec(window = 10, sg = 1, hs = 0,\n",
        "                 negative = 10, # for negative sampling\n",
        "                 alpha=0.03, min_alpha=0.0007,\n",
        "                 seed = 14)\n",
        "\n",
        "model.build_vocab(purchases_train, progress_per=200)\n",
        "\n",
        "model.train(purchases_train, total_examples = model.corpus_count, \n",
        "            epochs=10, report_delay=1)"
      ]
    },
    {
      "cell_type": "code",
      "execution_count": 17,
      "metadata": {
        "id": "8DY2XrlvVSYe"
      },
      "outputs": [],
      "source": [
        "# save word2vec model\n",
        "model.save(\"word2vec_2.model\")"
      ]
    },
    {
      "cell_type": "markdown",
      "metadata": {
        "id": "csv9TY_TVSYf"
      },
      "source": [
        "Mivel nem tervezzük tovább képezni a modellt, meghívjuk az init_sims() funkciót, ami sokkal memóriahatékonyabbá teszi a modellt."
      ]
    },
    {
      "cell_type": "code",
      "execution_count": 18,
      "metadata": {
        "id": "YaDaKOaGVSYf"
      },
      "outputs": [],
      "source": [
        "model.init_sims(replace=True)"
      ]
    },
    {
      "cell_type": "code",
      "execution_count": 19,
      "metadata": {
        "id": "IIATZ29HVSYf",
        "outputId": "424797fc-82ce-4a1a-de0e-5d2cd02370a7",
        "colab": {
          "base_uri": "https://localhost:8080/"
        }
      },
      "outputs": [
        {
          "output_type": "stream",
          "name": "stdout",
          "text": [
            "Word2Vec(vocab=3128, size=100, alpha=0.03)\n"
          ]
        }
      ],
      "source": [
        "print(model)"
      ]
    },
    {
      "cell_type": "markdown",
      "metadata": {
        "id": "U8OT-J9kVSYf"
      },
      "source": [
        "Most kivonjuk a szókincsünkben szereplő összes szó vektorát, és egy helyen tároljuk a könnyű hozzáférés érdekében."
      ]
    },
    {
      "cell_type": "code",
      "execution_count": 20,
      "metadata": {
        "id": "JsqqYg9eVSYf",
        "outputId": "696f152d-9cd0-488e-a48f-cf54063f9df4",
        "colab": {
          "base_uri": "https://localhost:8080/"
        }
      },
      "outputs": [
        {
          "output_type": "execute_result",
          "data": {
            "text/plain": [
              "(3128, 100)"
            ]
          },
          "metadata": {},
          "execution_count": 20
        }
      ],
      "source": [
        "# extract all vectors\n",
        "X = model[model.wv.vocab]\n",
        "\n",
        "X.shape"
      ]
    },
    {
      "cell_type": "markdown",
      "source": [
        "Modellünk szókincse 3180 egyedi szóból áll, és ezek vektorai egyenként 100 méretűek."
      ],
      "metadata": {
        "id": "N5IjAgdkeLBw"
      }
    },
    {
      "cell_type": "markdown",
      "metadata": {
        "id": "JW85aXdrVSYg"
      },
      "source": [
        "## Word2vec beágyazások vizualizálása"
      ]
    },
    {
      "cell_type": "markdown",
      "metadata": {
        "id": "6c9WGK5tVSYg"
      },
      "source": [
        "Mindig nagyon hasznos a létrehozott beágyazások vizualizálása. Itt 100 dimenziós beágyazások vannak. Még 4 dimenziót sem tudunk megjeleníteni, nemhogy 100-at. Ezért az TSNE algoritmus segítségével csökkenteni fogjuk a termék beágyazásainak dimenzióit 100-ról 2-re, ezt a dimenziócsökkentésre használják. "
      ]
    },
    {
      "cell_type": "code",
      "source": [
        "import sklearn.manifold\n",
        "tsne_op = sklearn.manifold.TSNE(n_components=2, perplexity=30)\n",
        "cluster_embedding = tsne_op.fit_transform(X)"
      ],
      "metadata": {
        "id": "5n1oxKoU17Te"
      },
      "execution_count": 21,
      "outputs": []
    },
    {
      "cell_type": "code",
      "source": [
        "plt.figure(figsize=(10,9))\n",
        "plt.scatter(cluster_embedding[:, 0], cluster_embedding[:, 1], s=3, cmap='Spectral')"
      ],
      "metadata": {
        "colab": {
          "base_uri": "https://localhost:8080/",
          "height": 554
        },
        "id": "pDL2-hKb2GKP",
        "outputId": "46002e36-ac6b-4d16-dc1c-b3d96a7fda82"
      },
      "execution_count": 22,
      "outputs": [
        {
          "output_type": "execute_result",
          "data": {
            "text/plain": [
              "<matplotlib.collections.PathCollection at 0x7f080bf67f10>"
            ]
          },
          "metadata": {},
          "execution_count": 22
        },
        {
          "output_type": "display_data",
          "data": {
            "text/plain": [
              "<Figure size 720x648 with 1 Axes>"
            ],
            "image/png": "[encoded data removed]"
          },
          "metadata": {
            "needs_background": "light"
          }
        }
      ]
    },
    {
      "cell_type": "markdown",
      "metadata": {
        "id": "nFpyxmGNVSYg"
      },
      "source": [
        "A diagramon minden egyes pont egy termék. Mint látható, az adatpontok több apró klaszterben helyezkednek el. Ezek hasonló termékek csoportjai."
      ]
    },
    {
      "cell_type": "markdown",
      "metadata": {
        "id": "dsY3NrmHVSYg"
      },
      "source": [
        "## Termékek ajánlása"
      ]
    },
    {
      "cell_type": "markdown",
      "metadata": {
        "id": "OFFx_mG_VSYh"
      },
      "source": [
        "Elkészültünk a word2vec beágyazásokkal az online kiskereskedelmi adathalmazunk minden termékéhez. Most a következő lépésünk az, hogy egy adott termékhez vagy termékvektorhoz hasonló termékeket javasoljunk."
      ]
    },
    {
      "cell_type": "markdown",
      "metadata": {
        "id": "LFX10bG3VSYh"
      },
      "source": [
        "Először hozzunk létre egy termékazonosító és termékleírás szótárat, hogy könnyedén hozzárendelhessük a termék leírását az azonosítójához és fordítva."
      ]
    },
    {
      "cell_type": "code",
      "execution_count": 23,
      "metadata": {
        "id": "Y0iJp7tKVSYh"
      },
      "outputs": [],
      "source": [
        "#products = train_df[[\"StockCode\", \"Description\"]]\n",
        "products = df[[\"StockCode\", \"Description\"]]\n",
        "\n",
        "# remove duplicates\n",
        "products.drop_duplicates(inplace=True, subset='StockCode', keep=\"last\")\n",
        "\n",
        "# create product-ID and product-description dictionary\n",
        "products_dict = products.groupby('StockCode')['Description'].apply(list).to_dict()"
      ]
    },
    {
      "cell_type": "code",
      "execution_count": 24,
      "metadata": {
        "id": "f9VYCNEIVSYh",
        "outputId": "88ec8182-26c8-4ed9-c13a-6cbc17d02381",
        "colab": {
          "base_uri": "https://localhost:8080/"
        }
      },
      "outputs": [
        {
          "output_type": "execute_result",
          "data": {
            "text/plain": [
              "['RED WOOLLY HOTTIE WHITE HEART.']"
            ]
          },
          "metadata": {},
          "execution_count": 24
        }
      ],
      "source": [
        "# test the dictionary\n",
        "products_dict['84029E']"
      ]
    },
    {
      "cell_type": "markdown",
      "metadata": {
        "id": "l9AAtdUeVSYh"
      },
      "source": [
        "<br>\n",
        "Az alábbiakban definiáltam a függvényt. Ez egy termék vektorát (n) veszi bemenetként, és a 6 legjobb hasonló terméket adja vissza."
      ]
    },
    {
      "cell_type": "code",
      "execution_count": 25,
      "metadata": {
        "id": "yipNM8_vVSYi"
      },
      "outputs": [],
      "source": [
        "def similar_products(v, n = 6):\n",
        "    \n",
        "    # extract most similar products for the input vector\n",
        "    ms = model.similar_by_vector(v, topn= n+1)[1:]\n",
        "    \n",
        "    # extract name and similarity score of the similar products\n",
        "    new_ms = []\n",
        "    for j in ms:\n",
        "        pair = (products_dict[j[0]][0], j[1])\n",
        "        new_ms.append(pair)\n",
        "        \n",
        "    return new_ms        "
      ]
    },
    {
      "cell_type": "markdown",
      "metadata": {
        "id": "krebi831VSYi"
      },
      "source": [
        "Próbáljuk ki a függvényünket a termék vektorának átadásával '90019A' ('SILVER M.O.P ORBIT BRACELET')"
      ]
    },
    {
      "cell_type": "code",
      "execution_count": 26,
      "metadata": {
        "id": "GiSjqiXzVSYi",
        "outputId": "dbe95f3c-ed69-4fe5-9e09-3485b7f3ba8c",
        "colab": {
          "base_uri": "https://localhost:8080/"
        }
      },
      "outputs": [
        {
          "output_type": "execute_result",
          "data": {
            "text/plain": [
              "[('AMBER DROP EARRINGS W LONG BEADS', 0.7192391157150269),\n",
              " ('DANISH ROSE TRINKET TRAYS', 0.7110270261764526),\n",
              " ('DROP DIAMANTE EARRINGS PURPLE', 0.6917407512664795),\n",
              " ('DANISH ROSE DECORATIVE PLATE', 0.6785832643508911),\n",
              " ('FRENCH FLORAL CUSHION COVER ', 0.6566711664199829),\n",
              " ('RED POLKADOT COFFEE  MUG', 0.6363409757614136)]"
            ]
          },
          "metadata": {},
          "execution_count": 26
        }
      ],
      "source": [
        "similar_products(model['90019A'])"
      ]
    },
    {
      "cell_type": "markdown",
      "metadata": {
        "id": "htNmpfJnVSYj"
      },
      "source": [
        "<br>\n",
        "\n",
        "Az eredmények elég relevánsak és jól illeszkednek a bemeneti termékhez. Ez a kimenet azonban csak egyetlen termék vektorán alapul. Mi van akkor, ha a felhasználónak termékeket szeretnénk ajánlani a múltbeli több vásárlása alapján?\n",
        "\n",
        "Egy egyszerű megoldás, ha az eddig vásárolt termékek vektorainak átlagát vesszük, és ezt az eredményvektort használjuk a hasonló termékek keresésére. Ehhez az alábbi függvényt fogjuk használni, amely egy termékazonosító listát vesz fel, és egy 100 dimenziós vektort ad ki, amely a bemeneti listában szereplő termékek vektorainak átlaga.\n"
      ]
    },
    {
      "cell_type": "code",
      "execution_count": 27,
      "metadata": {
        "id": "XKvKlZ9CVSYk"
      },
      "outputs": [],
      "source": [
        "def aggregate_vectors(products):\n",
        "    product_vec = []\n",
        "    for i in products:\n",
        "        try:\n",
        "            product_vec.append(model[i])\n",
        "        except KeyError:\n",
        "            continue\n",
        "        \n",
        "    return np.mean(product_vec, axis=0)"
      ]
    },
    {
      "cell_type": "code",
      "source": [
        "products"
      ],
      "metadata": {
        "colab": {
          "base_uri": "https://localhost:8080/",
          "height": 424
        },
        "id": "9RL7d-mNS866",
        "outputId": "08ce6e90-0dd5-4303-e9ba-e3902dff2775"
      },
      "execution_count": 28,
      "outputs": [
        {
          "output_type": "execute_result",
          "data": {
            "text/plain": [
              "       StockCode                          Description\n",
              "107        84854                  GIRLY PINK TOOL SET\n",
              "902        21895        POTTING SHED SOW 'N' GROW SET\n",
              "1985       20957         PORCELAIN HANGING BELL SMALL\n",
              "2313       82615  PINK MARSHMALLOW SCARF KNITTING KIT\n",
              "2457       21488    RED WHITE SCARF  HOT WATER BOTTLE\n",
              "...          ...                                  ...\n",
              "541904     22613          PACK OF 20 SPACEBOY NAPKINS\n",
              "541905     22899         CHILDREN'S APRON DOLLY GIRL \n",
              "541906     23254        CHILDRENS CUTLERY DOLLY GIRL \n",
              "541907     23255      CHILDRENS CUTLERY CIRCUS PARADE\n",
              "541908     22138        BAKING SET 9 PIECE RETROSPOT \n",
              "\n",
              "[3684 rows x 2 columns]"
            ],
            "text/html": [
              "\n",
              "  <div id=\"df-8ac7bba4-519d-41b2-a106-1453b744352e\">\n",
              "    <div class=\"colab-df-container\">\n",
              "      <div>\n",
              "<style scoped>\n",
              "    .dataframe tbody tr th:only-of-type {\n",
              "        vertical-align: middle;\n",
              "    }\n",
              "\n",
              "    .dataframe tbody tr th {\n",
              "        vertical-align: top;\n",
              "    }\n",
              "\n",
              "    .dataframe thead th {\n",
              "        text-align: right;\n",
              "    }\n",
              "</style>\n",
              "<table border=\"1\" class=\"dataframe\">\n",
              "  <thead>\n",
              "    <tr style=\"text-align: right;\">\n",
              "      <th></th>\n",
              "      <th>StockCode</th>\n",
              "      <th>Description</th>\n",
              "    </tr>\n",
              "  </thead>\n",
              "  <tbody>\n",
              "    <tr>\n",
              "      <th>107</th>\n",
              "      <td>84854</td>\n",
              "      <td>GIRLY PINK TOOL SET</td>\n",
              "    </tr>\n",
              "    <tr>\n",
              "      <th>902</th>\n",
              "      <td>21895</td>\n",
              "      <td>POTTING SHED SOW 'N' GROW SET</td>\n",
              "    </tr>\n",
              "    <tr>\n",
              "      <th>1985</th>\n",
              "      <td>20957</td>\n",
              "      <td>PORCELAIN HANGING BELL SMALL</td>\n",
              "    </tr>\n",
              "    <tr>\n",
              "      <th>2313</th>\n",
              "      <td>82615</td>\n",
              "      <td>PINK MARSHMALLOW SCARF KNITTING KIT</td>\n",
              "    </tr>\n",
              "    <tr>\n",
              "      <th>2457</th>\n",
              "      <td>21488</td>\n",
              "      <td>RED WHITE SCARF  HOT WATER BOTTLE</td>\n",
              "    </tr>\n",
              "    <tr>\n",
              "      <th>...</th>\n",
              "      <td>...</td>\n",
              "      <td>...</td>\n",
              "    </tr>\n",
              "    <tr>\n",
              "      <th>541904</th>\n",
              "      <td>22613</td>\n",
              "      <td>PACK OF 20 SPACEBOY NAPKINS</td>\n",
              "    </tr>\n",
              "    <tr>\n",
              "      <th>541905</th>\n",
              "      <td>22899</td>\n",
              "      <td>CHILDREN'S APRON DOLLY GIRL</td>\n",
              "    </tr>\n",
              "    <tr>\n",
              "      <th>541906</th>\n",
              "      <td>23254</td>\n",
              "      <td>CHILDRENS CUTLERY DOLLY GIRL</td>\n",
              "    </tr>\n",
              "    <tr>\n",
              "      <th>541907</th>\n",
              "      <td>23255</td>\n",
              "      <td>CHILDRENS CUTLERY CIRCUS PARADE</td>\n",
              "    </tr>\n",
              "    <tr>\n",
              "      <th>541908</th>\n",
              "      <td>22138</td>\n",
              "      <td>BAKING SET 9 PIECE RETROSPOT</td>\n",
              "    </tr>\n",
              "  </tbody>\n",
              "</table>\n",
              "<p>3684 rows × 2 columns</p>\n",
              "</div>\n",
              "      <button class=\"colab-df-convert\" onclick=\"convertToInteractive('df-8ac7bba4-519d-41b2-a106-1453b744352e')\"\n",
              "              title=\"Convert this dataframe to an interactive table.\"\n",
              "              style=\"display:none;\">\n",
              "        \n",
              "  <svg xmlns=\"http://www.w3.org/2000/svg\" height=\"24px\"viewBox=\"0 0 24 24\"\n",
              "       width=\"24px\">\n",
              "    <path d=\"M0 0h24v24H0V0z\" fill=\"none\"/>\n",
              "    <path d=\"M18.56 5.44l.94 2.06.94-2.06 2.06-.94-2.06-.94-.94-2.06-.94 2.06-2.06.94zm-11 1L8.5 8.5l.94-2.06 2.06-.94-2.06-.94L8.5 2.5l-.94 2.06-2.06.94zm10 10l.94 2.06.94-2.06 2.06-.94-2.06-.94-.94-2.06-.94 2.06-2.06.94z\"/><path d=\"M17.41 7.96l-1.37-1.37c-.4-.4-.92-.59-1.43-.59-.52 0-1.04.2-1.43.59L10.3 9.45l-7.72 7.72c-.78.78-.78 2.05 0 2.83L4 21.41c.39.39.9.59 1.41.59.51 0 1.02-.2 1.41-.59l7.78-7.78 2.81-2.81c.8-.78.8-2.07 0-2.86zM5.41 20L4 18.59l7.72-7.72 1.47 1.35L5.41 20z\"/>\n",
              "  </svg>\n",
              "      </button>\n",
              "      \n",
              "  <style>\n",
              "    .colab-df-container {\n",
              "      display:flex;\n",
              "      flex-wrap:wrap;\n",
              "      gap: 12px;\n",
              "    }\n",
              "\n",
              "    .colab-df-convert {\n",
              "      background-color: #E8F0FE;\n",
              "      border: none;\n",
              "      border-radius: 50%;\n",
              "      cursor: pointer;\n",
              "      display: none;\n",
              "      fill: #1967D2;\n",
              "      height: 32px;\n",
              "      padding: 0 0 0 0;\n",
              "      width: 32px;\n",
              "    }\n",
              "\n",
              "    .colab-df-convert:hover {\n",
              "      background-color: #E2EBFA;\n",
              "      box-shadow: 0px 1px 2px rgba(60, 64, 67, 0.3), 0px 1px 3px 1px rgba(60, 64, 67, 0.15);\n",
              "      fill: #174EA6;\n",
              "    }\n",
              "\n",
              "    [theme=dark] .colab-df-convert {\n",
              "      background-color: #3B4455;\n",
              "      fill: #D2E3FC;\n",
              "    }\n",
              "\n",
              "    [theme=dark] .colab-df-convert:hover {\n",
              "      background-color: #434B5C;\n",
              "      box-shadow: 0px 1px 3px 1px rgba(0, 0, 0, 0.15);\n",
              "      filter: drop-shadow(0px 1px 2px rgba(0, 0, 0, 0.3));\n",
              "      fill: #FFFFFF;\n",
              "    }\n",
              "  </style>\n",
              "\n",
              "      <script>\n",
              "        const buttonEl =\n",
              "          document.querySelector('#df-8ac7bba4-519d-41b2-a106-1453b744352e button.colab-df-convert');\n",
              "        buttonEl.style.display =\n",
              "          google.colab.kernel.accessAllowed ? 'block' : 'none';\n",
              "\n",
              "        async function convertToInteractive(key) {\n",
              "          const element = document.querySelector('#df-8ac7bba4-519d-41b2-a106-1453b744352e');\n",
              "          const dataTable =\n",
              "            await google.colab.kernel.invokeFunction('convertToInteractive',\n",
              "                                                     [key], {});\n",
              "          if (!dataTable) return;\n",
              "\n",
              "          const docLinkHtml = 'Like what you see? Visit the ' +\n",
              "            '<a target=\"_blank\" href=https://colab.research.google.com/notebooks/data_table.ipynb>data table notebook</a>'\n",
              "            + ' to learn more about interactive tables.';\n",
              "          element.innerHTML = '';\n",
              "          dataTable['output_type'] = 'display_data';\n",
              "          await google.colab.output.renderOutput(dataTable, element);\n",
              "          const docLink = document.createElement('div');\n",
              "          docLink.innerHTML = docLinkHtml;\n",
              "          element.appendChild(docLink);\n",
              "        }\n",
              "      </script>\n",
              "    </div>\n",
              "  </div>\n",
              "  "
            ]
          },
          "metadata": {},
          "execution_count": 28
        }
      ]
    },
    {
      "cell_type": "markdown",
      "metadata": {
        "id": "98pkFp5OVSYk"
      },
      "source": [
        "Már létrehoztunk egy külön listát a vásárlási szekvenciákról az érvényesítés céljából. Most pedig használjuk fel ezt."
      ]
    },
    {
      "cell_type": "code",
      "execution_count": 29,
      "metadata": {
        "id": "kSaenZ73VSYk",
        "outputId": "744dcdaf-699a-495e-9b04-46fd05cf8318",
        "colab": {
          "base_uri": "https://localhost:8080/"
        }
      },
      "outputs": [
        {
          "output_type": "execute_result",
          "data": {
            "text/plain": [
              "34"
            ]
          },
          "metadata": {},
          "execution_count": 29
        }
      ],
      "source": [
        "len(purchases_val[2])"
      ]
    },
    {
      "cell_type": "markdown",
      "metadata": {
        "id": "TbcGl9U7VSYk"
      },
      "source": [
        "A felhasználó által megvásárolt termékek listájának hossza ez. Ezt a terméksorozatot az érvényesítési halmazból átadjuk az *aggregate_vectors* függvénynek."
      ]
    },
    {
      "cell_type": "code",
      "execution_count": 30,
      "metadata": {
        "id": "lHBlGxI4VSYk",
        "outputId": "ecb7f6a8-7fd7-4d12-fd92-4b223736c309",
        "colab": {
          "base_uri": "https://localhost:8080/"
        }
      },
      "outputs": [
        {
          "output_type": "execute_result",
          "data": {
            "text/plain": [
              "(100,)"
            ]
          },
          "metadata": {},
          "execution_count": 30
        }
      ],
      "source": [
        "aggregate_vectors(purchases_val[0]).shape"
      ]
    },
    {
      "cell_type": "markdown",
      "metadata": {
        "id": "lbG_LFw7VSYl"
      },
      "source": [
        "Nos, a függvény egy 100 dimenziós tömböt adott vissza. Ez azt jelenti, hogy a függvény jól működik. Most ezt az eredményt felhasználhatjuk a leghasonlóbb termékek kiválasztásához. Tegyük ezt meg."
      ]
    },
    {
      "cell_type": "code",
      "execution_count": 31,
      "metadata": {
        "id": "oARmP2peVSYl",
        "outputId": "f57cf7a7-3757-4931-9c3b-6e1385a7ce73",
        "colab": {
          "base_uri": "https://localhost:8080/"
        }
      },
      "outputs": [
        {
          "output_type": "execute_result",
          "data": {
            "text/plain": [
              "[('JUMBO BAG RED RETROSPOT', 0.7385562658309937),\n",
              " ('LUNCH BAG RED RETROSPOT', 0.6947067975997925),\n",
              " ('JUMBO BAG VINTAGE LEAF', 0.6878343224525452),\n",
              " ('PURPLE ACRYLIC FACETED BANGLE', 0.6834182739257812),\n",
              " ('LUNCH BAG PINK POLKADOT', 0.6809910535812378),\n",
              " ('ENGLISH ROSE NOTEBOOK A6 SIZE', 0.6781306266784668)]"
            ]
          },
          "metadata": {},
          "execution_count": 31
        }
      ],
      "source": [
        "similar_products(aggregate_vectors(purchases_val[0]))"
      ]
    },
    {
      "cell_type": "markdown",
      "metadata": {
        "id": "CXL9IyH2VSYl"
      },
      "source": [
        "Mint kiderült, rendszerünk 6 terméket ajánlott a felhasználó teljes vásárlási előzményei alapján. Sőt, ha csak a legutóbbi néhány vásárlás alapján szeretne termékjavaslatokat kapni, akkor is használhatja ugyanezt a funkciókészletet.\n",
        "\n",
        "Az alábbiakban csak az utolsó 10 megvásárolt terméket adom meg bemenetként."
      ]
    },
    {
      "cell_type": "code",
      "execution_count": 32,
      "metadata": {
        "id": "cyj7dqBnVSYl",
        "outputId": "4ea668bc-12e7-4a2a-dcc1-34087387f305",
        "colab": {
          "base_uri": "https://localhost:8080/"
        }
      },
      "outputs": [
        {
          "output_type": "execute_result",
          "data": {
            "text/plain": [
              "[('DOORMAT NEIGHBOURHOOD WITCH ', 0.6641659140586853),\n",
              " ('POTTING SHED ROSE CANDLE', 0.6530492305755615),\n",
              " ('BATHROOM SCALES RUBBER DUCKS', 0.6517224311828613),\n",
              " ('WHITE MOROCCAN METAL LANTERN', 0.6463543176651001),\n",
              " ('JUMBO BAG RED RETROSPOT', 0.6315622925758362),\n",
              " ('FROSTED WHITE BASE ', 0.6278648376464844)]"
            ]
          },
          "metadata": {},
          "execution_count": 32
        }
      ],
      "source": [
        "similar_products(aggregate_vectors(purchases_val[0][-10:]))"
      ]
    },
    {
      "cell_type": "markdown",
      "metadata": {
        "id": "qzJKix7aVSYl"
      },
      "source": [
        "Nyugodtan játsszon ezzel a kóddal, próbáljon meg termékajánlást kapni további szekvenciákhoz a validációs készletből."
      ]
    }
  ],
  "metadata": {
    "kernelspec": {
      "display_name": "Python 3",
      "language": "python",
      "name": "python3"
    },
    "language_info": {
      "codemirror_mode": {
        "name": "ipython",
        "version": 3
      },
      "file_extension": ".py",
      "mimetype": "text/x-python",
      "name": "python",
      "nbconvert_exporter": "python",
      "pygments_lexer": "ipython3",
      "version": "3.6.7"
    },
    "colab": {
      "provenance": [],
      "include_colab_link": true
    }
  },
  "nbformat": 4,
  "nbformat_minor": 0
}
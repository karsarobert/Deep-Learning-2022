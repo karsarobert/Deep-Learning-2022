{
  "nbformat": 4,
  "nbformat_minor": 0,
  "metadata": {
    "colab": {
      "provenance": [],
      "collapsed_sections": [],
      "include_colab_link": true
    },
    "kernelspec": {
      "name": "python3",
      "display_name": "Python 3"
    }
  },
  "cells": [
    {
      "cell_type": "markdown",
      "metadata": {
        "id": "view-in-github",
        "colab_type": "text"
      },
      "source": [
        "<a href=\"https://colab.research.google.com/github/karsarobert/Deep-Learning-2022/blob/main/03/PTE_DL3_1.ipynb\" target=\"_parent\"><img src=\"https://colab.research.google.com/assets/colab-badge.svg\" alt=\"Open In Colab\"/></a>"
      ]
    },
    {
      "cell_type": "markdown",
      "metadata": {
        "id": "opposed-female"
      },
      "source": [
        "# Deep Learning gyakorlat\n",
        "\n",
        "\n",
        "## 3. gyakorlat: gradiens süllyedés\n",
        "### 2022. szeptrember 21."
      ]
    },
    {
      "metadata": {
        "id": "ON4WbEBvk9Z9"
      },
      "cell_type": "markdown",
      "source": [
        "# Lineáris regresszió\n",
        "## A dolgozat pontszámának előrejelzése a tanulásra fordított idő alapján\n",
        "\n",
        "forrás: https://github.com/kaustubholpadkar/"
      ]
    },
    {
      "metadata": {
        "id": "RKxoZ5lknWll"
      },
      "cell_type": "markdown",
      "source": [
        "### Import Libraries"
      ]
    },
    {
      "metadata": {
        "id": "Lq6qDjhHnbak"
      },
      "cell_type": "code",
      "source": [
        "import numpy as np\n",
        "import matplotlib.pyplot as plt"
      ],
      "execution_count": null,
      "outputs": []
    },
    {
      "metadata": {
        "id": "W5b_-H-zn3_O"
      },
      "cell_type": "markdown",
      "source": [
        "### Read Data"
      ]
    },
    {
      "metadata": {
        "id": "T1a23JYWn5oM"
      },
      "cell_type": "code",
      "source": [
        "data = np.genfromtxt('https://raw.githubusercontent.com/kaustubholpadkar/Linear_Regression-Gradient_Descent-Octave/master/data.csv', delimiter=',')"
      ],
      "execution_count": null,
      "outputs": []
    },
    {
      "metadata": {
        "id": "Ip2EQ_PGoQJO",
        "colab": {
          "base_uri": "https://localhost:8080/"
        },
        "outputId": "f49988d4-acfa-4710-8919-1008da70ad94"
      },
      "cell_type": "code",
      "source": [
        "data.shape #adatok alakja 100 tanulóadat"
      ],
      "execution_count": null,
      "outputs": [
        {
          "output_type": "execute_result",
          "data": {
            "text/plain": [
              "(100, 2)"
            ]
          },
          "metadata": {},
          "execution_count": 4
        }
      ]
    },
    {
      "cell_type": "code",
      "source": [
        "data[:5,:] #az első 5 adatsor elsőoszlop az X bemenet második oszlop y kimenet"
      ],
      "metadata": {
        "colab": {
          "base_uri": "https://localhost:8080/"
        },
        "id": "AjZ4HMCwuII5",
        "outputId": "26b29a90-a343-4362-d542-75859de08530"
      },
      "execution_count": null,
      "outputs": [
        {
          "output_type": "execute_result",
          "data": {
            "text/plain": [
              "array([[32.50234527, 31.70700585],\n",
              "       [53.42680403, 68.77759598],\n",
              "       [61.53035803, 62.5623823 ],\n",
              "       [47.47563963, 71.54663223],\n",
              "       [59.81320787, 87.23092513]])"
            ]
          },
          "metadata": {},
          "execution_count": 8
        }
      ]
    },
    {
      "metadata": {
        "id": "8rMv-L53odN5"
      },
      "cell_type": "markdown",
      "source": [
        "### Seperate Data into X and Y"
      ]
    },
    {
      "metadata": {
        "id": "uop_AFQSolHl"
      },
      "cell_type": "code",
      "source": [
        "X = data[:, 0]\n",
        "Y = data[:, 1]"
      ],
      "execution_count": null,
      "outputs": []
    },
    {
      "metadata": {
        "id": "wPSTKDAXpLAN"
      },
      "cell_type": "markdown",
      "source": [
        "### Visualize the Data"
      ]
    },
    {
      "metadata": {
        "id": "qdTK7EOQpL5Y",
        "colab": {
          "base_uri": "https://localhost:8080/",
          "height": 312
        },
        "outputId": "e6405d8b-9c54-4717-db18-2c25e1a138ee"
      },
      "cell_type": "code",
      "source": [
        "fig = plt.figure()\n",
        "plt.scatter(X, Y)\n",
        "fig.suptitle('Student Data : Expected Marks vs Hours of Study', fontsize=18)\n",
        "plt.xlabel('Hours of Study', fontsize=14)\n",
        "plt.ylabel('Expected Marks', fontsize=14)\n",
        "plt.show()"
      ],
      "execution_count": null,
      "outputs": [
        {
          "output_type": "display_data",
          "data": {
            "text/plain": [
              "<Figure size 432x288 with 1 Axes>"
            ],
            "image/png": "[encoded data removed]"
          },
          "metadata": {
            "needs_background": "light"
          }
        }
      ]
    },
    {
      "metadata": {
        "id": "Yrjucdifq_mt"
      },
      "cell_type": "markdown",
      "source": [
        "### Hyperparameters"
      ]
    },
    {
      "metadata": {
        "id": "OwVfkk3RrC_I"
      },
      "cell_type": "code",
      "source": [
        "learning_rate = 0.0001\n",
        "max_iteration = 50"
      ],
      "execution_count": null,
      "outputs": []
    },
    {
      "metadata": {
        "id": "EzXaG70OrZtn"
      },
      "cell_type": "markdown",
      "source": [
        "### Parameters"
      ]
    },
    {
      "metadata": {
        "id": "2INJM9AIrcBu"
      },
      "cell_type": "code",
      "source": [
        "m = 1\n",
        "b = 1"
      ],
      "execution_count": null,
      "outputs": []
    },
    {
      "metadata": {
        "id": "FPt2eKjBr1Lx"
      },
      "cell_type": "markdown",
      "source": [
        "### Hypothesis"
      ]
    },
    {
      "metadata": {
        "id": "enVE4tHWsBBF"
      },
      "cell_type": "code",
      "source": [
        "def h (m, b, X) :\n",
        "  return m * X + b"
      ],
      "execution_count": null,
      "outputs": []
    },
    {
      "metadata": {
        "id": "IA9I6vaXs7nb"
      },
      "cell_type": "markdown",
      "source": [
        "### Loss Function"
      ]
    },
    {
      "metadata": {
        "id": "3KOQVUjBs-Ub"
      },
      "cell_type": "code",
      "source": [
        "def loss (m, b, X, Y) :\n",
        "  return np.average(np.square(Y - h(m, b, X))) / 2"
      ],
      "execution_count": null,
      "outputs": []
    },
    {
      "metadata": {
        "id": "7TE79NG-tyLG"
      },
      "cell_type": "markdown",
      "source": [
        "### Calculate Gradients"
      ]
    },
    {
      "metadata": {
        "id": "yy9yxye4t0BJ"
      },
      "cell_type": "code",
      "source": [
        "def gradient (m, b, X, Y) :\n",
        "  dm = - np.average((Y - h(m, b, X)) * X) # loss függvény m szerinti deriváltja\n",
        "  db = - np.average(Y - h(m, b, X)) # loss függvény b szerinti deriváltja\n",
        "  return (dm, db)"
      ],
      "execution_count": null,
      "outputs": []
    },
    {
      "cell_type": "code",
      "source": [
        "print(Y[:3], h(m, b, X)[:3])"
      ],
      "metadata": {
        "colab": {
          "base_uri": "https://localhost:8080/"
        },
        "id": "ocu-YzBeZJrH",
        "outputId": "36ae0f01-ed35-46d9-dc07-8905a5d7e318"
      },
      "execution_count": null,
      "outputs": [
        {
          "output_type": "stream",
          "name": "stdout",
          "text": [
            "[31.70700585 68.77759598 62.5623823 ] [33.50234527 54.42680403 62.53035803]\n"
          ]
        }
      ]
    },
    {
      "metadata": {
        "id": "jVo5TbKyu9KL"
      },
      "cell_type": "markdown",
      "source": [
        "### Gradient Descent"
      ]
    },
    {
      "metadata": {
        "id": "fprg4-tcu-4v"
      },
      "cell_type": "code",
      "source": [
        "def gradient_descent (m, b, X, Y, learning_rate, max_iteration) :\n",
        "  for i in range(max_iteration) :\n",
        "    dm, db = gradient (m, b, X, Y)\n",
        "    m -= learning_rate * dm\n",
        "    b -= learning_rate * db\n",
        "    if i % 10 == 0 :\n",
        "      print ('iteration : ', i, ' loss : ', loss(m, b, X, Y)) \n",
        "  return (m, b)"
      ],
      "execution_count": null,
      "outputs": []
    },
    {
      "metadata": {
        "id": "uMIZFxUhwQZO"
      },
      "cell_type": "markdown",
      "source": [
        "### Train Model"
      ]
    },
    {
      "metadata": {
        "id": "-0okDGSCwUC7",
        "colab": {
          "base_uri": "https://localhost:8080/"
        },
        "outputId": "b4bb64a2-3e8e-499a-c351-412cc945820a"
      },
      "cell_type": "code",
      "source": [
        "m, b = gradient_descent (m, b, X, Y, learning_rate, max_iteration)"
      ],
      "execution_count": null,
      "outputs": [
        {
          "output_type": "stream",
          "name": "stdout",
          "text": [
            "iteration :  0  loss :  204.50666115574057\n",
            "iteration :  10  loss :  56.52985181213651\n",
            "iteration :  20  loss :  56.05030590326913\n",
            "iteration :  30  loss :  56.04868285547168\n",
            "iteration :  40  loss :  56.04860838575527\n"
          ]
        }
      ]
    },
    {
      "metadata": {
        "id": "MFp2MUlexVd5"
      },
      "cell_type": "markdown",
      "source": [
        "### Optimal values of Parameters using Trained Model"
      ]
    },
    {
      "metadata": {
        "id": "tcMQWkuvwYu7",
        "colab": {
          "base_uri": "https://localhost:8080/"
        },
        "outputId": "9940bdda-27dd-41bf-fa71-e28774e87c23"
      },
      "cell_type": "code",
      "source": [
        "m, b"
      ],
      "execution_count": null,
      "outputs": [
        {
          "output_type": "execute_result",
          "data": {
            "text/plain": [
              "(1.4596336737329105, 1.0103518029193468)"
            ]
          },
          "metadata": {},
          "execution_count": 14
        }
      ]
    },
    {
      "metadata": {
        "id": "Dh6PmQOwxcKk"
      },
      "cell_type": "markdown",
      "source": [
        "### Visualize the Data"
      ]
    },
    {
      "metadata": {
        "id": "B0h7MJE0xcKo",
        "colab": {
          "base_uri": "https://localhost:8080/",
          "height": 312
        },
        "outputId": "8a4c4399-6eff-456f-ceb7-d04253fbc571"
      },
      "cell_type": "code",
      "source": [
        "fig = plt.figure()\n",
        "\n",
        "# Generate data for plotting Line\n",
        "x = np.arange(25, 75)\n",
        "y = [m * x_i + b for x_i in x]\n",
        "\n",
        "\n",
        "# plot data and best-fit lines\n",
        "plt.plot(X, Y, 'o', x, y, '-')\n",
        "plt.legend(loc='upper left', labels=['data points', 'best-fit line'])\n",
        "\n",
        "fig.suptitle('Linear Regression : Expected Marks vs Hours of Study', fontsize=18)\n",
        "plt.xlabel('Hours of Study', fontsize=14)\n",
        "plt.ylabel('Expected Marks', fontsize=14)\n",
        "plt.show()"
      ],
      "execution_count": null,
      "outputs": [
        {
          "output_type": "display_data",
          "data": {
            "text/plain": [
              "<Figure size 432x288 with 1 Axes>"
            ],
            "image/png": "[encoded data removed]"
          },
          "metadata": {
            "needs_background": "light"
          }
        }
      ]
    }
  ]
}
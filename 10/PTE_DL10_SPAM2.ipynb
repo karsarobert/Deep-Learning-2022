{
  "nbformat": 4,
  "nbformat_minor": 0,
  "metadata": {
    "colab": {
      "provenance": [],
      "authorship_tag": "ABX9TyOKQOpUFG5n3vUL599o04sC",
      "include_colab_link": true
    },
    "kernelspec": {
      "name": "python3",
      "display_name": "Python 3"
    },
    "language_info": {
      "name": "python"
    }
  },
  "cells": [
    {
      "cell_type": "markdown",
      "metadata": {
        "id": "view-in-github",
        "colab_type": "text"
      },
      "source": [
        "<a href=\"https://colab.research.google.com/github/karsarobert/Deep-Learning-2022/blob/main/10/PTE_DL10_SPAM2.ipynb\" target=\"_parent\"><img src=\"https://colab.research.google.com/assets/colab-badge.svg\" alt=\"Open In Colab\"/></a>"
      ]
    },
    {
      "cell_type": "code",
      "metadata": {
        "id": "DVugldn7sAp4"
      },
      "source": [
        "import os\n",
        "import numpy as np\n",
        "from tensorflow.keras.preprocessing.text import Tokenizer\n",
        "from tensorflow.keras.preprocessing import sequence\n",
        "from tensorflow.keras.models import load_model\n",
        "import pickle"
      ],
      "execution_count": null,
      "outputs": []
    },
    {
      "cell_type": "code",
      "metadata": {
        "colab": {
          "base_uri": "https://localhost:8080/"
        },
        "id": "B9Pk2calwKHY",
        "outputId": "9e159393-53ad-42bc-a59f-c53e16105dfa"
      },
      "source": [
        "MODEL_PATH = os.path.sep.join(['/content/', \"SPAM_detector.h5\"])\n",
        "print(\"[INFO] loading SPAM detector...\")\n",
        "model = load_model(MODEL_PATH)"
      ],
      "execution_count": null,
      "outputs": [
        {
          "output_type": "stream",
          "name": "stdout",
          "text": [
            "[INFO] loading SPAM detector...\n"
          ]
        }
      ]
    },
    {
      "cell_type": "code",
      "metadata": {
        "id": "sgwOYOMEsKKa"
      },
      "source": [
        "inp_test_seq = \"WINNER! U win a 500 prize reward & free entry to FA cup final tickets! Text FA to 34212 to receive award\"\n",
        "inp_test_seq_ham ='Go until jurong point, crazy.. Available only in bugis n great world la e buffet... '"
      ],
      "execution_count": null,
      "outputs": []
    },
    {
      "cell_type": "code",
      "metadata": {
        "id": "BpHFupa3s7Uh"
      },
      "source": [
        "max_words = 1000\n",
        "max_len = 50\n",
        "mytokenizer = Tokenizer(num_words=max_words,lower=True, split=\" \")"
      ],
      "execution_count": null,
      "outputs": []
    },
    {
      "cell_type": "code",
      "metadata": {
        "colab": {
          "base_uri": "https://localhost:8080/"
        },
        "id": "pAKwB1BsyucQ",
        "outputId": "70eef483-be55-4af4-a7fd-8dc969d97782"
      },
      "source": [
        "LB_PATH = os.path.sep.join(['/content/', \"tokenizer.pickle\"])\n",
        "print(\"[INFO] loading Tokenizer ...\")\n",
        "mytokenizer = pickle.loads(open(LB_PATH, \"rb\").read())"
      ],
      "execution_count": null,
      "outputs": [
        {
          "output_type": "stream",
          "name": "stdout",
          "text": [
            "[INFO] loading Tokenizer ...\n"
          ]
        }
      ]
    },
    {
      "cell_type": "code",
      "metadata": {
        "id": "4JambkcgsnDP"
      },
      "source": [
        "\n",
        "test_sequences = mytokenizer.texts_to_sequences(np.array([inp_test_seq_ham]))\n",
        "test_sequences_matrix = sequence.pad_sequences(test_sequences,maxlen=max_len)"
      ],
      "execution_count": null,
      "outputs": []
    },
    {
      "cell_type": "code",
      "metadata": {
        "colab": {
          "base_uri": "https://localhost:8080/"
        },
        "id": "YoVRyo9zv9WS",
        "outputId": "b1795461-34f3-4e08-b117-42615bccd326"
      },
      "source": [
        "model.predict(test_sequences_matrix)"
      ],
      "execution_count": null,
      "outputs": [
        {
          "output_type": "execute_result",
          "data": {
            "text/plain": [
              "array([[0.00040886]], dtype=float32)"
            ]
          },
          "metadata": {},
          "execution_count": 65
        }
      ]
    },
    {
      "cell_type": "code",
      "metadata": {
        "colab": {
          "base_uri": "https://localhost:8080/"
        },
        "id": "3TmsBpehsr63",
        "outputId": "40342317-e9ed-475c-988f-7004b95b1741"
      },
      "source": [
        "if model.predict(test_sequences_matrix) >= 0.5:\n",
        "  print(\"SPAM\")\n",
        "else: print(\"HAM\")"
      ],
      "execution_count": null,
      "outputs": [
        {
          "output_type": "stream",
          "name": "stdout",
          "text": [
            "HAM\n"
          ]
        }
      ]
    },
    {
      "cell_type": "code",
      "metadata": {
        "id": "oiHjj0rCtT0M"
      },
      "source": [],
      "execution_count": null,
      "outputs": []
    }
  ]
}